{
  "nbformat": 4,
  "nbformat_minor": 0,
  "metadata": {
    "colab": {
      "name": "DodgersSummary.ipynb",
      "provenance": [],
      "authorship_tag": "ABX9TyNmMRF60K607fHzX9oivR4G",
      "include_colab_link": true
    },
    "kernelspec": {
      "name": "python3",
      "display_name": "Python 3"
    },
    "language_info": {
      "name": "python"
    }
  },
  "cells": [
    {
      "cell_type": "markdown",
      "metadata": {
        "id": "view-in-github",
        "colab_type": "text"
      },
      "source": [
        "<a href=\"https://colab.research.google.com/github/manojach87/miscellaneous/blob/master/DodgersSummary.ipynb\" target=\"_parent\"><img src=\"https://colab.research.google.com/assets/colab-badge.svg\" alt=\"Open In Colab\"/></a>"
      ]
    },
    {
      "cell_type": "code",
      "metadata": {
        "colab": {
          "base_uri": "https://localhost:8080/"
        },
        "id": "UVKQ7v8eP7l4",
        "outputId": "06497ba1-e22b-448a-d7ee-5af006ebb57d"
      },
      "source": [
        "!pip install pyspark"
      ],
      "execution_count": 2,
      "outputs": [
        {
          "output_type": "stream",
          "text": [
            "Collecting pyspark\n",
            "\u001b[?25l  Downloading https://files.pythonhosted.org/packages/45/b0/9d6860891ab14a39d4bddf80ba26ce51c2f9dc4805e5c6978ac0472c120a/pyspark-3.1.1.tar.gz (212.3MB)\n",
            "\u001b[K     |████████████████████████████████| 212.3MB 69kB/s \n",
            "\u001b[?25hCollecting py4j==0.10.9\n",
            "\u001b[?25l  Downloading https://files.pythonhosted.org/packages/9e/b6/6a4fb90cd235dc8e265a6a2067f2a2c99f0d91787f06aca4bcf7c23f3f80/py4j-0.10.9-py2.py3-none-any.whl (198kB)\n",
            "\u001b[K     |████████████████████████████████| 204kB 40.2MB/s \n",
            "\u001b[?25hBuilding wheels for collected packages: pyspark\n",
            "  Building wheel for pyspark (setup.py) ... \u001b[?25l\u001b[?25hdone\n",
            "  Created wheel for pyspark: filename=pyspark-3.1.1-py2.py3-none-any.whl size=212767604 sha256=b48e091dc66b99c47ef0b74beacb00468fc3cb15e0325e4c2e5ed6dd1b45d6f1\n",
            "  Stored in directory: /root/.cache/pip/wheels/0b/90/c0/01de724414ef122bd05f056541fb6a0ecf47c7ca655f8b3c0f\n",
            "Successfully built pyspark\n",
            "Installing collected packages: py4j, pyspark\n",
            "Successfully installed py4j-0.10.9 pyspark-3.1.1\n"
          ],
          "name": "stdout"
        }
      ]
    },
    {
      "cell_type": "code",
      "metadata": {
        "id": "g2iBI3DvQCuI"
      },
      "source": [
        "import pyspark as py"
      ],
      "execution_count": 3,
      "outputs": []
    },
    {
      "cell_type": "code",
      "metadata": {
        "colab": {
          "base_uri": "https://localhost:8080/"
        },
        "id": "MWmicz_fQPpX",
        "outputId": "2934ffb6-2be8-4e11-a935-93283b6b7818"
      },
      "source": [
        "!wget https://archive.ics.uci.edu/ml/machine-learning-databases/event-detection/Dodgers.data"
      ],
      "execution_count": 5,
      "outputs": [
        {
          "output_type": "stream",
          "text": [
            "--2021-04-01 02:31:34--  https://archive.ics.uci.edu/ml/machine-learning-databases/event-detection/Dodgers.data\n",
            "Resolving archive.ics.uci.edu (archive.ics.uci.edu)... 128.195.10.252\n",
            "Connecting to archive.ics.uci.edu (archive.ics.uci.edu)|128.195.10.252|:443... connected.\n",
            "HTTP request sent, awaiting response... 200 OK\n",
            "Length: 961432 (939K) [application/x-httpd-php]\n",
            "Saving to: ‘Dodgers.data’\n",
            "\n",
            "Dodgers.data        100%[===================>] 938.90K  1.17MB/s    in 0.8s    \n",
            "\n",
            "2021-04-01 02:31:36 (1.17 MB/s) - ‘Dodgers.data’ saved [961432/961432]\n",
            "\n"
          ],
          "name": "stdout"
        }
      ]
    },
    {
      "cell_type": "code",
      "metadata": {
        "colab": {
          "base_uri": "https://localhost:8080/"
        },
        "id": "6FYvV-5fRY4N",
        "outputId": "0a257748-0f9b-4ec8-e816-9ddc2db3e3e8"
      },
      "source": [
        "!wget https://archive.ics.uci.edu/ml/machine-learning-databases/event-detection/Dodgers.events"
      ],
      "execution_count": 7,
      "outputs": [
        {
          "output_type": "stream",
          "text": [
            "--2021-04-01 02:32:03--  https://archive.ics.uci.edu/ml/machine-learning-databases/event-detection/Dodgers.events\n",
            "Resolving archive.ics.uci.edu (archive.ics.uci.edu)... 128.195.10.252\n",
            "Connecting to archive.ics.uci.edu (archive.ics.uci.edu)|128.195.10.252|:443... connected.\n",
            "HTTP request sent, awaiting response... 200 OK\n",
            "Length: 4140 (4.0K) [application/x-httpd-php]\n",
            "Saving to: ‘Dodgers.events’\n",
            "\n",
            "Dodgers.events      100%[===================>]   4.04K  --.-KB/s    in 0s      \n",
            "\n",
            "2021-04-01 02:32:04 (83.2 MB/s) - ‘Dodgers.events’ saved [4140/4140]\n",
            "\n"
          ],
          "name": "stdout"
        }
      ]
    },
    {
      "cell_type": "markdown",
      "metadata": {
        "id": "bUlDcHwDRzkR"
      },
      "source": [
        "Attribute Information:\n",
        "\n",
        "1. Date: MM/DD/YY\n",
        "2. Time: (H)H:MM (military time)\n",
        "3. Count: Number of cars measured for the previous five minutes\n",
        "Rows: Each five minute time slice is represented by one row\n",
        "\n",
        "For .events file:\n",
        "1. Date: MM/DD/YY\n",
        "2. Begin event time: HH:MM:SS (military)\n",
        "3. End event time: HH:MM:SS (military)\n",
        "4. Game attendance\n",
        "5. Away team\n",
        "6. W/L score"
      ]
    },
    {
      "cell_type": "code",
      "metadata": {
        "id": "nhYXM0m2SSaS"
      },
      "source": [
        "sc=py.SparkContext()"
      ],
      "execution_count": 11,
      "outputs": []
    },
    {
      "cell_type": "code",
      "metadata": {
        "id": "zURCxs_kR1S7"
      },
      "source": [
        "trafficPath=\"Dodgers.data\"\n",
        "gamesPath=\"Dodgers.events\""
      ],
      "execution_count": 9,
      "outputs": []
    },
    {
      "cell_type": "code",
      "metadata": {
        "id": "6fRqSMtoSIoq"
      },
      "source": [
        "traffic=sc.textFile(trafficPath)"
      ],
      "execution_count": 12,
      "outputs": []
    },
    {
      "cell_type": "code",
      "metadata": {
        "colab": {
          "base_uri": "https://localhost:8080/"
        },
        "id": "iW86W091SYJj",
        "outputId": "951db1a3-af05-460a-a82b-cb197aaf8870"
      },
      "source": [
        "traffic.take(10)"
      ],
      "execution_count": 13,
      "outputs": [
        {
          "output_type": "execute_result",
          "data": {
            "text/plain": [
              "['4/10/2005 0:00,-1',\n",
              " '4/10/2005 0:05,-1',\n",
              " '4/10/2005 0:10,-1',\n",
              " '4/10/2005 0:15,-1',\n",
              " '4/10/2005 0:20,-1',\n",
              " '4/10/2005 0:25,-1',\n",
              " '4/10/2005 0:30,-1',\n",
              " '4/10/2005 0:35,-1',\n",
              " '4/10/2005 0:40,-1',\n",
              " '4/10/2005 0:45,-1']"
            ]
          },
          "metadata": {
            "tags": []
          },
          "execution_count": 13
        }
      ]
    },
    {
      "cell_type": "code",
      "metadata": {
        "colab": {
          "base_uri": "https://localhost:8080/"
        },
        "id": "jdz6-cMUSi6v",
        "outputId": "fa44acd8-1f57-4f6c-e8b9-2b9c2e7d0f52"
      },
      "source": [
        "games=sc.textFile(gamesPath)\n",
        "games.take(10)"
      ],
      "execution_count": 14,
      "outputs": [
        {
          "output_type": "execute_result",
          "data": {
            "text/plain": [
              "['04/12/05,13:10:00,16:23:00,55892,San Francisco,W 9-8�',\n",
              " '04/13/05,19:10:00,21:48:00,46514,San Francisco,W 4-1�',\n",
              " '04/15/05,19:40:00,21:48:00,51816,San Diego,W 4-0�',\n",
              " '04/16/05,19:10:00,21:52:00,54704,San Diego,W 8-3�',\n",
              " '04/17/05,13:10:00,15:31:00,53402,San Diego,W 6-0�',\n",
              " '04/25/05,19:10:00,21:33:00,36876,Arizona,L 4-2�',\n",
              " '04/26/05,19:10:00,22:00:00,44486,Arizona,L 3-2�',\n",
              " '04/27/05,19:10:00,22:17:00,54387,Arizona,L 6-3�',\n",
              " '04/29/05,19:40:00,22:01:00,40150,Colorado,W 6-3�',\n",
              " '04/30/05,19:10:00,21:45:00,54123,Colorado,W 6-2�']"
            ]
          },
          "metadata": {
            "tags": []
          },
          "execution_count": 14
        }
      ]
    },
    {
      "cell_type": "code",
      "metadata": {
        "id": "jJjkwwlGStPF"
      },
      "source": [
        " from datetime import datetime\n",
        " import csv\n",
        " from io import StringIO "
      ],
      "execution_count": 16,
      "outputs": []
    },
    {
      "cell_type": "code",
      "metadata": {
        "id": "MnjfYHQeS_ZH"
      },
      "source": [
        "def parseTraffic(row):\n",
        "  DATE_FMT= \"%m/%d/%Y %H:%M\"\n",
        "  row=row.split(\",\")\n",
        "  row[0]=datetime.strptime(row[0],DATE_FMT)\n",
        "  row[1]=int(row[1])\n",
        "  return(row)"
      ],
      "execution_count": 18,
      "outputs": []
    },
    {
      "cell_type": "code",
      "metadata": {
        "colab": {
          "base_uri": "https://localhost:8080/"
        },
        "id": "xWUke1QcTvNl",
        "outputId": "68bd23ff-42c8-4234-efef-d661574260ba"
      },
      "source": [
        "trafficParsed = traffic.map(parseTraffic)\n",
        "trafficParsed.take(10)"
      ],
      "execution_count": 21,
      "outputs": [
        {
          "output_type": "execute_result",
          "data": {
            "text/plain": [
              "[[datetime.datetime(2005, 4, 10, 0, 0), -1],\n",
              " [datetime.datetime(2005, 4, 10, 0, 5), -1],\n",
              " [datetime.datetime(2005, 4, 10, 0, 10), -1],\n",
              " [datetime.datetime(2005, 4, 10, 0, 15), -1],\n",
              " [datetime.datetime(2005, 4, 10, 0, 20), -1],\n",
              " [datetime.datetime(2005, 4, 10, 0, 25), -1],\n",
              " [datetime.datetime(2005, 4, 10, 0, 30), -1],\n",
              " [datetime.datetime(2005, 4, 10, 0, 35), -1],\n",
              " [datetime.datetime(2005, 4, 10, 0, 40), -1],\n",
              " [datetime.datetime(2005, 4, 10, 0, 45), -1]]"
            ]
          },
          "metadata": {
            "tags": []
          },
          "execution_count": 21
        }
      ]
    },
    {
      "cell_type": "code",
      "metadata": {
        "colab": {
          "base_uri": "https://localhost:8080/"
        },
        "id": "NQv1XVdOT3W-",
        "outputId": "d3ddf2dc-0b33-4303-87be-4c2a49eb83e8"
      },
      "source": [
        "## This performs group by and then sum of col 2 and then reverse sorty by col2\n",
        "dailyTrend=trafficParsed.map(lambda x:(x[0].date(),x[1]))\\\n",
        "          .reduceByKey(lambda x,y: x+y ) \\\n",
        "          .sortBy(lambda x:-x[1])\n",
        "dailyTrend.take(10)\n",
        "\n",
        "## same as \n",
        "##select date(col1), sum(col2) from trafficParsed group by date(col1) order by col22 desc"
      ],
      "execution_count": 45,
      "outputs": [
        {
          "output_type": "execute_result",
          "data": {
            "text/plain": [
              "[(datetime.date(2005, 7, 28), 7661),\n",
              " (datetime.date(2005, 7, 29), 7499),\n",
              " (datetime.date(2005, 8, 12), 7287),\n",
              " (datetime.date(2005, 7, 27), 7238),\n",
              " (datetime.date(2005, 9, 23), 7175),\n",
              " (datetime.date(2005, 7, 26), 7163),\n",
              " (datetime.date(2005, 5, 20), 7119),\n",
              " (datetime.date(2005, 8, 11), 7110),\n",
              " (datetime.date(2005, 9, 8), 7107),\n",
              " (datetime.date(2005, 9, 7), 7082)]"
            ]
          },
          "metadata": {
            "tags": []
          },
          "execution_count": 45
        }
      ]
    },
    {
      "cell_type": "code",
      "metadata": {
        "id": "biRRFz0AU-W3"
      },
      "source": [
        "def parseGames(row):\n",
        "  DATE_FMT= \"%m/%d/%y\"\n",
        "  row=row.split(\",\")\n",
        "  row[0]=datetime.strptime(row[0],DATE_FMT).date()\n",
        "  return((row[0],row[4]))"
      ],
      "execution_count": 52,
      "outputs": []
    },
    {
      "cell_type": "code",
      "metadata": {
        "colab": {
          "base_uri": "https://localhost:8080/"
        },
        "id": "QnWjge9hWP-v",
        "outputId": "5b79f53b-bb5a-455c-91b7-e6947707866b"
      },
      "source": [
        "gamesParsed=games.map(parseGames)\n",
        "gamesParsed.take(10)"
      ],
      "execution_count": 53,
      "outputs": [
        {
          "output_type": "execute_result",
          "data": {
            "text/plain": [
              "[(datetime.date(2005, 4, 12), 'San Francisco'),\n",
              " (datetime.date(2005, 4, 13), 'San Francisco'),\n",
              " (datetime.date(2005, 4, 15), 'San Diego'),\n",
              " (datetime.date(2005, 4, 16), 'San Diego'),\n",
              " (datetime.date(2005, 4, 17), 'San Diego'),\n",
              " (datetime.date(2005, 4, 25), 'Arizona'),\n",
              " (datetime.date(2005, 4, 26), 'Arizona'),\n",
              " (datetime.date(2005, 4, 27), 'Arizona'),\n",
              " (datetime.date(2005, 4, 29), 'Colorado'),\n",
              " (datetime.date(2005, 4, 30), 'Colorado')]"
            ]
          },
          "metadata": {
            "tags": []
          },
          "execution_count": 53
        }
      ]
    },
    {
      "cell_type": "code",
      "metadata": {
        "colab": {
          "base_uri": "https://localhost:8080/"
        },
        "id": "6jW13DN6ZSwB",
        "outputId": "0e386b05-ba97-4ebc-cdb3-71461f0de0c8"
      },
      "source": [
        "dailyTrendCombined=dailyTrend.leftOuterJoin(gamesParsed)\n",
        "dailyTrendCombined.top(10)"
      ],
      "execution_count": 54,
      "outputs": [
        {
          "output_type": "execute_result",
          "data": {
            "text/plain": [
              "[(datetime.date(2005, 10, 1), (-260, None)),\n",
              " (datetime.date(2005, 9, 30), (7079, None)),\n",
              " (datetime.date(2005, 9, 29), (6917, 'Arizona')),\n",
              " (datetime.date(2005, 9, 28), (6831, 'Arizona')),\n",
              " (datetime.date(2005, 9, 27), (6664, 'Arizona')),\n",
              " (datetime.date(2005, 9, 26), (6394, 'Pittsburgh')),\n",
              " (datetime.date(2005, 9, 25), (4991, 'Pittsburgh')),\n",
              " (datetime.date(2005, 9, 24), (5848, 'Pittsburgh')),\n",
              " (datetime.date(2005, 9, 23), (7175, 'Pittsburgh')),\n",
              " (datetime.date(2005, 9, 22), (6810, None))]"
            ]
          },
          "metadata": {
            "tags": []
          },
          "execution_count": 54
        }
      ]
    },
    {
      "cell_type": "code",
      "metadata": {
        "id": "l1LrKUm8ZyTp"
      },
      "source": [
        ""
      ],
      "execution_count": null,
      "outputs": []
    }
  ]
}