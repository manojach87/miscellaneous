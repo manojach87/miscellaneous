{
  "nbformat": 4,
  "nbformat_minor": 0,
  "metadata": {
    "colab": {
      "name": "Overlapping Rectangles.ipynb",
      "provenance": []
    },
    "kernelspec": {
      "name": "python3",
      "display_name": "Python 3"
    }
  },
  "cells": [
    {
      "cell_type": "code",
      "metadata": {
        "id": "ShZUpO_bCovY",
        "colab_type": "code",
        "colab": {
          "base_uri": "https://localhost:8080/",
          "height": 264
        },
        "outputId": "ca89f40e-8598-457a-e2ce-cca181864cda"
      },
      "source": [
        "def plotRect(rect1,rect2):\n",
        "  import matplotlib.pyplot as plt\n",
        "  plt.axes()\n",
        "  line00  = plt.Line2D((rect1[2], rect1[0]), (rect1[1], rect1[1]), lw=1.5)\n",
        "  line01  = plt.Line2D((rect1[2], rect1[0]), (rect1[3], rect1[3]), lw=1.5)\n",
        "  line02  = plt.Line2D((rect1[2], rect1[2]), (rect1[1], rect1[3]), lw=1.5)\n",
        "  line03  = plt.Line2D((rect1[0], rect1[0]), (rect1[1], rect1[3]), lw=1.5)\n",
        "\n",
        "  \n",
        "  line10  = plt.Line2D((rect2[2], rect2[0]), (rect2[1], rect2[1]), lw=1.5, c=\"red\", ls =\"--\")\n",
        "  line11  = plt.Line2D((rect2[2], rect2[0]), (rect2[3], rect2[3]), lw=1.5, c=\"red\", ls =\"--\")\n",
        "  line12  = plt.Line2D((rect2[2], rect2[2]), (rect2[1], rect2[3]), lw=1.5, c=\"red\", ls =\"--\")\n",
        "  line13  = plt.Line2D((rect2[0], rect2[0]), (rect2[1], rect2[3]), lw=1.5, c=\"red\", ls =\"--\")\n",
        "\n",
        "\n",
        "  #line1 = plt.Line2D((rect1[2], rect1[0]), (1, 1), lw=1.5)\n",
        "  plt.gca().add_line(line00)\n",
        "  plt.gca().add_line(line01)\n",
        "  plt.gca().add_line(line02)\n",
        "  plt.gca().add_line(line03)\n",
        "  \n",
        "  plt.gca().add_line(line10)\n",
        "  plt.gca().add_line(line11)\n",
        "  plt.gca().add_line(line12)\n",
        "  plt.gca().add_line(line13)\n",
        "\n",
        "  plt.axis('scaled')\n",
        "  plt.show()\n",
        "\n",
        "#plotRect([0,0,4,4], [0,0,4,5])"
      ],
      "execution_count": 1,
      "outputs": [
        {
          "output_type": "display_data",
          "data": {
            "image/png": "[encoded data removed]",
            "text/plain": [
              "<Figure size 432x288 with 1 Axes>"
            ]
          },
          "metadata": {
            "tags": []
          }
        }
      ]
    },
    {
      "cell_type": "code",
      "metadata": {
        "id": "n5gLdbl0G1PA",
        "colab_type": "code",
        "colab": {}
      },
      "source": [
        "def convertRectToCoOrdinates(rect):\n",
        "  x1=rect[0]\n",
        "  x2=rect[0]+rect[2]\n",
        "  y1=rect[1]-rect[3]\n",
        "  y2=rect[1]\n",
        "  return [x1,y1,x2,y2]"
      ],
      "execution_count": 0,
      "outputs": []
    },
    {
      "cell_type": "code",
      "metadata": {
        "id": "vESs1SD0I55d",
        "colab_type": "code",
        "colab": {}
      },
      "source": [
        ""
      ],
      "execution_count": 0,
      "outputs": []
    },
    {
      "cell_type": "code",
      "metadata": {
        "id": "QerJZzZwoNlJ",
        "colab_type": "code",
        "colab": {
          "base_uri": "https://localhost:8080/",
          "height": 282
        },
        "outputId": "ca3f9eca-da8b-413f-95f4-515a4153812a"
      },
      "source": [
        "rec_list=[[0,3,4,9],[2,0,6,4]]\n",
        "plotRect(rec_list[0], rec_list[1])\n",
        "\n",
        "#rec_list=[[0,3,4,9],[3,6,6,11]]\n",
        "\n",
        "def overlap(rec1, rec2):\n",
        "  if (rec1[2]<=rec2[0] or rec2[2]<=rec1[0]):\n",
        "    return False\n",
        "\n",
        "  if (rec1[3]<=rec2[1] or rec2[3]<=rec1[1]):\n",
        "    return False\n",
        "  return True\n",
        "\n",
        "overlap(rec_list[0],rec_list[1])"
      ],
      "execution_count": 6,
      "outputs": [
        {
          "output_type": "display_data",
          "data": {
            "image/png": "[encoded data removed]",
            "text/plain": [
              "<Figure size 432x288 with 1 Axes>"
            ]
          },
          "metadata": {
            "tags": []
          }
        },
        {
          "output_type": "execute_result",
          "data": {
            "text/plain": [
              "True"
            ]
          },
          "metadata": {
            "tags": []
          },
          "execution_count": 6
        }
      ]
    },
    {
      "cell_type": "code",
      "metadata": {
        "id": "6wXuqQbKomET",
        "colab_type": "code",
        "colab": {
          "base_uri": "https://localhost:8080/",
          "height": 282
        },
        "outputId": "b8265af1-374c-4ced-d108-bd930671816b"
      },
      "source": [
        "rec_list=[[0,3,4,9],[2,0,6,-6]]\n",
        "\n",
        "plotRect(rec_list[0], rec_list[1])\n",
        "\n",
        "\n",
        "def overlap1(rec1, rec2):\n",
        "  if (max(rec1[0],rec2[0]) - min(rec1[2],rec2[2])>=0):\n",
        "    return False\n",
        "\n",
        "  if (max(rec1[1],rec2[1]) - min(rec1[3],rec2[3])>=0):\n",
        "    return False\n",
        "  return True\n",
        "\n",
        "overlap1(rec_list[0],rec_list[1])"
      ],
      "execution_count": 8,
      "outputs": [
        {
          "output_type": "display_data",
          "data": {
            "image/png": "[encoded data removed]",
            "text/plain": [
              "<Figure size 432x288 with 1 Axes>"
            ]
          },
          "metadata": {
            "tags": []
          }
        },
        {
          "output_type": "execute_result",
          "data": {
            "text/plain": [
              "False"
            ]
          },
          "metadata": {
            "tags": []
          },
          "execution_count": 8
        }
      ]
    },
    {
      "cell_type": "code",
      "metadata": {
        "id": "FICaFhiT32Fc",
        "colab_type": "code",
        "colab": {
          "base_uri": "https://localhost:8080/",
          "height": 282
        },
        "outputId": "fe52e6e1-b4ac-4693-f653-edffc52887ed"
      },
      "source": [
        "#rect = top left corner coordinate + w+h\n",
        "\n",
        "#rectangle=[x,y,w,h]\n",
        "\n",
        "rec_list=[[0,3,4,9],[2,-3,4,9]]\n",
        "\n",
        "rect1=convertRectToCoOrdinates(rec_list[0])\n",
        "rect2=convertRectToCoOrdinates(rec_list[1])\n",
        "plotRect(rect1,rect2)\n",
        "# same rect with  bottom left corordinate and top right coordinate\n",
        "\n",
        "def overlap(rec1, rec2):\n",
        "  if (rec1[0]+rec1[2]<=rec2[0] or rec2[0]+rec2[2]<=rec1[0]):\n",
        "    return False\n",
        "\n",
        "  if (rec1[1]-rec1[3]>=rec2[1] or rec2[1]-rec2[3]>=rec1[1]):\n",
        "    return False\n",
        "  return True\n",
        "\n",
        "overlap(rec_list[0],rec_list[1])"
      ],
      "execution_count": 12,
      "outputs": [
        {
          "output_type": "display_data",
          "data": {
            "image/png": "[encoded data removed]",
            "text/plain": [
              "<Figure size 432x288 with 1 Axes>"
            ]
          },
          "metadata": {
            "tags": []
          }
        },
        {
          "output_type": "execute_result",
          "data": {
            "text/plain": [
              "True"
            ]
          },
          "metadata": {
            "tags": []
          },
          "execution_count": 12
        }
      ]
    }
  ]
}