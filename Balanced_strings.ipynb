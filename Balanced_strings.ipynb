{
  "nbformat": 4,
  "nbformat_minor": 0,
  "metadata": {
    "colab": {
      "name": "Balanced strings.ipynb",
      "provenance": [],
      "authorship_tag": "ABX9TyOODjk5/t2G/1NSAPaPJVhu",
      "include_colab_link": true
    },
    "kernelspec": {
      "name": "python3",
      "display_name": "Python 3"
    }
  },
  "cells": [
    {
      "cell_type": "markdown",
      "metadata": {
        "id": "view-in-github",
        "colab_type": "text"
      },
      "source": [
        "<a href=\"https://colab.research.google.com/github/manojach87/miscellaneous/blob/master/Balanced_strings.ipynb\" target=\"_parent\"><img src=\"https://colab.research.google.com/assets/colab-badge.svg\" alt=\"Open In Colab\"/></a>"
      ]
    },
    {
      "cell_type": "markdown",
      "metadata": {
        "id": "GICK9z1DKNfx",
        "colab_type": "text"
      },
      "source": [
        "Balanced strings are those who have equal quantity of 'L' and 'R' characters.\n",
        "\n",
        "Given a balanced string s split it in the maximum amount of balanced strings.\n",
        "\n",
        "Return the maximum amount of splitted balanced strings.\n",
        "\n",
        " \n",
        "\n",
        "Example 1:\n",
        "```\n",
        "Input: s = \"RLRRLLRLRL\"\n",
        "Output: 4\n",
        "```\n",
        "Explanation: s can be split into \"RL\", \"RRLL\", \"RL\", \"RL\", each substring contains same number of 'L' and 'R'.\n",
        "\n",
        "\n",
        "Example 2:\n",
        "```\n",
        "Input: s = \"RLLLLRRRLR\"\n",
        "Output: 3\n",
        "```\n",
        "Explanation: s can be split into \"RL\", \"LLLRRR\", \"LR\", each substring contains same number of 'L' and 'R'.\n",
        "\n",
        "Example 3:\n",
        "```\n",
        "Input: s = \"LLLLRRRR\"\n",
        "Output: 1\n",
        "```\n",
        "Explanation: s can be split into \"LLLLRRRR\".\n",
        "\n",
        "Example 4:\n",
        "```\n",
        "Input: s = \"RLRRRLLRLL\"\n",
        "Output: 2\n",
        "```\n",
        "Explanation: s can be split into \"RL\", \"RRRLLRLL\", since each substring contains an equal number of 'L' and 'R'\n",
        " \n",
        "\n",
        "Constraints:\n",
        "```\n",
        "1 <= s.length <= 1000\n",
        "s[i] = 'L' or 'R'\n",
        "```"
      ]
    },
    {
      "cell_type": "code",
      "metadata": {
        "id": "HSbPLJJCKMiw",
        "colab_type": "code",
        "colab": {}
      },
      "source": [
        "class Solution:\n",
        "    def find(self,s, ch):\n",
        "        return(len([i for i, ltr in enumerate(s) if ltr == ch]))\n",
        "    \n",
        "    def balancedStrings(self, A):\n",
        "        \"\"\"\n",
        "        :type A: str\n",
        "        :rtype: List[str]\n",
        "        \"\"\"\n",
        "        X=list(A[::-1])\n",
        "        sofar=[]\n",
        "        c_old=\"\"\n",
        "        balanced=True # if unmatched\n",
        "        pairCompleted=True\n",
        "        unbalanced=[]\n",
        "        total=0\n",
        "        for i in range(len(A)):\n",
        "          if(i>5):\n",
        "            break\n",
        "          #print(\"Before : {}\".format(X[::-1]))\n",
        "          c_new=X.pop()\n",
        "          # First iteration\n",
        "          if(i==0 or c_old==\"\"):\n",
        "            unbalanced+=c_new\n",
        "            balanced=False\n",
        "            pairCompleted=False\n",
        "          # Other Iterations\n",
        "          else:\n",
        "            # If previous pair was balanced\n",
        "            if(balanced):\n",
        "              if(c_new!=c_old):\n",
        "                print(\"Found a pair {}{}\".format(c_old,c_new))\n",
        "                balanced=True\n",
        "                pass\n",
        "              else:\n",
        "                pass\n",
        "              c_old=c_new\n",
        "            # If previous Pair wasn't balanced\n",
        "            else:\n",
        "              # If old char != new char, mark as balanced\n",
        "              if(c_new!=c_old):\n",
        "                balanced=True\n",
        "                #pairCompleted=True\n",
        "                print(\"Found a pair {}{}\".format(c_old,c_new))\n",
        "                balanced=False\n",
        "\n",
        "                #if(len(unbalanced)>0):\n",
        "                c_old=unbalanced.pop()\n",
        "                print(c_old,c_new)\n",
        "              \n",
        "              # If old char = new char:\n",
        "              #    mark as unbalanced\n",
        "              #    mark as pair not complete\n",
        "              #    add to unbalanced string\n",
        "              else:\n",
        "              #if (c_new==c_old):\n",
        "                print(\"Not a pair {}{}\".format(c_old,c_new))\n",
        "                balanced=False\n",
        "                pairCompleted=False\n",
        "                unbalanced+=c_new\n",
        "                print(unbalanced)\n",
        "            \n",
        "          c_old=c_new\n",
        "          #print(unbalanced)\n",
        "\n",
        "          print(unbalanced)\n",
        "          #print(\"After : {}\".format(X[::-1]))\n",
        "\n",
        "          if(len(unbalanced)==0):\n",
        "            print(\"Balance Completed\")\n",
        "            pairCompleted=True\n",
        "            total+=1\n",
        "            c_old=\"\"\n",
        "          print(\"------\")\n",
        "\n",
        "        print(unbalanced)\n",
        "        print(\"Total : {}\".format(total))"
      ],
      "execution_count": 192,
      "outputs": []
    },
    {
      "cell_type": "code",
      "metadata": {
        "id": "3GJBRJXkMNzd",
        "colab_type": "code",
        "colab": {
          "base_uri": "https://localhost:8080/",
          "height": 238
        },
        "outputId": "e52886d7-56c8-41b6-ec15-8de3cc468323"
      },
      "source": [
        "A=\"RRL\"\n",
        "#A=\"RLRRLLRLRL\"\n",
        "x=Solution()\n",
        "print(A)\n",
        "x.balancedStrings(A)"
      ],
      "execution_count": 196,
      "outputs": [
        {
          "output_type": "stream",
          "text": [
            "RRL\n",
            "['R']\n",
            "------\n",
            "Not a pair RR\n",
            "['R', 'R']\n",
            "['R', 'R']\n",
            "------\n",
            "Found a pair RL\n",
            "R L\n",
            "['R']\n",
            "------\n",
            "['R']\n",
            "Total : 0\n"
          ],
          "name": "stdout"
        }
      ]
    },
    {
      "cell_type": "code",
      "metadata": {
        "id": "wugC__ONMXqi",
        "colab_type": "code",
        "colab": {
          "base_uri": "https://localhost:8080/",
          "height": 34
        },
        "outputId": "d85fe2da-c2c9-49ae-8b34-833bc44869c1"
      },
      "source": [
        "s=\"hello\"\n",
        "list(s)"
      ],
      "execution_count": 12,
      "outputs": [
        {
          "output_type": "execute_result",
          "data": {
            "text/plain": [
              "['h', 'e', 'l', 'l', 'o']"
            ]
          },
          "metadata": {
            "tags": []
          },
          "execution_count": 12
        }
      ]
    }
  ]
}