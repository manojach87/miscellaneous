{
  "nbformat": 4,
  "nbformat_minor": 0,
  "metadata": {
    "colab": {
      "name": "coingecko.ipynb",
      "provenance": [],
      "authorship_tag": "ABX9TyPtcD2QW07g15YlrEEF+1Ja",
      "include_colab_link": true
    },
    "kernelspec": {
      "name": "python3",
      "display_name": "Python 3"
    },
    "language_info": {
      "name": "python"
    }
  },
  "cells": [
    {
      "cell_type": "markdown",
      "metadata": {
        "id": "view-in-github",
        "colab_type": "text"
      },
      "source": [
        "<a href=\"https://colab.research.google.com/github/manojach87/miscellaneous/blob/master/coingecko.ipynb\" target=\"_parent\"><img src=\"https://colab.research.google.com/assets/colab-badge.svg\" alt=\"Open In Colab\"/></a>"
      ]
    },
    {
      "cell_type": "markdown",
      "metadata": {
        "id": "nuocX4_Tjz20"
      },
      "source": [
        "https://www.coingecko.com/api/documentations/v3#/operations/ping"
      ]
    },
    {
      "cell_type": "code",
      "metadata": {
        "id": "rNh7uoHbInKZ"
      },
      "source": [
        "def readJsonLink(link):\n",
        "  import urllib.request, json \n",
        "  with urllib.request.urlopen(link) as url:\n",
        "      data = json.loads(url.read().decode())\n",
        "      return data"
      ],
      "execution_count": 2,
      "outputs": []
    },
    {
      "cell_type": "code",
      "metadata": {
        "id": "lWp-p-t0Ivsj"
      },
      "source": [
        "def getMarkets(url=\"https://api.coingecko.com/api/v3/coins/markets?vs_currency=USD&order=market_cap_desc&per_page=250&sparkline=false\",pages=10):\n",
        "  marketsData=list()\n",
        "  for i in range(1,pages):\n",
        "    #print(i)\n",
        "    marketsData.append(readJsonLink(url+\"&page=\"+str(i)))\n",
        "  return marketsData\n",
        "#marketsData"
      ],
      "execution_count": 3,
      "outputs": []
    },
    {
      "cell_type": "code",
      "metadata": {
        "id": "EpGTsz1lI4Y-"
      },
      "source": [
        "def createDf(url,pages=10):\n",
        "  import pandas as pd\n",
        "  marketsData=getMarkets(url,pages=pages+1)\n",
        "  marketsDf=pd.DataFrame()\n",
        "  for i in range(0,len(marketsData)):\n",
        "    #print(i)\n",
        "    marketsDf=marketsDf.append(pd.DataFrame(marketsData[i]))\n",
        "  marketsDf=marketsDf.reset_index()\n",
        "  return marketsDf"
      ],
      "execution_count": 4,
      "outputs": []
    },
    {
      "cell_type": "code",
      "metadata": {
        "id": "tKjuz6P3bo8q"
      },
      "source": [
        "marketsDf=createDf(url=\"https://api.coingecko.com/api/v3/coins/markets?vs_currency=USD&order=market_cap_desc&per_page=250&sparkline=false\",pages=28)"
      ],
      "execution_count": 5,
      "outputs": []
    },
    {
      "cell_type": "code",
      "metadata": {
        "colab": {
          "base_uri": "https://localhost:8080/",
          "height": 609
        },
        "id": "bcBti1c4I6-e",
        "outputId": "8c18d1f6-f764-4aaf-d79e-573da68ace26"
      },
      "source": [
        "#marketsDf[marketsDf.index==0]\n",
        "marketsDf"
      ],
      "execution_count": 6,
      "outputs": [
        {
          "output_type": "execute_result",
          "data": {
            "text/html": [
              "<div>\n",
              "<style scoped>\n",
              "    .dataframe tbody tr th:only-of-type {\n",
              "        vertical-align: middle;\n",
              "    }\n",
              "\n",
              "    .dataframe tbody tr th {\n",
              "        vertical-align: top;\n",
              "    }\n",
              "\n",
              "    .dataframe thead th {\n",
              "        text-align: right;\n",
              "    }\n",
              "</style>\n",
              "<table border=\"1\" class=\"dataframe\">\n",
              "  <thead>\n",
              "    <tr style=\"text-align: right;\">\n",
              "      <th></th>\n",
              "      <th>index</th>\n",
              "      <th>id</th>\n",
              "      <th>symbol</th>\n",
              "      <th>name</th>\n",
              "      <th>image</th>\n",
              "      <th>current_price</th>\n",
              "      <th>market_cap</th>\n",
              "      <th>market_cap_rank</th>\n",
              "      <th>fully_diluted_valuation</th>\n",
              "      <th>total_volume</th>\n",
              "      <th>high_24h</th>\n",
              "      <th>low_24h</th>\n",
              "      <th>price_change_24h</th>\n",
              "      <th>price_change_percentage_24h</th>\n",
              "      <th>market_cap_change_24h</th>\n",
              "      <th>market_cap_change_percentage_24h</th>\n",
              "      <th>circulating_supply</th>\n",
              "      <th>total_supply</th>\n",
              "      <th>max_supply</th>\n",
              "      <th>ath</th>\n",
              "      <th>ath_change_percentage</th>\n",
              "      <th>ath_date</th>\n",
              "      <th>atl</th>\n",
              "      <th>atl_change_percentage</th>\n",
              "      <th>atl_date</th>\n",
              "      <th>roi</th>\n",
              "      <th>last_updated</th>\n",
              "    </tr>\n",
              "  </thead>\n",
              "  <tbody>\n",
              "    <tr>\n",
              "      <th>0</th>\n",
              "      <td>0</td>\n",
              "      <td>bitcoin</td>\n",
              "      <td>btc</td>\n",
              "      <td>Bitcoin</td>\n",
              "      <td>https://assets.coingecko.com/coins/images/1/la...</td>\n",
              "      <td>56349.00</td>\n",
              "      <td>1.055758e+12</td>\n",
              "      <td>1</td>\n",
              "      <td>1.186508e+12</td>\n",
              "      <td>1.020319e+11</td>\n",
              "      <td>60424.00</td>\n",
              "      <td>52810.000000</td>\n",
              "      <td>-4051.697236</td>\n",
              "      <td>-6.70798</td>\n",
              "      <td>-7.793897e+10</td>\n",
              "      <td>-6.87477</td>\n",
              "      <td>1.868586e+07</td>\n",
              "      <td>2.100000e+07</td>\n",
              "      <td>21000000.0</td>\n",
              "      <td>64805.00</td>\n",
              "      <td>-12.91377</td>\n",
              "      <td>2021-04-14T11:54:46.763Z</td>\n",
              "      <td>67.810000</td>\n",
              "      <td>8.312788e+04</td>\n",
              "      <td>2013-07-06T00:00:00.000Z</td>\n",
              "      <td>None</td>\n",
              "      <td>2021-04-18T23:31:31.131Z</td>\n",
              "    </tr>\n",
              "    <tr>\n",
              "      <th>1</th>\n",
              "      <td>1</td>\n",
              "      <td>ethereum</td>\n",
              "      <td>eth</td>\n",
              "      <td>Ethereum</td>\n",
              "      <td>https://assets.coingecko.com/coins/images/279/...</td>\n",
              "      <td>2236.34</td>\n",
              "      <td>2.589238e+11</td>\n",
              "      <td>2</td>\n",
              "      <td>NaN</td>\n",
              "      <td>6.078620e+10</td>\n",
              "      <td>2358.72</td>\n",
              "      <td>1970.000000</td>\n",
              "      <td>-122.373113</td>\n",
              "      <td>-5.18812</td>\n",
              "      <td>-1.581182e+10</td>\n",
              "      <td>-5.75529</td>\n",
              "      <td>1.155253e+08</td>\n",
              "      <td>NaN</td>\n",
              "      <td>NaN</td>\n",
              "      <td>2544.30</td>\n",
              "      <td>-11.94054</td>\n",
              "      <td>2021-04-16T01:00:14.650Z</td>\n",
              "      <td>0.432979</td>\n",
              "      <td>5.173621e+05</td>\n",
              "      <td>2015-10-20T00:00:00.000Z</td>\n",
              "      <td>{'times': 52.03349336842597, 'currency': 'btc'...</td>\n",
              "      <td>2021-04-18T23:30:19.827Z</td>\n",
              "    </tr>\n",
              "    <tr>\n",
              "      <th>2</th>\n",
              "      <td>2</td>\n",
              "      <td>binancecoin</td>\n",
              "      <td>bnb</td>\n",
              "      <td>Binance Coin</td>\n",
              "      <td>https://assets.coingecko.com/coins/images/825/...</td>\n",
              "      <td>477.02</td>\n",
              "      <td>7.407571e+10</td>\n",
              "      <td>3</td>\n",
              "      <td>8.174531e+10</td>\n",
              "      <td>6.711831e+09</td>\n",
              "      <td>524.37</td>\n",
              "      <td>432.020000</td>\n",
              "      <td>-47.341592</td>\n",
              "      <td>-9.02835</td>\n",
              "      <td>-7.507768e+09</td>\n",
              "      <td>-9.20256</td>\n",
              "      <td>1.545337e+08</td>\n",
              "      <td>1.705337e+08</td>\n",
              "      <td>170533651.9</td>\n",
              "      <td>610.06</td>\n",
              "      <td>-21.50593</td>\n",
              "      <td>2021-04-12T09:32:32.635Z</td>\n",
              "      <td>0.039818</td>\n",
              "      <td>1.202524e+06</td>\n",
              "      <td>2017-10-19T00:00:00.000Z</td>\n",
              "      <td>None</td>\n",
              "      <td>2021-04-18T23:30:40.326Z</td>\n",
              "    </tr>\n",
              "    <tr>\n",
              "      <th>3</th>\n",
              "      <td>3</td>\n",
              "      <td>ripple</td>\n",
              "      <td>xrp</td>\n",
              "      <td>XRP</td>\n",
              "      <td>https://assets.coingecko.com/coins/images/44/l...</td>\n",
              "      <td>1.42</td>\n",
              "      <td>6.568149e+10</td>\n",
              "      <td>4</td>\n",
              "      <td>NaN</td>\n",
              "      <td>2.080601e+10</td>\n",
              "      <td>1.57</td>\n",
              "      <td>1.190000</td>\n",
              "      <td>-0.143111</td>\n",
              "      <td>-9.14432</td>\n",
              "      <td>-6.747876e+09</td>\n",
              "      <td>-9.31649</td>\n",
              "      <td>4.597332e+10</td>\n",
              "      <td>1.000000e+11</td>\n",
              "      <td>NaN</td>\n",
              "      <td>3.40</td>\n",
              "      <td>-57.96086</td>\n",
              "      <td>2018-01-07T00:00:00.000Z</td>\n",
              "      <td>0.002686</td>\n",
              "      <td>5.308576e+04</td>\n",
              "      <td>2014-05-22T00:00:00.000Z</td>\n",
              "      <td>None</td>\n",
              "      <td>2021-04-18T23:31:24.707Z</td>\n",
              "    </tr>\n",
              "    <tr>\n",
              "      <th>4</th>\n",
              "      <td>4</td>\n",
              "      <td>tether</td>\n",
              "      <td>usdt</td>\n",
              "      <td>Tether</td>\n",
              "      <td>https://assets.coingecko.com/coins/images/325/...</td>\n",
              "      <td>1.00</td>\n",
              "      <td>4.821533e+10</td>\n",
              "      <td>5</td>\n",
              "      <td>NaN</td>\n",
              "      <td>2.315707e+11</td>\n",
              "      <td>1.02</td>\n",
              "      <td>0.993047</td>\n",
              "      <td>-0.000765</td>\n",
              "      <td>-0.07641</td>\n",
              "      <td>-3.686910e+07</td>\n",
              "      <td>-0.07641</td>\n",
              "      <td>4.818719e+10</td>\n",
              "      <td>4.818719e+10</td>\n",
              "      <td>NaN</td>\n",
              "      <td>1.32</td>\n",
              "      <td>-24.37553</td>\n",
              "      <td>2018-07-24T00:00:00.000Z</td>\n",
              "      <td>0.572521</td>\n",
              "      <td>7.476806e+01</td>\n",
              "      <td>2015-03-02T00:00:00.000Z</td>\n",
              "      <td>None</td>\n",
              "      <td>2021-04-18T23:06:57.015Z</td>\n",
              "    </tr>\n",
              "    <tr>\n",
              "      <th>...</th>\n",
              "      <td>...</td>\n",
              "      <td>...</td>\n",
              "      <td>...</td>\n",
              "      <td>...</td>\n",
              "      <td>...</td>\n",
              "      <td>...</td>\n",
              "      <td>...</td>\n",
              "      <td>...</td>\n",
              "      <td>...</td>\n",
              "      <td>...</td>\n",
              "      <td>...</td>\n",
              "      <td>...</td>\n",
              "      <td>...</td>\n",
              "      <td>...</td>\n",
              "      <td>...</td>\n",
              "      <td>...</td>\n",
              "      <td>...</td>\n",
              "      <td>...</td>\n",
              "      <td>...</td>\n",
              "      <td>...</td>\n",
              "      <td>...</td>\n",
              "      <td>...</td>\n",
              "      <td>...</td>\n",
              "      <td>...</td>\n",
              "      <td>...</td>\n",
              "      <td>...</td>\n",
              "      <td>...</td>\n",
              "    </tr>\n",
              "    <tr>\n",
              "      <th>6743</th>\n",
              "      <td>243</td>\n",
              "      <td>gneiss</td>\n",
              "      <td>gneiss</td>\n",
              "      <td>Gneiss</td>\n",
              "      <td>https://assets.coingecko.com/coins/images/1335...</td>\n",
              "      <td>NaN</td>\n",
              "      <td>NaN</td>\n",
              "      <td>None</td>\n",
              "      <td>NaN</td>\n",
              "      <td>NaN</td>\n",
              "      <td>NaN</td>\n",
              "      <td>NaN</td>\n",
              "      <td>NaN</td>\n",
              "      <td>NaN</td>\n",
              "      <td>NaN</td>\n",
              "      <td>NaN</td>\n",
              "      <td>NaN</td>\n",
              "      <td>1.000000e+09</td>\n",
              "      <td>NaN</td>\n",
              "      <td>NaN</td>\n",
              "      <td>0.00000</td>\n",
              "      <td>None</td>\n",
              "      <td>NaN</td>\n",
              "      <td>0.000000e+00</td>\n",
              "      <td>None</td>\n",
              "      <td>None</td>\n",
              "      <td>None</td>\n",
              "    </tr>\n",
              "    <tr>\n",
              "      <th>6744</th>\n",
              "      <td>244</td>\n",
              "      <td>imusd</td>\n",
              "      <td>imusd</td>\n",
              "      <td>imUSD</td>\n",
              "      <td>https://assets.coingecko.com/coins/images/1369...</td>\n",
              "      <td>NaN</td>\n",
              "      <td>NaN</td>\n",
              "      <td>None</td>\n",
              "      <td>NaN</td>\n",
              "      <td>0.000000e+00</td>\n",
              "      <td>NaN</td>\n",
              "      <td>NaN</td>\n",
              "      <td>NaN</td>\n",
              "      <td>NaN</td>\n",
              "      <td>NaN</td>\n",
              "      <td>NaN</td>\n",
              "      <td>NaN</td>\n",
              "      <td>NaN</td>\n",
              "      <td>NaN</td>\n",
              "      <td>NaN</td>\n",
              "      <td>0.00000</td>\n",
              "      <td>None</td>\n",
              "      <td>NaN</td>\n",
              "      <td>0.000000e+00</td>\n",
              "      <td>None</td>\n",
              "      <td>None</td>\n",
              "      <td>2021-03-14T02:49:13.557Z</td>\n",
              "    </tr>\n",
              "    <tr>\n",
              "      <th>6745</th>\n",
              "      <td>245</td>\n",
              "      <td>street-credit</td>\n",
              "      <td>cred</td>\n",
              "      <td>Street Credit</td>\n",
              "      <td>https://assets.coingecko.com/coins/images/1325...</td>\n",
              "      <td>NaN</td>\n",
              "      <td>NaN</td>\n",
              "      <td>None</td>\n",
              "      <td>NaN</td>\n",
              "      <td>NaN</td>\n",
              "      <td>NaN</td>\n",
              "      <td>NaN</td>\n",
              "      <td>NaN</td>\n",
              "      <td>NaN</td>\n",
              "      <td>NaN</td>\n",
              "      <td>NaN</td>\n",
              "      <td>NaN</td>\n",
              "      <td>6.559600e+04</td>\n",
              "      <td>NaN</td>\n",
              "      <td>NaN</td>\n",
              "      <td>0.00000</td>\n",
              "      <td>None</td>\n",
              "      <td>NaN</td>\n",
              "      <td>0.000000e+00</td>\n",
              "      <td>None</td>\n",
              "      <td>None</td>\n",
              "      <td>None</td>\n",
              "    </tr>\n",
              "    <tr>\n",
              "      <th>6746</th>\n",
              "      <td>246</td>\n",
              "      <td>klondike-bond</td>\n",
              "      <td>kbond</td>\n",
              "      <td>Klondike Bond</td>\n",
              "      <td>https://assets.coingecko.com/coins/images/1378...</td>\n",
              "      <td>NaN</td>\n",
              "      <td>NaN</td>\n",
              "      <td>None</td>\n",
              "      <td>NaN</td>\n",
              "      <td>NaN</td>\n",
              "      <td>NaN</td>\n",
              "      <td>NaN</td>\n",
              "      <td>NaN</td>\n",
              "      <td>NaN</td>\n",
              "      <td>NaN</td>\n",
              "      <td>NaN</td>\n",
              "      <td>NaN</td>\n",
              "      <td>3.537026e+01</td>\n",
              "      <td>NaN</td>\n",
              "      <td>NaN</td>\n",
              "      <td>0.00000</td>\n",
              "      <td>None</td>\n",
              "      <td>NaN</td>\n",
              "      <td>0.000000e+00</td>\n",
              "      <td>None</td>\n",
              "      <td>None</td>\n",
              "      <td>None</td>\n",
              "    </tr>\n",
              "    <tr>\n",
              "      <th>6747</th>\n",
              "      <td>247</td>\n",
              "      <td>forefront</td>\n",
              "      <td>ff</td>\n",
              "      <td>Forefront</td>\n",
              "      <td>https://assets.coingecko.com/coins/images/1465...</td>\n",
              "      <td>NaN</td>\n",
              "      <td>NaN</td>\n",
              "      <td>None</td>\n",
              "      <td>NaN</td>\n",
              "      <td>0.000000e+00</td>\n",
              "      <td>NaN</td>\n",
              "      <td>NaN</td>\n",
              "      <td>NaN</td>\n",
              "      <td>NaN</td>\n",
              "      <td>NaN</td>\n",
              "      <td>NaN</td>\n",
              "      <td>NaN</td>\n",
              "      <td>1.000000e+07</td>\n",
              "      <td>10000000.0</td>\n",
              "      <td>NaN</td>\n",
              "      <td>0.00000</td>\n",
              "      <td>None</td>\n",
              "      <td>NaN</td>\n",
              "      <td>0.000000e+00</td>\n",
              "      <td>None</td>\n",
              "      <td>None</td>\n",
              "      <td>2021-04-18T19:51:45.119Z</td>\n",
              "    </tr>\n",
              "  </tbody>\n",
              "</table>\n",
              "<p>6748 rows × 27 columns</p>\n",
              "</div>"
            ],
            "text/plain": [
              "      index  ...              last_updated\n",
              "0         0  ...  2021-04-18T23:31:31.131Z\n",
              "1         1  ...  2021-04-18T23:30:19.827Z\n",
              "2         2  ...  2021-04-18T23:30:40.326Z\n",
              "3         3  ...  2021-04-18T23:31:24.707Z\n",
              "4         4  ...  2021-04-18T23:06:57.015Z\n",
              "...     ...  ...                       ...\n",
              "6743    243  ...                      None\n",
              "6744    244  ...  2021-03-14T02:49:13.557Z\n",
              "6745    245  ...                      None\n",
              "6746    246  ...                      None\n",
              "6747    247  ...  2021-04-18T19:51:45.119Z\n",
              "\n",
              "[6748 rows x 27 columns]"
            ]
          },
          "metadata": {
            "tags": []
          },
          "execution_count": 6
        }
      ]
    },
    {
      "cell_type": "code",
      "metadata": {
        "colab": {
          "base_uri": "https://localhost:8080/"
        },
        "id": "rkvE9aSrLTih",
        "outputId": "c6792234-0808-4342-f0f1-0e761f340cda"
      },
      "source": [
        "len(marketsDf)"
      ],
      "execution_count": 7,
      "outputs": [
        {
          "output_type": "execute_result",
          "data": {
            "text/plain": [
              "6748"
            ]
          },
          "metadata": {
            "tags": []
          },
          "execution_count": 7
        }
      ]
    },
    {
      "cell_type": "code",
      "metadata": {
        "colab": {
          "base_uri": "https://localhost:8080/"
        },
        "id": "AtwOo4HESODr",
        "outputId": "8245cad0-346e-45b9-80ec-963916b8a119"
      },
      "source": [
        "btcSupply=marketsDf[marketsDf.symbol==\"btc\"].circulating_supply[0]\n",
        "btcSupply"
      ],
      "execution_count": 8,
      "outputs": [
        {
          "output_type": "execute_result",
          "data": {
            "text/plain": [
              "18685856.0"
            ]
          },
          "metadata": {
            "tags": []
          },
          "execution_count": 8
        }
      ]
    },
    {
      "cell_type": "code",
      "metadata": {
        "id": "toDkeqS3S-GH"
      },
      "source": [
        "marketsDf[\"btc_relative_val\"]=marketsDf.circulating_supply/btcSupply*marketsDf.current_price"
      ],
      "execution_count": 9,
      "outputs": []
    },
    {
      "cell_type": "code",
      "metadata": {
        "id": "8_XD1IAhTqPg"
      },
      "source": [
        "marketsDf.sort_values(by=[\"btc_relative_val\"], ascending=[0], inplace=True)"
      ],
      "execution_count": 10,
      "outputs": []
    },
    {
      "cell_type": "code",
      "metadata": {
        "colab": {
          "base_uri": "https://localhost:8080/",
          "height": 419
        },
        "id": "kd_O1W1xUoYh",
        "outputId": "30faaee7-7e0e-410c-9510-d8e3ad8e5d27"
      },
      "source": [
        "marketsDf[[\"symbol\",\"btc_relative_val\",\"current_price\", \"circulating_supply\",\"market_cap\"]][(marketsDf[\"btc_relative_val\"]<20) & (marketsDf[\"btc_relative_val\"]>10)]"
      ],
      "execution_count": 11,
      "outputs": [
        {
          "output_type": "execute_result",
          "data": {
            "text/html": [
              "<div>\n",
              "<style scoped>\n",
              "    .dataframe tbody tr th:only-of-type {\n",
              "        vertical-align: middle;\n",
              "    }\n",
              "\n",
              "    .dataframe tbody tr th {\n",
              "        vertical-align: top;\n",
              "    }\n",
              "\n",
              "    .dataframe thead th {\n",
              "        text-align: right;\n",
              "    }\n",
              "</style>\n",
              "<table border=\"1\" class=\"dataframe\">\n",
              "  <thead>\n",
              "    <tr style=\"text-align: right;\">\n",
              "      <th></th>\n",
              "      <th>symbol</th>\n",
              "      <th>btc_relative_val</th>\n",
              "      <th>current_price</th>\n",
              "      <th>circulating_supply</th>\n",
              "      <th>market_cap</th>\n",
              "    </tr>\n",
              "  </thead>\n",
              "  <tbody>\n",
              "    <tr>\n",
              "      <th>170</th>\n",
              "      <td>axs</td>\n",
              "      <td>19.636589</td>\n",
              "      <td>6.640000</td>\n",
              "      <td>5.526001e+07</td>\n",
              "      <td>369226317.0</td>\n",
              "    </tr>\n",
              "    <tr>\n",
              "      <th>169</th>\n",
              "      <td>kmd</td>\n",
              "      <td>19.588290</td>\n",
              "      <td>2.920000</td>\n",
              "      <td>1.253507e+08</td>\n",
              "      <td>369390799.0</td>\n",
              "    </tr>\n",
              "    <tr>\n",
              "      <th>172</th>\n",
              "      <td>btm</td>\n",
              "      <td>19.545591</td>\n",
              "      <td>0.218573</td>\n",
              "      <td>1.670957e+09</td>\n",
              "      <td>365298750.0</td>\n",
              "    </tr>\n",
              "    <tr>\n",
              "      <th>171</th>\n",
              "      <td>alpha</td>\n",
              "      <td>19.545448</td>\n",
              "      <td>1.460000</td>\n",
              "      <td>2.501530e+08</td>\n",
              "      <td>366056044.0</td>\n",
              "    </tr>\n",
              "    <tr>\n",
              "      <th>173</th>\n",
              "      <td>kin</td>\n",
              "      <td>19.491215</td>\n",
              "      <td>0.000233</td>\n",
              "      <td>1.561056e+12</td>\n",
              "      <td>362359138.0</td>\n",
              "    </tr>\n",
              "    <tr>\n",
              "      <th>...</th>\n",
              "      <td>...</td>\n",
              "      <td>...</td>\n",
              "      <td>...</td>\n",
              "      <td>...</td>\n",
              "      <td>...</td>\n",
              "    </tr>\n",
              "    <tr>\n",
              "      <th>261</th>\n",
              "      <td>powr</td>\n",
              "      <td>10.332989</td>\n",
              "      <td>0.449325</td>\n",
              "      <td>4.297129e+08</td>\n",
              "      <td>193070568.0</td>\n",
              "    </tr>\n",
              "    <tr>\n",
              "      <th>263</th>\n",
              "      <td>ern</td>\n",
              "      <td>10.245348</td>\n",
              "      <td>22.150000</td>\n",
              "      <td>8.643029e+06</td>\n",
              "      <td>191556355.0</td>\n",
              "    </tr>\n",
              "    <tr>\n",
              "      <th>264</th>\n",
              "      <td>prq</td>\n",
              "      <td>10.130699</td>\n",
              "      <td>1.810000</td>\n",
              "      <td>1.045861e+08</td>\n",
              "      <td>190064143.0</td>\n",
              "    </tr>\n",
              "    <tr>\n",
              "      <th>265</th>\n",
              "      <td>iris</td>\n",
              "      <td>10.083412</td>\n",
              "      <td>0.192657</td>\n",
              "      <td>9.779929e+08</td>\n",
              "      <td>188543190.0</td>\n",
              "    </tr>\n",
              "    <tr>\n",
              "      <th>266</th>\n",
              "      <td>lyxe</td>\n",
              "      <td>10.070134</td>\n",
              "      <td>12.590000</td>\n",
              "      <td>1.494592e+07</td>\n",
              "      <td>188284813.0</td>\n",
              "    </tr>\n",
              "  </tbody>\n",
              "</table>\n",
              "<p>98 rows × 5 columns</p>\n",
              "</div>"
            ],
            "text/plain": [
              "    symbol  btc_relative_val  current_price  circulating_supply   market_cap\n",
              "170    axs         19.636589       6.640000        5.526001e+07  369226317.0\n",
              "169    kmd         19.588290       2.920000        1.253507e+08  369390799.0\n",
              "172    btm         19.545591       0.218573        1.670957e+09  365298750.0\n",
              "171  alpha         19.545448       1.460000        2.501530e+08  366056044.0\n",
              "173    kin         19.491215       0.000233        1.561056e+12  362359138.0\n",
              "..     ...               ...            ...                 ...          ...\n",
              "261   powr         10.332989       0.449325        4.297129e+08  193070568.0\n",
              "263    ern         10.245348      22.150000        8.643029e+06  191556355.0\n",
              "264    prq         10.130699       1.810000        1.045861e+08  190064143.0\n",
              "265   iris         10.083412       0.192657        9.779929e+08  188543190.0\n",
              "266   lyxe         10.070134      12.590000        1.494592e+07  188284813.0\n",
              "\n",
              "[98 rows x 5 columns]"
            ]
          },
          "metadata": {
            "tags": []
          },
          "execution_count": 11
        }
      ]
    },
    {
      "cell_type": "code",
      "metadata": {
        "id": "X1GSrFXxX1mG"
      },
      "source": [
        "mmDf=createDf(url=\"https://api.coingecko.com/api/v3/exchanges/binance/tickers?\",pages=10)"
      ],
      "execution_count": 12,
      "outputs": []
    },
    {
      "cell_type": "code",
      "metadata": {
        "id": "dZqRQLGYcyFe"
      },
      "source": [
        "import pandas as pd\n",
        "binanceDf=pd.DataFrame([ row for row in mmDf.tickers])[[\"coin_id\",\"last\"]]\n"
      ],
      "execution_count": 13,
      "outputs": []
    },
    {
      "cell_type": "code",
      "metadata": {
        "colab": {
          "base_uri": "https://localhost:8080/",
          "height": 542
        },
        "id": "SvQq86DidYay",
        "outputId": "9b1f34eb-58a8-419b-a189-ea92311c9c66"
      },
      "source": [
        "import plotly.express as px\n",
        "fig = px.bar(marketsDf.head(200), x='symbol', y='btc_relative_val')\n",
        "fig.show()"
      ],
      "execution_count": 14,
      "outputs": [
        {
          "output_type": "display_data",
          "data": {
            "text/html": [
              "<html>\n",
              "<head><meta charset=\"utf-8\" /></head>\n",
              "<body>\n",
              "    <div>\n",
              "            <script src=\"https://cdnjs.cloudflare.com/ajax/libs/mathjax/2.7.5/MathJax.js?config=TeX-AMS-MML_SVG\"></script><script type=\"text/javascript\">if (window.MathJax) {MathJax.Hub.Config({SVG: {font: \"STIX-Web\"}});}</script>\n",
              "                <script type=\"text/javascript\">window.PlotlyConfig = {MathJaxConfig: 'local'};</script>\n",
              "        <script src=\"https://cdn.plot.ly/plotly-latest.min.js\"></script>    \n",
              "            <div id=\"b84111c5-4408-4b73-9acf-83a658eb026c\" class=\"plotly-graph-div\" style=\"height:525px; width:100%;\"></div>\n",
              "            <script type=\"text/javascript\">\n",
              "                \n",
              "                    window.PLOTLYENV=window.PLOTLYENV || {};\n",
              "                    \n",
              "                if (document.getElementById(\"b84111c5-4408-4b73-9acf-83a658eb026c\")) {\n",
              "                    Plotly.newPlot(\n",
              "                        'b84111c5-4408-4b73-9acf-83a658eb026c',\n",
              "                        [{\"alignmentgroup\": \"True\", \"hoverlabel\": {\"namelength\": 0}, \"hovertemplate\": \"symbol=%{x}<br>btc_relative_val=%{y}\", \"legendgroup\": \"\", \"marker\": {\"color\": \"#636efa\"}, \"name\": \"\", \"offsetgroup\": \"\", \"orientation\": \"v\", \"showlegend\": false, \"textposition\": \"auto\", \"type\": \"bar\", \"x\": [\"btc\", \"eth\", \"bnb\", \"xrp\", \"usdt\", \"doge\", \"ada\", \"dot\", \"ltc\", \"bch\", \"vet\", \"uni\", \"link\", \"usdc\", \"xlm\", \"theta\", \"fil\", \"trx\", \"sol\", \"wbtc\", \"neo\", \"eos\", \"klay\", \"miota\", \"busd\", \"bsv\", \"xmr\", \"cro\", \"btt\", \"atom\", \"luna\", \"etc\", \"xtz\", \"aave\", \"okb\", \"ftt\", \"algo\", \"ceth\", \"xem\", \"rune\", \"AVAX\", \"ksm\", \"cdai\", \"cusdc\", \"cake\", \"dai\", \"egld\", \"dash\", \"ht\", \"hot\", \"chz\", \"mkr\", \"dcr\", \"zec\", \"snx\", \"hbar\", \"enj\", \"sc\", \"comp\", \"cel\", \"zil\", \"amp\", \"sushi\", \"stx\", \"grt\", \"leo\", \"nexo\", \"bat\", \"dgb\", \"matic\", \"yfi\", \"uma\", \"mana\", \"near\", \"ust\", \"qtum\", \"ont\", \"rvn\", \"btg\", \"nano\", \"hbtc\", \"iost\", \"fei\", \"icx\", \"zrx\", \"waves\", \"wrx\", \"xdc\", \"hnt\", \"bnt\", \"ankr\", \"rsr\", \"lusd\", \"omi\", \"one\", \"zen\", \"flow\", \"omg\", \"win\", \"pax\", \"ftm\", \"ar\", \"kcs\", \"dent\", \"SNT\", \"npxs\", \"chsb\", \"xvg\", \"vgx\", \"crv\", \"husd\", \"pundix\", \"xsushi\", \"bot\", \"ren\", \"btmx\", \"1inch\", \"lsk\", \"lrc\", \"vtho\", \"xvs\", \"bcha\", \"renbtc\", \"ckb\", \"lpt\", \"bal\", \"knc\", \"ocean\", \"cusdt\", \"ewt\", \"nxm\", \"arrr\", \"zks\", \"gt\", \"oxy\", \"qnt\", \"stmx\", \"bcd\", \"steth\", \"btcst\", \"reef\", \"maid\", \"glm\", \"band\", \"ton\", \"etn\", \"tlm\", \"skl\", \"tribe\", \"ardr\", \"mir\", \"dodo\", \"nkn\", \"med\", \"woo\", \"nmr\", \"agi\", \"celo\", \"orbs\", \"ogn\", \"hbc\", \"tel\", \"steem\", \"fun\", \"sand\", \"mdx\", \"waxp\", \"cvc\", \"fet\", \"axs\", \"kmd\", \"btm\", \"alpha\", \"kin\", \"vlx\", \"orn\", \"cuni\", \"sxp\", \"ampl\", \"celr\", \"xhv\", \"audio\", \"ark\", \"tusd\", \"bts\", \"kava\", \"ubt\", \"rfox\", \"badger\", \"wan\", \"htr\", \"poly\", \"srm\", \"ant\", \"paid\", \"alcx\", \"seth\", \"iq\", \"storj\", \"vra\"], \"xaxis\": \"x\", \"y\": [56349.0, 13826.170968862622, 3944.9968269764036, 3493.664493589162, 2578.8056752298316, 2247.8561449753006, 2194.795737967253, 1976.3182594065483, 984.253825314696, 967.9688935638144, 901.1513980657352, 887.208598178854, 881.7131214701396, 675.3318659295841, 669.8571072262414, 633.634338186059, 563.9701024068686, 550.1956560675505, 466.6045530322865, 463.447842057045, 428.14297081171986, 363.1661685253407, 360.092017815186, 343.6136377360303, 343.0659019292403, 333.2972280924287, 324.1785082004655, 307.2022903386024, 301.5726804351267, 275.3424295006803, 274.2064914497389, 255.7292936798703, 255.2686590732827, 254.05129384139474, 247.8750427140935, 236.84035459960126, 221.39008625666128, 217.9878653116361, 209.4459573896506, 199.66518792992036, 199.53022226296994, 196.0200486650941, 193.0489620007877, 185.197865946909, 184.35698672360854, 183.22870919110468, 177.8774122630507, 169.83469115178173, 166.5163996091257, 164.7549384763262, 158.95640197744112, 156.5188456319521, 154.20148922769, 150.45318340387638, 145.86479286818644, 135.78203670884008, 134.50301691154593, 131.41015624063465, 131.1536342852927, 130.0536422454831, 129.9788111023227, 121.7299854009747, 112.26782996004583, 112.09533610655366, 111.44788039680923, 110.60945857786767, 106.69032425502927, 106.28953075672925, 101.79457820010256, 101.37787587276173, 101.00350277694959, 100.63566968370466, 97.31958974753327, 97.09676707987046, 96.69497841858157, 96.3296058922856, 93.6101220388298, 89.72086097366906, 89.40736835176295, 88.92320353426678, 84.11255228913767, 80.82916242958512, 80.6727968808497, 74.88087044553903, 74.03136130033066, 72.8358390431779, 71.71486355027032, 70.18549256122556, 68.11206916811216, 67.07440992631564, 66.59314670950543, 66.09654009235649, 66.06204332795029, 65.95344270353351, 65.48348004575153, 65.42309954585437, 63.19679476119264, 62.220020931990085, 58.15698349589026, 57.414732422593154, 57.37519938904196, 57.08678634256841, 56.94170780187967, 51.16995215660947, 50.56338830705134, 49.960433093795665, 49.86823042011806, 49.85217828655469, 49.489200081171795, 48.384419869797476, 47.324317839476244, 47.03405434509083, 46.14713977450704, 45.866305601253046, 45.326773820013045, 44.980163805271744, 44.321761369617725, 43.542654669927884, 41.59740501564221, 41.06526521299858, 37.09052514000889, 36.44596727544096, 36.34970143182194, 35.47465740345157, 34.92060867864492, 33.23903679767984, 32.96019635424011, 32.83117695789005, 32.71394899936777, 32.16060164187779, 31.758928087580315, 31.718667346252392, 31.264824046594388, 29.795539836760405, 29.023489048272662, 27.9914133204398, 27.882106263306316, 27.590381751378466, 26.47356458848204, 26.46582079988522, 25.966664789101873, 25.914310847734246, 25.533216139522857, 25.06222948523204, 24.959355384851897, 23.951147574698318, 23.841351381150858, 23.740476275597867, 23.219591852806033, 23.007478901462957, 22.887894159626807, 22.885196955223666, 22.804719248612425, 22.73112917657077, 22.544190820353617, 22.28001630044757, 22.204290343216744, 22.199907298868194, 21.98901457512655, 21.850913033826227, 21.613304522950408, 21.54617682916992, 21.015091831866307, 20.850832988639404, 20.785174097679693, 20.664506747108323, 20.586322979750644, 20.375923372201946, 20.075842528890274, 19.63658857266159, 19.588289990162828, 19.545591393741873, 19.54544823100424, 19.491215083918895, 19.27815503117652, 19.2188230499047, 19.07083278475294, 18.93026921471107, 18.451340691733513, 18.33115553321997, 18.052574171426222, 17.97628875358667, 17.779735868669867, 17.710759502624796, 17.696036645829004, 17.194704975784894, 17.098494176557924, 16.98016435075884, 16.906711800227203, 16.903576909969807, 16.708924728950066, 16.68071874576074, 16.590088246425534, 16.40677719182265, 16.34538849916653, 16.271228001840644, 16.080942715727357, 15.891533793554066, 15.697775630294911, 15.562449793085491], \"yaxis\": \"y\"}],\n",
              "                        {\"barmode\": \"relative\", \"legend\": {\"tracegroupgap\": 0}, \"margin\": {\"t\": 60}, \"template\": {\"data\": {\"bar\": [{\"error_x\": {\"color\": \"#2a3f5f\"}, \"error_y\": {\"color\": \"#2a3f5f\"}, \"marker\": {\"line\": {\"color\": \"#E5ECF6\", \"width\": 0.5}}, \"type\": \"bar\"}], \"barpolar\": [{\"marker\": {\"line\": {\"color\": \"#E5ECF6\", \"width\": 0.5}}, \"type\": \"barpolar\"}], \"carpet\": [{\"aaxis\": {\"endlinecolor\": \"#2a3f5f\", \"gridcolor\": \"white\", \"linecolor\": \"white\", \"minorgridcolor\": \"white\", \"startlinecolor\": \"#2a3f5f\"}, \"baxis\": {\"endlinecolor\": \"#2a3f5f\", \"gridcolor\": \"white\", \"linecolor\": \"white\", \"minorgridcolor\": \"white\", \"startlinecolor\": \"#2a3f5f\"}, \"type\": \"carpet\"}], \"choropleth\": [{\"colorbar\": {\"outlinewidth\": 0, \"ticks\": \"\"}, \"type\": \"choropleth\"}], \"contour\": [{\"colorbar\": {\"outlinewidth\": 0, \"ticks\": \"\"}, \"colorscale\": [[0.0, \"#0d0887\"], [0.1111111111111111, \"#46039f\"], [0.2222222222222222, \"#7201a8\"], [0.3333333333333333, \"#9c179e\"], [0.4444444444444444, \"#bd3786\"], [0.5555555555555556, \"#d8576b\"], [0.6666666666666666, \"#ed7953\"], [0.7777777777777778, \"#fb9f3a\"], [0.8888888888888888, \"#fdca26\"], [1.0, \"#f0f921\"]], \"type\": \"contour\"}], \"contourcarpet\": [{\"colorbar\": {\"outlinewidth\": 0, \"ticks\": \"\"}, \"type\": \"contourcarpet\"}], \"heatmap\": [{\"colorbar\": {\"outlinewidth\": 0, \"ticks\": \"\"}, \"colorscale\": [[0.0, \"#0d0887\"], [0.1111111111111111, \"#46039f\"], [0.2222222222222222, \"#7201a8\"], [0.3333333333333333, \"#9c179e\"], [0.4444444444444444, \"#bd3786\"], [0.5555555555555556, \"#d8576b\"], [0.6666666666666666, \"#ed7953\"], [0.7777777777777778, \"#fb9f3a\"], [0.8888888888888888, \"#fdca26\"], [1.0, \"#f0f921\"]], \"type\": \"heatmap\"}], \"heatmapgl\": [{\"colorbar\": {\"outlinewidth\": 0, \"ticks\": \"\"}, \"colorscale\": [[0.0, \"#0d0887\"], [0.1111111111111111, \"#46039f\"], [0.2222222222222222, \"#7201a8\"], [0.3333333333333333, \"#9c179e\"], [0.4444444444444444, \"#bd3786\"], [0.5555555555555556, \"#d8576b\"], [0.6666666666666666, \"#ed7953\"], [0.7777777777777778, \"#fb9f3a\"], [0.8888888888888888, \"#fdca26\"], [1.0, \"#f0f921\"]], \"type\": \"heatmapgl\"}], \"histogram\": [{\"marker\": {\"colorbar\": {\"outlinewidth\": 0, \"ticks\": \"\"}}, \"type\": \"histogram\"}], \"histogram2d\": [{\"colorbar\": {\"outlinewidth\": 0, \"ticks\": \"\"}, \"colorscale\": [[0.0, \"#0d0887\"], [0.1111111111111111, \"#46039f\"], [0.2222222222222222, \"#7201a8\"], [0.3333333333333333, \"#9c179e\"], [0.4444444444444444, \"#bd3786\"], [0.5555555555555556, \"#d8576b\"], [0.6666666666666666, \"#ed7953\"], [0.7777777777777778, \"#fb9f3a\"], [0.8888888888888888, \"#fdca26\"], [1.0, \"#f0f921\"]], \"type\": \"histogram2d\"}], \"histogram2dcontour\": [{\"colorbar\": {\"outlinewidth\": 0, \"ticks\": \"\"}, \"colorscale\": [[0.0, \"#0d0887\"], [0.1111111111111111, \"#46039f\"], [0.2222222222222222, \"#7201a8\"], [0.3333333333333333, \"#9c179e\"], [0.4444444444444444, \"#bd3786\"], [0.5555555555555556, \"#d8576b\"], [0.6666666666666666, \"#ed7953\"], [0.7777777777777778, \"#fb9f3a\"], [0.8888888888888888, \"#fdca26\"], [1.0, \"#f0f921\"]], \"type\": \"histogram2dcontour\"}], \"mesh3d\": [{\"colorbar\": {\"outlinewidth\": 0, \"ticks\": \"\"}, \"type\": \"mesh3d\"}], \"parcoords\": [{\"line\": {\"colorbar\": {\"outlinewidth\": 0, \"ticks\": \"\"}}, \"type\": \"parcoords\"}], \"pie\": [{\"automargin\": true, \"type\": \"pie\"}], \"scatter\": [{\"marker\": {\"colorbar\": {\"outlinewidth\": 0, \"ticks\": \"\"}}, \"type\": \"scatter\"}], \"scatter3d\": [{\"line\": {\"colorbar\": {\"outlinewidth\": 0, \"ticks\": \"\"}}, \"marker\": {\"colorbar\": {\"outlinewidth\": 0, \"ticks\": \"\"}}, \"type\": \"scatter3d\"}], \"scattercarpet\": [{\"marker\": {\"colorbar\": {\"outlinewidth\": 0, \"ticks\": \"\"}}, \"type\": \"scattercarpet\"}], \"scattergeo\": [{\"marker\": {\"colorbar\": {\"outlinewidth\": 0, \"ticks\": \"\"}}, \"type\": \"scattergeo\"}], \"scattergl\": [{\"marker\": {\"colorbar\": {\"outlinewidth\": 0, \"ticks\": \"\"}}, \"type\": \"scattergl\"}], \"scattermapbox\": [{\"marker\": {\"colorbar\": {\"outlinewidth\": 0, \"ticks\": \"\"}}, \"type\": \"scattermapbox\"}], \"scatterpolar\": [{\"marker\": {\"colorbar\": {\"outlinewidth\": 0, \"ticks\": \"\"}}, \"type\": \"scatterpolar\"}], \"scatterpolargl\": [{\"marker\": {\"colorbar\": {\"outlinewidth\": 0, \"ticks\": \"\"}}, \"type\": \"scatterpolargl\"}], \"scatterternary\": [{\"marker\": {\"colorbar\": {\"outlinewidth\": 0, \"ticks\": \"\"}}, \"type\": \"scatterternary\"}], \"surface\": [{\"colorbar\": {\"outlinewidth\": 0, \"ticks\": \"\"}, \"colorscale\": [[0.0, \"#0d0887\"], [0.1111111111111111, \"#46039f\"], [0.2222222222222222, \"#7201a8\"], [0.3333333333333333, \"#9c179e\"], [0.4444444444444444, \"#bd3786\"], [0.5555555555555556, \"#d8576b\"], [0.6666666666666666, \"#ed7953\"], [0.7777777777777778, \"#fb9f3a\"], [0.8888888888888888, \"#fdca26\"], [1.0, \"#f0f921\"]], \"type\": \"surface\"}], \"table\": [{\"cells\": {\"fill\": {\"color\": \"#EBF0F8\"}, \"line\": {\"color\": \"white\"}}, \"header\": {\"fill\": {\"color\": \"#C8D4E3\"}, \"line\": {\"color\": \"white\"}}, \"type\": \"table\"}]}, \"layout\": {\"annotationdefaults\": {\"arrowcolor\": \"#2a3f5f\", \"arrowhead\": 0, \"arrowwidth\": 1}, \"coloraxis\": {\"colorbar\": {\"outlinewidth\": 0, \"ticks\": \"\"}}, \"colorscale\": {\"diverging\": [[0, \"#8e0152\"], [0.1, \"#c51b7d\"], [0.2, \"#de77ae\"], [0.3, \"#f1b6da\"], [0.4, \"#fde0ef\"], [0.5, \"#f7f7f7\"], [0.6, \"#e6f5d0\"], [0.7, \"#b8e186\"], [0.8, \"#7fbc41\"], [0.9, \"#4d9221\"], [1, \"#276419\"]], \"sequential\": [[0.0, \"#0d0887\"], [0.1111111111111111, \"#46039f\"], [0.2222222222222222, \"#7201a8\"], [0.3333333333333333, \"#9c179e\"], [0.4444444444444444, \"#bd3786\"], [0.5555555555555556, \"#d8576b\"], [0.6666666666666666, \"#ed7953\"], [0.7777777777777778, \"#fb9f3a\"], [0.8888888888888888, \"#fdca26\"], [1.0, \"#f0f921\"]], \"sequentialminus\": [[0.0, \"#0d0887\"], [0.1111111111111111, \"#46039f\"], [0.2222222222222222, \"#7201a8\"], [0.3333333333333333, \"#9c179e\"], [0.4444444444444444, \"#bd3786\"], [0.5555555555555556, \"#d8576b\"], [0.6666666666666666, \"#ed7953\"], [0.7777777777777778, \"#fb9f3a\"], [0.8888888888888888, \"#fdca26\"], [1.0, \"#f0f921\"]]}, \"colorway\": [\"#636efa\", \"#EF553B\", \"#00cc96\", \"#ab63fa\", \"#FFA15A\", \"#19d3f3\", \"#FF6692\", \"#B6E880\", \"#FF97FF\", \"#FECB52\"], \"font\": {\"color\": \"#2a3f5f\"}, \"geo\": {\"bgcolor\": \"white\", \"lakecolor\": \"white\", \"landcolor\": \"#E5ECF6\", \"showlakes\": true, \"showland\": true, \"subunitcolor\": \"white\"}, \"hoverlabel\": {\"align\": \"left\"}, \"hovermode\": \"closest\", \"mapbox\": {\"style\": \"light\"}, \"paper_bgcolor\": \"white\", \"plot_bgcolor\": \"#E5ECF6\", \"polar\": {\"angularaxis\": {\"gridcolor\": \"white\", \"linecolor\": \"white\", \"ticks\": \"\"}, \"bgcolor\": \"#E5ECF6\", \"radialaxis\": {\"gridcolor\": \"white\", \"linecolor\": \"white\", \"ticks\": \"\"}}, \"scene\": {\"xaxis\": {\"backgroundcolor\": \"#E5ECF6\", \"gridcolor\": \"white\", \"gridwidth\": 2, \"linecolor\": \"white\", \"showbackground\": true, \"ticks\": \"\", \"zerolinecolor\": \"white\"}, \"yaxis\": {\"backgroundcolor\": \"#E5ECF6\", \"gridcolor\": \"white\", \"gridwidth\": 2, \"linecolor\": \"white\", \"showbackground\": true, \"ticks\": \"\", \"zerolinecolor\": \"white\"}, \"zaxis\": {\"backgroundcolor\": \"#E5ECF6\", \"gridcolor\": \"white\", \"gridwidth\": 2, \"linecolor\": \"white\", \"showbackground\": true, \"ticks\": \"\", \"zerolinecolor\": \"white\"}}, \"shapedefaults\": {\"line\": {\"color\": \"#2a3f5f\"}}, \"ternary\": {\"aaxis\": {\"gridcolor\": \"white\", \"linecolor\": \"white\", \"ticks\": \"\"}, \"baxis\": {\"gridcolor\": \"white\", \"linecolor\": \"white\", \"ticks\": \"\"}, \"bgcolor\": \"#E5ECF6\", \"caxis\": {\"gridcolor\": \"white\", \"linecolor\": \"white\", \"ticks\": \"\"}}, \"title\": {\"x\": 0.05}, \"xaxis\": {\"automargin\": true, \"gridcolor\": \"white\", \"linecolor\": \"white\", \"ticks\": \"\", \"title\": {\"standoff\": 15}, \"zerolinecolor\": \"white\", \"zerolinewidth\": 2}, \"yaxis\": {\"automargin\": true, \"gridcolor\": \"white\", \"linecolor\": \"white\", \"ticks\": \"\", \"title\": {\"standoff\": 15}, \"zerolinecolor\": \"white\", \"zerolinewidth\": 2}}}, \"xaxis\": {\"anchor\": \"y\", \"domain\": [0.0, 1.0], \"title\": {\"text\": \"symbol\"}}, \"yaxis\": {\"anchor\": \"x\", \"domain\": [0.0, 1.0], \"title\": {\"text\": \"btc_relative_val\"}}},\n",
              "                        {\"responsive\": true}\n",
              "                    ).then(function(){\n",
              "                            \n",
              "var gd = document.getElementById('b84111c5-4408-4b73-9acf-83a658eb026c');\n",
              "var x = new MutationObserver(function (mutations, observer) {{\n",
              "        var display = window.getComputedStyle(gd).display;\n",
              "        if (!display || display === 'none') {{\n",
              "            console.log([gd, 'removed!']);\n",
              "            Plotly.purge(gd);\n",
              "            observer.disconnect();\n",
              "        }}\n",
              "}});\n",
              "\n",
              "// Listen for the removal of the full notebook cells\n",
              "var notebookContainer = gd.closest('#notebook-container');\n",
              "if (notebookContainer) {{\n",
              "    x.observe(notebookContainer, {childList: true});\n",
              "}}\n",
              "\n",
              "// Listen for the clearing of the current output cell\n",
              "var outputEl = gd.closest('.output');\n",
              "if (outputEl) {{\n",
              "    x.observe(outputEl, {childList: true});\n",
              "}}\n",
              "\n",
              "                        })\n",
              "                };\n",
              "                \n",
              "            </script>\n",
              "        </div>\n",
              "</body>\n",
              "</html>"
            ]
          },
          "metadata": {
            "tags": []
          }
        }
      ]
    },
    {
      "cell_type": "markdown",
      "metadata": {
        "id": "AH4Llr_D5vNp"
      },
      "source": [
        "find coins that have not spiked historically beyond a certain threshold"
      ]
    },
    {
      "cell_type": "code",
      "metadata": {
        "id": "I-EY4Y-S3l2a"
      },
      "source": [
        "def getUnixTime(dt):\n",
        "  import time\n",
        "  import datetime\n",
        "  if(dt is None):\n",
        "    return int(time.time())\n",
        "  else:\n",
        "    d = datetime.date(dt[0],dt[1],dt[2])\n",
        "    return int(time.mktime(d.timetuple()))"
      ],
      "execution_count": 15,
      "outputs": []
    },
    {
      "cell_type": "code",
      "metadata": {
        "id": "hbgy6Ben9o8Z"
      },
      "source": [
        "def getDate(timestamp):\n",
        "  from datetime import datetime\n",
        "  #try:\n",
        "  return datetime.utcfromtimestamp(timestamp)\n",
        "  #except ValueError:\n",
        "  #  return int(timestamp)\n"
      ],
      "execution_count": 16,
      "outputs": []
    },
    {
      "cell_type": "code",
      "metadata": {
        "colab": {
          "base_uri": "https://localhost:8080/"
        },
        "id": "p2zqTpQq5soI",
        "outputId": "923f1c94-9300-4906-ddca-50afa62a6947"
      },
      "source": [
        "(getUnixTime([2015,1,1]),getUnixTime(None))"
      ],
      "execution_count": 17,
      "outputs": [
        {
          "output_type": "execute_result",
          "data": {
            "text/plain": [
              "(1420070400, 1618788792)"
            ]
          },
          "metadata": {
            "tags": []
          },
          "execution_count": 17
        }
      ]
    },
    {
      "cell_type": "code",
      "metadata": {
        "colab": {
          "base_uri": "https://localhost:8080/"
        },
        "id": "gbGmewtp97I_",
        "outputId": "ba4db384-fa30-41fc-c9a7-84cb94f8aa5b"
      },
      "source": [
        "getDate(1618547586)"
      ],
      "execution_count": 18,
      "outputs": [
        {
          "output_type": "execute_result",
          "data": {
            "text/plain": [
              "datetime.datetime(2021, 4, 16, 4, 33, 6)"
            ]
          },
          "metadata": {
            "tags": []
          },
          "execution_count": 18
        }
      ]
    },
    {
      "cell_type": "code",
      "metadata": {
        "id": "SpNt-4Ux6X0-"
      },
      "source": [
        "def getHistory(coin=\"bitcoin\",fromUnixTime=1420070400, toUnixTime=getUnixTime(None)):\n",
        "  import pandas as pd\n",
        "  apiurl=\"https://api.coingecko.com/api/v3/coins/\"+coin+\"/market_chart/range?vs_currency=usd&from=\"+str(fromUnixTime)+\"&to=\"+str(toUnixTime)\n",
        "  coinData=readJsonLink(apiurl)\n",
        "  coinDf=pd.DataFrame(coinData[\"prices\"], columns=[\"unixtime\",\"price\"])\n",
        "  coinDf[\"date\"]=coinDf.apply(lambda x : getDate(x[\"unixtime\"]/1000),axis=1)\n",
        "  coinDf=coinDf[[\"date\",\"price\"]]\n",
        "  import plotly.express as px\n",
        "  fig = px.line(coinDf, x=\"date\", y=\"price\", title=coin)\n",
        "  fig.show()\n",
        "  return coinDf\n",
        "  #return coinDf"
      ],
      "execution_count": 21,
      "outputs": []
    },
    {
      "cell_type": "code",
      "metadata": {
        "id": "Wrt1f59dhAaA",
        "colab": {
          "base_uri": "https://localhost:8080/",
          "height": 542
        },
        "outputId": "53df712f-ccf1-4a1e-ea4f-c7d7b26ba0cd"
      },
      "source": [
        "df=getHistory(\"bitcoin\")\n"
      ],
      "execution_count": 76,
      "outputs": [
        {
          "output_type": "display_data",
          "data": {
            "text/html": [
              "<html>\n",
              "<head><meta charset=\"utf-8\" /></head>\n",
              "<body>\n",
              "    <div>\n",
              "            <script src=\"https://cdnjs.cloudflare.com/ajax/libs/mathjax/2.7.5/MathJax.js?config=TeX-AMS-MML_SVG\"></script><script type=\"text/javascript\">if (window.MathJax) {MathJax.Hub.Config({SVG: {font: \"STIX-Web\"}});}</script>\n",
              "                <script type=\"text/javascript\">window.PlotlyConfig = {MathJaxConfig: 'local'};</script>\n",
              "        <script src=\"https://cdn.plot.ly/plotly-latest.min.js\"></script>    \n",
              "            <div id=\"04ed570d-1901-46c3-ab6d-ca67073cb1be\" class=\"plotly-graph-div\" style=\"height:525px; width:100%;\"></div>\n",
              "            <script type=\"text/javascript\">\n",
              "                \n",
              "                    window.PLOTLYENV=window.PLOTLYENV || {};\n",
              "                    \n",
              "                if (document.getElementById(\"04ed570d-1901-46c3-ab6d-ca67073cb1be\")) {\n",
              "                    Plotly.newPlot(\n",
              "                        '04ed570d-1901-46c3-ab6d-ca67073cb1be',\n",
              "                        [{\"hoverlabel\": {\"namelength\": 0}, \"hovertemplate\": \"date=%{x}<br>price=%{y}\", \"legendgroup\": \"\", \"line\": {\"color\": \"#636efa\", \"dash\": \"solid\"}, \"mode\": \"lines\", \"name\": \"\", \"showlegend\": false, \"type\": \"scattergl\", \"x\": [\"2015-01-01T00:00:00\", \"2015-01-02T00:00:00\", \"2015-01-03T00:00:00\", \"2015-01-04T00:00:00\", \"2015-01-05T00:00:00\", \"2015-01-06T00:00:00\", \"2015-01-07T00:00:00\", \"2015-01-08T00:00:00\", \"2015-01-09T00:00:00\", \"2015-01-10T00:00:00\", \"2015-01-11T00:00:00\", \"2015-01-12T00:00:00\", \"2015-01-13T00:00:00\", \"2015-01-14T00:00:00\", \"2015-01-15T00:00:00\", \"2015-01-16T00:00:00\", \"2015-01-17T00:00:00\", \"2015-01-18T00:00:00\", \"2015-01-19T00:00:00\", \"2015-01-20T00:00:00\", \"2015-01-21T00:00:00\", \"2015-01-22T00:00:00\", \"2015-01-23T00:00:00\", \"2015-01-24T00:00:00\", \"2015-01-25T00:00:00\", \"2015-01-26T00:00:00\", \"2015-01-27T00:00:00\", \"2015-01-29T00:00:00\", \"2015-01-30T00:00:00\", \"2015-01-31T00:00:00\", \"2015-02-01T00:00:00\", \"2015-02-02T00:00:00\", \"2015-02-03T00:00:00\", \"2015-02-04T00:00:00\", \"2015-02-05T00:00:00\", \"2015-02-06T00:00:00\", \"2015-02-07T00:00:00\", \"2015-02-08T00:00:00\", \"2015-02-09T00:00:00\", \"2015-02-10T00:00:00\", \"2015-02-11T00:00:00\", \"2015-02-12T00:00:00\", \"2015-02-13T00:00:00\", \"2015-02-14T00:00:00\", \"2015-02-15T00:00:00\", \"2015-02-16T00:00:00\", \"2015-02-17T00:00:00\", \"2015-02-18T00:00:00\", \"2015-02-19T00:00:00\", \"2015-02-20T00:00:00\", \"2015-02-21T00:00:00\", \"2015-02-22T00:00:00\", \"2015-02-23T00:00:00\", \"2015-02-24T00:00:00\", \"2015-02-25T00:00:00\", \"2015-02-26T00:00:00\", \"2015-02-27T00:00:00\", \"2015-02-28T00:00:00\", \"2015-03-01T00:00:00\", \"2015-03-02T00:00:00\", \"2015-03-03T00:00:00\", \"2015-03-04T00:00:00\", \"2015-03-05T00:00:00\", \"2015-03-06T00:00:00\", \"2015-03-07T00:00:00\", \"2015-03-08T00:00:00\", \"2015-03-09T00:00:00\", \"2015-03-10T00:00:00\", \"2015-03-11T00:00:00\", \"2015-03-12T00:00:00\", \"2015-03-13T00:00:00\", \"2015-03-14T00:00:00\", \"2015-03-15T00:00:00\", \"2015-03-16T00:00:00\", \"2015-03-17T00:00:00\", \"2015-03-18T00:00:00\", \"2015-03-19T00:00:00\", \"2015-03-20T00:00:00\", \"2015-03-21T00:00:00\", \"2015-03-22T00:00:00\", \"2015-03-23T00:00:00\", \"2015-03-24T00:00:00\", \"2015-03-25T00:00:00\", \"2015-03-26T00:00:00\", \"2015-03-27T00:00:00\", \"2015-03-28T00:00:00\", \"2015-03-29T00:00:00\", \"2015-03-30T00:00:00\", \"2015-03-31T00:00:00\", \"2015-04-01T00:00:00\", \"2015-04-02T00:00:00\", \"2015-04-03T00:00:00\", \"2015-04-04T00:00:00\", \"2015-04-05T00:00:00\", \"2015-04-06T00:00:00\", \"2015-04-07T00:00:00\", \"2015-04-08T00:00:00\", \"2015-04-09T00:00:00\", \"2015-04-10T00:00:00\", \"2015-04-11T00:00:00\", \"2015-04-12T00:00:00\", \"2015-04-13T00:00:00\", \"2015-04-14T00:00:00\", \"2015-04-15T00:00:00\", \"2015-04-16T00:00:00\", \"2015-04-17T00:00:00\", \"2015-04-18T00:00:00\", \"2015-04-19T00:00:00\", \"2015-04-20T00:00:00\", \"2015-04-21T00:00:00\", \"2015-04-22T00:00:00\", \"2015-04-23T00:00:00\", \"2015-04-24T00:00:00\", \"2015-04-25T00:00:00\", \"2015-04-26T00:00:00\", \"2015-04-27T00:00:00\", \"2015-04-28T00:00:00\", \"2015-04-29T00:00:00\", \"2015-04-30T00:00:00\", \"2015-05-01T00:00:00\", \"2015-05-02T00:00:00\", \"2015-05-03T00:00:00\", \"2015-05-04T00:00:00\", \"2015-05-05T00:00:00\", \"2015-05-06T00:00:00\", \"2015-05-07T00:00:00\", \"2015-05-08T00:00:00\", \"2015-05-09T00:00:00\", \"2015-05-10T00:00:00\", \"2015-05-11T00:00:00\", \"2015-05-12T00:00:00\", \"2015-05-13T00:00:00\", \"2015-05-14T00:00:00\", \"2015-05-15T00:00:00\", \"2015-05-16T00:00:00\", \"2015-05-17T00:00:00\", \"2015-05-18T00:00:00\", \"2015-05-19T00:00:00\", \"2015-05-20T00:00:00\", \"2015-05-21T00:00:00\", \"2015-05-22T00:00:00\", \"2015-05-23T00:00:00\", \"2015-05-24T00:00:00\", \"2015-05-25T00:00:00\", \"2015-05-26T00:00:00\", \"2015-05-27T00:00:00\", \"2015-05-28T00:00:00\", \"2015-05-29T00:00:00\", \"2015-05-30T00:00:00\", \"2015-05-31T00:00:00\", \"2015-06-01T00:00:00\", \"2015-06-02T00:00:00\", \"2015-06-03T00:00:00\", \"2015-06-04T00:00:00\", \"2015-06-05T00:00:00\", \"2015-06-06T00:00:00\", \"2015-06-07T00:00:00\", \"2015-06-08T00:00:00\", \"2015-06-09T00:00:00\", \"2015-06-10T00:00:00\", \"2015-06-11T00:00:00\", \"2015-06-12T00:00:00\", \"2015-06-13T00:00:00\", \"2015-06-14T00:00:00\", \"2015-06-15T00:00:00\", \"2015-06-16T00:00:00\", \"2015-06-17T00:00:00\", \"2015-06-18T00:00:00\", \"2015-06-19T00:00:00\", \"2015-06-20T00:00:00\", \"2015-06-21T00:00:00\", \"2015-06-22T00:00:00\", \"2015-06-23T00:00:00\", \"2015-06-24T00:00:00\", \"2015-06-25T00:00:00\", \"2015-06-26T00:00:00\", \"2015-06-27T00:00:00\", \"2015-06-28T00:00:00\", \"2015-06-29T00:00:00\", \"2015-06-30T00:00:00\", \"2015-07-01T00:00:00\", \"2015-07-02T00:00:00\", \"2015-07-03T00:00:00\", \"2015-07-04T00:00:00\", \"2015-07-05T00:00:00\", \"2015-07-06T00:00:00\", \"2015-07-07T00:00:00\", \"2015-07-08T00:00:00\", \"2015-07-09T00:00:00\", \"2015-07-10T00:00:00\", \"2015-07-11T00:00:00\", \"2015-07-12T00:00:00\", \"2015-07-13T00:00:00\", \"2015-07-14T00:00:00\", \"2015-07-15T00:00:00\", \"2015-07-16T00:00:00\", \"2015-07-17T00:00:00\", \"2015-07-18T00:00:00\", \"2015-07-19T00:00:00\", \"2015-07-20T00:00:00\", \"2015-07-21T00:00:00\", \"2015-07-22T00:00:00\", \"2015-07-23T00:00:00\", \"2015-07-24T00:00:00\", \"2015-07-25T00:00:00\", \"2015-07-26T00:00:00\", \"2015-07-27T00:00:00\", \"2015-07-28T00:00:00\", \"2015-07-29T00:00:00\", \"2015-07-30T00:00:00\", \"2015-07-31T00:00:00\", \"2015-08-01T00:00:00\", \"2015-08-02T00:00:00\", \"2015-08-03T00:00:00\", \"2015-08-04T00:00:00\", \"2015-08-05T00:00:00\", \"2015-08-06T00:00:00\", \"2015-08-07T00:00:00\", \"2015-08-08T00:00:00\", \"2015-08-09T00:00:00\", \"2015-08-10T00:00:00\", \"2015-08-11T00:00:00\", \"2015-08-12T00:00:00\", \"2015-08-13T00:00:00\", \"2015-08-14T00:00:00\", \"2015-08-15T00:00:00\", \"2015-08-16T00:00:00\", \"2015-08-17T00:00:00\", \"2015-08-18T00:00:00\", \"2015-08-19T00:00:00\", \"2015-08-20T00:00:00\", \"2015-08-21T00:00:00\", \"2015-08-22T00:00:00\", \"2015-08-23T00:00:00\", \"2015-08-24T00:00:00\", \"2015-08-25T00:00:00\", \"2015-08-26T00:00:00\", \"2015-08-27T00:00:00\", \"2015-08-28T00:00:00\", \"2015-08-29T00:00:00\", \"2015-08-30T00:00:00\", \"2015-08-31T00:00:00\", \"2015-09-01T00:00:00\", \"2015-09-02T00:00:00\", \"2015-09-03T00:00:00\", \"2015-09-04T00:00:00\", \"2015-09-05T00:00:00\", \"2015-09-06T00:00:00\", \"2015-09-07T00:00:00\", \"2015-09-08T00:00:00\", \"2015-09-09T00:00:00\", \"2015-09-10T00:00:00\", \"2015-09-11T00:00:00\", \"2015-09-12T00:00:00\", \"2015-09-13T00:00:00\", \"2015-09-14T00:00:00\", \"2015-09-15T00:00:00\", \"2015-09-16T00:00:00\", \"2015-09-17T00:00:00\", \"2015-09-18T00:00:00\", \"2015-09-19T00:00:00\", \"2015-09-20T00:00:00\", \"2015-09-21T00:00:00\", \"2015-09-22T00:00:00\", \"2015-09-23T00:00:00\", \"2015-09-24T00:00:00\", \"2015-09-25T00:00:00\", \"2015-09-26T00:00:00\", \"2015-09-27T00:00:00\", \"2015-09-28T00:00:00\", \"2015-09-29T00:00:00\", \"2015-09-30T00:00:00\", \"2015-10-01T00:00:00\", \"2015-10-02T00:00:00\", \"2015-10-03T00:00:00\", \"2015-10-04T00:00:00\", \"2015-10-05T00:00:00\", \"2015-10-06T00:00:00\", \"2015-10-07T00:00:00\", \"2015-10-08T00:00:00\", \"2015-10-09T00:00:00\", \"2015-10-10T00:00:00\", \"2015-10-11T00:00:00\", \"2015-10-12T00:00:00\", \"2015-10-13T00:00:00\", \"2015-10-14T00:00:00\", \"2015-10-15T00:00:00\", \"2015-10-16T00:00:00\", \"2015-10-17T00:00:00\", \"2015-10-18T00:00:00\", \"2015-10-19T00:00:00\", \"2015-10-20T00:00:00\", \"2015-10-21T00:00:00\", \"2015-10-22T00:00:00\", \"2015-10-23T00:00:00\", \"2015-10-24T00:00:00\", \"2015-10-25T00:00:00\", \"2015-10-26T00:00:00\", \"2015-10-27T00:00:00\", \"2015-10-28T00:00:00\", \"2015-10-29T00:00:00\", \"2015-10-30T00:00:00\", \"2015-10-31T00:00:00\", \"2015-11-01T00:00:00\", \"2015-11-02T00:00:00\", \"2015-11-03T00:00:00\", \"2015-11-04T00:00:00\", \"2015-11-05T00:00:00\", \"2015-11-06T00:00:00\", \"2015-11-07T00:00:00\", \"2015-11-08T00:00:00\", \"2015-11-09T00:00:00\", \"2015-11-10T00:00:00\", \"2015-11-11T00:00:00\", \"2015-11-12T00:00:00\", \"2015-11-13T00:00:00\", \"2015-11-14T00:00:00\", \"2015-11-15T00:00:00\", \"2015-11-16T00:00:00\", \"2015-11-17T00:00:00\", \"2015-11-18T00:00:00\", \"2015-11-19T00:00:00\", \"2015-11-20T00:00:00\", \"2015-11-21T00:00:00\", \"2015-11-22T00:00:00\", \"2015-11-23T00:00:00\", \"2015-11-24T00:00:00\", \"2015-11-25T00:00:00\", \"2015-11-26T00:00:00\", \"2015-11-27T00:00:00\", \"2015-11-28T00:00:00\", \"2015-11-29T00:00:00\", \"2015-11-30T00:00:00\", \"2015-12-01T00:00:00\", \"2015-12-02T00:00:00\", \"2015-12-03T00:00:00\", \"2015-12-04T00:00:00\", \"2015-12-05T00:00:00\", \"2015-12-06T00:00:00\", \"2015-12-07T00:00:00\", \"2015-12-08T00:00:00\", \"2015-12-09T00:00:00\", \"2015-12-10T00:00:00\", \"2015-12-11T00:00:00\", \"2015-12-12T00:00:00\", \"2015-12-13T00:00:00\", \"2015-12-14T00:00:00\", \"2015-12-15T00:00:00\", \"2015-12-16T00:00:00\", \"2015-12-17T00:00:00\", \"2015-12-18T00:00:00\", \"2015-12-19T00:00:00\", \"2015-12-20T00:00:00\", \"2015-12-21T00:00:00\", \"2015-12-22T00:00:00\", \"2015-12-23T00:00:00\", \"2015-12-24T00:00:00\", \"2015-12-25T00:00:00\", \"2015-12-26T00:00:00\", \"2015-12-27T00:00:00\", \"2015-12-28T00:00:00\", \"2015-12-29T00:00:00\", \"2015-12-30T00:00:00\", \"2015-12-31T00:00:00\", \"2016-01-01T00:00:00\", \"2016-01-02T00:00:00\", \"2016-01-03T00:00:00\", \"2016-01-04T00:00:00\", \"2016-01-05T00:00:00\", \"2016-01-06T00:00:00\", \"2016-01-07T00:00:00\", \"2016-01-08T00:00:00\", \"2016-01-09T00:00:00\", \"2016-01-10T00:00:00\", \"2016-01-11T00:00:00\", \"2016-01-12T00:00:00\", \"2016-01-13T00:00:00\", \"2016-01-14T00:00:00\", \"2016-01-15T00:00:00\", \"2016-01-16T00:00:00\", \"2016-01-17T00:00:00\", \"2016-01-18T00:00:00\", \"2016-01-19T00:00:00\", \"2016-01-20T00:00:00\", \"2016-01-21T00:00:00\", \"2016-01-22T00:00:00\", \"2016-01-23T00:00:00\", \"2016-01-24T00:00:00\", \"2016-01-25T00:00:00\", \"2016-01-26T00:00:00\", \"2016-01-27T00:00:00\", \"2016-01-28T00:00:00\", \"2016-01-29T00:00:00\", \"2016-01-30T00:00:00\", \"2016-01-31T00:00:00\", \"2016-02-01T00:00:00\", \"2016-02-02T00:00:00\", \"2016-02-03T00:00:00\", \"2016-02-04T00:00:00\", \"2016-02-05T00:00:00\", \"2016-02-06T00:00:00\", \"2016-02-07T00:00:00\", \"2016-02-08T00:00:00\", \"2016-02-09T00:00:00\", \"2016-02-10T00:00:00\", \"2016-02-11T00:00:00\", \"2016-02-12T00:00:00\", \"2016-02-13T00:00:00\", \"2016-02-14T00:00:00\", \"2016-02-15T00:00:00\", \"2016-02-16T00:00:00\", \"2016-02-17T00:00:00\", \"2016-02-18T00:00:00\", \"2016-02-19T00:00:00\", \"2016-02-20T00:00:00\", \"2016-02-21T00:00:00\", \"2016-02-22T00:00:00\", \"2016-02-23T00:00:00\", \"2016-02-24T00:00:00\", \"2016-02-25T00:00:00\", \"2016-02-26T00:00:00\", \"2016-02-27T00:00:00\", \"2016-02-28T00:00:00\", \"2016-02-29T00:00:00\", \"2016-03-01T00:00:00\", \"2016-03-02T00:00:00\", \"2016-03-03T00:00:00\", \"2016-03-04T00:00:00\", \"2016-03-05T00:00:00\", \"2016-03-06T00:00:00\", \"2016-03-07T00:00:00\", \"2016-03-08T00:00:00\", \"2016-03-09T00:00:00\", \"2016-03-10T00:00:00\", \"2016-03-11T00:00:00\", \"2016-03-12T00:00:00\", \"2016-03-13T00:00:00\", \"2016-03-14T00:00:00\", \"2016-03-15T00:00:00\", \"2016-03-16T00:00:00\", \"2016-03-17T00:00:00\", \"2016-03-18T00:00:00\", \"2016-03-19T00:00:00\", \"2016-03-20T00:00:00\", \"2016-03-21T00:00:00\", \"2016-03-22T00:00:00\", \"2016-03-23T00:00:00\", \"2016-03-24T00:00:00\", \"2016-03-25T00:00:00\", \"2016-03-26T00:00:00\", \"2016-03-27T00:00:00\", \"2016-03-28T00:00:00\", \"2016-03-29T00:00:00\", \"2016-03-30T00:00:00\", \"2016-03-31T00:00:00\", \"2016-04-01T00:00:00\", \"2016-04-02T00:00:00\", \"2016-04-03T00:00:00\", \"2016-04-04T00:00:00\", \"2016-04-05T00:00:00\", \"2016-04-06T00:00:00\", \"2016-04-07T00:00:00\", \"2016-04-08T00:00:00\", \"2016-04-09T00:00:00\", \"2016-04-10T00:00:00\", \"2016-04-11T00:00:00\", \"2016-04-12T00:00:00\", \"2016-04-13T00:00:00\", \"2016-04-14T00:00:00\", \"2016-04-15T00:00:00\", \"2016-04-16T00:00:00\", \"2016-04-17T00:00:00\", \"2016-04-18T00:00:00\", \"2016-04-19T00:00:00\", \"2016-04-20T00:00:00\", \"2016-04-21T00:00:00\", \"2016-04-22T00:00:00\", \"2016-04-23T00:00:00\", \"2016-04-24T00:00:00\", \"2016-04-25T00:00:00\", \"2016-04-26T00:00:00\", \"2016-04-27T00:00:00\", \"2016-04-28T00:00:00\", \"2016-04-29T00:00:00\", \"2016-04-30T00:00:00\", \"2016-05-01T00:00:00\", \"2016-05-02T00:00:00\", \"2016-05-03T00:00:00\", \"2016-05-04T00:00:00\", \"2016-05-05T00:00:00\", \"2016-05-06T00:00:00\", \"2016-05-07T00:00:00\", \"2016-05-08T00:00:00\", \"2016-05-09T00:00:00\", \"2016-05-10T00:00:00\", \"2016-05-11T00:00:00\", \"2016-05-12T00:00:00\", \"2016-05-13T00:00:00\", \"2016-05-14T00:00:00\", \"2016-05-15T00:00:00\", \"2016-05-16T00:00:00\", \"2016-05-17T00:00:00\", \"2016-05-18T00:00:00\", \"2016-05-19T00:00:00\", \"2016-05-20T00:00:00\", \"2016-05-21T00:00:00\", \"2016-05-22T00:00:00\", \"2016-05-23T00:00:00\", \"2016-05-24T00:00:00\", \"2016-05-25T00:00:00\", \"2016-05-26T00:00:00\", \"2016-05-27T00:00:00\", \"2016-05-28T00:00:00\", \"2016-05-29T00:00:00\", \"2016-05-30T00:00:00\", \"2016-05-31T00:00:00\", \"2016-06-01T00:00:00\", \"2016-06-02T00:00:00\", \"2016-06-03T00:00:00\", \"2016-06-04T00:00:00\", \"2016-06-05T00:00:00\", \"2016-06-06T00:00:00\", \"2016-06-07T00:00:00\", \"2016-06-08T00:00:00\", \"2016-06-09T00:00:00\", \"2016-06-10T00:00:00\", \"2016-06-11T00:00:00\", \"2016-06-12T00:00:00\", \"2016-06-13T00:00:00\", \"2016-06-14T00:00:00\", \"2016-06-15T00:00:00\", \"2016-06-16T00:00:00\", \"2016-06-17T00:00:00\", \"2016-06-18T00:00:00\", \"2016-06-19T00:00:00\", \"2016-06-20T00:00:00\", \"2016-06-21T00:00:00\", \"2016-06-22T00:00:00\", \"2016-06-23T00:00:00\", \"2016-06-24T00:00:00\", \"2016-06-25T00:00:00\", \"2016-06-26T00:00:00\", \"2016-06-27T00:00:00\", \"2016-06-28T00:00:00\", \"2016-06-29T00:00:00\", \"2016-06-30T00:00:00\", \"2016-07-01T00:00:00\", \"2016-07-02T00:00:00\", \"2016-07-03T00:00:00\", \"2016-07-04T00:00:00\", \"2016-07-05T00:00:00\", \"2016-07-06T00:00:00\", \"2016-07-07T00:00:00\", \"2016-07-08T00:00:00\", \"2016-07-09T00:00:00\", \"2016-07-10T00:00:00\", \"2016-07-11T00:00:00\", \"2016-07-12T00:00:00\", \"2016-07-13T00:00:00\", \"2016-07-14T00:00:00\", \"2016-07-15T00:00:00\", \"2016-07-16T00:00:00\", \"2016-07-17T00:00:00\", \"2016-07-18T00:00:00\", \"2016-07-19T00:00:00\", \"2016-07-20T00:00:00\", \"2016-07-21T00:00:00\", \"2016-07-22T00:00:00\", \"2016-07-23T00:00:00\", \"2016-07-24T00:00:00\", \"2016-07-25T00:00:00\", \"2016-07-26T00:00:00\", \"2016-07-27T00:00:00\", \"2016-07-28T00:00:00\", \"2016-07-29T00:00:00\", \"2016-07-30T00:00:00\", \"2016-07-31T00:00:00\", \"2016-08-01T00:00:00\", \"2016-08-02T00:00:00\", \"2016-08-03T00:00:00\", \"2016-08-04T00:00:00\", \"2016-08-05T00:00:00\", \"2016-08-06T00:00:00\", \"2016-08-07T00:00:00\", \"2016-08-08T00:00:00\", \"2016-08-09T00:00:00\", \"2016-08-10T00:00:00\", \"2016-08-11T00:00:00\", \"2016-08-12T00:00:00\", \"2016-08-13T00:00:00\", \"2016-08-14T00:00:00\", \"2016-08-15T00:00:00\", \"2016-08-16T00:00:00\", \"2016-08-17T00:00:00\", \"2016-08-18T00:00:00\", \"2016-08-19T00:00:00\", \"2016-08-20T00:00:00\", \"2016-08-21T00:00:00\", \"2016-08-22T00:00:00\", \"2016-08-23T00:00:00\", \"2016-08-24T00:00:00\", \"2016-08-25T00:00:00\", \"2016-08-26T00:00:00\", \"2016-08-27T00:00:00\", \"2016-08-28T00:00:00\", \"2016-08-29T00:00:00\", \"2016-08-30T00:00:00\", \"2016-08-31T00:00:00\", \"2016-09-01T00:00:00\", \"2016-09-02T00:00:00\", \"2016-09-03T00:00:00\", \"2016-09-04T00:00:00\", \"2016-09-05T00:00:00\", \"2016-09-06T00:00:00\", \"2016-09-07T00:00:00\", \"2016-09-08T00:00:00\", \"2016-09-09T00:00:00\", \"2016-09-10T00:00:00\", \"2016-09-11T00:00:00\", \"2016-09-12T00:00:00\", \"2016-09-13T00:00:00\", \"2016-09-14T00:00:00\", \"2016-09-15T00:00:00\", \"2016-09-16T00:00:00\", \"2016-09-17T00:00:00\", \"2016-09-18T00:00:00\", \"2016-09-19T00:00:00\", \"2016-09-20T00:00:00\", \"2016-09-21T00:00:00\", \"2016-09-22T00:00:00\", \"2016-09-23T00:00:00\", \"2016-09-24T00:00:00\", \"2016-09-25T00:00:00\", \"2016-09-26T00:00:00\", \"2016-09-27T00:00:00\", \"2016-09-28T00:00:00\", \"2016-09-29T00:00:00\", \"2016-09-30T00:00:00\", \"2016-10-01T00:00:00\", \"2016-10-02T00:00:00\", \"2016-10-03T00:00:00\", \"2016-10-04T00:00:00\", \"2016-10-05T00:00:00\", \"2016-10-06T00:00:00\", \"2016-10-07T00:00:00\", \"2016-10-08T00:00:00\", \"2016-10-09T00:00:00\", \"2016-10-10T00:00:00\", \"2016-10-11T00:00:00\", \"2016-10-12T00:00:00\", \"2016-10-13T00:00:00\", \"2016-10-14T00:00:00\", \"2016-10-15T00:00:00\", \"2016-10-16T00:00:00\", \"2016-10-17T00:00:00\", \"2016-10-18T00:00:00\", \"2016-10-19T00:00:00\", \"2016-10-20T00:00:00\", \"2016-10-21T00:00:00\", \"2016-10-22T00:00:00\", \"2016-10-23T00:00:00\", \"2016-10-24T00:00:00\", \"2016-10-25T00:00:00\", \"2016-10-26T00:00:00\", \"2016-10-27T00:00:00\", \"2016-10-28T00:00:00\", \"2016-10-29T00:00:00\", \"2016-10-30T00:00:00\", \"2016-10-31T00:00:00\", \"2016-11-01T00:00:00\", \"2016-11-02T00:00:00\", \"2016-11-03T00:00:00\", \"2016-11-04T00:00:00\", \"2016-11-05T00:00:00\", \"2016-11-06T00:00:00\", \"2016-11-07T00:00:00\", \"2016-11-08T00:00:00\", \"2016-11-09T00:00:00\", \"2016-11-10T00:00:00\", \"2016-11-11T00:00:00\", \"2016-11-12T00:00:00\", \"2016-11-13T00:00:00\", \"2016-11-14T00:00:00\", \"2016-11-15T00:00:00\", \"2016-11-16T00:00:00\", \"2016-11-17T00:00:00\", \"2016-11-18T00:00:00\", \"2016-11-19T00:00:00\", \"2016-11-20T00:00:00\", \"2016-11-21T00:00:00\", \"2016-11-22T00:00:00\", \"2016-11-23T00:00:00\", \"2016-11-24T00:00:00\", \"2016-11-25T00:00:00\", \"2016-11-26T00:00:00\", \"2016-11-27T00:00:00\", \"2016-11-28T00:00:00\", \"2016-11-29T00:00:00\", \"2016-11-30T00:00:00\", \"2016-12-01T00:00:00\", \"2016-12-02T00:00:00\", \"2016-12-03T00:00:00\", \"2016-12-04T00:00:00\", \"2016-12-05T00:00:00\", \"2016-12-06T00:00:00\", \"2016-12-07T00:00:00\", \"2016-12-08T00:00:00\", \"2016-12-09T00:00:00\", \"2016-12-10T00:00:00\", \"2016-12-11T00:00:00\", \"2016-12-12T00:00:00\", \"2016-12-13T00:00:00\", \"2016-12-14T00:00:00\", \"2016-12-15T00:00:00\", \"2016-12-16T00:00:00\", \"2016-12-17T00:00:00\", \"2016-12-18T00:00:00\", \"2016-12-19T00:00:00\", \"2016-12-20T00:00:00\", \"2016-12-21T00:00:00\", \"2016-12-22T00:00:00\", \"2016-12-23T00:00:00\", \"2016-12-24T00:00:00\", \"2016-12-25T00:00:00\", \"2016-12-26T00:00:00\", \"2016-12-27T00:00:00\", \"2016-12-28T00:00:00\", \"2016-12-29T00:00:00\", \"2016-12-30T00:00:00\", \"2016-12-31T00:00:00\", \"2017-01-01T00:00:00\", \"2017-01-02T00:00:00\", \"2017-01-03T00:00:00\", \"2017-01-04T00:00:00\", \"2017-01-05T00:00:00\", \"2017-01-06T00:00:00\", \"2017-01-07T00:00:00\", \"2017-01-08T00:00:00\", \"2017-01-09T00:00:00\", \"2017-01-10T00:00:00\", \"2017-01-11T00:00:00\", \"2017-01-12T00:00:00\", \"2017-01-13T00:00:00\", \"2017-01-14T00:00:00\", \"2017-01-15T00:00:00\", \"2017-01-16T00:00:00\", \"2017-01-17T00:00:00\", \"2017-01-18T00:00:00\", \"2017-01-19T00:00:00\", \"2017-01-20T00:00:00\", \"2017-01-21T00:00:00\", \"2017-01-22T00:00:00\", \"2017-01-23T00:00:00\", \"2017-01-24T00:00:00\", \"2017-01-25T00:00:00\", \"2017-01-26T00:00:00\", \"2017-01-27T00:00:00\", \"2017-01-28T00:00:00\", \"2017-01-29T00:00:00\", \"2017-01-30T00:00:00\", \"2017-01-31T00:00:00\", \"2017-02-01T00:00:00\", \"2017-02-02T00:00:00\", \"2017-02-03T00:00:00\", \"2017-02-04T00:00:00\", \"2017-02-05T00:00:00\", \"2017-02-06T00:00:00\", \"2017-02-07T00:00:00\", \"2017-02-08T00:00:00\", \"2017-02-09T00:00:00\", \"2017-02-10T00:00:00\", \"2017-02-11T00:00:00\", \"2017-02-12T00:00:00\", \"2017-02-13T00:00:00\", \"2017-02-14T00:00:00\", \"2017-02-15T00:00:00\", \"2017-02-16T00:00:00\", \"2017-02-17T00:00:00\", \"2017-02-18T00:00:00\", \"2017-02-19T00:00:00\", \"2017-02-20T00:00:00\", \"2017-02-21T00:00:00\", \"2017-02-22T00:00:00\", \"2017-02-23T00:00:00\", \"2017-02-24T00:00:00\", \"2017-02-25T00:00:00\", \"2017-02-26T00:00:00\", \"2017-02-27T00:00:00\", \"2017-02-28T00:00:00\", \"2017-03-01T00:00:00\", \"2017-03-02T00:00:00\", \"2017-03-03T00:00:00\", \"2017-03-04T00:00:00\", \"2017-03-05T00:00:00\", \"2017-03-06T00:00:00\", \"2017-03-07T00:00:00\", \"2017-03-08T00:00:00\", \"2017-03-09T00:00:00\", \"2017-03-10T00:00:00\", \"2017-03-11T00:00:00\", \"2017-03-12T00:00:00\", \"2017-03-13T00:00:00\", \"2017-03-14T00:00:00\", \"2017-03-15T00:00:00\", \"2017-03-16T00:00:00\", \"2017-03-17T00:00:00\", \"2017-03-18T00:00:00\", \"2017-03-19T00:00:00\", \"2017-03-20T00:00:00\", \"2017-03-21T00:00:00\", \"2017-03-22T00:00:00\", \"2017-03-23T00:00:00\", \"2017-03-24T00:00:00\", \"2017-03-25T00:00:00\", \"2017-03-26T00:00:00\", \"2017-03-27T00:00:00\", \"2017-03-28T00:00:00\", \"2017-03-29T00:00:00\", \"2017-03-30T00:00:00\", \"2017-03-31T00:00:00\", \"2017-04-01T00:00:00\", \"2017-04-02T00:00:00\", \"2017-04-03T00:00:00\", \"2017-04-04T00:00:00\", \"2017-04-05T00:00:00\", \"2017-04-06T00:00:00\", \"2017-04-07T00:00:00\", \"2017-04-08T00:00:00\", \"2017-04-09T00:00:00\", \"2017-04-10T00:00:00\", \"2017-04-11T00:00:00\", \"2017-04-12T00:00:00\", \"2017-04-13T00:00:00\", \"2017-04-14T00:00:00\", \"2017-04-15T00:00:00\", \"2017-04-16T00:00:00\", \"2017-04-17T00:00:00\", \"2017-04-18T00:00:00\", \"2017-04-19T00:00:00\", \"2017-04-20T00:00:00\", \"2017-04-21T00:00:00\", \"2017-04-22T00:00:00\", \"2017-04-23T00:00:00\", \"2017-04-24T00:00:00\", \"2017-04-25T00:00:00\", \"2017-04-26T00:00:00\", \"2017-04-27T00:00:00\", \"2017-04-28T00:00:00\", \"2017-04-29T00:00:00\", \"2017-04-30T00:00:00\", \"2017-05-01T00:00:00\", \"2017-05-02T00:00:00\", \"2017-05-03T00:00:00\", \"2017-05-04T00:00:00\", \"2017-05-05T00:00:00\", \"2017-05-06T00:00:00\", \"2017-05-07T00:00:00\", \"2017-05-08T00:00:00\", \"2017-05-09T00:00:00\", \"2017-05-10T00:00:00\", \"2017-05-11T00:00:00\", \"2017-05-12T00:00:00\", \"2017-05-13T00:00:00\", \"2017-05-14T00:00:00\", \"2017-05-15T00:00:00\", \"2017-05-16T00:00:00\", \"2017-05-17T00:00:00\", \"2017-05-18T00:00:00\", \"2017-05-19T00:00:00\", \"2017-05-20T00:00:00\", \"2017-05-21T00:00:00\", \"2017-05-22T00:00:00\", \"2017-05-23T00:00:00\", \"2017-05-24T00:00:00\", \"2017-05-25T00:00:00\", \"2017-05-26T00:00:00\", \"2017-05-27T00:00:00\", \"2017-05-28T00:00:00\", \"2017-05-29T00:00:00\", \"2017-05-30T00:00:00\", \"2017-05-31T00:00:00\", \"2017-06-01T00:00:00\", \"2017-06-02T00:00:00\", \"2017-06-03T00:00:00\", \"2017-06-04T00:00:00\", \"2017-06-05T00:00:00\", \"2017-06-06T23:29:55.701000\", \"2017-06-07T00:00:00\", \"2017-06-08T23:39:21.692000\", \"2017-06-09T00:00:00\", \"2017-06-10T00:00:00\", \"2017-06-11T00:00:00\", \"2017-06-12T00:00:00\", \"2017-06-13T00:00:00\", \"2017-06-14T00:00:00\", \"2017-06-15T00:00:00\", \"2017-06-16T00:00:00\", \"2017-06-17T00:00:00\", \"2017-06-18T00:00:00\", \"2017-06-19T00:00:00\", \"2017-06-20T00:00:00\", \"2017-06-21T00:00:00\", \"2017-06-22T00:00:00\", \"2017-06-23T00:00:00\", \"2017-06-24T00:00:00\", \"2017-06-25T00:00:00\", \"2017-06-26T00:00:00\", \"2017-06-27T00:00:00\", \"2017-06-28T00:00:00\", \"2017-06-29T00:00:00\", \"2017-06-30T00:00:00\", \"2017-07-01T00:00:00\", \"2017-07-02T00:00:00\", \"2017-07-03T00:00:00\", \"2017-07-04T00:00:00\", \"2017-07-05T00:00:00\", \"2017-07-06T00:00:00\", \"2017-07-07T00:00:00\", \"2017-07-08T00:00:00\", \"2017-07-09T00:00:00\", \"2017-07-10T00:00:00\", \"2017-07-11T00:00:00\", \"2017-07-12T00:00:00\", \"2017-07-13T00:00:00\", \"2017-07-14T00:00:00\", \"2017-07-15T00:00:00\", \"2017-07-16T00:00:00\", \"2017-07-17T00:00:00\", \"2017-07-18T00:00:00\", \"2017-07-19T00:00:00\", \"2017-07-20T00:00:00\", \"2017-07-21T00:00:00\", \"2017-07-22T00:00:00\", \"2017-07-23T00:00:00\", \"2017-07-24T00:00:00\", \"2017-07-25T00:00:00\", \"2017-07-26T00:00:00\", \"2017-07-27T00:00:00\", \"2017-07-28T00:00:00\", \"2017-07-29T00:00:00\", \"2017-07-30T00:00:00\", \"2017-07-31T00:00:00\", \"2017-08-01T00:00:00\", \"2017-08-02T00:00:00\", \"2017-08-03T00:00:00\", \"2017-08-04T00:00:00\", \"2017-08-05T00:00:00\", \"2017-08-06T00:00:00\", \"2017-08-07T00:00:00\", \"2017-08-08T00:00:00\", \"2017-08-09T00:00:00\", \"2017-08-10T00:00:00\", \"2017-08-11T00:00:00\", \"2017-08-12T00:00:00\", \"2017-08-13T00:00:00\", \"2017-08-14T00:00:00\", \"2017-08-15T00:00:00\", \"2017-08-16T00:00:00\", \"2017-08-17T00:00:00\", \"2017-08-18T00:00:00\", \"2017-08-19T00:00:00\", \"2017-08-20T00:00:00\", \"2017-08-21T00:00:00\", \"2017-08-22T00:00:00\", \"2017-08-23T00:00:00\", \"2017-08-24T00:00:00\", \"2017-08-25T00:00:00\", \"2017-08-26T00:00:00\", \"2017-08-27T00:00:00\", \"2017-08-28T00:00:00\", \"2017-08-29T00:00:00\", \"2017-08-30T00:00:00\", \"2017-08-31T00:00:00\", \"2017-09-01T00:00:00\", \"2017-09-02T00:00:00\", \"2017-09-03T00:00:00\", \"2017-09-04T00:00:00\", \"2017-09-05T00:00:00\", \"2017-09-06T00:00:00\", \"2017-09-07T00:00:00\", \"2017-09-08T00:00:00\", \"2017-09-09T00:00:00\", \"2017-09-10T00:00:00\", \"2017-09-11T00:00:00\", \"2017-09-12T00:00:00\", \"2017-09-13T00:00:00\", \"2017-09-14T00:00:00\", \"2017-09-15T00:00:00\", \"2017-09-16T00:00:00\", \"2017-09-17T00:00:00\", \"2017-09-18T00:00:00\", \"2017-09-19T00:00:00\", \"2017-09-20T00:00:00\", \"2017-09-21T00:00:00\", \"2017-09-22T00:00:00\", \"2017-09-23T00:00:00\", \"2017-09-24T00:00:00\", \"2017-09-25T00:00:00\", \"2017-09-26T00:00:00\", \"2017-09-27T00:00:00\", \"2017-09-28T00:00:00\", \"2017-09-29T00:00:00\", \"2017-09-30T00:00:00\", \"2017-10-01T00:00:00\", \"2017-10-02T00:00:00\", \"2017-10-03T00:00:00\", \"2017-10-04T00:00:00\", \"2017-10-05T00:00:00\", \"2017-10-06T00:00:00\", \"2017-10-07T00:00:00\", \"2017-10-08T00:00:00\", \"2017-10-09T00:00:00\", \"2017-10-10T00:00:00\", \"2017-10-11T00:00:00\", \"2017-10-12T00:00:00\", \"2017-10-13T00:00:00\", \"2017-10-14T00:00:00\", \"2017-10-15T00:00:00\", \"2017-10-16T00:00:00\", \"2017-10-17T00:00:00\", \"2017-10-18T00:00:00\", \"2017-10-19T00:00:00\", \"2017-10-20T00:00:00\", \"2017-10-21T00:00:00\", \"2017-10-22T00:00:00\", \"2017-10-23T00:00:00\", \"2017-10-24T00:00:00\", \"2017-10-25T00:00:00\", \"2017-10-26T00:00:00\", \"2017-10-27T00:00:00\", \"2017-10-28T00:00:00\", \"2017-10-29T00:00:00\", \"2017-10-30T00:00:00\", \"2017-10-31T00:00:00\", \"2017-11-01T00:00:00\", \"2017-11-02T00:00:00\", \"2017-11-03T00:00:00\", \"2017-11-04T00:00:00\", \"2017-11-05T00:00:00\", \"2017-11-06T00:00:00\", \"2017-11-07T00:00:00\", \"2017-11-08T00:00:00\", \"2017-11-09T00:00:00\", \"2017-11-10T00:00:00\", \"2017-11-11T00:00:00\", \"2017-11-12T00:00:00\", \"2017-11-13T00:00:00\", \"2017-11-14T00:00:00\", \"2017-11-15T00:00:00\", \"2017-11-16T00:00:00\", \"2017-11-17T00:00:00\", \"2017-11-18T00:00:00\", \"2017-11-19T00:00:00\", \"2017-11-20T00:00:00\", \"2017-11-21T00:00:00\", \"2017-11-22T00:00:00\", \"2017-11-23T00:00:00\", \"2017-11-24T00:00:00\", \"2017-11-25T00:00:00\", \"2017-11-26T00:00:00\", \"2017-11-27T00:00:00\", \"2017-11-28T00:00:00\", \"2017-11-29T00:00:00\", \"2017-11-30T00:00:00\", \"2017-12-01T00:00:00\", \"2017-12-02T00:00:00\", \"2017-12-03T00:00:00\", \"2017-12-04T00:00:00\", \"2017-12-05T00:00:00\", \"2017-12-06T00:00:00\", \"2017-12-07T00:00:00\", \"2017-12-08T00:00:00\", \"2017-12-09T00:00:00\", \"2017-12-10T00:00:00\", \"2017-12-11T00:00:00\", \"2017-12-12T00:00:00\", \"2017-12-13T00:00:00\", \"2017-12-14T00:00:00\", \"2017-12-15T00:00:00\", \"2017-12-16T00:00:00\", \"2017-12-17T00:00:00\", \"2017-12-18T00:00:00\", \"2017-12-19T00:00:00\", \"2017-12-20T00:00:00\", \"2017-12-21T00:00:00\", \"2017-12-22T00:00:00\", \"2017-12-23T00:00:00\", \"2017-12-24T00:00:00\", \"2017-12-25T00:00:00\", \"2017-12-26T00:00:00\", \"2017-12-27T00:00:00\", \"2017-12-28T00:00:00\", \"2017-12-29T00:00:00\", \"2017-12-30T00:00:00\", \"2017-12-31T00:00:00\", \"2018-01-01T00:00:00\", \"2018-01-02T00:00:00\", \"2018-01-03T00:00:00\", \"2018-01-04T00:00:00\", \"2018-01-05T00:00:00\", \"2018-01-06T00:00:00\", \"2018-01-07T00:00:00\", \"2018-01-08T00:00:00\", \"2018-01-09T00:00:00\", \"2018-01-10T00:00:00\", \"2018-01-11T00:00:00\", \"2018-01-12T00:00:00\", \"2018-01-13T00:00:00\", \"2018-01-14T00:00:00\", \"2018-01-15T00:00:00\", \"2018-01-16T00:00:00\", \"2018-01-17T00:00:00\", \"2018-01-18T00:00:00\", \"2018-01-19T00:00:00\", \"2018-01-20T00:00:00\", \"2018-01-21T00:00:00\", \"2018-01-22T00:00:00\", \"2018-01-23T00:00:00\", \"2018-01-24T00:00:00\", \"2018-01-25T00:00:00\", \"2018-01-26T00:00:00\", \"2018-01-27T00:00:00\", \"2018-01-28T00:00:00\", \"2018-01-29T00:00:00\", \"2018-01-30T00:05:18.718000\", \"2018-01-31T00:00:00\", \"2018-02-01T00:00:00\", \"2018-02-02T00:00:00\", \"2018-02-03T00:00:00\", \"2018-02-04T00:00:00\", \"2018-02-05T00:00:00\", \"2018-02-06T00:00:00\", \"2018-02-07T00:00:00\", \"2018-02-08T00:05:28.226000\", \"2018-02-09T00:00:00\", \"2018-02-10T00:00:00\", \"2018-02-11T00:00:00\", \"2018-02-12T00:00:00\", \"2018-02-13T00:00:00\", \"2018-02-14T00:00:00\", \"2018-02-15T00:00:00\", \"2018-02-16T00:00:00\", \"2018-02-17T00:00:00\", \"2018-02-18T00:00:00\", \"2018-02-19T00:00:00\", \"2018-02-20T00:00:00\", \"2018-02-21T00:00:00\", \"2018-02-22T00:00:00\", \"2018-02-23T00:00:00\", \"2018-02-24T00:00:00\", \"2018-02-25T00:00:00\", \"2018-02-26T00:00:00\", \"2018-02-27T00:00:00\", \"2018-02-28T00:00:00\", \"2018-03-01T00:00:00\", \"2018-03-02T00:00:00\", \"2018-03-03T00:00:00\", \"2018-03-04T00:00:00\", \"2018-03-05T00:00:00\", \"2018-03-06T00:00:00\", \"2018-03-07T00:00:00\", \"2018-03-08T00:00:00\", \"2018-03-09T00:00:00\", \"2018-03-10T00:00:00\", \"2018-03-11T00:00:00\", \"2018-03-12T00:00:00\", \"2018-03-13T00:00:00\", \"2018-03-14T00:00:00\", \"2018-03-15T00:00:00\", \"2018-03-16T00:00:00\", \"2018-03-17T00:00:00\", \"2018-03-18T00:00:00\", \"2018-03-19T00:00:00\", \"2018-03-20T00:00:00\", \"2018-03-21T00:00:00\", \"2018-03-22T00:00:00\", \"2018-03-23T00:00:00\", \"2018-03-24T00:00:00\", \"2018-03-25T00:00:00\", \"2018-03-26T00:00:00\", \"2018-03-27T00:00:00\", \"2018-03-28T00:00:00\", \"2018-03-29T00:00:00\", \"2018-03-30T00:00:00\", \"2018-03-31T00:00:00\", \"2018-04-01T00:00:00\", \"2018-04-02T00:00:00\", \"2018-04-03T00:00:00\", \"2018-04-04T00:00:00\", \"2018-04-05T00:00:00\", \"2018-04-06T00:00:00\", \"2018-04-07T00:00:00\", \"2018-04-08T00:00:00\", \"2018-04-09T00:00:00\", \"2018-04-10T00:00:00\", \"2018-04-11T00:00:00\", \"2018-04-12T00:00:00\", \"2018-04-13T00:00:00\", \"2018-04-14T00:00:00\", \"2018-04-15T00:00:00\", \"2018-04-16T00:00:00\", \"2018-04-17T00:00:00\", \"2018-04-18T00:00:00\", \"2018-04-19T00:00:00\", \"2018-04-20T00:00:00\", \"2018-04-21T00:00:00\", \"2018-04-22T00:00:00\", \"2018-04-23T00:00:00\", \"2018-04-24T00:00:00\", \"2018-04-25T00:00:00\", \"2018-04-26T00:00:00\", \"2018-04-27T00:00:00\", \"2018-04-28T00:00:00\", \"2018-04-29T00:00:00\", \"2018-04-30T00:00:00\", \"2018-05-01T00:00:00\", \"2018-05-02T00:00:00\", \"2018-05-03T00:00:00\", \"2018-05-04T00:00:00\", \"2018-05-05T00:00:00\", \"2018-05-06T00:00:00\", \"2018-05-07T00:00:00\", \"2018-05-08T00:00:00\", \"2018-05-09T00:00:00\", \"2018-05-10T00:00:00\", \"2018-05-11T00:00:00\", \"2018-05-12T00:00:00\", \"2018-05-13T00:00:00\", \"2018-05-14T00:00:00\", \"2018-05-15T00:00:00\", \"2018-05-16T00:00:00\", \"2018-05-17T00:00:00\", \"2018-05-18T00:00:00\", \"2018-05-19T00:00:00\", \"2018-05-20T00:00:00\", \"2018-05-21T00:00:00\", \"2018-05-22T00:00:00\", \"2018-05-23T00:00:00\", \"2018-05-24T00:00:00\", \"2018-05-25T00:00:00\", \"2018-05-26T00:00:00\", \"2018-05-27T00:00:00\", \"2018-05-28T00:00:00\", \"2018-05-29T00:00:00\", \"2018-05-30T00:00:00\", \"2018-05-31T00:00:00\", \"2018-06-01T00:00:00\", \"2018-06-02T00:00:00\", \"2018-06-03T00:00:00\", \"2018-06-04T00:00:00\", \"2018-06-05T00:00:00\", \"2018-06-06T00:00:00\", \"2018-06-07T00:00:00\", \"2018-06-08T00:00:00\", \"2018-06-09T00:00:00\", \"2018-06-10T00:00:00\", \"2018-06-11T00:00:00\", \"2018-06-12T00:00:00\", \"2018-06-13T00:00:00\", \"2018-06-14T00:00:00\", \"2018-06-15T00:00:00\", \"2018-06-16T00:00:00\", \"2018-06-17T00:00:00\", \"2018-06-18T00:00:00\", \"2018-06-19T00:00:00\", \"2018-06-20T00:00:00\", \"2018-06-21T00:00:00\", \"2018-06-22T00:00:00\", \"2018-06-23T00:00:00\", \"2018-06-24T00:00:00\", \"2018-06-25T00:00:00\", \"2018-06-26T00:00:00\", \"2018-06-27T00:00:00\", \"2018-06-28T00:00:00\", \"2018-06-29T00:00:00\", \"2018-06-30T00:00:00\", \"2018-07-01T00:00:00\", \"2018-07-02T00:00:00\", \"2018-07-03T00:00:00\", \"2018-07-04T00:00:00\", \"2018-07-05T00:00:00\", \"2018-07-06T00:00:00\", \"2018-07-07T00:00:00\", \"2018-07-08T00:00:00\", \"2018-07-09T00:00:00\", \"2018-07-10T00:00:00\", \"2018-07-11T00:00:00\", \"2018-07-12T00:00:00\", \"2018-07-13T00:00:00\", \"2018-07-14T00:00:00\", \"2018-07-15T00:00:00\", \"2018-07-16T00:00:00\", \"2018-07-17T00:00:00\", \"2018-07-18T00:00:00\", \"2018-07-19T00:00:00\", \"2018-07-20T00:00:00\", \"2018-07-21T00:00:00\", \"2018-07-22T00:00:00\", \"2018-07-23T00:00:00\", \"2018-07-24T00:00:00\", \"2018-07-25T00:00:00\", \"2018-07-26T00:00:00\", \"2018-07-27T00:00:00\", \"2018-07-28T00:00:00\", \"2018-07-29T00:00:00\", \"2018-07-30T00:00:00\", \"2018-07-31T00:00:00\", \"2018-08-01T00:00:00\", \"2018-08-02T00:00:00\", \"2018-08-03T00:00:00\", \"2018-08-04T00:00:00\", \"2018-08-05T00:00:00\", \"2018-08-06T00:00:00\", \"2018-08-07T00:00:00\", \"2018-08-08T00:00:00\", \"2018-08-09T00:00:00\", \"2018-08-10T00:00:00\", \"2018-08-11T00:00:00\", \"2018-08-12T00:00:00\", \"2018-08-13T00:00:00\", \"2018-08-14T00:00:00\", \"2018-08-15T00:00:00\", \"2018-08-16T00:00:00\", \"2018-08-17T00:00:00\", \"2018-08-18T00:00:00\", \"2018-08-19T00:00:00\", \"2018-08-20T00:00:00\", \"2018-08-21T00:00:00\", \"2018-08-22T00:00:00\", \"2018-08-23T00:00:00\", \"2018-08-24T00:00:00\", \"2018-08-25T00:00:00\", \"2018-08-26T00:00:00\", \"2018-08-27T00:00:00\", \"2018-08-28T00:00:00\", \"2018-08-29T00:00:00\", \"2018-08-30T00:00:00\", \"2018-08-31T00:00:00\", \"2018-09-01T00:00:00\", \"2018-09-02T00:00:00\", \"2018-09-03T00:00:00\", \"2018-09-04T00:00:00\", \"2018-09-05T00:00:00\", \"2018-09-06T00:00:00\", \"2018-09-07T00:00:00\", \"2018-09-08T00:00:00\", \"2018-09-09T00:00:00\", \"2018-09-10T00:00:00\", \"2018-09-11T00:00:00\", \"2018-09-12T00:00:00\", \"2018-09-13T00:00:00\", \"2018-09-14T00:00:00\", \"2018-09-15T00:00:00\", \"2018-09-16T00:00:00\", \"2018-09-17T00:00:00\", \"2018-09-18T00:00:00\", \"2018-09-19T00:00:00\", \"2018-09-20T00:00:00\", \"2018-09-21T00:00:00\", \"2018-09-22T00:00:00\", \"2018-09-23T00:00:00\", \"2018-09-24T00:00:00\", \"2018-09-25T00:00:00\", \"2018-09-26T00:00:00\", \"2018-09-27T00:00:00\", \"2018-09-28T00:00:00\", \"2018-09-29T00:00:00\", \"2018-09-30T00:00:00\", \"2018-10-01T00:00:00\", \"2018-10-02T00:00:00\", \"2018-10-03T00:00:00\", \"2018-10-04T00:00:00\", \"2018-10-05T00:00:00\", \"2018-10-06T00:00:00\", \"2018-10-07T00:00:00\", \"2018-10-08T00:00:00\", \"2018-10-09T00:00:00\", \"2018-10-10T00:00:00\", \"2018-10-11T00:00:00\", \"2018-10-12T00:00:00\", \"2018-10-13T00:00:00\", \"2018-10-14T00:00:00\", \"2018-10-15T00:00:00\", \"2018-10-16T00:00:00\", \"2018-10-17T00:00:00\", \"2018-10-18T00:00:00\", \"2018-10-19T00:00:00\", \"2018-10-20T00:00:00\", \"2018-10-21T00:00:00\", \"2018-10-22T00:00:00\", \"2018-10-23T00:00:00\", \"2018-10-24T00:00:00\", \"2018-10-25T00:00:00\", \"2018-10-26T00:00:00\", \"2018-10-27T00:00:00\", \"2018-10-28T00:00:00\", \"2018-10-29T00:00:00\", \"2018-10-30T00:00:00\", \"2018-10-31T00:00:00\", \"2018-11-01T00:00:00\", \"2018-11-02T00:00:00\", \"2018-11-03T00:00:00\", \"2018-11-04T00:00:00\", \"2018-11-05T00:00:00\", \"2018-11-06T00:00:00\", \"2018-11-07T00:00:00\", \"2018-11-08T00:00:00\", \"2018-11-09T00:00:00\", \"2018-11-10T00:00:00\", \"2018-11-11T00:00:00\", \"2018-11-12T00:00:00\", \"2018-11-13T00:00:00\", \"2018-11-14T00:00:00\", \"2018-11-15T00:00:00\", \"2018-11-16T00:00:00\", \"2018-11-17T00:00:00\", \"2018-11-18T00:00:00\", \"2018-11-19T00:00:00\", \"2018-11-20T00:00:00\", \"2018-11-21T00:00:00\", \"2018-11-22T00:00:00\", \"2018-11-23T00:00:00\", \"2018-11-24T00:00:00\", \"2018-11-25T00:00:00\", \"2018-11-26T00:00:00\", \"2018-11-27T00:00:00\", \"2018-11-28T00:00:00\", \"2018-11-29T00:00:00\", \"2018-11-30T00:00:00\", \"2018-12-01T00:00:00\", \"2018-12-02T00:00:00\", \"2018-12-03T00:00:00\", \"2018-12-04T00:00:00\", \"2018-12-05T00:00:00\", \"2018-12-06T00:00:00\", \"2018-12-07T00:00:00\", \"2018-12-08T00:00:00\", \"2018-12-09T00:00:00\", \"2018-12-10T00:00:00\", \"2018-12-11T00:00:00\", \"2018-12-12T00:00:00\", \"2018-12-13T00:00:00\", \"2018-12-14T00:00:00\", \"2018-12-15T00:00:00\", \"2018-12-16T00:00:00\", \"2018-12-17T00:00:00\", \"2018-12-18T00:00:00\", \"2018-12-19T00:00:00\", \"2018-12-20T00:00:00\", \"2018-12-21T00:00:00\", \"2018-12-22T00:00:00\", \"2018-12-23T00:00:00\", \"2018-12-24T00:00:00\", \"2018-12-25T00:00:00\", \"2018-12-26T00:00:00\", \"2018-12-27T00:00:00\", \"2018-12-28T00:00:00\", \"2018-12-29T00:00:00\", \"2018-12-30T00:00:00\", \"2018-12-31T00:00:00\", \"2019-01-01T00:00:00\", \"2019-01-02T00:00:00\", \"2019-01-03T00:00:00\", \"2019-01-04T00:00:00\", \"2019-01-05T00:00:00\", \"2019-01-06T00:00:00\", \"2019-01-07T00:00:00\", \"2019-01-08T00:00:00\", \"2019-01-09T00:00:00\", \"2019-01-10T00:00:00\", \"2019-01-11T00:00:00\", \"2019-01-12T00:00:00\", \"2019-01-13T00:00:00\", \"2019-01-14T00:00:00\", \"2019-01-15T00:00:00\", \"2019-01-16T00:00:00\", \"2019-01-17T00:00:00\", \"2019-01-18T00:00:00\", \"2019-01-19T00:00:00\", \"2019-01-20T00:00:00\", \"2019-01-21T00:00:00\", \"2019-01-22T00:00:00\", \"2019-01-23T00:00:00\", \"2019-01-24T00:00:00\", \"2019-01-25T00:00:00\", \"2019-01-26T00:00:00\", \"2019-01-27T00:00:00\", \"2019-01-28T00:00:00\", \"2019-01-29T00:00:00\", \"2019-01-30T00:00:00\", \"2019-01-31T00:00:00\", \"2019-02-01T00:00:00\", \"2019-02-02T00:00:00\", \"2019-02-03T00:00:00\", \"2019-02-04T00:00:00\", \"2019-02-05T00:00:00\", \"2019-02-06T00:00:00\", \"2019-02-07T00:00:00\", \"2019-02-08T00:00:00\", \"2019-02-09T00:00:00\", \"2019-02-10T00:00:00\", \"2019-02-11T00:00:00\", \"2019-02-12T00:00:00\", \"2019-02-13T00:00:00\", \"2019-02-14T00:00:00\", \"2019-02-15T00:00:00\", \"2019-02-16T00:00:00\", \"2019-02-17T00:00:00\", \"2019-02-18T00:00:00\", \"2019-02-19T00:00:00\", \"2019-02-20T00:00:00\", \"2019-02-21T00:00:00\", \"2019-02-22T00:00:00\", \"2019-02-23T00:00:00\", \"2019-02-24T00:00:00\", \"2019-02-25T00:00:00\", \"2019-02-26T00:00:00\", \"2019-02-27T00:00:00\", \"2019-02-28T00:00:00\", \"2019-03-01T00:00:00\", \"2019-03-02T00:00:00\", \"2019-03-03T00:00:00\", \"2019-03-04T00:00:00\", \"2019-03-05T00:00:00\", \"2019-03-06T00:00:00\", \"2019-03-07T00:00:00\", \"2019-03-08T00:00:00\", \"2019-03-09T00:00:00\", \"2019-03-10T00:00:00\", \"2019-03-11T00:00:00\", \"2019-03-12T00:00:00\", \"2019-03-13T00:00:00\", \"2019-03-14T00:00:00\", \"2019-03-15T00:00:00\", \"2019-03-16T00:00:00\", \"2019-03-17T00:00:00\", \"2019-03-18T00:00:00\", \"2019-03-19T00:00:00\", \"2019-03-20T00:00:00\", \"2019-03-21T00:00:00\", \"2019-03-22T00:00:00\", \"2019-03-23T00:00:00\", \"2019-03-24T00:00:00\", \"2019-03-25T00:00:00\", \"2019-03-26T00:00:00\", \"2019-03-27T00:00:00\", \"2019-03-28T00:00:00\", \"2019-03-29T00:00:00\", \"2019-03-30T00:00:00\", \"2019-03-31T00:00:00\", \"2019-04-01T00:00:00\", \"2019-04-02T00:00:00\", \"2019-04-03T00:00:00\", \"2019-04-04T00:00:00\", \"2019-04-05T00:00:00\", \"2019-04-06T00:00:00\", \"2019-04-07T00:00:00\", \"2019-04-08T00:00:00\", \"2019-04-09T00:00:00\", \"2019-04-10T00:00:00\", \"2019-04-11T00:00:00\", \"2019-04-12T00:00:00\", \"2019-04-13T00:00:00\", \"2019-04-14T00:00:00\", \"2019-04-15T00:00:00\", \"2019-04-16T00:00:00\", \"2019-04-17T00:00:00\", \"2019-04-18T00:00:00\", \"2019-04-19T00:00:00\", \"2019-04-20T00:00:00\", \"2019-04-21T00:00:00\", \"2019-04-22T00:00:00\", \"2019-04-23T00:00:00\", \"2019-04-24T00:00:00\", \"2019-04-25T00:00:00\", \"2019-04-26T00:00:00\", \"2019-04-27T00:00:00\", \"2019-04-28T00:00:00\", \"2019-04-29T00:00:00\", \"2019-04-30T00:00:00\", \"2019-05-01T00:00:00\", \"2019-05-02T00:00:00\", \"2019-05-03T00:00:00\", \"2019-05-04T00:00:00\", \"2019-05-05T00:00:00\", \"2019-05-06T00:00:00\", \"2019-05-07T00:00:00\", \"2019-05-08T00:00:00\", \"2019-05-09T00:00:00\", \"2019-05-10T00:00:00\", \"2019-05-11T00:00:00\", \"2019-05-12T00:00:00\", \"2019-05-13T00:00:00\", \"2019-05-14T00:00:00\", \"2019-05-15T00:00:00\", \"2019-05-16T00:00:00\", \"2019-05-17T00:00:00\", \"2019-05-18T00:00:00\", \"2019-05-19T00:00:00\", \"2019-05-20T00:00:00\", \"2019-05-21T00:00:00\", \"2019-05-22T00:00:00\", \"2019-05-23T00:00:00\", \"2019-05-24T00:00:00\", \"2019-05-25T00:00:00\", \"2019-05-26T00:00:00\", \"2019-05-27T00:00:00\", \"2019-05-28T00:00:00\", \"2019-05-29T00:00:00\", \"2019-05-30T00:00:00\", \"2019-05-31T00:00:00\", \"2019-06-01T00:00:00\", \"2019-06-02T00:00:00\", \"2019-06-03T00:00:00\", \"2019-06-04T00:00:00\", \"2019-06-05T00:00:00\", \"2019-06-06T00:00:00\", \"2019-06-07T00:00:00\", \"2019-06-08T00:00:00\", \"2019-06-09T00:00:00\", \"2019-06-10T00:00:00\", \"2019-06-11T00:00:00\", \"2019-06-12T00:00:00\", \"2019-06-13T00:00:00\", \"2019-06-14T00:00:00\", \"2019-06-15T00:00:00\", \"2019-06-16T00:00:00\", \"2019-06-17T00:00:00\", \"2019-06-18T00:00:00\", \"2019-06-19T00:00:00\", \"2019-06-20T00:00:00\", \"2019-06-21T00:00:00\", \"2019-06-22T00:00:00\", \"2019-06-23T00:00:00\", \"2019-06-24T00:00:00\", \"2019-06-25T00:00:00\", \"2019-06-26T00:00:00\", \"2019-06-27T00:00:00\", \"2019-06-28T00:00:00\", \"2019-06-29T00:00:00\", \"2019-06-30T00:00:00\", \"2019-07-01T00:00:00\", \"2019-07-02T00:00:00\", \"2019-07-03T00:00:00\", \"2019-07-04T00:00:00\", \"2019-07-05T00:00:00\", \"2019-07-06T00:00:00\", \"2019-07-07T00:00:00\", \"2019-07-08T00:00:00\", \"2019-07-09T00:00:00\", \"2019-07-10T00:00:00\", \"2019-07-11T00:00:00\", \"2019-07-12T00:00:00\", \"2019-07-13T00:00:00\", \"2019-07-14T00:00:00\", \"2019-07-15T00:00:00\", \"2019-07-16T00:00:00\", \"2019-07-17T00:00:00\", \"2019-07-18T00:00:00\", \"2019-07-19T00:00:00\", \"2019-07-20T00:00:00\", \"2019-07-21T00:00:00\", \"2019-07-22T00:00:00\", \"2019-07-23T00:00:00\", \"2019-07-24T00:00:00\", \"2019-07-25T00:00:00\", \"2019-07-26T00:00:00\", \"2019-07-27T00:00:00\", \"2019-07-28T00:00:00\", \"2019-07-29T00:00:00\", \"2019-07-30T00:00:00\", \"2019-07-31T00:00:00\", \"2019-08-01T00:00:00\", \"2019-08-02T00:00:00\", \"2019-08-03T00:00:00\", \"2019-08-04T00:00:00\", \"2019-08-05T00:00:00\", \"2019-08-06T00:00:00\", \"2019-08-07T00:00:00\", \"2019-08-08T00:00:00\", \"2019-08-09T00:00:00\", \"2019-08-10T00:00:00\", \"2019-08-11T00:00:00\", \"2019-08-12T00:00:00\", \"2019-08-13T00:00:00\", \"2019-08-14T00:00:00\", \"2019-08-15T00:00:00\", \"2019-08-16T00:00:00\", \"2019-08-17T00:00:00\", \"2019-08-18T00:00:00\", \"2019-08-19T00:00:00\", \"2019-08-20T00:00:00\", \"2019-08-21T00:00:00\", \"2019-08-22T00:00:00\", \"2019-08-23T00:00:00\", \"2019-08-24T00:00:00\", \"2019-08-25T00:00:00\", \"2019-08-26T00:00:00\", \"2019-08-27T00:00:00\", \"2019-08-28T00:00:00\", \"2019-08-29T00:00:00\", \"2019-08-30T00:00:00\", \"2019-08-31T00:00:00\", \"2019-09-01T00:00:00\", \"2019-09-02T00:00:00\", \"2019-09-03T00:00:00\", \"2019-09-04T00:00:00\", \"2019-09-05T00:00:00\", \"2019-09-06T00:00:00\", \"2019-09-07T00:00:00\", \"2019-09-08T00:00:00\", \"2019-09-09T00:00:00\", \"2019-09-10T00:00:00\", \"2019-09-11T00:00:00\", \"2019-09-12T00:00:00\", \"2019-09-13T00:00:00\", \"2019-09-14T00:00:00\", \"2019-09-15T00:00:00\", \"2019-09-16T00:00:00\", \"2019-09-17T00:00:00\", \"2019-09-18T00:00:00\", \"2019-09-19T00:00:00\", \"2019-09-20T00:00:00\", \"2019-09-21T00:00:00\", \"2019-09-22T00:00:00\", \"2019-09-23T00:00:00\", \"2019-09-24T00:00:00\", \"2019-09-25T00:00:00\", \"2019-09-26T00:00:00\", \"2019-09-27T00:00:00\", \"2019-09-28T00:00:00\", \"2019-09-29T00:00:00\", \"2019-09-30T00:00:00\", \"2019-10-01T00:00:00\", \"2019-10-02T00:00:00\", \"2019-10-03T00:00:00\", \"2019-10-04T00:00:00\", \"2019-10-05T00:00:00\", \"2019-10-06T00:00:00\", \"2019-10-07T00:00:00\", \"2019-10-08T00:00:00\", \"2019-10-09T00:00:00\", \"2019-10-10T00:00:00\", \"2019-10-11T00:00:00\", \"2019-10-12T00:00:00\", \"2019-10-13T00:00:00\", \"2019-10-14T00:00:00\", \"2019-10-15T00:00:00\", \"2019-10-16T00:00:00\", \"2019-10-17T00:00:00\", \"2019-10-18T00:00:00\", \"2019-10-19T00:00:00\", \"2019-10-20T00:00:00\", \"2019-10-21T00:00:00\", \"2019-10-22T00:00:00\", \"2019-10-23T00:00:00\", \"2019-10-24T00:00:00\", \"2019-10-25T00:00:00\", \"2019-10-26T00:00:00\", \"2019-10-27T00:00:00\", \"2019-10-28T00:00:00\", \"2019-10-29T00:00:00\", \"2019-10-30T00:00:00\", \"2019-10-31T00:00:00\", \"2019-11-01T00:00:00\", \"2019-11-02T00:00:00\", \"2019-11-03T00:00:00\", \"2019-11-04T00:00:00\", \"2019-11-05T00:00:00\", \"2019-11-06T00:00:00\", \"2019-11-07T00:00:00\", \"2019-11-08T00:00:00\", \"2019-11-09T00:00:00\", \"2019-11-10T00:00:00\", \"2019-11-11T00:00:00\", \"2019-11-12T00:00:00\", \"2019-11-13T00:00:00\", \"2019-11-14T00:00:00\", \"2019-11-15T00:00:00\", \"2019-11-16T00:00:00\", \"2019-11-17T00:00:00\", \"2019-11-18T00:00:00\", \"2019-11-19T00:00:00\", \"2019-11-20T00:00:00\", \"2019-11-21T00:00:00\", \"2019-11-22T00:00:00\", \"2019-11-23T00:00:00\", \"2019-11-24T00:00:00\", \"2019-11-25T00:00:00\", \"2019-11-26T00:00:00\", \"2019-11-27T00:00:00\", \"2019-11-28T00:00:00\", \"2019-11-29T00:00:00\", \"2019-11-30T00:00:00\", \"2019-12-01T00:00:00\", \"2019-12-02T00:00:00\", \"2019-12-03T00:00:00\", \"2019-12-04T00:00:00\", \"2019-12-05T00:00:00\", \"2019-12-06T00:00:00\", \"2019-12-07T00:00:00\", \"2019-12-08T00:00:00\", \"2019-12-09T00:00:00\", \"2019-12-10T00:00:00\", \"2019-12-11T00:00:00\", \"2019-12-12T00:00:00\", \"2019-12-13T00:00:00\", \"2019-12-14T00:00:00\", \"2019-12-15T00:00:00\", \"2019-12-16T00:00:00\", \"2019-12-17T00:00:00\", \"2019-12-18T00:00:00\", \"2019-12-19T00:00:00\", \"2019-12-20T00:00:00\", \"2019-12-21T00:00:00\", \"2019-12-22T00:00:00\", \"2019-12-23T00:00:00\", \"2019-12-24T00:00:00\", \"2019-12-25T00:00:00\", \"2019-12-26T00:00:00\", \"2019-12-27T00:00:00\", \"2019-12-28T00:00:00\", \"2019-12-29T00:00:00\", \"2019-12-30T00:00:00\", \"2019-12-31T00:00:00\", \"2020-01-01T00:00:00\", \"2020-01-02T00:00:00\", \"2020-01-03T00:00:00\", \"2020-01-04T00:00:00\", \"2020-01-05T00:00:00\", \"2020-01-06T00:00:00\", \"2020-01-07T00:00:00\", \"2020-01-08T00:00:00\", \"2020-01-09T00:00:00\", \"2020-01-10T00:00:00\", \"2020-01-11T00:00:00\", \"2020-01-12T00:00:00\", \"2020-01-13T00:00:00\", \"2020-01-14T00:00:00\", \"2020-01-15T00:00:00\", \"2020-01-16T00:00:00\", \"2020-01-17T00:00:00\", \"2020-01-18T00:00:00\", \"2020-01-19T00:00:00\", \"2020-01-20T00:00:00\", \"2020-01-21T00:00:00\", \"2020-01-22T00:00:00\", \"2020-01-23T00:00:00\", \"2020-01-24T00:00:00\", \"2020-01-25T00:00:00\", \"2020-01-26T00:00:00\", \"2020-01-27T00:00:00\", \"2020-01-28T00:00:00\", \"2020-01-29T00:00:00\", \"2020-01-30T00:00:00\", \"2020-01-31T00:00:00\", \"2020-02-01T00:00:00\", \"2020-02-02T00:00:00\", \"2020-02-03T00:00:00\", \"2020-02-04T00:00:00\", \"2020-02-05T00:00:00\", \"2020-02-06T00:00:00\", \"2020-02-07T00:00:00\", \"2020-02-08T00:00:00\", \"2020-02-09T00:00:00\", \"2020-02-10T00:00:00\", \"2020-02-11T00:00:00\", \"2020-02-12T00:00:00\", \"2020-02-13T00:00:00\", \"2020-02-14T00:00:00\", \"2020-02-15T00:00:00\", \"2020-02-16T00:00:00\", \"2020-02-17T00:00:00\", \"2020-02-18T00:00:00\", \"2020-02-19T00:00:00\", \"2020-02-20T00:00:00\", \"2020-02-21T00:00:00\", \"2020-02-22T00:00:00\", \"2020-02-23T00:00:00\", \"2020-02-24T00:00:00\", \"2020-02-25T00:00:00\", \"2020-02-26T00:00:00\", \"2020-02-27T00:00:00\", \"2020-02-28T00:00:00\", \"2020-02-29T00:00:00\", \"2020-03-01T00:00:00\", \"2020-03-02T00:00:00\", \"2020-03-03T00:00:00\", \"2020-03-04T00:00:00\", \"2020-03-05T00:00:00\", \"2020-03-06T00:00:00\", \"2020-03-07T00:00:00\", \"2020-03-08T00:00:00\", \"2020-03-09T00:00:00\", \"2020-03-10T00:00:00\", \"2020-03-11T00:00:00\", \"2020-03-12T00:00:00\", \"2020-03-13T00:00:00\", \"2020-03-14T00:00:00\", \"2020-03-15T00:00:00\", \"2020-03-16T00:00:00\", \"2020-03-17T00:00:00\", \"2020-03-18T00:00:00\", \"2020-03-19T00:00:00\", \"2020-03-20T00:00:00\", \"2020-03-21T00:00:00\", \"2020-03-22T00:00:00\", \"2020-03-23T00:00:00\", \"2020-03-24T00:00:00\", \"2020-03-25T00:00:00\", \"2020-03-26T00:00:00\", \"2020-03-27T00:00:00\", \"2020-03-28T00:00:00\", \"2020-03-29T00:00:00\", \"2020-03-30T00:00:00\", \"2020-03-31T00:00:00\", \"2020-04-01T00:00:00\", \"2020-04-02T00:00:00\", \"2020-04-03T00:00:00\", \"2020-04-04T00:00:00\", \"2020-04-05T00:00:00\", \"2020-04-06T00:00:00\", \"2020-04-07T00:00:00\", \"2020-04-08T00:00:00\", \"2020-04-09T00:00:00\", \"2020-04-10T00:00:00\", \"2020-04-11T00:00:00\", \"2020-04-12T00:00:00\", \"2020-04-13T00:00:00\", \"2020-04-14T00:00:00\", \"2020-04-15T00:00:00\", \"2020-04-16T00:00:00\", \"2020-04-17T00:00:00\", \"2020-04-18T00:00:00\", \"2020-04-19T00:00:00\", \"2020-04-20T00:00:00\", \"2020-04-21T00:00:00\", \"2020-04-22T00:00:00\", \"2020-04-23T00:00:00\", \"2020-04-24T00:00:00\", \"2020-04-25T00:00:00\", \"2020-04-26T00:00:00\", \"2020-04-27T00:00:00\", \"2020-04-28T00:00:00\", \"2020-04-29T00:00:00\", \"2020-04-30T00:00:00\", \"2020-05-01T00:00:00\", \"2020-05-02T00:00:00\", \"2020-05-03T00:00:00\", \"2020-05-04T00:00:00\", \"2020-05-05T00:00:00\", \"2020-05-06T00:00:00\", \"2020-05-07T00:00:00\", \"2020-05-08T00:00:00\", \"2020-05-09T00:00:00\", \"2020-05-10T00:00:00\", \"2020-05-11T00:00:00\", \"2020-05-12T00:00:00\", \"2020-05-13T00:00:00\", \"2020-05-14T00:00:00\", \"2020-05-15T00:00:00\", \"2020-05-16T00:00:00\", \"2020-05-17T00:00:00\", \"2020-05-18T00:00:00\", \"2020-05-19T00:00:00\", \"2020-05-20T00:00:00\", \"2020-05-21T00:00:00\", \"2020-05-22T00:00:00\", \"2020-05-23T00:00:00\", \"2020-05-24T00:00:00\", \"2020-05-25T00:00:00\", \"2020-05-26T00:00:00\", \"2020-05-27T00:00:00\", \"2020-05-28T00:00:00\", \"2020-05-29T00:00:00\", \"2020-05-30T00:00:00\", \"2020-05-31T00:00:00\", \"2020-06-01T00:00:00\", \"2020-06-02T00:00:00\", \"2020-06-03T00:00:00\", \"2020-06-04T00:00:00\", \"2020-06-05T00:00:00\", \"2020-06-06T00:00:00\", \"2020-06-07T00:00:00\", \"2020-06-08T00:00:00\", \"2020-06-09T00:00:00\", \"2020-06-10T00:00:00\", \"2020-06-11T00:00:00\", \"2020-06-12T00:00:00\", \"2020-06-13T00:00:00\", \"2020-06-14T00:00:00\", \"2020-06-15T00:00:00\", \"2020-06-16T00:00:00\", \"2020-06-17T00:00:00\", \"2020-06-18T00:00:00\", \"2020-06-19T00:00:00\", \"2020-06-20T00:00:00\", \"2020-06-21T00:00:00\", \"2020-06-22T00:00:00\", \"2020-06-23T00:00:00\", \"2020-06-24T00:00:00\", \"2020-06-25T00:00:00\", \"2020-06-26T00:00:00\", \"2020-06-27T00:00:00\", \"2020-06-28T00:00:00\", \"2020-06-29T00:00:00\", \"2020-06-30T00:00:00\", \"2020-07-01T00:00:00\", \"2020-07-02T00:00:00\", \"2020-07-03T00:00:00\", \"2020-07-04T00:00:00\", \"2020-07-05T00:00:00\", \"2020-07-06T00:00:00\", \"2020-07-07T00:00:00\", \"2020-07-08T00:00:00\", \"2020-07-09T00:00:00\", \"2020-07-10T00:00:00\", \"2020-07-11T00:00:00\", \"2020-07-12T00:00:00\", \"2020-07-13T00:00:00\", \"2020-07-14T00:00:00\", \"2020-07-15T00:00:00\", \"2020-07-16T00:00:00\", \"2020-07-17T00:00:00\", \"2020-07-18T00:00:00\", \"2020-07-19T00:00:00\", \"2020-07-20T00:00:00\", \"2020-07-21T00:00:00\", \"2020-07-22T00:00:00\", \"2020-07-23T00:00:00\", \"2020-07-24T00:00:00\", \"2020-07-25T00:00:00\", \"2020-07-26T00:00:00\", \"2020-07-27T00:00:00\", \"2020-07-28T00:00:00\", \"2020-07-29T00:00:00\", \"2020-07-30T00:00:00\", \"2020-07-31T00:00:00\", \"2020-08-01T00:00:00\", \"2020-08-02T00:00:00\", \"2020-08-03T00:00:00\", \"2020-08-04T00:00:00\", \"2020-08-05T00:00:00\", \"2020-08-06T00:00:00\", \"2020-08-07T00:00:00\", \"2020-08-08T00:00:00\", \"2020-08-09T00:00:00\", \"2020-08-10T00:00:00\", \"2020-08-11T00:00:00\", \"2020-08-12T00:00:00\", \"2020-08-13T00:00:00\", \"2020-08-14T00:00:00\", \"2020-08-15T00:00:00\", \"2020-08-16T00:00:00\", \"2020-08-17T00:00:00\", \"2020-08-18T00:00:00\", \"2020-08-19T00:00:00\", \"2020-08-20T00:00:00\", \"2020-08-21T00:00:00\", \"2020-08-22T00:00:00\", \"2020-08-23T00:00:00\", \"2020-08-24T00:00:00\", \"2020-08-25T00:00:00\", \"2020-08-26T00:00:00\", \"2020-08-27T00:00:00\", \"2020-08-28T00:00:00\", \"2020-08-29T00:00:00\", \"2020-08-30T00:00:00\", \"2020-08-31T00:00:00\", \"2020-09-01T00:00:00\", \"2020-09-02T00:00:00\", \"2020-09-03T00:00:00\", \"2020-09-04T00:00:00\", \"2020-09-05T00:00:00\", \"2020-09-06T00:00:00\", \"2020-09-07T00:00:00\", \"2020-09-08T00:00:00\", \"2020-09-09T00:00:00\", \"2020-09-10T00:00:00\", \"2020-09-11T00:00:00\", \"2020-09-12T00:00:00\", \"2020-09-13T00:00:00\", \"2020-09-14T00:00:00\", \"2020-09-15T00:00:00\", \"2020-09-16T00:00:00\", \"2020-09-17T00:00:00\", \"2020-09-18T00:00:00\", \"2020-09-19T00:00:00\", \"2020-09-20T00:00:00\", \"2020-09-21T00:00:00\", \"2020-09-22T00:00:00\", \"2020-09-23T00:00:00\", \"2020-09-24T00:00:00\", \"2020-09-25T00:00:00\", \"2020-09-26T00:00:00\", \"2020-09-27T00:00:00\", \"2020-09-28T00:00:00\", \"2020-09-29T00:00:00\", \"2020-09-30T00:00:00\", \"2020-10-01T00:00:00\", \"2020-10-02T00:00:00\", \"2020-10-03T00:00:00\", \"2020-10-04T00:00:00\", \"2020-10-05T00:00:00\", \"2020-10-06T00:00:00\", \"2020-10-07T00:00:00\", \"2020-10-08T00:00:00\", \"2020-10-09T00:00:00\", \"2020-10-10T00:00:00\", \"2020-10-11T00:00:00\", \"2020-10-12T00:00:00\", \"2020-10-13T00:00:00\", \"2020-10-14T00:00:00\", \"2020-10-15T00:00:00\", \"2020-10-16T00:00:00\", \"2020-10-17T00:00:00\", \"2020-10-18T00:00:00\", \"2020-10-19T00:00:00\", \"2020-10-20T00:00:00\", \"2020-10-21T00:00:00\", \"2020-10-22T00:00:00\", \"2020-10-23T00:00:00\", \"2020-10-24T00:00:00\", \"2020-10-25T00:00:00\", \"2020-10-26T00:00:00\", \"2020-10-27T00:00:00\", \"2020-10-28T00:00:00\", \"2020-10-29T00:00:00\", \"2020-10-30T00:00:00\", \"2020-10-31T00:00:00\", \"2020-11-01T00:00:00\", \"2020-11-02T00:00:00\", \"2020-11-03T00:00:00\", \"2020-11-04T00:00:00\", \"2020-11-05T00:00:00\", \"2020-11-06T00:00:00\", \"2020-11-07T00:00:00\", \"2020-11-08T00:00:00\", \"2020-11-09T00:00:00\", \"2020-11-10T00:00:00\", \"2020-11-11T00:00:00\", \"2020-11-12T00:00:00\", \"2020-11-13T00:00:00\", \"2020-11-14T00:00:00\", \"2020-11-15T00:00:00\", \"2020-11-16T00:00:00\", \"2020-11-17T00:00:00\", \"2020-11-18T00:00:00\", \"2020-11-19T00:00:00\", \"2020-11-20T00:00:00\", \"2020-11-21T00:00:00\", \"2020-11-22T00:00:00\", \"2020-11-23T00:00:00\", \"2020-11-24T00:00:00\", \"2020-11-25T00:00:00\", \"2020-11-26T00:00:00\", \"2020-11-27T00:00:00\", \"2020-11-28T00:00:00\", \"2020-11-29T00:00:00\", \"2020-11-30T00:00:00\", \"2020-12-01T00:00:00\", \"2020-12-02T00:00:00\", \"2020-12-03T00:00:00\", \"2020-12-04T00:00:00\", \"2020-12-05T00:00:00\", \"2020-12-06T00:00:00\", \"2020-12-07T00:00:00\", \"2020-12-08T00:00:00\", \"2020-12-09T00:00:00\", \"2020-12-10T00:00:00\", \"2020-12-11T00:00:00\", \"2020-12-12T00:00:00\", \"2020-12-13T00:00:00\", \"2020-12-14T00:00:00\", \"2020-12-15T00:00:00\", \"2020-12-16T00:00:00\", \"2020-12-17T00:00:00\", \"2020-12-18T00:00:00\", \"2020-12-19T00:00:00\", \"2020-12-20T00:00:00\", \"2020-12-21T00:00:00\", \"2020-12-22T00:00:00\", \"2020-12-23T00:00:00\", \"2020-12-24T00:00:00\", \"2020-12-25T00:00:00\", \"2020-12-26T00:00:00\", \"2020-12-27T00:00:00\", \"2020-12-28T00:00:00\", \"2020-12-29T00:00:00\", \"2020-12-30T00:00:00\", \"2020-12-31T00:00:00\", \"2021-01-01T00:00:00\", \"2021-01-02T00:00:00\", \"2021-01-03T00:00:00\", \"2021-01-04T00:00:00\", \"2021-01-05T00:00:00\", \"2021-01-06T00:00:00\", \"2021-01-07T00:00:00\", \"2021-01-08T00:00:00\", \"2021-01-09T00:00:00\", \"2021-01-10T00:00:00\", \"2021-01-11T00:00:00\", \"2021-01-12T00:00:00\", \"2021-01-13T00:00:00\", \"2021-01-14T00:00:00\", \"2021-01-15T00:00:00\", \"2021-01-16T00:00:00\", \"2021-01-17T00:00:00\", \"2021-01-18T00:00:00\", \"2021-01-19T00:00:00\", \"2021-01-20T00:00:00\", \"2021-01-21T00:00:00\", \"2021-01-22T00:00:00\", \"2021-01-23T00:00:00\", \"2021-01-24T00:00:00\", \"2021-01-25T00:00:00\", \"2021-01-26T00:00:00\", \"2021-01-27T00:00:00\", \"2021-01-28T00:00:00\", \"2021-01-29T00:00:00\", \"2021-01-30T00:00:00\", \"2021-01-31T00:00:00\", \"2021-02-01T00:00:00\", \"2021-02-02T00:00:00\", \"2021-02-03T00:00:00\", \"2021-02-04T00:00:00\", \"2021-02-05T00:00:00\", \"2021-02-06T00:00:00\", \"2021-02-07T00:00:00\", \"2021-02-08T00:00:00\", \"2021-02-09T00:00:00\", \"2021-02-10T00:00:00\", \"2021-02-11T00:00:00\", \"2021-02-12T00:00:00\", \"2021-02-13T00:00:00\", \"2021-02-14T00:00:00\", \"2021-02-15T00:00:00\", \"2021-02-16T00:00:00\", \"2021-02-17T00:00:00\", \"2021-02-18T00:00:00\", \"2021-02-19T00:00:00\", \"2021-02-20T00:00:00\", \"2021-02-21T00:00:00\", \"2021-02-22T00:00:00\", \"2021-02-23T00:00:00\", \"2021-02-24T00:00:00\", \"2021-02-25T00:00:00\", \"2021-02-26T00:00:00\", \"2021-02-27T00:00:00\", \"2021-02-28T00:00:00\", \"2021-03-01T00:00:00\", \"2021-03-02T00:00:00\", \"2021-03-03T00:00:00\", \"2021-03-04T00:00:00\", \"2021-03-05T00:00:00\", \"2021-03-06T00:00:00\", \"2021-03-07T00:00:00\", \"2021-03-08T00:00:00\", \"2021-03-09T00:00:00\", \"2021-03-10T00:00:00\", \"2021-03-11T00:00:00\", \"2021-03-12T00:00:00\", \"2021-03-13T00:00:00\", \"2021-03-14T00:00:00\", \"2021-03-15T00:00:00\", \"2021-03-16T00:00:00\", \"2021-03-17T00:00:00\", \"2021-03-18T00:00:00\", \"2021-03-19T00:00:00\", \"2021-03-20T00:00:00\", \"2021-03-21T00:00:00\", \"2021-03-22T00:00:00\", \"2021-03-23T00:00:00\", \"2021-03-24T00:00:00\", \"2021-03-25T00:00:00\", \"2021-03-26T00:00:00\", \"2021-03-27T00:00:00\", \"2021-03-28T00:00:00\", \"2021-03-29T00:00:00\", \"2021-03-30T00:00:00\", \"2021-03-31T00:00:00\", \"2021-04-01T00:00:00\", \"2021-04-02T00:00:00\", \"2021-04-03T00:00:00\", \"2021-04-04T00:00:00\", \"2021-04-05T00:00:00\", \"2021-04-06T00:00:00\", \"2021-04-07T00:00:00\", \"2021-04-08T00:00:00\", \"2021-04-09T00:00:00\", \"2021-04-10T00:00:00\", \"2021-04-11T00:00:00\", \"2021-04-12T00:00:00\", \"2021-04-13T00:00:00\", \"2021-04-14T00:00:00\", \"2021-04-15T00:00:00\", \"2021-04-16T00:00:00\", \"2021-04-17T00:00:00\", \"2021-04-18T00:00:00\"], \"xaxis\": \"x\", \"y\": [313.9920000000001, 314.446, 286.572, 260.936, 273.22, 285.3738000000001, 295.8725, 284.4525, 289.5738000000001, 274.533, 267.184, 268.353667700943, 221.436, 172.1479, 210.5559, 205.816, 199.4914, 208.9892, 214.545, 210.5137, 224.0451, 232.0423000000001, 232.898, 248.096, 253.8388999999999, 271.2882000000001, 259.2356, 232.5329422304941, 228.6354, 218.0233, 226.2697, 240.0193, 226.0119, 225.3083, 216.9136, 222.4872, 227.2050999999999, 222.9061, 220.0922, 220.6493, 219.0956, 222.0401587875259, 235.6774, 259.0086000000001, 232.9962, 235.9199, 242.4568, 234.6238, 240.2988, 244.0821, 244.1459, 235.5529999999999, 238.1319, 238.7314, 237.378, 236.1711557723409, 253.8991, 253.5991, 257.7075, 269.9614999999999, 280.6241999999999, 273.0192999999999, 274.8255, 272.3412999999999, 275.5846387340832, 274.578, 289.2957000000001, 290.3057, 295.961, 293.9203, 288.0364999999999, 281.4887, 285.2645, 290.0955000000001, 284.3491, 255.6062, 260.0037, 260.9075, 259.4899, 267.7980999999999, 266.0272, 245.1679, 246.2715, 247.5595, 247.1476, 252.0497, 241.9136999999999, 246.5418, 243.2692000000001, 246.7755, 252.341, 253.6226999999999, 253.3213, 259.7117999999999, 255.4233, 253.2085, 244.2709, 243.2006548544864, 234.5253, 236.4501, 235.7386, 223.9464, 217.9995, 223.0161, 227.9995, 222.4171382852381, 222.9536999999999, 222.6812, 224.3086, 234.6867000000001, 233.7807, 235.1735, 230.9863, 225.9568, 218.5065, 228.5712, 225.6422999999999, 225.9978, 236.2208, 232.7402999999999, 235.1563, 239.882, 238.9705999999999, 236.0015000000001, 229.8152, 236.8450000000001, 243.657, 241.5321, 239.5548, 241.8506, 241.5189000000001, 235.4793, 236.704, 236.9908, 235.9781, 236.0847, 232.4757, 231.9446000000001, 234.048, 235.4204999999999, 240.9352, 239.0329940983288, 241.2417000000001, 237.441, 237.4971, 237.2305, 237.4891000000001, 237.0714, 233.4572, 229.6785, 223.3178, 225.7387, 225.4831, 224.1748, 224.7413, 225.2889, 223.6157, 228.7013000000001, 229.5263999999999, 229.0022, 229.9343000000001, 230.5181, 232.6301, 233.6681, 237.2013, 250.4743, 247.6944000000001, 248.5519999999999, 242.9967, 245.4754, 243.9959, 247.2790000000001, 243.8486, 240.5377000000001, 242.4769, 242.4819, 250.621, 248.3451, 256.3038739667178, 262.4063254601778, 257.5058, 254.6537509187558, 255.161, 260.415, 271.0401208003443, 268.595, 265.3844519614875, 269.6130164214266, 268.8928000000001, 285.0223, 291.8907431569518, 310.1915636277567, 290.6655, 286.6653999999999, 283.9491880809251, 276.6800999999999, 278.3728, 274.4838999999999, 272.806179588859, 277.2454, 274.9428876558478, 276.1756000000001, 275.6135, 288.4447167883336, 288.3881586253327, 291.7037645294952, 292.6148, 293.9933, 288.7194990885924, 286.8366, 283.6760591480217, 280.7014, 281.7267, 281.829870770124, 284.2393, 281.4010623650275, 278.0134, 278.5088137572824, 259.8007283854695, 264.3384833893257, 263.5782, 269.8668, 267.7126, 263.6558186169038, 265.1281000000001, 260.4762322897643, 257.8158000000001, 257.0634000000001, 253.0766, 225.9602, 234.6379, 232.3324000000001, 229.1488, 227.2453999999999, 210.0943850637937, 221.3282999999999, 225.2666000000001, 222.9704, 231.6583, 228.4683, 228.0672, 230.0781, 227.1631, 228.6427999999999, 226.5658, 230.0509, 234.7495, 239.1288999999999, 240.503, 243.5587, 237.9452, 238.7763, 240.0007956438866, 234.9098, 230.5048000000001, 230.21, 229.9118, 228.4640000000001, 232.746, 232.354, 231.2732999999999, 230.6597, 226.4528, 229.8831, 229.8658, 233.9255, 234.9767, 234.5278999999999, 232.8346999999999, 239.2765, 237.2262, 236.0463, 237.7358, 237.2592999999999, 238.9718, 238.6566, 240.3238, 246.444, 243.2229000000001, 242.9008, 244.2051, 245.3209, 247.5392, 245.5661, 249.4051, 252.6956, 254.6295530746221, 262.3735, 270.3646, 262.2345, 264.2094, 270.2663999999999, 267.0187, 273.5729999999999, 277.3883999999999, 282.9566, 284.749, 285.5159, 294.8093999999999, 303.6366, 313.9073, 325.8005999999999, 312.2783, 324.9970999999999, 350.7678, 398.2369, 404.3588, 387.473, 372.8260000000001, 387.0599999999999, 371.5020000000001, 380.6439999999999, 336.8729999999999, 305.9829999999999, 337.955, 337.372, 331.501, 320.484, 331.353, 335.111, 335.447, 325.5680000000001, 321.417, 325.159, 323.395, 322.8290000000001, 319.9789999999999, 328.1689999999999, 356.245, 359.011, 356.212, 371.4880000000001, 378.265, 363.4499999999999, 358.8199999999999, 360.954, 362.7669999999999, 390.645, 394.0109999999999, 394.355, 412.9300000000001, 417.3679999999999, 416.91, 452.4149999999999, 434.903, 435.8150000000001, 443.277, 464.9989999999999, 453.9139999999999, 456.473, 463.816, 462.0529999999999, 441.1289999999999, 437.8090000000001, 436.2370000000001, 442.821, 454.907, 455.7419999999999, 417.092, 423.925, 420.708, 432.1540000000001, 426.811, 431.139, 434.4269999999999, 434.3260000000001, 430.198, 433.5339999999999, 432.115, 431.3430000000001, 456.434, 454.6963000000001, 448.7090000000001, 447.2069999999999, 448.3490000000001, 445.792, 432.1200000000001, 429.2429999999999, 365.912, 384.813, 386.3560000000001, 385.1320000000001, 379.015, 418.848, 407.8150000000002, 377.2100000000001, 389.6409999999999, 403.0559999999999, 392.3260000000001, 392.4559999999998, 394.491, 379.5519999999999, 378.912, 376.921, 364.352, 371.041, 372.8679999999999, 368.124, 388.3759999999999, 385.7330000000001, 374.9049999999999, 375.5170000000002, 371.1359999999999, 373.909, 379.829, 377.058, 382.72, 390.4240000000001, 404.1440000000001, 399.379, 407.0129999999998, 416.8499999999999, 421.4220000000001, 419.377, 441.1199999999998, 438.6499999999999, 437.8029999999999, 420.3020000000001, 423.1870000000001, 423.142, 427.029, 432.1390000000001, 432.7970000000001, 436.919, 431.371, 424.485, 420.1709999999999, 409.408, 397.2410000000001, 404.912, 413.74, 411.8770000000001, 412.3190000000001, 416.2920000000001, 419.299, 410.8010000000001, 412.4949999999999, 414.585, 415.6410000000001, 416.5440000000001, 418.4000000000001, 408.28, 406.7389999999999, 411.8820000000001, 411.091, 416.36, 418.076, 414.8829999999999, 415.743, 416.7149999999999, 425.349, 422.756, 415.5470000000001, 412.597, 415.366, 416.754, 419.6700000000001, 418.1850000000001, 419.437, 422.651, 421.65599999999995, 421.076, 418.4740000000001, 416.145, 421.133, 422.5840000000001, 426.181, 424.26900000000006, 424.932, 429.966, 430.941, 428.027, 428.5059999999998, 436.37, 441.916, 451.0830000000002, 447.488, 451.818, 459.9229999999999, 460.4659999999999, 467.8559999999999, 444.789, 449.3809999999999, 456.5660000000001, 447.90299999999985, 452.592, 444.488, 450.3, 447.119, 448.9219999999999, 461.6200000000001, 459.2479999999998, 459.283, 461.74700000000007, 450.3259999999999, 452.179, 454.7310000000001, 456.0070000000001, 455.5030000000001, 457.837, 454.893, 452.422, 453.3710000000001, 440.5389999999998, 441.888, 443.1469999999999, 438.6750000000001, 443.175, 445.769, 449.0549999999999, 453.73199999999997, 473.8640000000001, 528.545, 524.624, 534.2240000000002, 531.4070000000002, 539.1679999999999, 538.832, 570.4449999999999, 573.5259999999998, 574.4756747207706, 585.563, 577.9106942699359, 583.1389999999999, 577.607, 579.2276478801407, 597.746561993518, 671.7122784950529, 704.2918521711082, 685.932131564762, 693.2269999999999, 765.4629999999999, 749.4189999999999, 756.7996012580627, 764.0459999999999, 734.1617358035669, 664.9965293554344, 591.895, 623.2062563646158, 661.4166051593036, 666.0566978558096, 629.3059999999999, 648.2999999999998, 646.8429999999997, 637.437, 671.6159999999998, 677.7099999999999, 693.0470000000001, 664.7451003433932, 678.7005716794641, 667.5305180233454, 675.9190000000001, 638.6200000000001, 665.744506272113, 653.8705124993986, 650.3210000000003, 649.07, 670.9480000000001, 658.1500000000001, 659.5760000000002, 665.6869915031888, 663.5010000000002, 678.3905582459545, 674.7874378266207, 674.5573889807015, 670.8934740599931, 665.3643845142738, 651.0899999999999, 655.4230000000001, 660.848923533057, 654.5186383481073, 651.3099999999998, 655.618263277738, 655.8904301748952, 657.3423791946653, 654.5489803055398, 623.7457712533022, 605.7469999999995, 517.1349294487607, 567.3810616156014, 576.6037067248545, 576.0338000000002, 587.6349999999999, 592.6675, 590.7125, 585.3024999999998, 592.266843297098, 587.6138000000002, 586.5299999999999, 584.4688683346069, 570.7366999999999, 567.7342836594349, 578.2231511023564, 571.461914957742, 572.2684198487193, 573.4919906794345, 581.9462730812136, 580.5870271371734, 585.2175000000001, 582.0038, 577.8880531621712, 576.1163000000001, 578.1037999999998, 568.5750000000002, 573.5288, 572.5102283617088, 576.08, 571.7582826763035, 571.59, 573.9624999999999, 596.1950000000002, 608.6887999999999, 606.6438, 610.6837999999999, 614.3264885962195, 625.4675000000001, 621.9124999999999, 623.0588000000001, 605.3154151790802, 605.8312052420321, 606.6450000000001, 608.4250000000002, 605.5838000000001, 606.5533658936915, 605.3438, 608.7950000000002, 608.6176342973245, 607.7688125632665, 595.8402492264345, 594.9587999999999, 601.8925, 601.2725000000003, 599.3112999999997, 606.0970645363005, 604.2074999999999, 603.5549999999997, 604.6375, 608.2575, 614.0598845176643, 610.3588000000001, 611.9609026561799, 609.2425, 611.6363, 610.9800000000001, 616.2188000000002, 616.5338, 614.6238000000001, 614.3138, 640.7, 635.6163, 634.6223388041233, 638.1799999999996, 637.2088, 640.1862999999997, 637.4825000000001, 635.465, 628.4375, 628.5425, 629.7187999999995, 652.0875, 649.6263000000002, 648.7663, 652.6338, 673.4175000000001, 683.3724999999998, 687.5587999999999, 715.4103243232163, 697.2773624560577, 698.5762999999998, 729.2049999999999, 734.1638, 686.0612999999995, 702.11, 704.0224999999997, 712.1263000000001, 706.0925, 708.9399999999999, 721.1774999999999, 713.2141433353438, 715.6425000000002, 703.76, 702.3463169808624, 705.55, 712.158899800779, 740.8993548679168, 738.4799999999999, 748.4263, 750.4100480749124, 728.3713, 736.5049999999998, 748.1225, 741.1662465178737, 736.7486937230678, 738.2039432073005, 732.7338000000001, 727.7574999999999, 731.8424613583487, 731.81, 742.3587999999997, 753.0550000000001, 771.1713, 764.8338233239153, 766.3687999999997, 752.2399999999997, 758.6924999999999, 763.9149999999998, 768.6749999999998, 769.8412999999998, 773.1262933845235, 768.2324999999998, 778.4323012225746, 778.2150000000004, 775.8913000000002, 775.5724999999998, 781.3375000000001, 788.8774999999998, 788.4413000000003, 790.1162999999996, 799.7212999999999, 826.6207679031857, 859.3662999999999, 917.0988, 891.6813, 894.3371331688621, 902.6063, 929.1150000000001, 977.1399999999999, 971.7212999999998, 960.9250000000001, 966.5689708732557, 998.05, 1019.1988000000001, 1035.5313, 1130.8495163207272, 990.6674999999997, 894.0325, 900.0787999999999, 908.0850000000004, 901.8788880390637, 905.7594626984339, 784.2775000000003, 799.4275, 824.4988000000003, 817.8250000000003, 821.9124999999998, 828.3099999999998, 904.1525000000003, 873.9349999999996, 896.89, 891.4588, 919.6775000000004, 918.7788120146554, 918.9075000000001, 885.7887999999999, 893.4737999999999, 915.3599999999999, 918.2875, 920.245, 914.1424999999998, 920.9911458822621, 968.2662999999999, 986.5728903454353, 1008.4033182231417, 1015.4425000000001, 1033.63, 1016.9261585954309, 1024.5110886063283, 1051.5000000000005, 1055.3013, 981.7049999999999, 992.1113, 1010.9462999999998, 1000.5237691031117, 996.1039358698114, 1010.1021618594351, 1008.8812999999999, 1034.9038000000003, 1056.5580910529798, 1058.5809306486606, 1053.5024999999998, 1082.0168234958396, 1125.4088148356532, 1123.3049999999998, 1185.6547846887681, 1180.8709999999999, 1149.4036781698383, 1180.6730000000002, 1193.1295150369579, 1190.3309999999997, 1227.4771489660905, 1262.0810000000001, 1289.5406116191473, 1268.8145320151446, 1276.2330000000002, 1280.9859999999996, 1233.0565084079958, 1149.6310000000003, 1191.2367224851023, 1100.0105899712148, 1181.2041227520244, 1230.56, 1243.2649223901926, 1246.5567394807624, 1258.4569999999999, 1217.3145410078776, 1074.0938695062455, 961.9620000000001, 1023.4901008756748, 1036.3320123738727, 1112.701532272989, 1039.8401726478428, 1029.1394137431018, 940.0206265591036, 965.2650626610691, 954.4766599717783, 1042.6050726198062, 1044.7219999999998, 1038.617197616254, 1031.4929056461594, 1078.274711090609, 1085.2529999999997, 1098.0679999999998, 1139.3082754455547, 1140.4975903801683, 1132.339904992776, 1194.2109999999996, 1189.775123703212, 1182.271, 1187.6989999999998, 1210.515, 1226.618, 1218.299, 1174.209, 1183.687, 1180.323, 1186.31, 1205.143, 1217.58, 1225.721, 1253.904, 1254.9875, 1249.67, 1247.8388, 1249.9563, 1263.045, 1287.32, 1331.3125, 1321.205, 1327.6863, 1349.8863, 1408.445, 1442.245, 1485.8175, 1499.36, 1506.0438, 1547.815, 1557.8838, 1633.38, 1700.1775, 1747.3175, 1808.7788, 1700.7725, 1751.73, 1767.7088, 1696.13, 1716.315, 1804.4513, 1889.4088, 1972.9013, 2043.42, 2053.8788, 2109.3963, 2292.7025, 2448.1313, 2366.9725, 2262.36, 2082.845, 2219.4875, 2286.2663, 2167.6438, 2329.0775, 2436.0363, 2514.2275, 2562.54, 2556.405, 2721.5525, 2903.4438, 2716.0588, 2824.2038, 2817.0638, 2937.4538, 3013.7138, 2701.255, 2736.1888, 2503.40127294964, 2444.49371230854, 2513.81034764638, 2683.5713440378, 2577.21936114026, 2620.13645139993, 2777.79265567999, 2717.00310788798, 2724.91221331707, 2737.74623109829, 2618.41673570888, 2606.8632352265, 2488.19416337737, 2531.34899878484, 2575.43777025493, 2561.68143454198, 2490.75348798041, 2439.82055973389, 2518.54569431263, 2576.7146569746, 2610.99757474179, 2607.21930206989, 2612.67042830497, 2509.21820981689, 2563.19551359687, 2519.21739188349, 2363.51568155487, 2353.91066125207, 2387.32891171674, 2364.32126576467, 2228.72879099011, 2033.29108803266, 1927.09906562122, 2181.28608069932, 2303.88935545646, 2274.62136530529, 2766.82511908244, 2658.07491237597, 2802.34788667742, 2731.60400741206, 2751.3470702262, 2563.74789523364, 2507.38968460757, 2649.44120113807, 2798.82931330334, 2720.10226250836, 2740.32359181287, 2871.3680152452, 2737.76379241919, 2697.8509023017, 2777.36799394604, 2845.89716230278, 3237.07069450803, 3189.7324534615, 3356.70973808691, 3410.45008044914, 3330.89782529283, 3367.90538708821, 3562.58766284089, 3800.14062506336, 4023.25452207874, 4175.69529134641, 4149.30875941234, 4262.5587912331, 4286.91743450516, 4097.68580247375, 4115.21198836208, 4001.22863247285, 3935.22993283277, 4008.41668521521, 4069.0802390251, 4167.28917680219, 4199.89203158457, 4123.51337132546, 4116.46873916326, 4216.24277330547, 4394.06343624723, 4553.80652713686, 4702.93816308458, 4863.19304868405, 4556.5977768913, 4632.46233076675, 4317.18518771612, 4447.87559221093, 4592.25027789782, 4584.82027519271, 4285.20793872097, 4245.60734112386, 4132.6646422833, 4164.97621199409, 4130.95628475182, 3883.65200134942, 3100.66815470405, 3587.9431219159, 3606.27519721432, 3553.43231625865, 4012.28582499344, 3898.93473248234, 3858.02095060051, 3628.05858753461, 3622.1830393146, 3763.41140627887, 3672.30507973319, 3866.70515274174, 3852.93520487706, 4134.21241496119, 4134.88495085993, 4130.41524600294, 4297.79117003372, 4347.57873545332, 4383.32549736353, 4319.06921246641, 4231.46418703684, 4290.38040438142, 4347.54723950876, 4405.0162007055, 4562.32193109848, 4758.72164979337, 4769.47734676417, 4807.92589489803, 5331.61930195449, 5610.49316222874, 5679.21622165638, 5684.04710411913, 5728.93275055115, 5643.85907705172, 5592.78222421231, 5696.38014134367, 5952.7713587923, 6043.96673129542, 6003.4640189335, 5959.98304059248, 5550.08158528565, 5704.87480650775, 5883.05318447111, 5775.51666530736, 5734.30745398276, 6123.54977135535, 6104.38870915078, 6368.65164135745, 6714.78898671902, 7059.7938605488, 7234.73838202036, 7390.53522652395, 7416.26795098255, 7103.04608116249, 7166.74137167631, 7461.82443491069, 7186.29277509382, 6656.83969350681, 6365.39785208573, 5866.51312938529, 6423.09140246102, 6652.21677956026, 7297.66883633256, 7814.9444036566, 7783.54246476388, 7827.63146946899, 8011.14742989044, 8220.50996617654, 8114.13367954416, 8257.12389528835, 8117.66434762603, 8278.12843633886, 8743.1593779107, 9342.98864142167, 9831.40292992241, 10257.0674169803, 9875.89230818829, 10406.18772373, 10995.7235531179, 11162.5450307617, 11256.7018287538, 11634.9849554034, 12174.2537397926, 13876.4735794148, 18491.1815542282, 16908.0049521112, 15266.4263894651, 15808.5098961544, 17106.5051488871, 17249.920214656, 16525.0444892988, 16865.3616648753, 17978.6305581344, 19665.3949272416, 19423.5801532525, 19188.0539569348, 18174.1867596316, 17059.8883502646, 16355.2382257401, 14084.8249267767, 15241.9164656487, 14451.1145466743, 14302.7537081839, 16616.6820570844, 16373.0810795739, 15067.8994980567, 15096.5594360709, 13620.3618741461, 14839.5907854184, 14093.6068305274, 15321.9328517642, 15583.8855377593, 15976.365194174, 18336.9229801691, 18343.6624934071, 17039.8739138488, 15900.3650216006, 15604.7234082405, 15509.2701268168, 14050.5696063543, 14759.294629915, 15193.3148979847, 14476.5889713691, 14411.9977069182, 11723.9135206658, 11415.3928442768, 11569.4249920858, 11758.4693327652, 13260.2711872786, 11703.5048628599, 10991.5950130802, 10894.0009053405, 11277.1159704489, 11225.2544568853, 11044.9072365744, 11456.2135062799, 11665.6969300847, 11157.6638878978, 11095.2106891266, 9989.68977659669, 10114.495086226, 9070.55544937356, 8830.16351005472, 8994.91486607664, 8315.51749143615, 6852.05270051491, 7711.2203289411, 7611.61027778882, 8208.57208449673, 8650.71675042998, 8574.67763849023, 8168.63777979963, 8911.3985742083, 8518.26907619091, 9428.02560716167, 10112.5801434467, 10155.2770555258, 11006.647685962, 10523.429305801, 11103.0900361497, 11502.3770496396, 9973.59211951887, 10032.863112314, 10301.883609336, 9742.62819006538, 9699.51718151529, 10355.5781264856, 10709.3884310463, 10346.664931035, 10859.5521943893, 11098.0758092511, 11356.0416016724, 11286.6762891691, 11526.4209302906, 10727.716249205, 9999.68248604677, 9420.85488958591, 9276.33759031006, 8890.86580399612, 9512.45611286134, 9232.70587979953, 9216.53097626842, 8307.22338626638, 8359.36528334063, 8520.00815917187, 8063.4097921227, 8217.84219996114, 8640.52143024258, 8926.82049620007, 8970.31790627893, 8736.38576909829, 8824.59283177853, 8621.15079225785, 8478.63819558905, 8186.19606281355, 7836.76304425289, 7930.77954092755, 7126.89519256736, 6897.26857786945, 6975.27531402076, 6836.57232729678, 7080.41723231299, 7464.35609406668, 6845.31597826858, 6855.42230460675, 6628.75445585626, 6884.47723505995, 6984.8089659738, 6778.4915700774, 6829.31650379539, 6925.10199547663, 7836.39699399927, 7845.75284010594, 7897.71993085806, 8258.06708369755, 8030.99926195254, 7873.63551010255, 8097.41823310301, 8277.46063916253, 8499.45000871487, 8878.42826029723, 8769.01199947348, 8881.39170434545, 9716.48975733072, 8825.2025000693, 9221.86802618436, 8940.38112200719, 9249.65952508923, 9325.62885104679, 9198.18950997327, 9024.3875117766, 9122.65301383019, 9551.13518381566, 9634.53822597227, 9766.24448548887, 9583.87174550137, 9308.26502572185, 9149.51783314723, 9248.96039558449, 8969.94037574258, 8405.5605632418, 8480.58037612559, 8683.9862031429, 8696.97400387283, 8473.34864905366, 8343.1252216955, 8056.05319237475, 8202.82540955214, 8180.62700991409, 8443.26024591542, 8354.99633591748, 8009.2995067828, 7556.31604292077, 7563.43546544346, 7472.02260174872, 7328.87167436352, 7326.64394017867, 7111.06892466996, 7451.2308372653, 7380.8515577098, 7460.16694986577, 7487.07630453815, 7567.51293761927, 7639.87944568278, 7463.65499554503, 7569.01133988542, 7605.57848860797, 7613.77739337755, 7561.16610052452, 7415.00137858946, 6767.49948454925, 6880.13364875604, 6581.82807522796, 6334.09890642618, 6644.72067973844, 6406.80704950998, 6478.81592433021, 6418.85000188746, 6677.53340291194, 6708.68182027534, 6714.37546123014, 6690.832151608, 6088.57944239075, 6169.43726386169, 6159.70719379414, 6241.84871170546, 6069.87260616628, 6117.03640962264, 5879.98897440643, 6182.25674792295, 6366.49946751097, 6312.87724313135, 6595.5473128085, 6497.60735494217, 6562.7217371211, 6537.74087162192, 6603.29470396542, 6759.83608914527, 6700.63547905209, 6648.256795903321, 6303.380664729323, 6373.234804689936, 6230.5901971047815, 6248.397313033797, 6246.13741162634, 6349.695836710773, 6741.6919602852695, 7303.373059795855, 7334.771372076191, 7442.800738748321, 7331.871523239401, 7379.137271821949, 7395.8664054401, 7704.99567890457, 8422.37392335148, 8144.553482041877, 7929.079243602936, 8145.333168120666, 8192.13570223742, 8197.593575814208, 8185.921138302329, 7738.249304586212, 7612.300753683117, 7540.633150617145, 7411.66638248389, 7009.012011793916, 7036.60933127318, 6926.116778774001, 6711.73242235858, 6259.527709667595, 6531.249786737056, 6166.590417501742, 6205.218479944854, 6318.407221774424, 6283.99625058153, 6212.2260400556115, 6267.76870877378, 6309.385226218996, 6566.715163377382, 6382.0605914076095, 6475.494019667379, 6242.8824384007985, 6467.271730309675, 6336.6563271087025, 6521.065718268509, 6684.379144206679, 6736.036057516459, 6728.2880026290095, 6911.096028949572, 7075.9834051051, 7046.748947280631, 7024.14510718162, 7027.631279401852, 7211.270767868822, 7305.272801003753, 7260.897516647864, 7359.462992923027, 6764.926773778225, 6498.2796126096555, 6397.81887024023, 6181.19445075213, 6260.764806062476, 6308.135474616629, 6278.917069628559, 6330.574238022664, 6486.461630393616, 6500.01225461663, 6530.221146234664, 6506.248493217292, 6250.121727322729, 6347.069255451608, 6383.753841158382, 6491.885242276883, 6753.8344721403255, 6747.032172960024, 6711.029451815934, 6596.187313045577, 6441.311544542553, 6462.795635292239, 6704.704245729721, 6634.765964572905, 6606.073795422076, 6626.037956098487, 6598.841259755177, 6524.60769791521, 6499.262379115219, 6578.701809284849, 6621.189363919919, 6589.124681678888, 6584.832153052514, 6653.089450830426, 6633.745729917172, 6582.455082387102, 6234.367641454442, 6285.592982799844, 6314.883384422573, 6328.554760034424, 6659.87550840943, 6635.125667516839, 6635.741832487943, 6517.511087710534, 6483.827769471798, 6532.678750383806, 6529.670021370842, 6512.589059298922, 6472.799660641591, 6481.443589558082, 6458.191521836801, 6468.826424965618, 6457.058635186671, 6481.323141667608, 6292.6479239344, 6331.781807909807, 6366.720109554257, 6379.972972168429, 6425.4415830402095, 6388.1897883073725, 6351.061941056285, 6415.443408541094, 6474.847290336688, 6574.801180290013, 6490.454730761757, 6413.78203857173, 6429.898792074219, 6434.2845969255495, 6411.353436205148, 6394.289276264062, 5788.612494046974, 5686.541131058274, 5609.956182334204, 5599.1915956893035, 5638.861481452398, 4889.197859239111, 4450.711454417822, 4613.44841218385, 4307.388731717267, 4376.904946801552, 3895.8368129589876, 4039.836551137432, 3811.9235292664935, 3832.92451590069, 4267.243628990657, 4279.475592548712, 4009.6895798259993, 4189.573822999859, 4124.593548643215, 3878.8392347832714, 3943.6928120656007, 3751.691966395661, 3466.763863771732, 3408.5236170431267, 3424.7058606626006, 3550.546433896889, 3433.8084404312785, 3378.808778413106, 3438.1000735289817, 3294.636156545267, 3216.6271499079407, 3221.9762037129963, 3217.0468349697426, 3506.2170132794818, 3655.775045729801, 3687.750553192723, 4065.097238010126, 3846.2274979885774, 3960.567773408038, 3941.617740158326, 4021.990255345401, 3759.1784268965694, 3781.613081593353, 3587.703880138819, 3854.4210969825917, 3778.193939889601, 3809.7282286410905, 3692.5315655246986, 3794.2642537397164, 3872.1721842228935, 3776.525807694106, 3815.268079882635, 3787.3078571242845, 4013.5200912973864, 3989.6687175387638, 3973.5912546157865, 3982.2259127624075, 3623.8477291056797, 3632.849306434781, 3598.4363465618803, 3495.832311307438, 3648.04828565649, 3567.801243199206, 3597.6473233295915, 3620.9812811457246, 3597.7932517701506, 3674.587270857304, 3539.167531041029, 3531.004182799933, 3571.2669080928695, 3555.7000025226243, 3565.6420046170365, 3564.822417111422, 3563.614563419144, 3553.121681129778, 3432.215668301249, 3413.3754832497975, 3457.8826491759864, 3431.943637864456, 3464.490147562154, 3486.581616258029, 3454.025843825187, 3464.003508861087, 3469.8946770792636, 3405.836861256719, 3394.0146529587223, 3664.2821026589836, 3667.4082642899566, 3675.6916291247258, 3631.444539729949, 3633.9650467461183, 3610.0622730634022, 3589.661829626318, 3601.2291913968643, 3622.5916530750715, 3665.075530800723, 3886.5202004751386, 3915.0099712770552, 3976.808906528991, 3934.813593894817, 3973.6413227746357, 4115.3379267876635, 3742.868946700387, 3824.683504217102, 3809.209774682024, 3813.377891881294, 3815.6076075249844, 3815.753939922755, 3819.645730582585, 3806.9542737979564, 3712.812457297799, 3852.461665785486, 3860.510762380684, 3871.637247965991, 3861.879307396147, 3941.600873271771, 3923.559788806432, 3860.3592300287123, 3876.480852754649, 3865.817782663389, 3876.6987080329527, 3925.460579704576, 4007.709463818873, 3980.9901047320204, 3986.7068940461468, 4013.5769693454813, 4045.57263350974, 3983.317781297362, 3989.1584912154526, 4008.945386314754, 3993.394900459549, 3927.577296521434, 3938.659743156943, 4036.1609179207603, 4028.3913011796208, 4103.322859513963, 4103.856421333923, 4103.521738549332, 4146.321927706636, 4862.230427766917, 4955.831824018296, 4899.021553783287, 5014.955826888765, 5041.869075888309, 5176.97788362072, 5266.89477647303, 5172.1752647597095, 5308.905683164441, 5047.79316241402, 5082.46515242293, 5072.987191337883, 5149.314492798127, 5039.881017404402, 5213.598376962082, 5218.957150384528, 5274.767013336503, 5280.354444383007, 5307.689183437135, 5311.164840299274, 5380.935789575588, 5557.9257276108365, 5452.101753394462, 5203.088598730703, 5295.847320048228, 5256.977802474059, 5257.803249232503, 5199.755008563461, 5292.803974562054, 5354.5868001739655, 5450.706620486424, 5731.493099606555, 5803.943309048437, 5749.323780460327, 5715.7571359661015, 5841.053771273751, 5957.856732858399, 6168.268996398258, 6370.233758607852, 7258.261280655222, 6953.75138858638, 7805.98164948938, 7990.055553534356, 8192.223138952013, 7875.913199526066, 7343.371457162994, 7300.655158341227, 8168.730689783752, 7976.851712899625, 7958.365526075088, 7665.79685383355, 7861.812792465447, 7977.244882467973, 8037.627431860584, 8631.080577844017, 8816.03391493351, 8726.978110456395, 8650.677405968292, 8310.891063057417, 8575.646353354166, 8554.261728092017, 8743.705469134235, 8173.632761796738, 7683.636261419786, 7812.44885473215, 7821.123897094859, 8036.108159122215, 7942.539284064289, 7668.029627860183, 8002.729982894047, 7897.975476598364, 8145.05909812096, 8227.625725590904, 8671.505388660793, 8818.609506932296, 8978.77258780693, 9312.868294808708, 9094.021746079217, 9285.928674251472, 9548.31456526146, 10118.359455626854, 10704.922148115673, 10846.12509964766, 11045.550419814825, 11808.419904075861, 12996.124342788677, 11178.682998186501, 12352.19686591269, 11972.555667220913, 10888.097181679726, 10639.046292232071, 10822.764178376405, 11975.637393818817, 11229.60561912491, 10987.248856214646, 11279.476377672418, 11436.430746923896, 12260.28269787262, 12544.167261709219, 12166.398288868606, 11385.060490564521, 11804.562793905448, 11418.511855491488, 10285.461109066944, 10911.345158309634, 9538.827124243868, 9657.303101319074, 10636.155728360647, 10536.565849576118, 10774.281137633849, 10607.463560702123, 10343.318139598357, 9936.380762347033, 9799.306312967936, 9878.23193291115, 9845.999447078504, 9447.678401413306, 9534.755426833233, 9510.593552181648, 9568.437452164315, 10062.996285663326, 10361.312000080692, 10529.171907427639, 10791.200523159, 10951.593834840049, 11818.525531066103, 11510.164154730011, 11970.657556451994, 12024.331570998236, 11852.561606995518, 11327.842642233223, 11549.998354322472, 11381.241355678554, 10903.6549918801, 10016.217389275296, 10295.87714290961, 10324.993597415598, 10224.218706633936, 10309.872435928555, 10895.97184442924, 10743.789313302059, 10124.058214168905, 10127.78985767835, 10385.509090033882, 10145.01247970698, 10090.061576030994, 10334.911854471331, 10167.889390020262, 9753.48704889705, 9485.141423780755, 9588.98750205815, 9607.289264302583, 9729.266231867814, 10323.022660378076, 10620.165189356907, 10573.515179027892, 10570.249940786205, 10350.748325717243, 10461.547731202416, 10404.333900445994, 10321.931613525778, 10121.102297214318, 10150.71002363705, 10401.319919342226, 10355.626898620032, 10349.551958231765, 10305.675020156998, 10268.421696882157, 10203.071046816189, 10158.854517376085, 10253.232374680329, 10178.442572698175, 9997.199887816778, 10041.304200624943, 9699.504938095957, 8702.713528026236, 8446.244115548528, 8098.80982048931, 8183.482347567026, 8225.11037185192, 8064.380983385267, 8271.290855465355, 8366.503905663569, 8350.132163242944, 8176.354679406582, 8156.519553840962, 8140.242484268429, 7890.234349864658, 8182.251593084191, 8180.69113018462, 8573.060086448735, 8561.51932921772, 8277.848351085042, 8308.470967433434, 8289.497236618896, 8347.350350085451, 8175.8631121051185, 8010.3021797941665, 8079.931459479744, 7957.314093995798, 7949.802268609832, 8208.362621758712, 8220.91853113097, 8045.294246807262, 7468.5325324369, 7433.915345679171, 8652.030029867461, 9217.236031536286, 9502.020114436129, 9239.897283779665, 9407.163351459427, 9171.874474054188, 9151.824594459767, 9233.413801605904, 9302.83461784109, 9204.286350451268, 9378.953914330921, 9300.373963047077, 9340.048651574896, 9221.073784983802, 8795.896069400225, 8809.78367388588, 9043.673292397065, 8729.917418490728, 8806.751998954014, 8770.78082523136, 8652.025288272329, 8480.435541874604, 8496.376959145864, 8508.499434051764, 8202.834446107912, 8138.831605359057, 8095.865638011639, 7632.494765498649, 7293.013949172297, 7309.689243566324, 6935.73862740252, 7118.264883393205, 7157.684731054473, 7483.754192176799, 7438.621769308849, 7720.865011260837, 7556.397585815771, 7405.808478752477, 7308.982444423794, 7286.080951511441, 7209.971417454778, 7373.782498577651, 7530.922830404948, 7493.545154556748, 7508.315669139108, 7347.036951245358, 7233.950487171398, 7197.426825880834, 7200.7070180298015, 7247.350277010915, 7081.740255265727, 7108.563021778046, 6901.036915336086, 6627.162514553135, 7274.768503792503, 7152.558691632884, 7185.439179630756, 7141.554857046259, 7488.196174601466, 7335.207616177015, 7266.60819662888, 7204.1848756885975, 7208.489307892152, 7247.62371236525, 7307.887522683333, 7394.029285530991, 7240.4289122518185, 7195.153895430029, 7193.7546679601, 6963.853353983485, 7300.34693530511, 7351.377053166627, 7349.972248050628, 7734.675515785289, 8147.415237636371, 8045.789124592971, 7832.795643840387, 8180.513169803805, 8012.085781814529, 8171.401185320944, 8110.647964503772, 8801.871213137745, 8820.85010599613, 8720.91950137424, 8902.568995225329, 8906.902675151074, 8690.380569544623, 8631.253954333763, 8724.818622931474, 8665.436914096897, 8415.956027335538, 8432.096675789418, 8348.665665079325, 8595.728298493115, 8879.335548714553, 9320.805853868467, 9276.893821086494, 9509.80513557522, 9308.060285564778, 9363.22420680057, 9338.416631939404, 9308.91270229121, 9179.95928107711, 9592.18387389791, 9744.636578159387, 9799.448455824684, 9890.701658194865, 10148.379719131783, 9890.121224019967, 10226.925769215322, 10328.897565836414, 10221.260309201634, 10320.157140513991, 9894.136123789158, 9943.673602578743, 9723.605026422496, 10133.817417084678, 9618.409248250406, 9608.16918128246, 9673.011800270346, 9658.606058375473, 9946.716123467522, 9670.9608064677, 9345.342701734848, 8801.657129472504, 8781.175282202359, 8717.331431359424, 8552.989118581636, 8567.802248679225, 8905.876104262194, 8756.718576742549, 8758.646993191916, 9038.870323233425, 9135.84506603321, 8902.20195010789, 8041.365538071835, 7921.33200691072, 7906.731528510632, 7935.522040170545, 5142.990459018316, 5542.819542373153, 5214.189112383918, 5397.93335743919, 5032.501351487721, 5389.41577503409, 5376.280747845438, 6170.200600237675, 6195.603505257629, 6145.770891252399, 5859.647430299388, 6456.347485963419, 6730.173782371188, 6695.9006183977235, 6765.56207892991, 6397.826328325604, 6255.000398693634, 5915.337154791903, 6403.141235565223, 6421.70541388854, 6640.797666310131, 6807.897017890566, 6732.852018394612, 6859.424923721944, 6788.048272605917, 7297.635558289496, 7196.782202442051, 7342.291601148024, 7294.488875121554, 6864.694257006497, 6878.781212589853, 6913.158787469097, 6857.538537511484, 6860.17853570111, 6629.431738031291, 7059.92622475854, 7035.261503989225, 7242.5109294929825, 7127.511949689152, 6856.456278354705, 6842.038597634602, 7109.995291181778, 7382.793144116689, 7495.393587498606, 7538.557687279841, 7683.867415083342, 7774.281554448049, 7758.230255185947, 8744.430287016561, 8610.63580374089, 8824.818413551968, 8966.307014689282, 8888.671912686868, 8884.407813577056, 9003.240557621584, 9144.68703972007, 9959.166416261767, 9821.81131529702, 9566.777187205966, 8752.617087745832, 8604.75159101983, 8788.466749414652, 9283.08601265873, 9796.494527024528, 9309.29535940684, 9375.29710843331, 9666.32719340344, 9708.439858793108, 9760.198937162193, 9526.50759300584, 9059.962506871727, 9131.767275081993, 9170.361063506127, 8731.848525870651, 8883.691769863415, 8839.130663273247, 9174.118563996424, 9546.04563503715, 9427.120373393418, 9662.70587254818, 9466.961781429516, 10167.93069332851, 9515.243858655718, 9645.227869360308, 9776.20299178848, 9636.965527050057, 9662.858709002241, 9738.603356828593, 9773.02951309516, 9767.00531665552, 9874.898681832236, 9325.996856202635, 9469.533297509908, 9469.473456163696, 9345.960907722063, 9431.719262201745, 9524.92661691022, 9463.361414311787, 9399.767217129216, 9312.780104497786, 9360.247968201687, 9298.360829121417, 9678.683208975835, 9624.684291831398, 9288.061774486938, 9258.667161007706, 9166.486360416233, 9013.90556467614, 9139.903276297824, 9185.166540651147, 9149.721996758017, 9230.672998590804, 9094.318072166905, 9071.3850427828, 9132.908369533492, 9087.407312582163, 9342.376492626678, 9253.630980242333, 9432.172515827939, 9235.716302064242, 9282.913638839902, 9234.314674712627, 9297.479635872663, 9240.76251972468, 9247.060695963813, 9203.371435179699, 9136.483376363976, 9156.276583115488, 9168.402736564132, 9202.615839500108, 9163.159654576915, 9384.379751903267, 9514.304987626969, 9589.81771944117, 9535.93879573746, 9691.825138917147, 9925.751397476346, 10962.258481207355, 10904.916526918994, 11093.612240442404, 11116.307163685275, 11325.5515272739, 11812.094307268515, 11066.306240590267, 11230.907762749297, 11181.917508034885, 11719.26352395155, 11768.127742240009, 11571.487980683192, 11739.131006414418, 11682.851469154939, 11862.938012702563, 11398.671060896633, 11579.867951602135, 11817.164038803397, 11777.391322489924, 11864.905810156475, 11901.776488302461, 12272.465808160425, 11949.610970628193, 11733.278970862082, 11861.83657727968, 11515.124298729217, 11676.385305081287, 11647.928120934363, 11758.828120368864, 11350.753473213, 11465.002564032086, 11300.398363810944, 11519.118388160729, 11481.481823317012, 11701.004008657852, 11672.324104943627, 11895.225345345636, 11418.254756916149, 10197.459822768922, 10484.470392265588, 10177.789718049991, 10260.0177277544, 10359.445216989981, 10125.014956069688, 10230.154699360752, 10342.159391205681, 10378.223044584596, 10439.38467226404, 10328.866065987393, 10661.096235144483, 10787.58020807624, 10952.249969107099, 10937.996396960929, 10927.150310293275, 11083.99836119821, 10923.32666818137, 10439.522488792423, 10527.58784673943, 10223.784106392732, 10726.530083321983, 10681.993848113701, 10743.19287975935, 10765.300521660893, 10672.02854425897, 10837.516586513004, 10770.881347466415, 10627.976063963179, 10572.674843011133, 10546.65625537982, 10670.700811335208, 10784.94940309411, 10605.95779130622, 10668.011010796896, 10888.666546835811, 11063.2523862591, 11286.541942043945, 11377.814876756858, 11543.183760771468, 11426.105544220427, 11435.57243757972, 11495.584995733887, 11319.097785677623, 11365.814131026178, 11495.899975689872, 11752.146863919786, 11908.708923246453, 12806.435726727443, 12951.044060038126, 12928.072296348406, 13106.04601925958, 13021.410842124118, 13060.79221208406, 13655.185415883081, 13282.999348292438, 13441.878496031612, 13537.174271524887, 13778.637638352931, 13720.361465146289, 13558.361795524168, 13989.976358180447, 14101.716050813722, 15553.331701081443, 15548.312145063144, 14818.45891122149, 15496.316149147417, 15335.342198178862, 15278.70965979927, 15686.905986213233, 16265.149252483357, 16326.81487507908, 16095.561510630652, 15984.673784156614, 16714.40386322188, 17651.82042768171, 17829.934958345126, 17819.75743096837, 18628.813489036198, 18689.528655825852, 18390.61184379203, 18360.693300385865, 19091.524181728702, 18753.288921684914, 17138.029512395206, 17140.27555252362, 17718.972832629497, 18169.95420978285, 19609.52143957559, 18857.417371118165, 19208.398191994624, 19435.20484740911, 18711.226549886927, 19139.111575237486, 19325.55411859109, 19198.806493935343, 18336.514581297808, 18564.986455688137, 18262.058384653155, 18058.027339569555, 18807.09540322016, 19151.13442340493, 19259.97047153096, 19432.362456862407, 21317.66213678684, 22805.65580598891, 23120.57055156752, 23863.85484171969, 23518.31842054723, 22840.991707188354, 23794.79330262859, 23308.12723217715, 23760.287048542956, 24671.107714415415, 26476.130137019492, 26423.22879190229, 27125.384120651503, 27424.538954606684, 28837.28852895899, 29022.41839530417, 29352.12679194895, 32163.824935335215, 33008.226203489285, 31515.575966658354, 34082.20604904424, 36933.520137309126, 39547.08408135567, 40815.96185478254, 40296.5290038294, 38397.895985418174, 35669.90668663349, 33938.33587810088, 37456.00772548642, 39232.74997140346, 36787.52121668496, 36254.713079410845, 35804.263885674685, 36595.4647692826, 36104.86385775514, 35587.489202735545, 30913.695736053804, 32957.908782655926, 32068.08737440817, 32273.51735032927, 32375.320062981456, 32582.10944502123, 30445.52586511351, 33128.34752861149, 34150.81876737221, 34199.51981036302, 33064.78676701507, 33405.99035714327, 35485.98593382442, 37494.71762460426, 36816.50808203406, 38007.83222908396, 39279.41286897885, 38833.34026455532, 46307.57412159395, 46569.56483, 44848.69344950499, 47815.96175554316, 47414.1862550079, 46941.29208582354, 48607.8745224845, 47898.487027633135, 49238.13690672487, 52143.6788446198, 51733.075539032034, 56038.72775892988, 56377.63347790987, 57669.3035269179, 54410.85629451601, 48691.894831704405, 49849.378713583144, 46992.665450048495, 46551.48747675472, 46653.52639939581, 44970.163459946736, 49787.33995949672, 48532.23678981703, 50577.45746915202, 48727.45120080115, 49091.81488232977, 49019.36859236582, 51313.09262027362, 52328.5359126325, 54700.273439277444, 56020.4877195857, 57788.86810329514, 57353.86147197248, 61315.197932766816, 59428.967566027764, 55805.32924923426, 56830.253335076224, 59014.92563205099, 57922.40959262911, 58243.27060892363, 58376.15847137206, 57573.539344778685, 54370.137557895185, 54584.86994699455, 52526.86659704657, 51416.908304980054, 55033.100480447036, 55832.418109618324, 55728.10132780653, 57634.92869447539, 58668.628336761, 58817.3738884188, 58801.194843878126, 59060.02678333801, 57060.40665471088, 58228.802623466196, 58706.81559311396, 58062.17872433649, 56134.41738866435, 58065.644024815316, 58152.993262141834, 59979.39281571831, 59988.02095852983, 59911.020594847316, 63576.676041048275, 62807.12323259299, 63179.772446084695, 61497.299569441195, 60273.86667694734], \"yaxis\": \"y\"}],\n",
              "                        {\"legend\": {\"tracegroupgap\": 0}, \"template\": {\"data\": {\"bar\": [{\"error_x\": {\"color\": \"#2a3f5f\"}, \"error_y\": {\"color\": \"#2a3f5f\"}, \"marker\": {\"line\": {\"color\": \"#E5ECF6\", \"width\": 0.5}}, \"type\": \"bar\"}], \"barpolar\": [{\"marker\": {\"line\": {\"color\": \"#E5ECF6\", \"width\": 0.5}}, \"type\": \"barpolar\"}], \"carpet\": [{\"aaxis\": {\"endlinecolor\": \"#2a3f5f\", \"gridcolor\": \"white\", \"linecolor\": \"white\", \"minorgridcolor\": \"white\", \"startlinecolor\": \"#2a3f5f\"}, \"baxis\": {\"endlinecolor\": \"#2a3f5f\", \"gridcolor\": \"white\", \"linecolor\": \"white\", \"minorgridcolor\": \"white\", \"startlinecolor\": \"#2a3f5f\"}, \"type\": \"carpet\"}], \"choropleth\": [{\"colorbar\": {\"outlinewidth\": 0, \"ticks\": \"\"}, \"type\": \"choropleth\"}], \"contour\": [{\"colorbar\": {\"outlinewidth\": 0, \"ticks\": \"\"}, \"colorscale\": [[0.0, \"#0d0887\"], [0.1111111111111111, \"#46039f\"], [0.2222222222222222, \"#7201a8\"], [0.3333333333333333, \"#9c179e\"], [0.4444444444444444, \"#bd3786\"], [0.5555555555555556, \"#d8576b\"], [0.6666666666666666, \"#ed7953\"], [0.7777777777777778, \"#fb9f3a\"], [0.8888888888888888, \"#fdca26\"], [1.0, \"#f0f921\"]], \"type\": \"contour\"}], \"contourcarpet\": [{\"colorbar\": {\"outlinewidth\": 0, \"ticks\": \"\"}, \"type\": \"contourcarpet\"}], \"heatmap\": [{\"colorbar\": {\"outlinewidth\": 0, \"ticks\": \"\"}, \"colorscale\": [[0.0, \"#0d0887\"], [0.1111111111111111, \"#46039f\"], [0.2222222222222222, \"#7201a8\"], [0.3333333333333333, \"#9c179e\"], [0.4444444444444444, \"#bd3786\"], [0.5555555555555556, \"#d8576b\"], [0.6666666666666666, \"#ed7953\"], [0.7777777777777778, \"#fb9f3a\"], [0.8888888888888888, \"#fdca26\"], [1.0, \"#f0f921\"]], \"type\": \"heatmap\"}], \"heatmapgl\": [{\"colorbar\": {\"outlinewidth\": 0, \"ticks\": \"\"}, \"colorscale\": [[0.0, \"#0d0887\"], [0.1111111111111111, \"#46039f\"], [0.2222222222222222, \"#7201a8\"], [0.3333333333333333, \"#9c179e\"], [0.4444444444444444, \"#bd3786\"], [0.5555555555555556, \"#d8576b\"], [0.6666666666666666, \"#ed7953\"], [0.7777777777777778, \"#fb9f3a\"], [0.8888888888888888, \"#fdca26\"], [1.0, \"#f0f921\"]], \"type\": \"heatmapgl\"}], \"histogram\": [{\"marker\": {\"colorbar\": {\"outlinewidth\": 0, \"ticks\": \"\"}}, \"type\": \"histogram\"}], \"histogram2d\": [{\"colorbar\": {\"outlinewidth\": 0, \"ticks\": \"\"}, \"colorscale\": [[0.0, \"#0d0887\"], [0.1111111111111111, \"#46039f\"], [0.2222222222222222, \"#7201a8\"], [0.3333333333333333, \"#9c179e\"], [0.4444444444444444, \"#bd3786\"], [0.5555555555555556, \"#d8576b\"], [0.6666666666666666, \"#ed7953\"], [0.7777777777777778, \"#fb9f3a\"], [0.8888888888888888, \"#fdca26\"], [1.0, \"#f0f921\"]], \"type\": \"histogram2d\"}], \"histogram2dcontour\": [{\"colorbar\": {\"outlinewidth\": 0, \"ticks\": \"\"}, \"colorscale\": [[0.0, \"#0d0887\"], [0.1111111111111111, \"#46039f\"], [0.2222222222222222, \"#7201a8\"], [0.3333333333333333, \"#9c179e\"], [0.4444444444444444, \"#bd3786\"], [0.5555555555555556, \"#d8576b\"], [0.6666666666666666, \"#ed7953\"], [0.7777777777777778, \"#fb9f3a\"], [0.8888888888888888, \"#fdca26\"], [1.0, \"#f0f921\"]], \"type\": \"histogram2dcontour\"}], \"mesh3d\": [{\"colorbar\": {\"outlinewidth\": 0, \"ticks\": \"\"}, \"type\": \"mesh3d\"}], \"parcoords\": [{\"line\": {\"colorbar\": {\"outlinewidth\": 0, \"ticks\": \"\"}}, \"type\": \"parcoords\"}], \"pie\": [{\"automargin\": true, \"type\": \"pie\"}], \"scatter\": [{\"marker\": {\"colorbar\": {\"outlinewidth\": 0, \"ticks\": \"\"}}, \"type\": \"scatter\"}], \"scatter3d\": [{\"line\": {\"colorbar\": {\"outlinewidth\": 0, \"ticks\": \"\"}}, \"marker\": {\"colorbar\": {\"outlinewidth\": 0, \"ticks\": \"\"}}, \"type\": \"scatter3d\"}], \"scattercarpet\": [{\"marker\": {\"colorbar\": {\"outlinewidth\": 0, \"ticks\": \"\"}}, \"type\": \"scattercarpet\"}], \"scattergeo\": [{\"marker\": {\"colorbar\": {\"outlinewidth\": 0, \"ticks\": \"\"}}, \"type\": \"scattergeo\"}], \"scattergl\": [{\"marker\": {\"colorbar\": {\"outlinewidth\": 0, \"ticks\": \"\"}}, \"type\": \"scattergl\"}], \"scattermapbox\": [{\"marker\": {\"colorbar\": {\"outlinewidth\": 0, \"ticks\": \"\"}}, \"type\": \"scattermapbox\"}], \"scatterpolar\": [{\"marker\": {\"colorbar\": {\"outlinewidth\": 0, \"ticks\": \"\"}}, \"type\": \"scatterpolar\"}], \"scatterpolargl\": [{\"marker\": {\"colorbar\": {\"outlinewidth\": 0, \"ticks\": \"\"}}, \"type\": \"scatterpolargl\"}], \"scatterternary\": [{\"marker\": {\"colorbar\": {\"outlinewidth\": 0, \"ticks\": \"\"}}, \"type\": \"scatterternary\"}], \"surface\": [{\"colorbar\": {\"outlinewidth\": 0, \"ticks\": \"\"}, \"colorscale\": [[0.0, \"#0d0887\"], [0.1111111111111111, \"#46039f\"], [0.2222222222222222, \"#7201a8\"], [0.3333333333333333, \"#9c179e\"], [0.4444444444444444, \"#bd3786\"], [0.5555555555555556, \"#d8576b\"], [0.6666666666666666, \"#ed7953\"], [0.7777777777777778, \"#fb9f3a\"], [0.8888888888888888, \"#fdca26\"], [1.0, \"#f0f921\"]], \"type\": \"surface\"}], \"table\": [{\"cells\": {\"fill\": {\"color\": \"#EBF0F8\"}, \"line\": {\"color\": \"white\"}}, \"header\": {\"fill\": {\"color\": \"#C8D4E3\"}, \"line\": {\"color\": \"white\"}}, \"type\": \"table\"}]}, \"layout\": {\"annotationdefaults\": {\"arrowcolor\": \"#2a3f5f\", \"arrowhead\": 0, \"arrowwidth\": 1}, \"coloraxis\": {\"colorbar\": {\"outlinewidth\": 0, \"ticks\": \"\"}}, \"colorscale\": {\"diverging\": [[0, \"#8e0152\"], [0.1, \"#c51b7d\"], [0.2, \"#de77ae\"], [0.3, \"#f1b6da\"], [0.4, \"#fde0ef\"], [0.5, \"#f7f7f7\"], [0.6, \"#e6f5d0\"], [0.7, \"#b8e186\"], [0.8, \"#7fbc41\"], [0.9, \"#4d9221\"], [1, \"#276419\"]], \"sequential\": [[0.0, \"#0d0887\"], [0.1111111111111111, \"#46039f\"], [0.2222222222222222, \"#7201a8\"], [0.3333333333333333, \"#9c179e\"], [0.4444444444444444, \"#bd3786\"], [0.5555555555555556, \"#d8576b\"], [0.6666666666666666, \"#ed7953\"], [0.7777777777777778, \"#fb9f3a\"], [0.8888888888888888, \"#fdca26\"], [1.0, \"#f0f921\"]], \"sequentialminus\": [[0.0, \"#0d0887\"], [0.1111111111111111, \"#46039f\"], [0.2222222222222222, \"#7201a8\"], [0.3333333333333333, \"#9c179e\"], [0.4444444444444444, \"#bd3786\"], [0.5555555555555556, \"#d8576b\"], [0.6666666666666666, \"#ed7953\"], [0.7777777777777778, \"#fb9f3a\"], [0.8888888888888888, \"#fdca26\"], [1.0, \"#f0f921\"]]}, \"colorway\": [\"#636efa\", \"#EF553B\", \"#00cc96\", \"#ab63fa\", \"#FFA15A\", \"#19d3f3\", \"#FF6692\", \"#B6E880\", \"#FF97FF\", \"#FECB52\"], \"font\": {\"color\": \"#2a3f5f\"}, \"geo\": {\"bgcolor\": \"white\", \"lakecolor\": \"white\", \"landcolor\": \"#E5ECF6\", \"showlakes\": true, \"showland\": true, \"subunitcolor\": \"white\"}, \"hoverlabel\": {\"align\": \"left\"}, \"hovermode\": \"closest\", \"mapbox\": {\"style\": \"light\"}, \"paper_bgcolor\": \"white\", \"plot_bgcolor\": \"#E5ECF6\", \"polar\": {\"angularaxis\": {\"gridcolor\": \"white\", \"linecolor\": \"white\", \"ticks\": \"\"}, \"bgcolor\": \"#E5ECF6\", \"radialaxis\": {\"gridcolor\": \"white\", \"linecolor\": \"white\", \"ticks\": \"\"}}, \"scene\": {\"xaxis\": {\"backgroundcolor\": \"#E5ECF6\", \"gridcolor\": \"white\", \"gridwidth\": 2, \"linecolor\": \"white\", \"showbackground\": true, \"ticks\": \"\", \"zerolinecolor\": \"white\"}, \"yaxis\": {\"backgroundcolor\": \"#E5ECF6\", \"gridcolor\": \"white\", \"gridwidth\": 2, \"linecolor\": \"white\", \"showbackground\": true, \"ticks\": \"\", \"zerolinecolor\": \"white\"}, \"zaxis\": {\"backgroundcolor\": \"#E5ECF6\", \"gridcolor\": \"white\", \"gridwidth\": 2, \"linecolor\": \"white\", \"showbackground\": true, \"ticks\": \"\", \"zerolinecolor\": \"white\"}}, \"shapedefaults\": {\"line\": {\"color\": \"#2a3f5f\"}}, \"ternary\": {\"aaxis\": {\"gridcolor\": \"white\", \"linecolor\": \"white\", \"ticks\": \"\"}, \"baxis\": {\"gridcolor\": \"white\", \"linecolor\": \"white\", \"ticks\": \"\"}, \"bgcolor\": \"#E5ECF6\", \"caxis\": {\"gridcolor\": \"white\", \"linecolor\": \"white\", \"ticks\": \"\"}}, \"title\": {\"x\": 0.05}, \"xaxis\": {\"automargin\": true, \"gridcolor\": \"white\", \"linecolor\": \"white\", \"ticks\": \"\", \"title\": {\"standoff\": 15}, \"zerolinecolor\": \"white\", \"zerolinewidth\": 2}, \"yaxis\": {\"automargin\": true, \"gridcolor\": \"white\", \"linecolor\": \"white\", \"ticks\": \"\", \"title\": {\"standoff\": 15}, \"zerolinecolor\": \"white\", \"zerolinewidth\": 2}}}, \"title\": {\"text\": \"bitcoin\"}, \"xaxis\": {\"anchor\": \"y\", \"domain\": [0.0, 1.0], \"title\": {\"text\": \"date\"}}, \"yaxis\": {\"anchor\": \"x\", \"domain\": [0.0, 1.0], \"title\": {\"text\": \"price\"}}},\n",
              "                        {\"responsive\": true}\n",
              "                    ).then(function(){\n",
              "                            \n",
              "var gd = document.getElementById('04ed570d-1901-46c3-ab6d-ca67073cb1be');\n",
              "var x = new MutationObserver(function (mutations, observer) {{\n",
              "        var display = window.getComputedStyle(gd).display;\n",
              "        if (!display || display === 'none') {{\n",
              "            console.log([gd, 'removed!']);\n",
              "            Plotly.purge(gd);\n",
              "            observer.disconnect();\n",
              "        }}\n",
              "}});\n",
              "\n",
              "// Listen for the removal of the full notebook cells\n",
              "var notebookContainer = gd.closest('#notebook-container');\n",
              "if (notebookContainer) {{\n",
              "    x.observe(notebookContainer, {childList: true});\n",
              "}}\n",
              "\n",
              "// Listen for the clearing of the current output cell\n",
              "var outputEl = gd.closest('.output');\n",
              "if (outputEl) {{\n",
              "    x.observe(outputEl, {childList: true});\n",
              "}}\n",
              "\n",
              "                        })\n",
              "                };\n",
              "                \n",
              "            </script>\n",
              "        </div>\n",
              "</body>\n",
              "</html>"
            ]
          },
          "metadata": {
            "tags": []
          }
        }
      ]
    },
    {
      "cell_type": "code",
      "metadata": {
        "colab": {
          "base_uri": "https://localhost:8080/"
        },
        "id": "G-5yxgTKDiL_",
        "outputId": "c58fbbcd-af84-4efb-cc56-982d162609c6"
      },
      "source": [
        "!pip install tbats"
      ],
      "execution_count": 1,
      "outputs": [
        {
          "output_type": "stream",
          "text": [
            "Collecting tbats\n",
            "\u001b[?25l  Downloading https://files.pythonhosted.org/packages/7d/34/c376a23348993deb50d36372324f4e7c5510608a1f49bca7d20390824327/tbats-1.1.0-py3-none-any.whl (43kB)\n",
            "\r\u001b[K     |███████▌                        | 10kB 13.8MB/s eta 0:00:01\r\u001b[K     |███████████████                 | 20kB 19.0MB/s eta 0:00:01\r\u001b[K     |██████████████████████▍         | 30kB 22.5MB/s eta 0:00:01\r\u001b[K     |██████████████████████████████  | 40kB 25.9MB/s eta 0:00:01\r\u001b[K     |████████████████████████████████| 51kB 4.2MB/s \n",
            "\u001b[?25hRequirement already satisfied: scipy in /usr/local/lib/python3.7/dist-packages (from tbats) (1.4.1)\n",
            "Requirement already satisfied: numpy in /usr/local/lib/python3.7/dist-packages (from tbats) (1.19.5)\n",
            "Requirement already satisfied: scikit-learn in /usr/local/lib/python3.7/dist-packages (from tbats) (0.22.2.post1)\n",
            "Collecting pmdarima\n",
            "\u001b[?25l  Downloading https://files.pythonhosted.org/packages/51/57/99ce8a09e6f89fde92c0a27b97dda778f43d30a1cc2ae4e345d61353fcc0/pmdarima-1.8.1-cp37-cp37m-manylinux1_x86_64.whl (1.5MB)\n",
            "\u001b[K     |████████████████████████████████| 1.5MB 19.5MB/s \n",
            "\u001b[?25hRequirement already satisfied: joblib>=0.11 in /usr/local/lib/python3.7/dist-packages (from scikit-learn->tbats) (1.0.1)\n",
            "Requirement already satisfied: pandas>=0.19 in /usr/local/lib/python3.7/dist-packages (from pmdarima->tbats) (1.1.5)\n",
            "Collecting statsmodels!=0.12.0,>=0.11\n",
            "\u001b[?25l  Downloading https://files.pythonhosted.org/packages/da/69/8eef30a6237c54f3c0b524140e2975f4b1eea3489b45eb3339574fc8acee/statsmodels-0.12.2-cp37-cp37m-manylinux1_x86_64.whl (9.5MB)\n",
            "\u001b[K     |████████████████████████████████| 9.5MB 33.1MB/s \n",
            "\u001b[?25hRequirement already satisfied: Cython!=0.29.18,>=0.29 in /usr/local/lib/python3.7/dist-packages (from pmdarima->tbats) (0.29.22)\n",
            "Requirement already satisfied: urllib3 in /usr/local/lib/python3.7/dist-packages (from pmdarima->tbats) (1.24.3)\n",
            "Requirement already satisfied: setuptools!=50.0.0,>=38.6.0 in /usr/local/lib/python3.7/dist-packages (from pmdarima->tbats) (54.2.0)\n",
            "Requirement already satisfied: python-dateutil>=2.7.3 in /usr/local/lib/python3.7/dist-packages (from pandas>=0.19->pmdarima->tbats) (2.8.1)\n",
            "Requirement already satisfied: pytz>=2017.2 in /usr/local/lib/python3.7/dist-packages (from pandas>=0.19->pmdarima->tbats) (2018.9)\n",
            "Requirement already satisfied: patsy>=0.5 in /usr/local/lib/python3.7/dist-packages (from statsmodels!=0.12.0,>=0.11->pmdarima->tbats) (0.5.1)\n",
            "Requirement already satisfied: six>=1.5 in /usr/local/lib/python3.7/dist-packages (from python-dateutil>=2.7.3->pandas>=0.19->pmdarima->tbats) (1.15.0)\n",
            "Installing collected packages: statsmodels, pmdarima, tbats\n",
            "  Found existing installation: statsmodels 0.10.2\n",
            "    Uninstalling statsmodels-0.10.2:\n",
            "      Successfully uninstalled statsmodels-0.10.2\n",
            "Successfully installed pmdarima-1.8.1 statsmodels-0.12.2 tbats-1.1.0\n"
          ],
          "name": "stdout"
        }
      ]
    },
    {
      "cell_type": "code",
      "metadata": {
        "colab": {
          "base_uri": "https://localhost:8080/",
          "height": 477
        },
        "id": "U170AdWoUok8",
        "outputId": "9bb42665-a746-4a33-d711-c12b921c7b07"
      },
      "source": [
        "!pip uninstall numpy\n",
        "!pip install numpy"
      ],
      "execution_count": 5,
      "outputs": [
        {
          "output_type": "stream",
          "text": [
            "Uninstalling numpy-1.19.5:\n",
            "  Would remove:\n",
            "    /usr/bin/f2py\n",
            "    /usr/local/bin/f2py\n",
            "    /usr/local/bin/f2py3\n",
            "    /usr/local/bin/f2py3.7\n",
            "    /usr/local/lib/python3.7/dist-packages/numpy-1.19.5.dist-info/*\n",
            "    /usr/local/lib/python3.7/dist-packages/numpy.libs/libgfortran-2e0d59d6.so.5.0.0\n",
            "    /usr/local/lib/python3.7/dist-packages/numpy.libs/libopenblasp-r0-09e95953.3.13.so\n",
            "    /usr/local/lib/python3.7/dist-packages/numpy.libs/libquadmath-2d0c479f.so.0.0.0\n",
            "    /usr/local/lib/python3.7/dist-packages/numpy.libs/libz-eb09ad1d.so.1.2.3\n",
            "    /usr/local/lib/python3.7/dist-packages/numpy/*\n",
            "Proceed (y/n)? y\n",
            "  Successfully uninstalled numpy-1.19.5\n",
            "Collecting numpy\n",
            "\u001b[?25l  Downloading https://files.pythonhosted.org/packages/73/ef/8967d406f3f85018ceb5efab50431e901683188f1741ceb053efcab26c87/numpy-1.20.2-cp37-cp37m-manylinux2010_x86_64.whl (15.3MB)\n",
            "\u001b[K     |████████████████████████████████| 15.3MB 323kB/s \n",
            "\u001b[31mERROR: tensorflow 2.4.1 has requirement numpy~=1.19.2, but you'll have numpy 1.20.2 which is incompatible.\u001b[0m\n",
            "\u001b[31mERROR: datascience 0.10.6 has requirement folium==0.2.1, but you'll have folium 0.8.3 which is incompatible.\u001b[0m\n",
            "\u001b[31mERROR: albumentations 0.1.12 has requirement imgaug<0.2.7,>=0.2.5, but you'll have imgaug 0.2.9 which is incompatible.\u001b[0m\n",
            "\u001b[?25hInstalling collected packages: numpy\n",
            "Successfully installed numpy-1.20.2\n"
          ],
          "name": "stdout"
        },
        {
          "output_type": "display_data",
          "data": {
            "application/vnd.colab-display-data+json": {
              "pip_warning": {
                "packages": [
                  "numpy"
                ]
              }
            }
          },
          "metadata": {
            "tags": []
          }
        }
      ]
    },
    {
      "cell_type": "code",
      "metadata": {
        "id": "0c_1NzOFU_Gt"
      },
      "source": [
        ""
      ],
      "execution_count": 76,
      "outputs": []
    },
    {
      "cell_type": "code",
      "metadata": {
        "id": "MuXv0kjMU_Jp"
      },
      "source": [
        "df = df.set_index('date')\n",
        "y = df['price']\n",
        "y_to_train = y.iloc[:(len(y)-365)]\n",
        "y_to_test = y.iloc[(len(y)-365):] # last year for testing"
      ],
      "execution_count": 77,
      "outputs": []
    },
    {
      "cell_type": "code",
      "metadata": {
        "id": "VzmbUbLzUMTT"
      },
      "source": [
        "from tbats import TBATS, BATS\n",
        "# Fit the model\n",
        "estimator = TBATS(seasonal_periods=(7, 365.25))\n"
      ],
      "execution_count": 28,
      "outputs": []
    },
    {
      "cell_type": "code",
      "metadata": {
        "id": "ANMKqkB9UXa4"
      },
      "source": [
        "model = estimator.fit(y_to_train)\n",
        "# Forecast 365 days ahead\n",
        "y_forecast = model.forecast(steps=365)"
      ],
      "execution_count": 78,
      "outputs": []
    },
    {
      "cell_type": "code",
      "metadata": {
        "colab": {
          "base_uri": "https://localhost:8080/"
        },
        "id": "w_DWxeHwVrch",
        "outputId": "8854287b-b0ba-4b79-e4f5-12a16f4b0d25"
      },
      "source": [
        "y_forecast"
      ],
      "execution_count": 79,
      "outputs": [
        {
          "output_type": "execute_result",
          "data": {
            "text/plain": [
              "array([7035.58345892, 7035.58345892, 7035.58345892, 7035.58345892,\n",
              "       7035.58345892, 7035.58345892, 7035.58345892, 7035.58345892,\n",
              "       7035.58345892, 7035.58345892, 7035.58345892, 7035.58345892,\n",
              "       7035.58345892, 7035.58345892, 7035.58345892, 7035.58345892,\n",
              "       7035.58345892, 7035.58345892, 7035.58345892, 7035.58345892,\n",
              "       7035.58345892, 7035.58345892, 7035.58345892, 7035.58345892,\n",
              "       7035.58345892, 7035.58345892, 7035.58345892, 7035.58345892,\n",
              "       7035.58345892, 7035.58345892, 7035.58345892, 7035.58345892,\n",
              "       7035.58345892, 7035.58345892, 7035.58345892, 7035.58345892,\n",
              "       7035.58345892, 7035.58345892, 7035.58345892, 7035.58345892,\n",
              "       7035.58345892, 7035.58345892, 7035.58345892, 7035.58345892,\n",
              "       7035.58345892, 7035.58345892, 7035.58345892, 7035.58345892,\n",
              "       7035.58345892, 7035.58345892, 7035.58345892, 7035.58345892,\n",
              "       7035.58345892, 7035.58345892, 7035.58345892, 7035.58345892,\n",
              "       7035.58345892, 7035.58345892, 7035.58345892, 7035.58345892,\n",
              "       7035.58345892, 7035.58345892, 7035.58345892, 7035.58345892,\n",
              "       7035.58345892, 7035.58345892, 7035.58345892, 7035.58345892,\n",
              "       7035.58345892, 7035.58345892, 7035.58345892, 7035.58345892,\n",
              "       7035.58345892, 7035.58345892, 7035.58345892, 7035.58345892,\n",
              "       7035.58345892, 7035.58345892, 7035.58345892, 7035.58345892,\n",
              "       7035.58345892, 7035.58345892, 7035.58345892, 7035.58345892,\n",
              "       7035.58345892, 7035.58345892, 7035.58345892, 7035.58345892,\n",
              "       7035.58345892, 7035.58345892, 7035.58345892, 7035.58345892,\n",
              "       7035.58345892, 7035.58345892, 7035.58345892, 7035.58345892,\n",
              "       7035.58345892, 7035.58345892, 7035.58345892, 7035.58345892,\n",
              "       7035.58345892, 7035.58345892, 7035.58345892, 7035.58345892,\n",
              "       7035.58345892, 7035.58345892, 7035.58345892, 7035.58345892,\n",
              "       7035.58345892, 7035.58345892, 7035.58345892, 7035.58345892,\n",
              "       7035.58345892, 7035.58345892, 7035.58345892, 7035.58345892,\n",
              "       7035.58345892, 7035.58345892, 7035.58345892, 7035.58345892,\n",
              "       7035.58345892, 7035.58345892, 7035.58345892, 7035.58345892,\n",
              "       7035.58345892, 7035.58345892, 7035.58345892, 7035.58345892,\n",
              "       7035.58345892, 7035.58345892, 7035.58345892, 7035.58345892,\n",
              "       7035.58345892, 7035.58345892, 7035.58345892, 7035.58345892,\n",
              "       7035.58345892, 7035.58345892, 7035.58345892, 7035.58345892,\n",
              "       7035.58345892, 7035.58345892, 7035.58345892, 7035.58345892,\n",
              "       7035.58345892, 7035.58345892, 7035.58345892, 7035.58345892,\n",
              "       7035.58345892, 7035.58345892, 7035.58345892, 7035.58345892,\n",
              "       7035.58345892, 7035.58345892, 7035.58345892, 7035.58345892,\n",
              "       7035.58345892, 7035.58345892, 7035.58345892, 7035.58345892,\n",
              "       7035.58345892, 7035.58345892, 7035.58345892, 7035.58345892,\n",
              "       7035.58345892, 7035.58345892, 7035.58345892, 7035.58345892,\n",
              "       7035.58345892, 7035.58345892, 7035.58345892, 7035.58345892,\n",
              "       7035.58345892, 7035.58345892, 7035.58345892, 7035.58345892,\n",
              "       7035.58345892, 7035.58345892, 7035.58345892, 7035.58345892,\n",
              "       7035.58345892, 7035.58345892, 7035.58345892, 7035.58345892,\n",
              "       7035.58345892, 7035.58345892, 7035.58345892, 7035.58345892,\n",
              "       7035.58345892, 7035.58345892, 7035.58345892, 7035.58345892,\n",
              "       7035.58345892, 7035.58345892, 7035.58345892, 7035.58345892,\n",
              "       7035.58345892, 7035.58345892, 7035.58345892, 7035.58345892,\n",
              "       7035.58345892, 7035.58345892, 7035.58345892, 7035.58345892,\n",
              "       7035.58345892, 7035.58345892, 7035.58345892, 7035.58345892,\n",
              "       7035.58345892, 7035.58345892, 7035.58345892, 7035.58345892,\n",
              "       7035.58345892, 7035.58345892, 7035.58345892, 7035.58345892,\n",
              "       7035.58345892, 7035.58345892, 7035.58345892, 7035.58345892,\n",
              "       7035.58345892, 7035.58345892, 7035.58345892, 7035.58345892,\n",
              "       7035.58345892, 7035.58345892, 7035.58345892, 7035.58345892,\n",
              "       7035.58345892, 7035.58345892, 7035.58345892, 7035.58345892,\n",
              "       7035.58345892, 7035.58345892, 7035.58345892, 7035.58345892,\n",
              "       7035.58345892, 7035.58345892, 7035.58345892, 7035.58345892,\n",
              "       7035.58345892, 7035.58345892, 7035.58345892, 7035.58345892,\n",
              "       7035.58345892, 7035.58345892, 7035.58345892, 7035.58345892,\n",
              "       7035.58345892, 7035.58345892, 7035.58345892, 7035.58345892,\n",
              "       7035.58345892, 7035.58345892, 7035.58345892, 7035.58345892,\n",
              "       7035.58345892, 7035.58345892, 7035.58345892, 7035.58345892,\n",
              "       7035.58345892, 7035.58345892, 7035.58345892, 7035.58345892,\n",
              "       7035.58345892, 7035.58345892, 7035.58345892, 7035.58345892,\n",
              "       7035.58345892, 7035.58345892, 7035.58345892, 7035.58345892,\n",
              "       7035.58345892, 7035.58345892, 7035.58345892, 7035.58345892,\n",
              "       7035.58345892, 7035.58345892, 7035.58345892, 7035.58345892,\n",
              "       7035.58345892, 7035.58345892, 7035.58345892, 7035.58345892,\n",
              "       7035.58345892, 7035.58345892, 7035.58345892, 7035.58345892,\n",
              "       7035.58345892, 7035.58345892, 7035.58345892, 7035.58345892,\n",
              "       7035.58345892, 7035.58345892, 7035.58345892, 7035.58345892,\n",
              "       7035.58345892, 7035.58345892, 7035.58345892, 7035.58345892,\n",
              "       7035.58345892, 7035.58345892, 7035.58345892, 7035.58345892,\n",
              "       7035.58345892, 7035.58345892, 7035.58345892, 7035.58345892,\n",
              "       7035.58345892, 7035.58345892, 7035.58345892, 7035.58345892,\n",
              "       7035.58345892, 7035.58345892, 7035.58345892, 7035.58345892,\n",
              "       7035.58345892, 7035.58345892, 7035.58345892, 7035.58345892,\n",
              "       7035.58345892, 7035.58345892, 7035.58345892, 7035.58345892,\n",
              "       7035.58345892, 7035.58345892, 7035.58345892, 7035.58345892,\n",
              "       7035.58345892, 7035.58345892, 7035.58345892, 7035.58345892,\n",
              "       7035.58345892, 7035.58345892, 7035.58345892, 7035.58345892,\n",
              "       7035.58345892, 7035.58345892, 7035.58345892, 7035.58345892,\n",
              "       7035.58345892, 7035.58345892, 7035.58345892, 7035.58345892,\n",
              "       7035.58345892, 7035.58345892, 7035.58345892, 7035.58345892,\n",
              "       7035.58345892, 7035.58345892, 7035.58345892, 7035.58345892,\n",
              "       7035.58345892, 7035.58345892, 7035.58345892, 7035.58345892,\n",
              "       7035.58345892, 7035.58345892, 7035.58345892, 7035.58345892,\n",
              "       7035.58345892, 7035.58345892, 7035.58345892, 7035.58345892,\n",
              "       7035.58345892])"
            ]
          },
          "metadata": {
            "tags": []
          },
          "execution_count": 79
        }
      ]
    },
    {
      "cell_type": "code",
      "metadata": {
        "id": "QffYQWGxYsPP"
      },
      "source": [
        ""
      ],
      "execution_count": 80,
      "outputs": []
    },
    {
      "cell_type": "code",
      "metadata": {
        "id": "Au6shihNY7uI"
      },
      "source": [
        "df1=pd.DataFrame(y_forecast)"
      ],
      "execution_count": 81,
      "outputs": []
    },
    {
      "cell_type": "code",
      "metadata": {
        "id": "2J0uPjQBY_3X"
      },
      "source": [
        "df1[\"idx\"]=df1.index"
      ],
      "execution_count": 82,
      "outputs": []
    },
    {
      "cell_type": "code",
      "metadata": {
        "colab": {
          "base_uri": "https://localhost:8080/",
          "height": 419
        },
        "id": "vN9enn-4ZAn_",
        "outputId": "2c5e1959-893e-4362-84f4-bb08245663ae"
      },
      "source": [
        "df1"
      ],
      "execution_count": 83,
      "outputs": [
        {
          "output_type": "execute_result",
          "data": {
            "text/html": [
              "<div>\n",
              "<style scoped>\n",
              "    .dataframe tbody tr th:only-of-type {\n",
              "        vertical-align: middle;\n",
              "    }\n",
              "\n",
              "    .dataframe tbody tr th {\n",
              "        vertical-align: top;\n",
              "    }\n",
              "\n",
              "    .dataframe thead th {\n",
              "        text-align: right;\n",
              "    }\n",
              "</style>\n",
              "<table border=\"1\" class=\"dataframe\">\n",
              "  <thead>\n",
              "    <tr style=\"text-align: right;\">\n",
              "      <th></th>\n",
              "      <th>0</th>\n",
              "      <th>idx</th>\n",
              "    </tr>\n",
              "  </thead>\n",
              "  <tbody>\n",
              "    <tr>\n",
              "      <th>0</th>\n",
              "      <td>7035.583459</td>\n",
              "      <td>0</td>\n",
              "    </tr>\n",
              "    <tr>\n",
              "      <th>1</th>\n",
              "      <td>7035.583459</td>\n",
              "      <td>1</td>\n",
              "    </tr>\n",
              "    <tr>\n",
              "      <th>2</th>\n",
              "      <td>7035.583459</td>\n",
              "      <td>2</td>\n",
              "    </tr>\n",
              "    <tr>\n",
              "      <th>3</th>\n",
              "      <td>7035.583459</td>\n",
              "      <td>3</td>\n",
              "    </tr>\n",
              "    <tr>\n",
              "      <th>4</th>\n",
              "      <td>7035.583459</td>\n",
              "      <td>4</td>\n",
              "    </tr>\n",
              "    <tr>\n",
              "      <th>...</th>\n",
              "      <td>...</td>\n",
              "      <td>...</td>\n",
              "    </tr>\n",
              "    <tr>\n",
              "      <th>360</th>\n",
              "      <td>7035.583459</td>\n",
              "      <td>360</td>\n",
              "    </tr>\n",
              "    <tr>\n",
              "      <th>361</th>\n",
              "      <td>7035.583459</td>\n",
              "      <td>361</td>\n",
              "    </tr>\n",
              "    <tr>\n",
              "      <th>362</th>\n",
              "      <td>7035.583459</td>\n",
              "      <td>362</td>\n",
              "    </tr>\n",
              "    <tr>\n",
              "      <th>363</th>\n",
              "      <td>7035.583459</td>\n",
              "      <td>363</td>\n",
              "    </tr>\n",
              "    <tr>\n",
              "      <th>364</th>\n",
              "      <td>7035.583459</td>\n",
              "      <td>364</td>\n",
              "    </tr>\n",
              "  </tbody>\n",
              "</table>\n",
              "<p>365 rows × 2 columns</p>\n",
              "</div>"
            ],
            "text/plain": [
              "               0  idx\n",
              "0    7035.583459    0\n",
              "1    7035.583459    1\n",
              "2    7035.583459    2\n",
              "3    7035.583459    3\n",
              "4    7035.583459    4\n",
              "..           ...  ...\n",
              "360  7035.583459  360\n",
              "361  7035.583459  361\n",
              "362  7035.583459  362\n",
              "363  7035.583459  363\n",
              "364  7035.583459  364\n",
              "\n",
              "[365 rows x 2 columns]"
            ]
          },
          "metadata": {
            "tags": []
          },
          "execution_count": 83
        }
      ]
    },
    {
      "cell_type": "code",
      "metadata": {
        "colab": {
          "base_uri": "https://localhost:8080/"
        },
        "id": "Qn9_J1TMZII-",
        "outputId": "17650ec9-1c23-4164-cdd4-486133765eb8"
      },
      "source": [
        "def addDays(n=0):\n",
        "  from datetime import datetime, timedelta\n",
        "  #d1=datetime.today() + timedelta(days=1)\n",
        "  d1 = (datetime.today()+ timedelta(days=n)).strftime(\"%Y-%m-%d\")\n",
        "  d1=datetime.strptime(d1, '%Y-%m-%d')\n",
        "  #print(d1)\n",
        "  return d1\n",
        "addDays()\n",
        "\n"
      ],
      "execution_count": 84,
      "outputs": [
        {
          "output_type": "execute_result",
          "data": {
            "text/plain": [
              "datetime.datetime(2021, 4, 19, 0, 0)"
            ]
          },
          "metadata": {
            "tags": []
          },
          "execution_count": 84
        }
      ]
    },
    {
      "cell_type": "code",
      "metadata": {
        "id": "ukqisyNdbKDr"
      },
      "source": [
        "df1[\"date\"]=df1[\"idx\"].apply(addDays)"
      ],
      "execution_count": 86,
      "outputs": []
    },
    {
      "cell_type": "code",
      "metadata": {
        "id": "lstpG_EXbXkQ"
      },
      "source": [
        "df1.columns=['price','idx', 'date']"
      ],
      "execution_count": 87,
      "outputs": []
    },
    {
      "cell_type": "code",
      "metadata": {
        "colab": {
          "base_uri": "https://localhost:8080/",
          "height": 542
        },
        "id": "L1irAYRLb7da",
        "outputId": "bb1f5c2a-586c-46fd-a994-705911542702"
      },
      "source": [
        "fig = px.line(df1, x=\"date\", y=\"price\", title=\"Prediction\")\n",
        "fig.show()"
      ],
      "execution_count": 88,
      "outputs": [
        {
          "output_type": "display_data",
          "data": {
            "text/html": [
              "<html>\n",
              "<head><meta charset=\"utf-8\" /></head>\n",
              "<body>\n",
              "    <div>\n",
              "            <script src=\"https://cdnjs.cloudflare.com/ajax/libs/mathjax/2.7.5/MathJax.js?config=TeX-AMS-MML_SVG\"></script><script type=\"text/javascript\">if (window.MathJax) {MathJax.Hub.Config({SVG: {font: \"STIX-Web\"}});}</script>\n",
              "                <script type=\"text/javascript\">window.PlotlyConfig = {MathJaxConfig: 'local'};</script>\n",
              "        <script src=\"https://cdn.plot.ly/plotly-latest.min.js\"></script>    \n",
              "            <div id=\"6480c339-15a7-4b41-88cb-57f686141974\" class=\"plotly-graph-div\" style=\"height:525px; width:100%;\"></div>\n",
              "            <script type=\"text/javascript\">\n",
              "                \n",
              "                    window.PLOTLYENV=window.PLOTLYENV || {};\n",
              "                    \n",
              "                if (document.getElementById(\"6480c339-15a7-4b41-88cb-57f686141974\")) {\n",
              "                    Plotly.newPlot(\n",
              "                        '6480c339-15a7-4b41-88cb-57f686141974',\n",
              "                        [{\"hoverlabel\": {\"namelength\": 0}, \"hovertemplate\": \"date=%{x}<br>price=%{y}\", \"legendgroup\": \"\", \"line\": {\"color\": \"#636efa\", \"dash\": \"solid\"}, \"mode\": \"lines\", \"name\": \"\", \"showlegend\": false, \"type\": \"scatter\", \"x\": [\"2021-04-19T00:00:00\", \"2021-04-20T00:00:00\", \"2021-04-21T00:00:00\", \"2021-04-22T00:00:00\", \"2021-04-23T00:00:00\", \"2021-04-24T00:00:00\", \"2021-04-25T00:00:00\", \"2021-04-26T00:00:00\", \"2021-04-27T00:00:00\", \"2021-04-28T00:00:00\", \"2021-04-29T00:00:00\", \"2021-04-30T00:00:00\", \"2021-05-01T00:00:00\", \"2021-05-02T00:00:00\", \"2021-05-03T00:00:00\", \"2021-05-04T00:00:00\", \"2021-05-05T00:00:00\", \"2021-05-06T00:00:00\", \"2021-05-07T00:00:00\", \"2021-05-08T00:00:00\", \"2021-05-09T00:00:00\", \"2021-05-10T00:00:00\", \"2021-05-11T00:00:00\", \"2021-05-12T00:00:00\", \"2021-05-13T00:00:00\", \"2021-05-14T00:00:00\", \"2021-05-15T00:00:00\", \"2021-05-16T00:00:00\", \"2021-05-17T00:00:00\", \"2021-05-18T00:00:00\", \"2021-05-19T00:00:00\", \"2021-05-20T00:00:00\", \"2021-05-21T00:00:00\", \"2021-05-22T00:00:00\", \"2021-05-23T00:00:00\", \"2021-05-24T00:00:00\", \"2021-05-25T00:00:00\", \"2021-05-26T00:00:00\", \"2021-05-27T00:00:00\", \"2021-05-28T00:00:00\", \"2021-05-29T00:00:00\", \"2021-05-30T00:00:00\", \"2021-05-31T00:00:00\", \"2021-06-01T00:00:00\", \"2021-06-02T00:00:00\", \"2021-06-03T00:00:00\", \"2021-06-04T00:00:00\", \"2021-06-05T00:00:00\", \"2021-06-06T00:00:00\", \"2021-06-07T00:00:00\", \"2021-06-08T00:00:00\", \"2021-06-09T00:00:00\", \"2021-06-10T00:00:00\", \"2021-06-11T00:00:00\", \"2021-06-12T00:00:00\", \"2021-06-13T00:00:00\", \"2021-06-14T00:00:00\", \"2021-06-15T00:00:00\", \"2021-06-16T00:00:00\", \"2021-06-17T00:00:00\", \"2021-06-18T00:00:00\", \"2021-06-19T00:00:00\", \"2021-06-20T00:00:00\", \"2021-06-21T00:00:00\", \"2021-06-22T00:00:00\", \"2021-06-23T00:00:00\", \"2021-06-24T00:00:00\", \"2021-06-25T00:00:00\", \"2021-06-26T00:00:00\", \"2021-06-27T00:00:00\", \"2021-06-28T00:00:00\", \"2021-06-29T00:00:00\", \"2021-06-30T00:00:00\", \"2021-07-01T00:00:00\", \"2021-07-02T00:00:00\", \"2021-07-03T00:00:00\", \"2021-07-04T00:00:00\", \"2021-07-05T00:00:00\", \"2021-07-06T00:00:00\", \"2021-07-07T00:00:00\", \"2021-07-08T00:00:00\", \"2021-07-09T00:00:00\", \"2021-07-10T00:00:00\", \"2021-07-11T00:00:00\", \"2021-07-12T00:00:00\", \"2021-07-13T00:00:00\", \"2021-07-14T00:00:00\", \"2021-07-15T00:00:00\", \"2021-07-16T00:00:00\", \"2021-07-17T00:00:00\", \"2021-07-18T00:00:00\", \"2021-07-19T00:00:00\", \"2021-07-20T00:00:00\", \"2021-07-21T00:00:00\", \"2021-07-22T00:00:00\", \"2021-07-23T00:00:00\", \"2021-07-24T00:00:00\", \"2021-07-25T00:00:00\", \"2021-07-26T00:00:00\", \"2021-07-27T00:00:00\", \"2021-07-28T00:00:00\", \"2021-07-29T00:00:00\", \"2021-07-30T00:00:00\", \"2021-07-31T00:00:00\", \"2021-08-01T00:00:00\", \"2021-08-02T00:00:00\", \"2021-08-03T00:00:00\", \"2021-08-04T00:00:00\", \"2021-08-05T00:00:00\", \"2021-08-06T00:00:00\", \"2021-08-07T00:00:00\", \"2021-08-08T00:00:00\", \"2021-08-09T00:00:00\", \"2021-08-10T00:00:00\", \"2021-08-11T00:00:00\", \"2021-08-12T00:00:00\", \"2021-08-13T00:00:00\", \"2021-08-14T00:00:00\", \"2021-08-15T00:00:00\", \"2021-08-16T00:00:00\", \"2021-08-17T00:00:00\", \"2021-08-18T00:00:00\", \"2021-08-19T00:00:00\", \"2021-08-20T00:00:00\", \"2021-08-21T00:00:00\", \"2021-08-22T00:00:00\", \"2021-08-23T00:00:00\", \"2021-08-24T00:00:00\", \"2021-08-25T00:00:00\", \"2021-08-26T00:00:00\", \"2021-08-27T00:00:00\", \"2021-08-28T00:00:00\", \"2021-08-29T00:00:00\", \"2021-08-30T00:00:00\", \"2021-08-31T00:00:00\", \"2021-09-01T00:00:00\", \"2021-09-02T00:00:00\", \"2021-09-03T00:00:00\", \"2021-09-04T00:00:00\", \"2021-09-05T00:00:00\", \"2021-09-06T00:00:00\", \"2021-09-07T00:00:00\", \"2021-09-08T00:00:00\", \"2021-09-09T00:00:00\", \"2021-09-10T00:00:00\", \"2021-09-11T00:00:00\", \"2021-09-12T00:00:00\", \"2021-09-13T00:00:00\", \"2021-09-14T00:00:00\", \"2021-09-15T00:00:00\", \"2021-09-16T00:00:00\", \"2021-09-17T00:00:00\", \"2021-09-18T00:00:00\", \"2021-09-19T00:00:00\", \"2021-09-20T00:00:00\", \"2021-09-21T00:00:00\", \"2021-09-22T00:00:00\", \"2021-09-23T00:00:00\", \"2021-09-24T00:00:00\", \"2021-09-25T00:00:00\", \"2021-09-26T00:00:00\", \"2021-09-27T00:00:00\", \"2021-09-28T00:00:00\", \"2021-09-29T00:00:00\", \"2021-09-30T00:00:00\", \"2021-10-01T00:00:00\", \"2021-10-02T00:00:00\", \"2021-10-03T00:00:00\", \"2021-10-04T00:00:00\", \"2021-10-05T00:00:00\", \"2021-10-06T00:00:00\", \"2021-10-07T00:00:00\", \"2021-10-08T00:00:00\", \"2021-10-09T00:00:00\", \"2021-10-10T00:00:00\", \"2021-10-11T00:00:00\", \"2021-10-12T00:00:00\", \"2021-10-13T00:00:00\", \"2021-10-14T00:00:00\", \"2021-10-15T00:00:00\", \"2021-10-16T00:00:00\", \"2021-10-17T00:00:00\", \"2021-10-18T00:00:00\", \"2021-10-19T00:00:00\", \"2021-10-20T00:00:00\", \"2021-10-21T00:00:00\", \"2021-10-22T00:00:00\", \"2021-10-23T00:00:00\", \"2021-10-24T00:00:00\", \"2021-10-25T00:00:00\", \"2021-10-26T00:00:00\", \"2021-10-27T00:00:00\", \"2021-10-28T00:00:00\", \"2021-10-29T00:00:00\", \"2021-10-30T00:00:00\", \"2021-10-31T00:00:00\", \"2021-11-01T00:00:00\", \"2021-11-02T00:00:00\", \"2021-11-03T00:00:00\", \"2021-11-04T00:00:00\", \"2021-11-05T00:00:00\", \"2021-11-06T00:00:00\", \"2021-11-07T00:00:00\", \"2021-11-08T00:00:00\", \"2021-11-09T00:00:00\", \"2021-11-10T00:00:00\", \"2021-11-11T00:00:00\", \"2021-11-12T00:00:00\", \"2021-11-13T00:00:00\", \"2021-11-14T00:00:00\", \"2021-11-15T00:00:00\", \"2021-11-16T00:00:00\", \"2021-11-17T00:00:00\", \"2021-11-18T00:00:00\", \"2021-11-19T00:00:00\", \"2021-11-20T00:00:00\", \"2021-11-21T00:00:00\", \"2021-11-22T00:00:00\", \"2021-11-23T00:00:00\", \"2021-11-24T00:00:00\", \"2021-11-25T00:00:00\", \"2021-11-26T00:00:00\", \"2021-11-27T00:00:00\", \"2021-11-28T00:00:00\", \"2021-11-29T00:00:00\", \"2021-11-30T00:00:00\", \"2021-12-01T00:00:00\", \"2021-12-02T00:00:00\", \"2021-12-03T00:00:00\", \"2021-12-04T00:00:00\", \"2021-12-05T00:00:00\", \"2021-12-06T00:00:00\", \"2021-12-07T00:00:00\", \"2021-12-08T00:00:00\", \"2021-12-09T00:00:00\", \"2021-12-10T00:00:00\", \"2021-12-11T00:00:00\", \"2021-12-12T00:00:00\", \"2021-12-13T00:00:00\", \"2021-12-14T00:00:00\", \"2021-12-15T00:00:00\", \"2021-12-16T00:00:00\", \"2021-12-17T00:00:00\", \"2021-12-18T00:00:00\", \"2021-12-19T00:00:00\", \"2021-12-20T00:00:00\", \"2021-12-21T00:00:00\", \"2021-12-22T00:00:00\", \"2021-12-23T00:00:00\", \"2021-12-24T00:00:00\", \"2021-12-25T00:00:00\", \"2021-12-26T00:00:00\", \"2021-12-27T00:00:00\", \"2021-12-28T00:00:00\", \"2021-12-29T00:00:00\", \"2021-12-30T00:00:00\", \"2021-12-31T00:00:00\", \"2022-01-01T00:00:00\", \"2022-01-02T00:00:00\", \"2022-01-03T00:00:00\", \"2022-01-04T00:00:00\", \"2022-01-05T00:00:00\", \"2022-01-06T00:00:00\", \"2022-01-07T00:00:00\", \"2022-01-08T00:00:00\", \"2022-01-09T00:00:00\", \"2022-01-10T00:00:00\", \"2022-01-11T00:00:00\", \"2022-01-12T00:00:00\", \"2022-01-13T00:00:00\", \"2022-01-14T00:00:00\", \"2022-01-15T00:00:00\", \"2022-01-16T00:00:00\", \"2022-01-17T00:00:00\", \"2022-01-18T00:00:00\", \"2022-01-19T00:00:00\", \"2022-01-20T00:00:00\", \"2022-01-21T00:00:00\", \"2022-01-22T00:00:00\", \"2022-01-23T00:00:00\", \"2022-01-24T00:00:00\", \"2022-01-25T00:00:00\", \"2022-01-26T00:00:00\", \"2022-01-27T00:00:00\", \"2022-01-28T00:00:00\", \"2022-01-29T00:00:00\", \"2022-01-30T00:00:00\", \"2022-01-31T00:00:00\", \"2022-02-01T00:00:00\", \"2022-02-02T00:00:00\", \"2022-02-03T00:00:00\", \"2022-02-04T00:00:00\", \"2022-02-05T00:00:00\", \"2022-02-06T00:00:00\", \"2022-02-07T00:00:00\", \"2022-02-08T00:00:00\", \"2022-02-09T00:00:00\", \"2022-02-10T00:00:00\", \"2022-02-11T00:00:00\", \"2022-02-12T00:00:00\", \"2022-02-13T00:00:00\", \"2022-02-14T00:00:00\", \"2022-02-15T00:00:00\", \"2022-02-16T00:00:00\", \"2022-02-17T00:00:00\", \"2022-02-18T00:00:00\", \"2022-02-19T00:00:00\", \"2022-02-20T00:00:00\", \"2022-02-21T00:00:00\", \"2022-02-22T00:00:00\", \"2022-02-23T00:00:00\", \"2022-02-24T00:00:00\", \"2022-02-25T00:00:00\", \"2022-02-26T00:00:00\", \"2022-02-27T00:00:00\", \"2022-02-28T00:00:00\", \"2022-03-01T00:00:00\", \"2022-03-02T00:00:00\", \"2022-03-03T00:00:00\", \"2022-03-04T00:00:00\", \"2022-03-05T00:00:00\", \"2022-03-06T00:00:00\", \"2022-03-07T00:00:00\", \"2022-03-08T00:00:00\", \"2022-03-09T00:00:00\", \"2022-03-10T00:00:00\", \"2022-03-11T00:00:00\", \"2022-03-12T00:00:00\", \"2022-03-13T00:00:00\", \"2022-03-14T00:00:00\", \"2022-03-15T00:00:00\", \"2022-03-16T00:00:00\", \"2022-03-17T00:00:00\", \"2022-03-18T00:00:00\", \"2022-03-19T00:00:00\", \"2022-03-20T00:00:00\", \"2022-03-21T00:00:00\", \"2022-03-22T00:00:00\", \"2022-03-23T00:00:00\", \"2022-03-24T00:00:00\", \"2022-03-25T00:00:00\", \"2022-03-26T00:00:00\", \"2022-03-27T00:00:00\", \"2022-03-28T00:00:00\", \"2022-03-29T00:00:00\", \"2022-03-30T00:00:00\", \"2022-03-31T00:00:00\", \"2022-04-01T00:00:00\", \"2022-04-02T00:00:00\", \"2022-04-03T00:00:00\", \"2022-04-04T00:00:00\", \"2022-04-05T00:00:00\", \"2022-04-06T00:00:00\", \"2022-04-07T00:00:00\", \"2022-04-08T00:00:00\", \"2022-04-09T00:00:00\", \"2022-04-10T00:00:00\", \"2022-04-11T00:00:00\", \"2022-04-12T00:00:00\", \"2022-04-13T00:00:00\", \"2022-04-14T00:00:00\", \"2022-04-15T00:00:00\", \"2022-04-16T00:00:00\", \"2022-04-17T00:00:00\", \"2022-04-18T00:00:00\"], \"xaxis\": \"x\", \"y\": [7035.583458918753, 7035.583458918753, 7035.583458918753, 7035.583458918753, 7035.583458918753, 7035.583458918753, 7035.583458918753, 7035.583458918753, 7035.583458918753, 7035.583458918753, 7035.583458918753, 7035.583458918753, 7035.583458918753, 7035.583458918753, 7035.583458918753, 7035.583458918753, 7035.583458918753, 7035.583458918753, 7035.583458918753, 7035.583458918753, 7035.583458918753, 7035.583458918753, 7035.583458918753, 7035.583458918753, 7035.583458918753, 7035.583458918753, 7035.583458918753, 7035.583458918753, 7035.583458918753, 7035.583458918753, 7035.583458918753, 7035.583458918753, 7035.583458918753, 7035.583458918753, 7035.583458918753, 7035.583458918753, 7035.583458918753, 7035.583458918753, 7035.583458918753, 7035.583458918753, 7035.583458918753, 7035.583458918753, 7035.583458918753, 7035.583458918753, 7035.583458918753, 7035.583458918753, 7035.583458918753, 7035.583458918753, 7035.583458918753, 7035.583458918753, 7035.583458918753, 7035.583458918753, 7035.583458918753, 7035.583458918753, 7035.583458918753, 7035.583458918753, 7035.583458918753, 7035.583458918753, 7035.583458918753, 7035.583458918753, 7035.583458918753, 7035.583458918753, 7035.583458918753, 7035.583458918753, 7035.583458918753, 7035.583458918753, 7035.583458918753, 7035.583458918753, 7035.583458918753, 7035.583458918753, 7035.583458918753, 7035.583458918753, 7035.583458918753, 7035.583458918753, 7035.583458918753, 7035.583458918753, 7035.583458918753, 7035.583458918753, 7035.583458918753, 7035.583458918753, 7035.583458918753, 7035.583458918753, 7035.583458918753, 7035.583458918753, 7035.583458918753, 7035.583458918753, 7035.583458918753, 7035.583458918753, 7035.583458918753, 7035.583458918753, 7035.583458918753, 7035.583458918753, 7035.583458918753, 7035.583458918753, 7035.583458918753, 7035.583458918753, 7035.583458918753, 7035.583458918753, 7035.583458918753, 7035.583458918753, 7035.583458918753, 7035.583458918753, 7035.583458918753, 7035.583458918753, 7035.583458918753, 7035.583458918753, 7035.583458918753, 7035.583458918753, 7035.583458918753, 7035.583458918753, 7035.583458918753, 7035.583458918753, 7035.583458918753, 7035.583458918753, 7035.583458918753, 7035.583458918753, 7035.583458918753, 7035.583458918753, 7035.583458918753, 7035.583458918753, 7035.583458918753, 7035.583458918753, 7035.583458918753, 7035.583458918753, 7035.583458918753, 7035.583458918753, 7035.583458918753, 7035.583458918753, 7035.583458918753, 7035.583458918753, 7035.583458918753, 7035.583458918753, 7035.583458918753, 7035.583458918753, 7035.583458918753, 7035.583458918753, 7035.583458918753, 7035.583458918753, 7035.583458918753, 7035.583458918753, 7035.583458918753, 7035.583458918753, 7035.583458918753, 7035.583458918753, 7035.583458918753, 7035.583458918753, 7035.583458918753, 7035.583458918753, 7035.583458918753, 7035.583458918753, 7035.583458918753, 7035.583458918753, 7035.583458918753, 7035.583458918753, 7035.583458918753, 7035.583458918753, 7035.583458918753, 7035.583458918753, 7035.583458918753, 7035.583458918753, 7035.583458918753, 7035.583458918753, 7035.583458918753, 7035.583458918753, 7035.583458918753, 7035.583458918753, 7035.583458918753, 7035.583458918753, 7035.583458918753, 7035.583458918753, 7035.583458918753, 7035.583458918753, 7035.583458918753, 7035.583458918753, 7035.583458918753, 7035.583458918753, 7035.583458918753, 7035.583458918753, 7035.583458918753, 7035.583458918753, 7035.583458918753, 7035.583458918753, 7035.583458918753, 7035.583458918753, 7035.583458918753, 7035.583458918753, 7035.583458918753, 7035.583458918753, 7035.583458918753, 7035.583458918753, 7035.583458918753, 7035.583458918753, 7035.583458918753, 7035.583458918753, 7035.583458918753, 7035.583458918753, 7035.583458918753, 7035.583458918753, 7035.583458918753, 7035.583458918753, 7035.583458918753, 7035.583458918753, 7035.583458918753, 7035.583458918753, 7035.583458918753, 7035.583458918753, 7035.583458918753, 7035.583458918753, 7035.583458918753, 7035.583458918753, 7035.583458918753, 7035.583458918753, 7035.583458918753, 7035.583458918753, 7035.583458918753, 7035.583458918753, 7035.583458918753, 7035.583458918753, 7035.583458918753, 7035.583458918753, 7035.583458918753, 7035.583458918753, 7035.583458918753, 7035.583458918753, 7035.583458918753, 7035.583458918753, 7035.583458918753, 7035.583458918753, 7035.583458918753, 7035.583458918753, 7035.583458918753, 7035.583458918753, 7035.583458918753, 7035.583458918753, 7035.583458918753, 7035.583458918753, 7035.583458918753, 7035.583458918753, 7035.583458918753, 7035.583458918753, 7035.583458918753, 7035.583458918753, 7035.583458918753, 7035.583458918753, 7035.583458918753, 7035.583458918753, 7035.583458918753, 7035.583458918753, 7035.583458918753, 7035.583458918753, 7035.583458918753, 7035.583458918753, 7035.583458918753, 7035.583458918753, 7035.583458918753, 7035.583458918753, 7035.583458918753, 7035.583458918753, 7035.583458918753, 7035.583458918753, 7035.583458918753, 7035.583458918753, 7035.583458918753, 7035.583458918753, 7035.583458918753, 7035.583458918753, 7035.583458918753, 7035.583458918753, 7035.583458918753, 7035.583458918753, 7035.583458918753, 7035.583458918753, 7035.583458918753, 7035.583458918753, 7035.583458918753, 7035.583458918753, 7035.583458918753, 7035.583458918753, 7035.583458918753, 7035.583458918753, 7035.583458918753, 7035.583458918753, 7035.583458918753, 7035.583458918753, 7035.583458918753, 7035.583458918753, 7035.583458918753, 7035.583458918753, 7035.583458918753, 7035.583458918753, 7035.583458918753, 7035.583458918753, 7035.583458918753, 7035.583458918753, 7035.583458918753, 7035.583458918753, 7035.583458918753, 7035.583458918753, 7035.583458918753, 7035.583458918753, 7035.583458918753, 7035.583458918753, 7035.583458918753, 7035.583458918753, 7035.583458918753, 7035.583458918753, 7035.583458918753, 7035.583458918753, 7035.583458918753, 7035.583458918753, 7035.583458918753, 7035.583458918753, 7035.583458918753, 7035.583458918753, 7035.583458918753, 7035.583458918753, 7035.583458918753, 7035.583458918753, 7035.583458918753, 7035.583458918753, 7035.583458918753, 7035.583458918753, 7035.583458918753, 7035.583458918753, 7035.583458918753, 7035.583458918753, 7035.583458918753, 7035.583458918753, 7035.583458918753, 7035.583458918753, 7035.583458918753, 7035.583458918753, 7035.583458918753, 7035.583458918753, 7035.583458918753, 7035.583458918753, 7035.583458918753, 7035.583458918753, 7035.583458918753, 7035.583458918753, 7035.583458918753, 7035.583458918753, 7035.583458918753, 7035.583458918753, 7035.583458918753, 7035.583458918753, 7035.583458918753, 7035.583458918753, 7035.583458918753, 7035.583458918753, 7035.583458918753, 7035.583458918753, 7035.583458918753, 7035.583458918753, 7035.583458918753, 7035.583458918753, 7035.583458918753, 7035.583458918753, 7035.583458918753, 7035.583458918753, 7035.583458918753, 7035.583458918753, 7035.583458918753, 7035.583458918753, 7035.583458918753], \"yaxis\": \"y\"}],\n",
              "                        {\"legend\": {\"tracegroupgap\": 0}, \"template\": {\"data\": {\"bar\": [{\"error_x\": {\"color\": \"#2a3f5f\"}, \"error_y\": {\"color\": \"#2a3f5f\"}, \"marker\": {\"line\": {\"color\": \"#E5ECF6\", \"width\": 0.5}}, \"type\": \"bar\"}], \"barpolar\": [{\"marker\": {\"line\": {\"color\": \"#E5ECF6\", \"width\": 0.5}}, \"type\": \"barpolar\"}], \"carpet\": [{\"aaxis\": {\"endlinecolor\": \"#2a3f5f\", \"gridcolor\": \"white\", \"linecolor\": \"white\", \"minorgridcolor\": \"white\", \"startlinecolor\": \"#2a3f5f\"}, \"baxis\": {\"endlinecolor\": \"#2a3f5f\", \"gridcolor\": \"white\", \"linecolor\": \"white\", \"minorgridcolor\": \"white\", \"startlinecolor\": \"#2a3f5f\"}, \"type\": \"carpet\"}], \"choropleth\": [{\"colorbar\": {\"outlinewidth\": 0, \"ticks\": \"\"}, \"type\": \"choropleth\"}], \"contour\": [{\"colorbar\": {\"outlinewidth\": 0, \"ticks\": \"\"}, \"colorscale\": [[0.0, \"#0d0887\"], [0.1111111111111111, \"#46039f\"], [0.2222222222222222, \"#7201a8\"], [0.3333333333333333, \"#9c179e\"], [0.4444444444444444, \"#bd3786\"], [0.5555555555555556, \"#d8576b\"], [0.6666666666666666, \"#ed7953\"], [0.7777777777777778, \"#fb9f3a\"], [0.8888888888888888, \"#fdca26\"], [1.0, \"#f0f921\"]], \"type\": \"contour\"}], \"contourcarpet\": [{\"colorbar\": {\"outlinewidth\": 0, \"ticks\": \"\"}, \"type\": \"contourcarpet\"}], \"heatmap\": [{\"colorbar\": {\"outlinewidth\": 0, \"ticks\": \"\"}, \"colorscale\": [[0.0, \"#0d0887\"], [0.1111111111111111, \"#46039f\"], [0.2222222222222222, \"#7201a8\"], [0.3333333333333333, \"#9c179e\"], [0.4444444444444444, \"#bd3786\"], [0.5555555555555556, \"#d8576b\"], [0.6666666666666666, \"#ed7953\"], [0.7777777777777778, \"#fb9f3a\"], [0.8888888888888888, \"#fdca26\"], [1.0, \"#f0f921\"]], \"type\": \"heatmap\"}], \"heatmapgl\": [{\"colorbar\": {\"outlinewidth\": 0, \"ticks\": \"\"}, \"colorscale\": [[0.0, \"#0d0887\"], [0.1111111111111111, \"#46039f\"], [0.2222222222222222, \"#7201a8\"], [0.3333333333333333, \"#9c179e\"], [0.4444444444444444, \"#bd3786\"], [0.5555555555555556, \"#d8576b\"], [0.6666666666666666, \"#ed7953\"], [0.7777777777777778, \"#fb9f3a\"], [0.8888888888888888, \"#fdca26\"], [1.0, \"#f0f921\"]], \"type\": \"heatmapgl\"}], \"histogram\": [{\"marker\": {\"colorbar\": {\"outlinewidth\": 0, \"ticks\": \"\"}}, \"type\": \"histogram\"}], \"histogram2d\": [{\"colorbar\": {\"outlinewidth\": 0, \"ticks\": \"\"}, \"colorscale\": [[0.0, \"#0d0887\"], [0.1111111111111111, \"#46039f\"], [0.2222222222222222, \"#7201a8\"], [0.3333333333333333, \"#9c179e\"], [0.4444444444444444, \"#bd3786\"], [0.5555555555555556, \"#d8576b\"], [0.6666666666666666, \"#ed7953\"], [0.7777777777777778, \"#fb9f3a\"], [0.8888888888888888, \"#fdca26\"], [1.0, \"#f0f921\"]], \"type\": \"histogram2d\"}], \"histogram2dcontour\": [{\"colorbar\": {\"outlinewidth\": 0, \"ticks\": \"\"}, \"colorscale\": [[0.0, \"#0d0887\"], [0.1111111111111111, \"#46039f\"], [0.2222222222222222, \"#7201a8\"], [0.3333333333333333, \"#9c179e\"], [0.4444444444444444, \"#bd3786\"], [0.5555555555555556, \"#d8576b\"], [0.6666666666666666, \"#ed7953\"], [0.7777777777777778, \"#fb9f3a\"], [0.8888888888888888, \"#fdca26\"], [1.0, \"#f0f921\"]], \"type\": \"histogram2dcontour\"}], \"mesh3d\": [{\"colorbar\": {\"outlinewidth\": 0, \"ticks\": \"\"}, \"type\": \"mesh3d\"}], \"parcoords\": [{\"line\": {\"colorbar\": {\"outlinewidth\": 0, \"ticks\": \"\"}}, \"type\": \"parcoords\"}], \"pie\": [{\"automargin\": true, \"type\": \"pie\"}], \"scatter\": [{\"marker\": {\"colorbar\": {\"outlinewidth\": 0, \"ticks\": \"\"}}, \"type\": \"scatter\"}], \"scatter3d\": [{\"line\": {\"colorbar\": {\"outlinewidth\": 0, \"ticks\": \"\"}}, \"marker\": {\"colorbar\": {\"outlinewidth\": 0, \"ticks\": \"\"}}, \"type\": \"scatter3d\"}], \"scattercarpet\": [{\"marker\": {\"colorbar\": {\"outlinewidth\": 0, \"ticks\": \"\"}}, \"type\": \"scattercarpet\"}], \"scattergeo\": [{\"marker\": {\"colorbar\": {\"outlinewidth\": 0, \"ticks\": \"\"}}, \"type\": \"scattergeo\"}], \"scattergl\": [{\"marker\": {\"colorbar\": {\"outlinewidth\": 0, \"ticks\": \"\"}}, \"type\": \"scattergl\"}], \"scattermapbox\": [{\"marker\": {\"colorbar\": {\"outlinewidth\": 0, \"ticks\": \"\"}}, \"type\": \"scattermapbox\"}], \"scatterpolar\": [{\"marker\": {\"colorbar\": {\"outlinewidth\": 0, \"ticks\": \"\"}}, \"type\": \"scatterpolar\"}], \"scatterpolargl\": [{\"marker\": {\"colorbar\": {\"outlinewidth\": 0, \"ticks\": \"\"}}, \"type\": \"scatterpolargl\"}], \"scatterternary\": [{\"marker\": {\"colorbar\": {\"outlinewidth\": 0, \"ticks\": \"\"}}, \"type\": \"scatterternary\"}], \"surface\": [{\"colorbar\": {\"outlinewidth\": 0, \"ticks\": \"\"}, \"colorscale\": [[0.0, \"#0d0887\"], [0.1111111111111111, \"#46039f\"], [0.2222222222222222, \"#7201a8\"], [0.3333333333333333, \"#9c179e\"], [0.4444444444444444, \"#bd3786\"], [0.5555555555555556, \"#d8576b\"], [0.6666666666666666, \"#ed7953\"], [0.7777777777777778, \"#fb9f3a\"], [0.8888888888888888, \"#fdca26\"], [1.0, \"#f0f921\"]], \"type\": \"surface\"}], \"table\": [{\"cells\": {\"fill\": {\"color\": \"#EBF0F8\"}, \"line\": {\"color\": \"white\"}}, \"header\": {\"fill\": {\"color\": \"#C8D4E3\"}, \"line\": {\"color\": \"white\"}}, \"type\": \"table\"}]}, \"layout\": {\"annotationdefaults\": {\"arrowcolor\": \"#2a3f5f\", \"arrowhead\": 0, \"arrowwidth\": 1}, \"coloraxis\": {\"colorbar\": {\"outlinewidth\": 0, \"ticks\": \"\"}}, \"colorscale\": {\"diverging\": [[0, \"#8e0152\"], [0.1, \"#c51b7d\"], [0.2, \"#de77ae\"], [0.3, \"#f1b6da\"], [0.4, \"#fde0ef\"], [0.5, \"#f7f7f7\"], [0.6, \"#e6f5d0\"], [0.7, \"#b8e186\"], [0.8, \"#7fbc41\"], [0.9, \"#4d9221\"], [1, \"#276419\"]], \"sequential\": [[0.0, \"#0d0887\"], [0.1111111111111111, \"#46039f\"], [0.2222222222222222, \"#7201a8\"], [0.3333333333333333, \"#9c179e\"], [0.4444444444444444, \"#bd3786\"], [0.5555555555555556, \"#d8576b\"], [0.6666666666666666, \"#ed7953\"], [0.7777777777777778, \"#fb9f3a\"], [0.8888888888888888, \"#fdca26\"], [1.0, \"#f0f921\"]], \"sequentialminus\": [[0.0, \"#0d0887\"], [0.1111111111111111, \"#46039f\"], [0.2222222222222222, \"#7201a8\"], [0.3333333333333333, \"#9c179e\"], [0.4444444444444444, \"#bd3786\"], [0.5555555555555556, \"#d8576b\"], [0.6666666666666666, \"#ed7953\"], [0.7777777777777778, \"#fb9f3a\"], [0.8888888888888888, \"#fdca26\"], [1.0, \"#f0f921\"]]}, \"colorway\": [\"#636efa\", \"#EF553B\", \"#00cc96\", \"#ab63fa\", \"#FFA15A\", \"#19d3f3\", \"#FF6692\", \"#B6E880\", \"#FF97FF\", \"#FECB52\"], \"font\": {\"color\": \"#2a3f5f\"}, \"geo\": {\"bgcolor\": \"white\", \"lakecolor\": \"white\", \"landcolor\": \"#E5ECF6\", \"showlakes\": true, \"showland\": true, \"subunitcolor\": \"white\"}, \"hoverlabel\": {\"align\": \"left\"}, \"hovermode\": \"closest\", \"mapbox\": {\"style\": \"light\"}, \"paper_bgcolor\": \"white\", \"plot_bgcolor\": \"#E5ECF6\", \"polar\": {\"angularaxis\": {\"gridcolor\": \"white\", \"linecolor\": \"white\", \"ticks\": \"\"}, \"bgcolor\": \"#E5ECF6\", \"radialaxis\": {\"gridcolor\": \"white\", \"linecolor\": \"white\", \"ticks\": \"\"}}, \"scene\": {\"xaxis\": {\"backgroundcolor\": \"#E5ECF6\", \"gridcolor\": \"white\", \"gridwidth\": 2, \"linecolor\": \"white\", \"showbackground\": true, \"ticks\": \"\", \"zerolinecolor\": \"white\"}, \"yaxis\": {\"backgroundcolor\": \"#E5ECF6\", \"gridcolor\": \"white\", \"gridwidth\": 2, \"linecolor\": \"white\", \"showbackground\": true, \"ticks\": \"\", \"zerolinecolor\": \"white\"}, \"zaxis\": {\"backgroundcolor\": \"#E5ECF6\", \"gridcolor\": \"white\", \"gridwidth\": 2, \"linecolor\": \"white\", \"showbackground\": true, \"ticks\": \"\", \"zerolinecolor\": \"white\"}}, \"shapedefaults\": {\"line\": {\"color\": \"#2a3f5f\"}}, \"ternary\": {\"aaxis\": {\"gridcolor\": \"white\", \"linecolor\": \"white\", \"ticks\": \"\"}, \"baxis\": {\"gridcolor\": \"white\", \"linecolor\": \"white\", \"ticks\": \"\"}, \"bgcolor\": \"#E5ECF6\", \"caxis\": {\"gridcolor\": \"white\", \"linecolor\": \"white\", \"ticks\": \"\"}}, \"title\": {\"x\": 0.05}, \"xaxis\": {\"automargin\": true, \"gridcolor\": \"white\", \"linecolor\": \"white\", \"ticks\": \"\", \"title\": {\"standoff\": 15}, \"zerolinecolor\": \"white\", \"zerolinewidth\": 2}, \"yaxis\": {\"automargin\": true, \"gridcolor\": \"white\", \"linecolor\": \"white\", \"ticks\": \"\", \"title\": {\"standoff\": 15}, \"zerolinecolor\": \"white\", \"zerolinewidth\": 2}}}, \"title\": {\"text\": \"Prediction\"}, \"xaxis\": {\"anchor\": \"y\", \"domain\": [0.0, 1.0], \"title\": {\"text\": \"date\"}}, \"yaxis\": {\"anchor\": \"x\", \"domain\": [0.0, 1.0], \"title\": {\"text\": \"price\"}}},\n",
              "                        {\"responsive\": true}\n",
              "                    ).then(function(){\n",
              "                            \n",
              "var gd = document.getElementById('6480c339-15a7-4b41-88cb-57f686141974');\n",
              "var x = new MutationObserver(function (mutations, observer) {{\n",
              "        var display = window.getComputedStyle(gd).display;\n",
              "        if (!display || display === 'none') {{\n",
              "            console.log([gd, 'removed!']);\n",
              "            Plotly.purge(gd);\n",
              "            observer.disconnect();\n",
              "        }}\n",
              "}});\n",
              "\n",
              "// Listen for the removal of the full notebook cells\n",
              "var notebookContainer = gd.closest('#notebook-container');\n",
              "if (notebookContainer) {{\n",
              "    x.observe(notebookContainer, {childList: true});\n",
              "}}\n",
              "\n",
              "// Listen for the clearing of the current output cell\n",
              "var outputEl = gd.closest('.output');\n",
              "if (outputEl) {{\n",
              "    x.observe(outputEl, {childList: true});\n",
              "}}\n",
              "\n",
              "                        })\n",
              "                };\n",
              "                \n",
              "            </script>\n",
              "        </div>\n",
              "</body>\n",
              "</html>"
            ]
          },
          "metadata": {
            "tags": []
          }
        }
      ]
    },
    {
      "cell_type": "code",
      "metadata": {
        "id": "XySOGLRBdUMu"
      },
      "source": [
        ""
      ],
      "execution_count": null,
      "outputs": []
    }
  ]
}