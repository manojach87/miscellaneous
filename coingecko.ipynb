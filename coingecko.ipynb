{
  "nbformat": 4,
  "nbformat_minor": 0,
  "metadata": {
    "colab": {
      "name": "coingecko.ipynb",
      "provenance": [],
      "authorship_tag": "ABX9TyNJy48Jt/xqsB0gw5lBrRlK",
      "include_colab_link": true
    },
    "kernelspec": {
      "name": "python3",
      "display_name": "Python 3"
    },
    "language_info": {
      "name": "python"
    }
  },
  "cells": [
    {
      "cell_type": "markdown",
      "metadata": {
        "id": "view-in-github",
        "colab_type": "text"
      },
      "source": [
        "<a href=\"https://colab.research.google.com/github/manojach87/miscellaneous/blob/master/coingecko.ipynb\" target=\"_parent\"><img src=\"https://colab.research.google.com/assets/colab-badge.svg\" alt=\"Open In Colab\"/></a>"
      ]
    },
    {
      "cell_type": "markdown",
      "metadata": {
        "id": "nuocX4_Tjz20"
      },
      "source": [
        "https://www.coingecko.com/api/documentations/v3#/operations/ping"
      ]
    },
    {
      "cell_type": "code",
      "metadata": {
        "id": "rNh7uoHbInKZ"
      },
      "source": [
        "def readJsonLink(link):\n",
        "  import urllib.request, json \n",
        "  with urllib.request.urlopen(link) as url:\n",
        "      data = json.loads(url.read().decode())\n",
        "      return data"
      ],
      "execution_count": null,
      "outputs": []
    },
    {
      "cell_type": "code",
      "metadata": {
        "id": "lWp-p-t0Ivsj"
      },
      "source": [
        "def getMarkets(url=\"https://api.coingecko.com/api/v3/coins/markets?vs_currency=USD&order=market_cap_desc&per_page=250&sparkline=false\",pages=10):\n",
        "  marketsData=list()\n",
        "  for i in range(1,pages):\n",
        "    #print(i)\n",
        "    marketsData.append(readJsonLink(url+\"&page=\"+str(i)))\n",
        "  return marketsData\n",
        "#marketsData"
      ],
      "execution_count": null,
      "outputs": []
    },
    {
      "cell_type": "code",
      "metadata": {
        "id": "EpGTsz1lI4Y-"
      },
      "source": [
        "def createDf(url,pages=10):\n",
        "  import pandas as pd\n",
        "  marketsData=getMarkets(url,pages=pages+1)\n",
        "  marketsDf=pd.DataFrame()\n",
        "  for i in range(0,len(marketsData)):\n",
        "    #print(i)\n",
        "    marketsDf=marketsDf.append(pd.DataFrame(marketsData[i]))\n",
        "  marketsDf=marketsDf.reset_index()\n",
        "  return marketsDf"
      ],
      "execution_count": null,
      "outputs": []
    },
    {
      "cell_type": "code",
      "metadata": {
        "id": "tKjuz6P3bo8q"
      },
      "source": [
        "marketsDf=createDf(url=\"https://api.coingecko.com/api/v3/coins/markets?vs_currency=USD&order=market_cap_desc&per_page=250&sparkline=false\",pages=28)"
      ],
      "execution_count": null,
      "outputs": []
    },
    {
      "cell_type": "code",
      "metadata": {
        "colab": {
          "base_uri": "https://localhost:8080/",
          "height": 575
        },
        "id": "bcBti1c4I6-e",
        "outputId": "7df231e5-95a9-49f2-98ef-01aea2259704"
      },
      "source": [
        "#marketsDf[marketsDf.index==0]\n",
        "marketsDf"
      ],
      "execution_count": null,
      "outputs": [
        {
          "output_type": "execute_result",
          "data": {
            "text/html": [
              "<div>\n",
              "<style scoped>\n",
              "    .dataframe tbody tr th:only-of-type {\n",
              "        vertical-align: middle;\n",
              "    }\n",
              "\n",
              "    .dataframe tbody tr th {\n",
              "        vertical-align: top;\n",
              "    }\n",
              "\n",
              "    .dataframe thead th {\n",
              "        text-align: right;\n",
              "    }\n",
              "</style>\n",
              "<table border=\"1\" class=\"dataframe\">\n",
              "  <thead>\n",
              "    <tr style=\"text-align: right;\">\n",
              "      <th></th>\n",
              "      <th>index</th>\n",
              "      <th>id</th>\n",
              "      <th>symbol</th>\n",
              "      <th>name</th>\n",
              "      <th>image</th>\n",
              "      <th>current_price</th>\n",
              "      <th>market_cap</th>\n",
              "      <th>market_cap_rank</th>\n",
              "      <th>fully_diluted_valuation</th>\n",
              "      <th>total_volume</th>\n",
              "      <th>high_24h</th>\n",
              "      <th>low_24h</th>\n",
              "      <th>price_change_24h</th>\n",
              "      <th>price_change_percentage_24h</th>\n",
              "      <th>market_cap_change_24h</th>\n",
              "      <th>market_cap_change_percentage_24h</th>\n",
              "      <th>circulating_supply</th>\n",
              "      <th>total_supply</th>\n",
              "      <th>max_supply</th>\n",
              "      <th>ath</th>\n",
              "      <th>ath_change_percentage</th>\n",
              "      <th>ath_date</th>\n",
              "      <th>atl</th>\n",
              "      <th>atl_change_percentage</th>\n",
              "      <th>atl_date</th>\n",
              "      <th>roi</th>\n",
              "      <th>last_updated</th>\n",
              "    </tr>\n",
              "  </thead>\n",
              "  <tbody>\n",
              "    <tr>\n",
              "      <th>0</th>\n",
              "      <td>0</td>\n",
              "      <td>bitcoin</td>\n",
              "      <td>btc</td>\n",
              "      <td>Bitcoin</td>\n",
              "      <td>https://assets.coingecko.com/coins/images/1/la...</td>\n",
              "      <td>63080.000000</td>\n",
              "      <td>1.178632e+12</td>\n",
              "      <td>1</td>\n",
              "      <td>1.324732e+12</td>\n",
              "      <td>6.309478e+10</td>\n",
              "      <td>63705.00</td>\n",
              "      <td>62153.000000</td>\n",
              "      <td>2.940000</td>\n",
              "      <td>0.00466</td>\n",
              "      <td>-1.507376e+09</td>\n",
              "      <td>-0.12773</td>\n",
              "      <td>1.868399e+07</td>\n",
              "      <td>2.100000e+07</td>\n",
              "      <td>21000000.0</td>\n",
              "      <td>64805.00</td>\n",
              "      <td>-2.47155</td>\n",
              "      <td>2021-04-14T11:54:46.763Z</td>\n",
              "      <td>67.810000</td>\n",
              "      <td>9.310745e+04</td>\n",
              "      <td>2013-07-06T00:00:00.000Z</td>\n",
              "      <td>None</td>\n",
              "      <td>2021-04-16T03:56:20.062Z</td>\n",
              "    </tr>\n",
              "    <tr>\n",
              "      <th>1</th>\n",
              "      <td>1</td>\n",
              "      <td>ethereum</td>\n",
              "      <td>eth</td>\n",
              "      <td>Ethereum</td>\n",
              "      <td>https://assets.coingecko.com/coins/images/279/...</td>\n",
              "      <td>2504.830000</td>\n",
              "      <td>2.889361e+11</td>\n",
              "      <td>2</td>\n",
              "      <td>NaN</td>\n",
              "      <td>3.745754e+10</td>\n",
              "      <td>2544.30</td>\n",
              "      <td>2413.590000</td>\n",
              "      <td>35.040000</td>\n",
              "      <td>1.41860</td>\n",
              "      <td>3.172433e+09</td>\n",
              "      <td>1.11016</td>\n",
              "      <td>1.154874e+08</td>\n",
              "      <td>NaN</td>\n",
              "      <td>NaN</td>\n",
              "      <td>2544.30</td>\n",
              "      <td>-1.48109</td>\n",
              "      <td>2021-04-16T01:00:14.650Z</td>\n",
              "      <td>0.432979</td>\n",
              "      <td>5.788248e+05</td>\n",
              "      <td>2015-10-20T00:00:00.000Z</td>\n",
              "      <td>{'times': 52.086480313239605, 'currency': 'btc...</td>\n",
              "      <td>2021-04-16T03:57:07.433Z</td>\n",
              "    </tr>\n",
              "    <tr>\n",
              "      <th>2</th>\n",
              "      <td>2</td>\n",
              "      <td>binancecoin</td>\n",
              "      <td>bnb</td>\n",
              "      <td>Binance Coin</td>\n",
              "      <td>https://assets.coingecko.com/coins/images/825/...</td>\n",
              "      <td>531.140000</td>\n",
              "      <td>8.175848e+10</td>\n",
              "      <td>3</td>\n",
              "      <td>9.022353e+10</td>\n",
              "      <td>5.327865e+09</td>\n",
              "      <td>554.88</td>\n",
              "      <td>521.820000</td>\n",
              "      <td>-14.078343</td>\n",
              "      <td>-2.58214</td>\n",
              "      <td>-2.499168e+09</td>\n",
              "      <td>-2.96610</td>\n",
              "      <td>1.545337e+08</td>\n",
              "      <td>1.705337e+08</td>\n",
              "      <td>170533651.9</td>\n",
              "      <td>610.06</td>\n",
              "      <td>-13.41817</td>\n",
              "      <td>2021-04-12T09:32:32.635Z</td>\n",
              "      <td>0.039818</td>\n",
              "      <td>1.326439e+06</td>\n",
              "      <td>2017-10-19T00:00:00.000Z</td>\n",
              "      <td>None</td>\n",
              "      <td>2021-04-16T03:56:59.336Z</td>\n",
              "    </tr>\n",
              "    <tr>\n",
              "      <th>3</th>\n",
              "      <td>3</td>\n",
              "      <td>ripple</td>\n",
              "      <td>xrp</td>\n",
              "      <td>XRP</td>\n",
              "      <td>https://assets.coingecko.com/coins/images/44/l...</td>\n",
              "      <td>1.740000</td>\n",
              "      <td>7.998640e+10</td>\n",
              "      <td>4</td>\n",
              "      <td>NaN</td>\n",
              "      <td>1.339644e+10</td>\n",
              "      <td>1.84</td>\n",
              "      <td>1.670000</td>\n",
              "      <td>-0.023405</td>\n",
              "      <td>-1.32776</td>\n",
              "      <td>-1.088368e+09</td>\n",
              "      <td>-1.34242</td>\n",
              "      <td>4.597332e+10</td>\n",
              "      <td>1.000000e+11</td>\n",
              "      <td>NaN</td>\n",
              "      <td>3.40</td>\n",
              "      <td>-48.81750</td>\n",
              "      <td>2018-01-07T00:00:00.000Z</td>\n",
              "      <td>0.002686</td>\n",
              "      <td>6.465346e+04</td>\n",
              "      <td>2014-05-22T00:00:00.000Z</td>\n",
              "      <td>None</td>\n",
              "      <td>2021-04-16T03:56:49.948Z</td>\n",
              "    </tr>\n",
              "    <tr>\n",
              "      <th>4</th>\n",
              "      <td>4</td>\n",
              "      <td>tether</td>\n",
              "      <td>usdt</td>\n",
              "      <td>Tether</td>\n",
              "      <td>https://assets.coingecko.com/coins/images/325/...</td>\n",
              "      <td>0.997999</td>\n",
              "      <td>4.688942e+10</td>\n",
              "      <td>5</td>\n",
              "      <td>NaN</td>\n",
              "      <td>1.592404e+11</td>\n",
              "      <td>1.00</td>\n",
              "      <td>0.998005</td>\n",
              "      <td>-0.002861</td>\n",
              "      <td>-0.28590</td>\n",
              "      <td>2.957864e+08</td>\n",
              "      <td>0.63482</td>\n",
              "      <td>4.698341e+10</td>\n",
              "      <td>4.698341e+10</td>\n",
              "      <td>NaN</td>\n",
              "      <td>1.32</td>\n",
              "      <td>-24.57086</td>\n",
              "      <td>2018-07-24T00:00:00.000Z</td>\n",
              "      <td>0.572521</td>\n",
              "      <td>7.431666e+01</td>\n",
              "      <td>2015-03-02T00:00:00.000Z</td>\n",
              "      <td>None</td>\n",
              "      <td>2021-04-16T03:07:17.281Z</td>\n",
              "    </tr>\n",
              "    <tr>\n",
              "      <th>...</th>\n",
              "      <td>...</td>\n",
              "      <td>...</td>\n",
              "      <td>...</td>\n",
              "      <td>...</td>\n",
              "      <td>...</td>\n",
              "      <td>...</td>\n",
              "      <td>...</td>\n",
              "      <td>...</td>\n",
              "      <td>...</td>\n",
              "      <td>...</td>\n",
              "      <td>...</td>\n",
              "      <td>...</td>\n",
              "      <td>...</td>\n",
              "      <td>...</td>\n",
              "      <td>...</td>\n",
              "      <td>...</td>\n",
              "      <td>...</td>\n",
              "      <td>...</td>\n",
              "      <td>...</td>\n",
              "      <td>...</td>\n",
              "      <td>...</td>\n",
              "      <td>...</td>\n",
              "      <td>...</td>\n",
              "      <td>...</td>\n",
              "      <td>...</td>\n",
              "      <td>...</td>\n",
              "      <td>...</td>\n",
              "    </tr>\n",
              "    <tr>\n",
              "      <th>6719</th>\n",
              "      <td>219</td>\n",
              "      <td>gneiss</td>\n",
              "      <td>gneiss</td>\n",
              "      <td>Gneiss</td>\n",
              "      <td>https://assets.coingecko.com/coins/images/1335...</td>\n",
              "      <td>NaN</td>\n",
              "      <td>NaN</td>\n",
              "      <td>None</td>\n",
              "      <td>NaN</td>\n",
              "      <td>NaN</td>\n",
              "      <td>NaN</td>\n",
              "      <td>NaN</td>\n",
              "      <td>NaN</td>\n",
              "      <td>NaN</td>\n",
              "      <td>NaN</td>\n",
              "      <td>NaN</td>\n",
              "      <td>NaN</td>\n",
              "      <td>1.000000e+09</td>\n",
              "      <td>NaN</td>\n",
              "      <td>NaN</td>\n",
              "      <td>0.00000</td>\n",
              "      <td>None</td>\n",
              "      <td>NaN</td>\n",
              "      <td>0.000000e+00</td>\n",
              "      <td>None</td>\n",
              "      <td>None</td>\n",
              "      <td>None</td>\n",
              "    </tr>\n",
              "    <tr>\n",
              "      <th>6720</th>\n",
              "      <td>220</td>\n",
              "      <td>franklin</td>\n",
              "      <td>fly</td>\n",
              "      <td>Franklin</td>\n",
              "      <td>https://assets.coingecko.com/coins/images/1481...</td>\n",
              "      <td>NaN</td>\n",
              "      <td>NaN</td>\n",
              "      <td>None</td>\n",
              "      <td>NaN</td>\n",
              "      <td>NaN</td>\n",
              "      <td>NaN</td>\n",
              "      <td>NaN</td>\n",
              "      <td>NaN</td>\n",
              "      <td>NaN</td>\n",
              "      <td>NaN</td>\n",
              "      <td>NaN</td>\n",
              "      <td>NaN</td>\n",
              "      <td>1.700000e+09</td>\n",
              "      <td>NaN</td>\n",
              "      <td>NaN</td>\n",
              "      <td>0.00000</td>\n",
              "      <td>None</td>\n",
              "      <td>NaN</td>\n",
              "      <td>0.000000e+00</td>\n",
              "      <td>None</td>\n",
              "      <td>None</td>\n",
              "      <td>None</td>\n",
              "    </tr>\n",
              "    <tr>\n",
              "      <th>6721</th>\n",
              "      <td>221</td>\n",
              "      <td>fridaybeers</td>\n",
              "      <td>beer</td>\n",
              "      <td>FridayBeers</td>\n",
              "      <td>https://assets.coingecko.com/coins/images/1285...</td>\n",
              "      <td>NaN</td>\n",
              "      <td>NaN</td>\n",
              "      <td>None</td>\n",
              "      <td>NaN</td>\n",
              "      <td>0.000000e+00</td>\n",
              "      <td>NaN</td>\n",
              "      <td>NaN</td>\n",
              "      <td>NaN</td>\n",
              "      <td>NaN</td>\n",
              "      <td>NaN</td>\n",
              "      <td>NaN</td>\n",
              "      <td>NaN</td>\n",
              "      <td>3.200000e+04</td>\n",
              "      <td>32000.0</td>\n",
              "      <td>NaN</td>\n",
              "      <td>0.00000</td>\n",
              "      <td>None</td>\n",
              "      <td>NaN</td>\n",
              "      <td>0.000000e+00</td>\n",
              "      <td>None</td>\n",
              "      <td>None</td>\n",
              "      <td>2021-03-17T22:33:30.919Z</td>\n",
              "    </tr>\n",
              "    <tr>\n",
              "      <th>6722</th>\n",
              "      <td>222</td>\n",
              "      <td>the-apis</td>\n",
              "      <td>api</td>\n",
              "      <td>The APIS</td>\n",
              "      <td>https://assets.coingecko.com/coins/images/1405...</td>\n",
              "      <td>NaN</td>\n",
              "      <td>NaN</td>\n",
              "      <td>None</td>\n",
              "      <td>NaN</td>\n",
              "      <td>NaN</td>\n",
              "      <td>NaN</td>\n",
              "      <td>NaN</td>\n",
              "      <td>NaN</td>\n",
              "      <td>NaN</td>\n",
              "      <td>NaN</td>\n",
              "      <td>NaN</td>\n",
              "      <td>NaN</td>\n",
              "      <td>NaN</td>\n",
              "      <td>NaN</td>\n",
              "      <td>NaN</td>\n",
              "      <td>0.00000</td>\n",
              "      <td>None</td>\n",
              "      <td>NaN</td>\n",
              "      <td>0.000000e+00</td>\n",
              "      <td>None</td>\n",
              "      <td>None</td>\n",
              "      <td>None</td>\n",
              "    </tr>\n",
              "    <tr>\n",
              "      <th>6723</th>\n",
              "      <td>223</td>\n",
              "      <td>internet-computer</td>\n",
              "      <td>icp</td>\n",
              "      <td>Internet Computer</td>\n",
              "      <td>https://assets.coingecko.com/coins/images/1449...</td>\n",
              "      <td>NaN</td>\n",
              "      <td>NaN</td>\n",
              "      <td>None</td>\n",
              "      <td>NaN</td>\n",
              "      <td>NaN</td>\n",
              "      <td>NaN</td>\n",
              "      <td>NaN</td>\n",
              "      <td>NaN</td>\n",
              "      <td>NaN</td>\n",
              "      <td>NaN</td>\n",
              "      <td>NaN</td>\n",
              "      <td>NaN</td>\n",
              "      <td>4.692137e+08</td>\n",
              "      <td>469213710.0</td>\n",
              "      <td>NaN</td>\n",
              "      <td>0.00000</td>\n",
              "      <td>None</td>\n",
              "      <td>NaN</td>\n",
              "      <td>0.000000e+00</td>\n",
              "      <td>None</td>\n",
              "      <td>None</td>\n",
              "      <td>None</td>\n",
              "    </tr>\n",
              "  </tbody>\n",
              "</table>\n",
              "<p>6724 rows × 27 columns</p>\n",
              "</div>"
            ],
            "text/plain": [
              "      index  ...              last_updated\n",
              "0         0  ...  2021-04-16T03:56:20.062Z\n",
              "1         1  ...  2021-04-16T03:57:07.433Z\n",
              "2         2  ...  2021-04-16T03:56:59.336Z\n",
              "3         3  ...  2021-04-16T03:56:49.948Z\n",
              "4         4  ...  2021-04-16T03:07:17.281Z\n",
              "...     ...  ...                       ...\n",
              "6719    219  ...                      None\n",
              "6720    220  ...                      None\n",
              "6721    221  ...  2021-03-17T22:33:30.919Z\n",
              "6722    222  ...                      None\n",
              "6723    223  ...                      None\n",
              "\n",
              "[6724 rows x 27 columns]"
            ]
          },
          "metadata": {
            "tags": []
          },
          "execution_count": 5
        }
      ]
    },
    {
      "cell_type": "code",
      "metadata": {
        "colab": {
          "base_uri": "https://localhost:8080/"
        },
        "id": "rkvE9aSrLTih",
        "outputId": "8f0aabd8-61a6-4e2d-9102-e63c5c480f6a"
      },
      "source": [
        "len(marketsDf)"
      ],
      "execution_count": null,
      "outputs": [
        {
          "output_type": "execute_result",
          "data": {
            "text/plain": [
              "6686"
            ]
          },
          "metadata": {
            "tags": []
          },
          "execution_count": 6
        }
      ]
    },
    {
      "cell_type": "code",
      "metadata": {
        "colab": {
          "base_uri": "https://localhost:8080/"
        },
        "id": "AtwOo4HESODr",
        "outputId": "39303396-7595-487c-ae46-5451d0abf69b"
      },
      "source": [
        "btcSupply=marketsDf[marketsDf.symbol==\"btc\"].circulating_supply[0]\n",
        "btcSupply"
      ],
      "execution_count": null,
      "outputs": [
        {
          "output_type": "execute_result",
          "data": {
            "text/plain": [
              "18682068.0"
            ]
          },
          "metadata": {
            "tags": []
          },
          "execution_count": 7
        }
      ]
    },
    {
      "cell_type": "code",
      "metadata": {
        "id": "toDkeqS3S-GH"
      },
      "source": [
        "marketsDf[\"btc_relative_val\"]=marketsDf.circulating_supply/btcSupply*marketsDf.current_price"
      ],
      "execution_count": null,
      "outputs": []
    },
    {
      "cell_type": "code",
      "metadata": {
        "id": "8_XD1IAhTqPg"
      },
      "source": [
        "marketsDf.sort_values(by=[\"btc_relative_val\"], ascending=[0], inplace=True)"
      ],
      "execution_count": null,
      "outputs": []
    },
    {
      "cell_type": "code",
      "metadata": {
        "colab": {
          "base_uri": "https://localhost:8080/",
          "height": 419
        },
        "id": "kd_O1W1xUoYh",
        "outputId": "e48e51ce-43e2-4c38-b469-aff007749418"
      },
      "source": [
        "marketsDf[[\"symbol\",\"btc_relative_val\",\"current_price\", \"circulating_supply\",\"market_cap\"]][(marketsDf[\"btc_relative_val\"]<20) & (marketsDf[\"btc_relative_val\"]>10)]"
      ],
      "execution_count": null,
      "outputs": [
        {
          "output_type": "execute_result",
          "data": {
            "text/html": [
              "<div>\n",
              "<style scoped>\n",
              "    .dataframe tbody tr th:only-of-type {\n",
              "        vertical-align: middle;\n",
              "    }\n",
              "\n",
              "    .dataframe tbody tr th {\n",
              "        vertical-align: top;\n",
              "    }\n",
              "\n",
              "    .dataframe thead th {\n",
              "        text-align: right;\n",
              "    }\n",
              "</style>\n",
              "<table border=\"1\" class=\"dataframe\">\n",
              "  <thead>\n",
              "    <tr style=\"text-align: right;\">\n",
              "      <th></th>\n",
              "      <th>symbol</th>\n",
              "      <th>btc_relative_val</th>\n",
              "      <th>current_price</th>\n",
              "      <th>circulating_supply</th>\n",
              "      <th>market_cap</th>\n",
              "    </tr>\n",
              "  </thead>\n",
              "  <tbody>\n",
              "    <tr>\n",
              "      <th>181</th>\n",
              "      <td>sfp</td>\n",
              "      <td>19.859240</td>\n",
              "      <td>3.430000</td>\n",
              "      <td>1.081667e+08</td>\n",
              "      <td>367124955.0</td>\n",
              "    </tr>\n",
              "    <tr>\n",
              "      <th>180</th>\n",
              "      <td>paid</td>\n",
              "      <td>19.651470</td>\n",
              "      <td>4.660000</td>\n",
              "      <td>7.878328e+07</td>\n",
              "      <td>367646469.0</td>\n",
              "    </tr>\n",
              "    <tr>\n",
              "      <th>182</th>\n",
              "      <td>woo</td>\n",
              "      <td>19.429467</td>\n",
              "      <td>0.875336</td>\n",
              "      <td>4.146781e+08</td>\n",
              "      <td>363753976.0</td>\n",
              "    </tr>\n",
              "    <tr>\n",
              "      <th>183</th>\n",
              "      <td>badger</td>\n",
              "      <td>19.366919</td>\n",
              "      <td>45.420000</td>\n",
              "      <td>7.965964e+06</td>\n",
              "      <td>359581165.0</td>\n",
              "    </tr>\n",
              "    <tr>\n",
              "      <th>185</th>\n",
              "      <td>bts</td>\n",
              "      <td>19.282041</td>\n",
              "      <td>0.132916</td>\n",
              "      <td>2.710196e+09</td>\n",
              "      <td>358268374.0</td>\n",
              "    </tr>\n",
              "    <tr>\n",
              "      <th>...</th>\n",
              "      <td>...</td>\n",
              "      <td>...</td>\n",
              "      <td>...</td>\n",
              "      <td>...</td>\n",
              "      <td>...</td>\n",
              "    </tr>\n",
              "    <tr>\n",
              "      <th>274</th>\n",
              "      <td>xcm</td>\n",
              "      <td>10.437659</td>\n",
              "      <td>0.643154</td>\n",
              "      <td>3.031888e+08</td>\n",
              "      <td>194997029.0</td>\n",
              "    </tr>\n",
              "    <tr>\n",
              "      <th>275</th>\n",
              "      <td>lto</td>\n",
              "      <td>10.238835</td>\n",
              "      <td>0.681934</td>\n",
              "      <td>2.805002e+08</td>\n",
              "      <td>190779240.0</td>\n",
              "    </tr>\n",
              "    <tr>\n",
              "      <th>276</th>\n",
              "      <td>mask</td>\n",
              "      <td>10.117666</td>\n",
              "      <td>17.320000</td>\n",
              "      <td>1.091333e+07</td>\n",
              "      <td>188961936.0</td>\n",
              "    </tr>\n",
              "    <tr>\n",
              "      <th>277</th>\n",
              "      <td>zmt</td>\n",
              "      <td>10.034137</td>\n",
              "      <td>4.670000</td>\n",
              "      <td>4.014099e+07</td>\n",
              "      <td>187495982.0</td>\n",
              "    </tr>\n",
              "    <tr>\n",
              "      <th>278</th>\n",
              "      <td>DIA</td>\n",
              "      <td>10.007389</td>\n",
              "      <td>4.500000</td>\n",
              "      <td>4.154638e+07</td>\n",
              "      <td>186345371.0</td>\n",
              "    </tr>\n",
              "  </tbody>\n",
              "</table>\n",
              "<p>99 rows × 5 columns</p>\n",
              "</div>"
            ],
            "text/plain": [
              "     symbol  btc_relative_val  current_price  circulating_supply   market_cap\n",
              "181     sfp         19.859240       3.430000        1.081667e+08  367124955.0\n",
              "180    paid         19.651470       4.660000        7.878328e+07  367646469.0\n",
              "182     woo         19.429467       0.875336        4.146781e+08  363753976.0\n",
              "183  badger         19.366919      45.420000        7.965964e+06  359581165.0\n",
              "185     bts         19.282041       0.132916        2.710196e+09  358268374.0\n",
              "..      ...               ...            ...                 ...          ...\n",
              "274     xcm         10.437659       0.643154        3.031888e+08  194997029.0\n",
              "275     lto         10.238835       0.681934        2.805002e+08  190779240.0\n",
              "276    mask         10.117666      17.320000        1.091333e+07  188961936.0\n",
              "277     zmt         10.034137       4.670000        4.014099e+07  187495982.0\n",
              "278     DIA         10.007389       4.500000        4.154638e+07  186345371.0\n",
              "\n",
              "[99 rows x 5 columns]"
            ]
          },
          "metadata": {
            "tags": []
          },
          "execution_count": 10
        }
      ]
    },
    {
      "cell_type": "code",
      "metadata": {
        "id": "X1GSrFXxX1mG"
      },
      "source": [
        "mmDf=createDf(url=\"https://api.coingecko.com/api/v3/exchanges/binance/tickers?\",pages=10)"
      ],
      "execution_count": null,
      "outputs": []
    },
    {
      "cell_type": "code",
      "metadata": {
        "id": "dZqRQLGYcyFe"
      },
      "source": [
        "import pandas as pd\n",
        "binanceDf=pd.DataFrame([ row for row in mmDf.tickers])[[\"coin_id\",\"last\"]]\n"
      ],
      "execution_count": null,
      "outputs": []
    },
    {
      "cell_type": "code",
      "metadata": {
        "colab": {
          "base_uri": "https://localhost:8080/",
          "height": 542
        },
        "id": "SvQq86DidYay",
        "outputId": "de9721e4-b3b0-4a8e-9acf-0f99f0504d87"
      },
      "source": [
        "import plotly.express as px\n",
        "fig = px.bar(marketsDf.head(200), x='symbol', y='btc_relative_val')\n",
        "fig.show()"
      ],
      "execution_count": null,
      "outputs": [
        {
          "output_type": "display_data",
          "data": {
            "text/html": [
              "<html>\n",
              "<head><meta charset=\"utf-8\" /></head>\n",
              "<body>\n",
              "    <div>\n",
              "            <script src=\"https://cdnjs.cloudflare.com/ajax/libs/mathjax/2.7.5/MathJax.js?config=TeX-AMS-MML_SVG\"></script><script type=\"text/javascript\">if (window.MathJax) {MathJax.Hub.Config({SVG: {font: \"STIX-Web\"}});}</script>\n",
              "                <script type=\"text/javascript\">window.PlotlyConfig = {MathJaxConfig: 'local'};</script>\n",
              "        <script src=\"https://cdn.plot.ly/plotly-latest.min.js\"></script>    \n",
              "            <div id=\"b33f4f40-8ce0-42d7-8686-2015e696eaf3\" class=\"plotly-graph-div\" style=\"height:525px; width:100%;\"></div>\n",
              "            <script type=\"text/javascript\">\n",
              "                \n",
              "                    window.PLOTLYENV=window.PLOTLYENV || {};\n",
              "                    \n",
              "                if (document.getElementById(\"b33f4f40-8ce0-42d7-8686-2015e696eaf3\")) {\n",
              "                    Plotly.newPlot(\n",
              "                        'b33f4f40-8ce0-42d7-8686-2015e696eaf3',\n",
              "                        [{\"alignmentgroup\": \"True\", \"hoverlabel\": {\"namelength\": 0}, \"hovertemplate\": \"symbol=%{x}<br>btc_relative_val=%{y}\", \"legendgroup\": \"\", \"marker\": {\"color\": \"#636efa\"}, \"name\": \"\", \"offsetgroup\": \"\", \"orientation\": \"v\", \"showlegend\": false, \"textposition\": \"auto\", \"type\": \"bar\", \"x\": [\"btc\", \"eth\", \"bnb\", \"xrp\", \"ada\", \"usdt\", \"dot\", \"uni\", \"ltc\", \"link\", \"bch\", \"xlm\", \"doge\", \"theta\", \"usdc\", \"trx\", \"fil\", \"vet\", \"wbtc\", \"eos\", \"klay\", \"sol\", \"miota\", \"luna\", \"atom\", \"bsv\", \"ceth\", \"xmr\", \"cro\", \"okb\", \"btt\", \"busd\", \"xtz\", \"aave\", \"ftt\", \"neo\", \"AVAX\", \"algo\", \"cusdc\", \"ksm\", \"egld\", \"cake\", \"xem\", \"ht\", \"cdai\", \"rune\", \"hot\", \"dash\", \"dai\", \"hbar\", \"snx\", \"enj\", \"etc\", \"cel\", \"chz\", \"zec\", \"dcr\", \"comp\", \"zil\", \"sushi\", \"grt\", \"mkr\", \"stx\", \"near\", \"bat\", \"matic\", \"leo\", \"nexo\", \"btg\", \"hbtc\", \"ust\", \"zrx\", \"rvn\", \"qtum\", \"yfi\", \"fei\", \"ont\", \"uma\", \"waves\", \"icx\", \"mana\", \"iost\", \"omg\", \"one\", \"sc\", \"flow\", \"omi\", \"kcs\", \"bnt\", \"hnt\", \"win\", \"dgb\", \"ankr\", \"amp\", \"ar\", \"xdc\", \"dent\", \"pundix\", \"rsr\", \"vgx\", \"ftm\", \"npxs\", \"tlm\", \"btmx\", \"xsushi\", \"chsb\", \"zen\", \"pax\", \"ren\", \"lsk\", \"1inch\", \"crv\", \"wrx\", \"bcha\", \"SNT\", \"renbtc\", \"lrc\", \"nano\", \"husd\", \"xvs\", \"ckb\", \"knc\", \"lpt\", \"gt\", \"ocean\", \"xvg\", \"zks\", \"cusdt\", \"oxy\", \"ewt\", \"nxm\", \"stmx\", \"bal\", \"bcd\", \"tribe\", \"btcst\", \"ton\", \"glm\", \"vtho\", \"qnt\", \"mir\", \"maid\", \"med\", \"dodo\", \"lqty\", \"steth\", \"nkn\", \"ogn\", \"reef\", \"agi\", \"mdx\", \"celo\", \"skl\", \"ardr\", \"etn\", \"band\", \"sand\", \"cvc\", \"steem\", \"kin\", \"kmd\", \"hbc\", \"rfox\", \"axs\", \"fun\", \"tel\", \"nmr\", \"fet\", \"ark\", \"sxp\", \"orbs\", \"cuni\", \"audio\", \"alpha\", \"waxp\", \"arrr\", \"lusd\", \"poly\", \"ant\", \"wan\", \"kava\", \"sfp\", \"paid\", \"woo\", \"badger\", \"bts\", \"xhv\", \"srm\", \"storj\", \"celr\", \"math\", \"meta\", \"lina\", \"rpl\", \"btm\", \"ava\", \"akt\", \"kai\", \"klv\", \"ubt\"], \"xaxis\": \"x\", \"y\": [63717.0, 14479.529409405568, 4652.205339451606, 4404.878481345856, 2503.3074184051766, 2460.0063367086764, 2302.522070875761, 1002.8686475330272, 1002.6403413777794, 848.2434291723321, 814.8840465866996, 806.220324193522, 777.1463466611866, 676.5846264985225, 598.5915951932944, 592.0788104559782, 589.6635592403368, 550.3040847396544, 504.8398057052831, 409.6810416097321, 398.04278101460716, 383.01417784940173, 328.8052439400098, 324.941218789326, 321.7448358253236, 320.46462325646047, 313.89341661994155, 313.3403141480506, 307.61210989362417, 306.76970199285216, 292.9906404924118, 280.96266058340007, 280.6074941973829, 272.11549770284006, 268.02929829934976, 264.9490088570495, 237.56094796619925, 220.63352499681324, 217.57821874180485, 211.20602348649092, 201.7841799633745, 201.13515753607592, 198.746948120917, 196.99727315205766, 182.7644204397515, 176.3230300858462, 176.1249713906197, 169.02345529911682, 164.9607643340491, 161.40049907326747, 156.9207644077424, 152.03422985220053, 150.26317661675088, 147.51976134305093, 144.12731237804292, 140.59026448628072, 139.81635806148012, 133.5776549990269, 129.40674671975137, 129.12798253966756, 127.86319502209284, 126.39920282521781, 126.2032487078307, 124.38975286890083, 123.85489031325362, 112.69475597297794, 109.11239261076449, 102.21566660188925, 102.16574725667417, 95.25955329789413, 94.75424600467892, 94.54508514465908, 89.58345456188255, 87.82039842698356, 87.50091974673028, 87.30604859419655, 84.9597411999571, 83.61267955148656, 83.18136942869494, 81.21142712005799, 78.15566031475382, 75.51921836812929, 74.1686913173592, 73.90364456338733, 73.62793560658007, 73.08245876966208, 72.22975803439127, 71.44219588538057, 69.47250016829427, 67.02782095639292, 64.09709877934485, 63.528929358447456, 62.58800560931531, 62.31102987321893, 60.96903907265513, 59.717880147003434, 59.6366815232963, 59.49630630277511, 59.48810148084249, 59.018318146723736, 57.11465492686222, 55.466749039473434, 53.35409206343452, 53.34484121372539, 53.341710387531926, 51.45426884802147, 51.41552095571004, 50.10818503336996, 48.58068225196263, 48.308127830387946, 47.32426331732759, 46.860983774611775, 45.70518556725091, 43.64156278630492, 43.07504113227063, 41.774494374973585, 40.82017543253392, 40.36947737263348, 40.03862653857994, 39.866528222045595, 39.32900217451642, 38.88120328591664, 38.80426455626469, 38.70591224562269, 38.538846670379584, 38.17813278230836, 36.38826279831547, 36.072156181282566, 33.14547914081032, 32.55388090854971, 32.52491625293759, 31.81338073057085, 31.61557138968686, 31.121009444716943, 30.931963046211564, 30.75432340869544, 30.3775278143317, 30.128356239791014, 29.889231936064657, 29.836917281867404, 29.66799119929189, 29.068671326964445, 28.680711021868674, 28.273220529914088, 28.13604283797136, 27.436930859469282, 27.391231527473295, 26.61142867839899, 26.315790417665117, 26.0117856152615, 25.819148639626754, 25.00744035670997, 24.990009260161937, 24.78650858774655, 24.321126220871545, 24.185058159514245, 24.039960430920193, 23.973733528857725, 23.8504417133965, 23.760857786190954, 23.403699512821397, 23.202983900925744, 23.182141552369593, 22.716803985511667, 22.217592746427542, 22.130793436777818, 22.041190685620947, 22.028492713515835, 21.543777066864333, 21.441491360448946, 21.07771643560231, 21.04937179450019, 20.853439026559588, 20.75451198710978, 20.721178769803725, 20.707010476697842, 20.557737896993416, 20.542648115645413, 20.465573263015585, 20.349593507947798, 20.11154622282715, 19.859239769922688, 19.65146979102689, 19.429467168776867, 19.36691946438148, 19.282041496171683, 19.21342290716298, 18.921888090761687, 18.625646885237757, 18.221050877890747, 18.146490597325734, 17.911065348273542, 17.685966480960175, 17.65767689636929, 17.487565239565555, 17.4289728931508, 17.167001255244777, 17.12318679067007, 17.118207078615796, 17.101961089104268], \"yaxis\": \"y\"}],\n",
              "                        {\"barmode\": \"relative\", \"legend\": {\"tracegroupgap\": 0}, \"margin\": {\"t\": 60}, \"template\": {\"data\": {\"bar\": [{\"error_x\": {\"color\": \"#2a3f5f\"}, \"error_y\": {\"color\": \"#2a3f5f\"}, \"marker\": {\"line\": {\"color\": \"#E5ECF6\", \"width\": 0.5}}, \"type\": \"bar\"}], \"barpolar\": [{\"marker\": {\"line\": {\"color\": \"#E5ECF6\", \"width\": 0.5}}, \"type\": \"barpolar\"}], \"carpet\": [{\"aaxis\": {\"endlinecolor\": \"#2a3f5f\", \"gridcolor\": \"white\", \"linecolor\": \"white\", \"minorgridcolor\": \"white\", \"startlinecolor\": \"#2a3f5f\"}, \"baxis\": {\"endlinecolor\": \"#2a3f5f\", \"gridcolor\": \"white\", \"linecolor\": \"white\", \"minorgridcolor\": \"white\", \"startlinecolor\": \"#2a3f5f\"}, \"type\": \"carpet\"}], \"choropleth\": [{\"colorbar\": {\"outlinewidth\": 0, \"ticks\": \"\"}, \"type\": \"choropleth\"}], \"contour\": [{\"colorbar\": {\"outlinewidth\": 0, \"ticks\": \"\"}, \"colorscale\": [[0.0, \"#0d0887\"], [0.1111111111111111, \"#46039f\"], [0.2222222222222222, \"#7201a8\"], [0.3333333333333333, \"#9c179e\"], [0.4444444444444444, \"#bd3786\"], [0.5555555555555556, \"#d8576b\"], [0.6666666666666666, \"#ed7953\"], [0.7777777777777778, \"#fb9f3a\"], [0.8888888888888888, \"#fdca26\"], [1.0, \"#f0f921\"]], \"type\": \"contour\"}], \"contourcarpet\": [{\"colorbar\": {\"outlinewidth\": 0, \"ticks\": \"\"}, \"type\": \"contourcarpet\"}], \"heatmap\": [{\"colorbar\": {\"outlinewidth\": 0, \"ticks\": \"\"}, \"colorscale\": [[0.0, \"#0d0887\"], [0.1111111111111111, \"#46039f\"], [0.2222222222222222, \"#7201a8\"], [0.3333333333333333, \"#9c179e\"], [0.4444444444444444, \"#bd3786\"], [0.5555555555555556, \"#d8576b\"], [0.6666666666666666, \"#ed7953\"], [0.7777777777777778, \"#fb9f3a\"], [0.8888888888888888, \"#fdca26\"], [1.0, \"#f0f921\"]], \"type\": \"heatmap\"}], \"heatmapgl\": [{\"colorbar\": {\"outlinewidth\": 0, \"ticks\": \"\"}, \"colorscale\": [[0.0, \"#0d0887\"], [0.1111111111111111, \"#46039f\"], [0.2222222222222222, \"#7201a8\"], [0.3333333333333333, \"#9c179e\"], [0.4444444444444444, \"#bd3786\"], [0.5555555555555556, \"#d8576b\"], [0.6666666666666666, \"#ed7953\"], [0.7777777777777778, \"#fb9f3a\"], [0.8888888888888888, \"#fdca26\"], [1.0, \"#f0f921\"]], \"type\": \"heatmapgl\"}], \"histogram\": [{\"marker\": {\"colorbar\": {\"outlinewidth\": 0, \"ticks\": \"\"}}, \"type\": \"histogram\"}], \"histogram2d\": [{\"colorbar\": {\"outlinewidth\": 0, \"ticks\": \"\"}, \"colorscale\": [[0.0, \"#0d0887\"], [0.1111111111111111, \"#46039f\"], [0.2222222222222222, \"#7201a8\"], [0.3333333333333333, \"#9c179e\"], [0.4444444444444444, \"#bd3786\"], [0.5555555555555556, \"#d8576b\"], [0.6666666666666666, \"#ed7953\"], [0.7777777777777778, \"#fb9f3a\"], [0.8888888888888888, \"#fdca26\"], [1.0, \"#f0f921\"]], \"type\": \"histogram2d\"}], \"histogram2dcontour\": [{\"colorbar\": {\"outlinewidth\": 0, \"ticks\": \"\"}, \"colorscale\": [[0.0, \"#0d0887\"], [0.1111111111111111, \"#46039f\"], [0.2222222222222222, \"#7201a8\"], [0.3333333333333333, \"#9c179e\"], [0.4444444444444444, \"#bd3786\"], [0.5555555555555556, \"#d8576b\"], [0.6666666666666666, \"#ed7953\"], [0.7777777777777778, \"#fb9f3a\"], [0.8888888888888888, \"#fdca26\"], [1.0, \"#f0f921\"]], \"type\": \"histogram2dcontour\"}], \"mesh3d\": [{\"colorbar\": {\"outlinewidth\": 0, \"ticks\": \"\"}, \"type\": \"mesh3d\"}], \"parcoords\": [{\"line\": {\"colorbar\": {\"outlinewidth\": 0, \"ticks\": \"\"}}, \"type\": \"parcoords\"}], \"pie\": [{\"automargin\": true, \"type\": \"pie\"}], \"scatter\": [{\"marker\": {\"colorbar\": {\"outlinewidth\": 0, \"ticks\": \"\"}}, \"type\": \"scatter\"}], \"scatter3d\": [{\"line\": {\"colorbar\": {\"outlinewidth\": 0, \"ticks\": \"\"}}, \"marker\": {\"colorbar\": {\"outlinewidth\": 0, \"ticks\": \"\"}}, \"type\": \"scatter3d\"}], \"scattercarpet\": [{\"marker\": {\"colorbar\": {\"outlinewidth\": 0, \"ticks\": \"\"}}, \"type\": \"scattercarpet\"}], \"scattergeo\": [{\"marker\": {\"colorbar\": {\"outlinewidth\": 0, \"ticks\": \"\"}}, \"type\": \"scattergeo\"}], \"scattergl\": [{\"marker\": {\"colorbar\": {\"outlinewidth\": 0, \"ticks\": \"\"}}, \"type\": \"scattergl\"}], \"scattermapbox\": [{\"marker\": {\"colorbar\": {\"outlinewidth\": 0, \"ticks\": \"\"}}, \"type\": \"scattermapbox\"}], \"scatterpolar\": [{\"marker\": {\"colorbar\": {\"outlinewidth\": 0, \"ticks\": \"\"}}, \"type\": \"scatterpolar\"}], \"scatterpolargl\": [{\"marker\": {\"colorbar\": {\"outlinewidth\": 0, \"ticks\": \"\"}}, \"type\": \"scatterpolargl\"}], \"scatterternary\": [{\"marker\": {\"colorbar\": {\"outlinewidth\": 0, \"ticks\": \"\"}}, \"type\": \"scatterternary\"}], \"surface\": [{\"colorbar\": {\"outlinewidth\": 0, \"ticks\": \"\"}, \"colorscale\": [[0.0, \"#0d0887\"], [0.1111111111111111, \"#46039f\"], [0.2222222222222222, \"#7201a8\"], [0.3333333333333333, \"#9c179e\"], [0.4444444444444444, \"#bd3786\"], [0.5555555555555556, \"#d8576b\"], [0.6666666666666666, \"#ed7953\"], [0.7777777777777778, \"#fb9f3a\"], [0.8888888888888888, \"#fdca26\"], [1.0, \"#f0f921\"]], \"type\": \"surface\"}], \"table\": [{\"cells\": {\"fill\": {\"color\": \"#EBF0F8\"}, \"line\": {\"color\": \"white\"}}, \"header\": {\"fill\": {\"color\": \"#C8D4E3\"}, \"line\": {\"color\": \"white\"}}, \"type\": \"table\"}]}, \"layout\": {\"annotationdefaults\": {\"arrowcolor\": \"#2a3f5f\", \"arrowhead\": 0, \"arrowwidth\": 1}, \"coloraxis\": {\"colorbar\": {\"outlinewidth\": 0, \"ticks\": \"\"}}, \"colorscale\": {\"diverging\": [[0, \"#8e0152\"], [0.1, \"#c51b7d\"], [0.2, \"#de77ae\"], [0.3, \"#f1b6da\"], [0.4, \"#fde0ef\"], [0.5, \"#f7f7f7\"], [0.6, \"#e6f5d0\"], [0.7, \"#b8e186\"], [0.8, \"#7fbc41\"], [0.9, \"#4d9221\"], [1, \"#276419\"]], \"sequential\": [[0.0, \"#0d0887\"], [0.1111111111111111, \"#46039f\"], [0.2222222222222222, \"#7201a8\"], [0.3333333333333333, \"#9c179e\"], [0.4444444444444444, \"#bd3786\"], [0.5555555555555556, \"#d8576b\"], [0.6666666666666666, \"#ed7953\"], [0.7777777777777778, \"#fb9f3a\"], [0.8888888888888888, \"#fdca26\"], [1.0, \"#f0f921\"]], \"sequentialminus\": [[0.0, \"#0d0887\"], [0.1111111111111111, \"#46039f\"], [0.2222222222222222, \"#7201a8\"], [0.3333333333333333, \"#9c179e\"], [0.4444444444444444, \"#bd3786\"], [0.5555555555555556, \"#d8576b\"], [0.6666666666666666, \"#ed7953\"], [0.7777777777777778, \"#fb9f3a\"], [0.8888888888888888, \"#fdca26\"], [1.0, \"#f0f921\"]]}, \"colorway\": [\"#636efa\", \"#EF553B\", \"#00cc96\", \"#ab63fa\", \"#FFA15A\", \"#19d3f3\", \"#FF6692\", \"#B6E880\", \"#FF97FF\", \"#FECB52\"], \"font\": {\"color\": \"#2a3f5f\"}, \"geo\": {\"bgcolor\": \"white\", \"lakecolor\": \"white\", \"landcolor\": \"#E5ECF6\", \"showlakes\": true, \"showland\": true, \"subunitcolor\": \"white\"}, \"hoverlabel\": {\"align\": \"left\"}, \"hovermode\": \"closest\", \"mapbox\": {\"style\": \"light\"}, \"paper_bgcolor\": \"white\", \"plot_bgcolor\": \"#E5ECF6\", \"polar\": {\"angularaxis\": {\"gridcolor\": \"white\", \"linecolor\": \"white\", \"ticks\": \"\"}, \"bgcolor\": \"#E5ECF6\", \"radialaxis\": {\"gridcolor\": \"white\", \"linecolor\": \"white\", \"ticks\": \"\"}}, \"scene\": {\"xaxis\": {\"backgroundcolor\": \"#E5ECF6\", \"gridcolor\": \"white\", \"gridwidth\": 2, \"linecolor\": \"white\", \"showbackground\": true, \"ticks\": \"\", \"zerolinecolor\": \"white\"}, \"yaxis\": {\"backgroundcolor\": \"#E5ECF6\", \"gridcolor\": \"white\", \"gridwidth\": 2, \"linecolor\": \"white\", \"showbackground\": true, \"ticks\": \"\", \"zerolinecolor\": \"white\"}, \"zaxis\": {\"backgroundcolor\": \"#E5ECF6\", \"gridcolor\": \"white\", \"gridwidth\": 2, \"linecolor\": \"white\", \"showbackground\": true, \"ticks\": \"\", \"zerolinecolor\": \"white\"}}, \"shapedefaults\": {\"line\": {\"color\": \"#2a3f5f\"}}, \"ternary\": {\"aaxis\": {\"gridcolor\": \"white\", \"linecolor\": \"white\", \"ticks\": \"\"}, \"baxis\": {\"gridcolor\": \"white\", \"linecolor\": \"white\", \"ticks\": \"\"}, \"bgcolor\": \"#E5ECF6\", \"caxis\": {\"gridcolor\": \"white\", \"linecolor\": \"white\", \"ticks\": \"\"}}, \"title\": {\"x\": 0.05}, \"xaxis\": {\"automargin\": true, \"gridcolor\": \"white\", \"linecolor\": \"white\", \"ticks\": \"\", \"title\": {\"standoff\": 15}, \"zerolinecolor\": \"white\", \"zerolinewidth\": 2}, \"yaxis\": {\"automargin\": true, \"gridcolor\": \"white\", \"linecolor\": \"white\", \"ticks\": \"\", \"title\": {\"standoff\": 15}, \"zerolinecolor\": \"white\", \"zerolinewidth\": 2}}}, \"xaxis\": {\"anchor\": \"y\", \"domain\": [0.0, 1.0], \"title\": {\"text\": \"symbol\"}}, \"yaxis\": {\"anchor\": \"x\", \"domain\": [0.0, 1.0], \"title\": {\"text\": \"btc_relative_val\"}}},\n",
              "                        {\"responsive\": true}\n",
              "                    ).then(function(){\n",
              "                            \n",
              "var gd = document.getElementById('b33f4f40-8ce0-42d7-8686-2015e696eaf3');\n",
              "var x = new MutationObserver(function (mutations, observer) {{\n",
              "        var display = window.getComputedStyle(gd).display;\n",
              "        if (!display || display === 'none') {{\n",
              "            console.log([gd, 'removed!']);\n",
              "            Plotly.purge(gd);\n",
              "            observer.disconnect();\n",
              "        }}\n",
              "}});\n",
              "\n",
              "// Listen for the removal of the full notebook cells\n",
              "var notebookContainer = gd.closest('#notebook-container');\n",
              "if (notebookContainer) {{\n",
              "    x.observe(notebookContainer, {childList: true});\n",
              "}}\n",
              "\n",
              "// Listen for the clearing of the current output cell\n",
              "var outputEl = gd.closest('.output');\n",
              "if (outputEl) {{\n",
              "    x.observe(outputEl, {childList: true});\n",
              "}}\n",
              "\n",
              "                        })\n",
              "                };\n",
              "                \n",
              "            </script>\n",
              "        </div>\n",
              "</body>\n",
              "</html>"
            ]
          },
          "metadata": {
            "tags": []
          }
        }
      ]
    },
    {
      "cell_type": "markdown",
      "metadata": {
        "id": "AH4Llr_D5vNp"
      },
      "source": [
        "find coins that have not spiked historically beyond a certain threshold"
      ]
    },
    {
      "cell_type": "code",
      "metadata": {
        "id": "I-EY4Y-S3l2a"
      },
      "source": [
        "def getUnixTime(dt):\n",
        "  import time\n",
        "  import datetime\n",
        "  if(dt is None):\n",
        "    return int(time.time())\n",
        "  else:\n",
        "    d = datetime.date(dt[0],dt[1],dt[2])\n",
        "    return int(time.mktime(d.timetuple()))"
      ],
      "execution_count": null,
      "outputs": []
    },
    {
      "cell_type": "code",
      "metadata": {
        "id": "hbgy6Ben9o8Z"
      },
      "source": [
        "def getDate(timestamp):\n",
        "  from datetime import datetime\n",
        "  #try:\n",
        "  return datetime.utcfromtimestamp(timestamp)\n",
        "  #except ValueError:\n",
        "  #  return int(timestamp)\n"
      ],
      "execution_count": 79,
      "outputs": []
    },
    {
      "cell_type": "code",
      "metadata": {
        "colab": {
          "base_uri": "https://localhost:8080/"
        },
        "id": "p2zqTpQq5soI",
        "outputId": "053ce70c-f6f5-4181-9b9c-bb55a5dcae27"
      },
      "source": [
        "(getUnixTime([2015,1,1]),getUnixTime(None))"
      ],
      "execution_count": 80,
      "outputs": [
        {
          "output_type": "execute_result",
          "data": {
            "text/plain": [
              "(1420070400, 1618548890)"
            ]
          },
          "metadata": {
            "tags": []
          },
          "execution_count": 80
        }
      ]
    },
    {
      "cell_type": "code",
      "metadata": {
        "colab": {
          "base_uri": "https://localhost:8080/"
        },
        "id": "gbGmewtp97I_",
        "outputId": "ea275625-f555-47aa-b994-b92ce27a4969"
      },
      "source": [
        "getDate(1618547586)"
      ],
      "execution_count": 81,
      "outputs": [
        {
          "output_type": "execute_result",
          "data": {
            "text/plain": [
              "datetime.datetime(2021, 4, 16, 4, 33, 6)"
            ]
          },
          "metadata": {
            "tags": []
          },
          "execution_count": 81
        }
      ]
    },
    {
      "cell_type": "code",
      "metadata": {
        "id": "SpNt-4Ux6X0-"
      },
      "source": [
        "def getHistory(coin=\"bitcoin\",fromUnixTime=1420070400, toUnixTime=getUnixTime(None)):\n",
        "  import pandas as pd\n",
        "  apiurl=\"https://api.coingecko.com/api/v3/coins/\"+coin+\"/market_chart/range?vs_currency=usd&from=\"+str(fromUnixTime)+\"&to=\"+str(toUnixTime)\n",
        "  coinData=readJsonLink(apiurl)\n",
        "  coinDf=pd.DataFrame(coinData[\"prices\"], columns=[\"unixtime\",\"price\"])\n",
        "  coinDf[\"date\"]=coinDf.apply(lambda x : getDate(x[\"unixtime\"]/1000),axis=1)\n",
        "  coinDf=coinDf[[\"date\",\"price\"]]\n",
        "  import plotly.express as px\n",
        "  fig = px.line(coinDf, x=\"date\", y=\"price\", title=coin)\n",
        "  fig.show()\n",
        "  #return coinDf"
      ],
      "execution_count": 95,
      "outputs": []
    },
    {
      "cell_type": "code",
      "metadata": {
        "id": "Wrt1f59dhAaA",
        "colab": {
          "base_uri": "https://localhost:8080/",
          "height": 542
        },
        "outputId": "f0e2cde6-4562-4cc2-f1d0-01d87eaf7fde"
      },
      "source": [
        "getHistory(\"ethereum\")\n"
      ],
      "execution_count": 96,
      "outputs": [
        {
          "output_type": "display_data",
          "data": {
            "text/html": [
              "<html>\n",
              "<head><meta charset=\"utf-8\" /></head>\n",
              "<body>\n",
              "    <div>\n",
              "            <script src=\"https://cdnjs.cloudflare.com/ajax/libs/mathjax/2.7.5/MathJax.js?config=TeX-AMS-MML_SVG\"></script><script type=\"text/javascript\">if (window.MathJax) {MathJax.Hub.Config({SVG: {font: \"STIX-Web\"}});}</script>\n",
              "                <script type=\"text/javascript\">window.PlotlyConfig = {MathJaxConfig: 'local'};</script>\n",
              "        <script src=\"https://cdn.plot.ly/plotly-latest.min.js\"></script>    \n",
              "            <div id=\"9f0f9ac0-79eb-428e-ba79-2a3f3ec004a1\" class=\"plotly-graph-div\" style=\"height:525px; width:100%;\"></div>\n",
              "            <script type=\"text/javascript\">\n",
              "                \n",
              "                    window.PLOTLYENV=window.PLOTLYENV || {};\n",
              "                    \n",
              "                if (document.getElementById(\"9f0f9ac0-79eb-428e-ba79-2a3f3ec004a1\")) {\n",
              "                    Plotly.newPlot(\n",
              "                        '9f0f9ac0-79eb-428e-ba79-2a3f3ec004a1',\n",
              "                        [{\"hoverlabel\": {\"namelength\": 0}, \"hovertemplate\": \"date=%{x}<br>price=%{y}\", \"legendgroup\": \"\", \"line\": {\"color\": \"#636efa\", \"dash\": \"solid\"}, \"mode\": \"lines\", \"name\": \"\", \"showlegend\": false, \"type\": \"scattergl\", \"x\": [\"2015-08-07T00:00:00\", \"2015-08-08T00:00:00\", \"2015-08-10T00:00:00\", \"2015-08-11T00:00:00\", \"2015-08-12T00:00:00\", \"2015-08-13T00:00:00\", \"2015-08-14T00:00:00\", \"2015-08-15T00:00:00\", \"2015-08-16T00:00:00\", \"2015-08-17T00:00:00\", \"2015-08-18T00:00:00\", \"2015-08-19T00:00:00\", \"2015-08-20T00:00:00\", \"2015-08-21T00:00:00\", \"2015-08-22T00:00:00\", \"2015-08-23T00:00:00\", \"2015-08-24T00:00:00\", \"2015-08-25T00:00:00\", \"2015-08-26T00:00:00\", \"2015-08-27T00:00:00\", \"2015-08-28T00:00:00\", \"2015-08-29T00:00:00\", \"2015-08-30T00:00:00\", \"2015-08-31T00:00:00\", \"2015-09-01T00:00:00\", \"2015-09-02T00:00:00\", \"2015-09-03T00:00:00\", \"2015-09-04T00:00:00\", \"2015-09-05T00:00:00\", \"2015-09-06T00:00:00\", \"2015-09-07T00:00:00\", \"2015-09-08T00:00:00\", \"2015-09-09T00:00:00\", \"2015-09-10T00:00:00\", \"2015-09-11T00:00:00\", \"2015-09-12T00:00:00\", \"2015-09-13T00:00:00\", \"2015-09-14T00:00:00\", \"2015-09-15T00:00:00\", \"2015-09-16T00:00:00\", \"2015-09-17T00:00:00\", \"2015-09-18T00:00:00\", \"2015-09-19T00:00:00\", \"2015-09-20T00:00:00\", \"2015-09-21T00:00:00\", \"2015-09-22T00:00:00\", \"2015-09-23T00:00:00\", \"2015-09-24T00:00:00\", \"2015-09-25T00:00:00\", \"2015-09-26T00:00:00\", \"2015-09-27T00:00:00\", \"2015-09-28T00:00:00\", \"2015-09-29T00:00:00\", \"2015-09-30T00:00:00\", \"2015-10-01T00:00:00\", \"2015-10-02T00:00:00\", \"2015-10-03T00:00:00\", \"2015-10-04T00:00:00\", \"2015-10-05T00:00:00\", \"2015-10-06T00:00:00\", \"2015-10-07T00:00:00\", \"2015-10-08T00:00:00\", \"2015-10-09T00:00:00\", \"2015-10-10T00:00:00\", \"2015-10-11T00:00:00\", \"2015-10-12T00:00:00\", \"2015-10-13T00:00:00\", \"2015-10-14T00:00:00\", \"2015-10-15T00:00:00\", \"2015-10-16T00:00:00\", \"2015-10-17T00:00:00\", \"2015-10-18T00:00:00\", \"2015-10-19T00:00:00\", \"2015-10-20T00:00:00\", \"2015-10-21T00:00:00\", \"2015-10-22T00:00:00\", \"2015-10-23T00:00:00\", \"2015-10-24T00:00:00\", \"2015-10-25T00:00:00\", \"2015-10-26T00:00:00\", \"2015-10-27T00:00:00\", \"2015-10-28T00:00:00\", \"2015-10-29T00:00:00\", \"2015-10-30T00:00:00\", \"2015-10-31T00:00:00\", \"2015-11-01T00:00:00\", \"2015-11-02T00:00:00\", \"2015-11-03T00:00:00\", \"2015-11-04T00:00:00\", \"2015-11-05T00:00:00\", \"2015-11-06T00:00:00\", \"2015-11-07T00:00:00\", \"2015-11-08T00:00:00\", \"2015-11-09T00:00:00\", \"2015-11-10T00:00:00\", \"2015-11-11T00:00:00\", \"2015-11-12T00:00:00\", \"2015-11-13T00:00:00\", \"2015-11-14T00:00:00\", \"2015-11-15T00:00:00\", \"2015-11-16T00:00:00\", \"2015-11-17T00:00:00\", \"2015-11-18T00:00:00\", \"2015-11-19T00:00:00\", \"2015-11-20T00:00:00\", \"2015-11-21T00:00:00\", \"2015-11-22T00:00:00\", \"2015-11-23T00:00:00\", \"2015-11-24T00:00:00\", \"2015-11-25T00:00:00\", \"2015-11-26T00:00:00\", \"2015-11-27T00:00:00\", \"2015-11-28T00:00:00\", \"2015-11-29T00:00:00\", \"2015-11-30T00:00:00\", \"2015-12-01T00:00:00\", \"2015-12-02T00:00:00\", \"2015-12-03T00:00:00\", \"2015-12-04T00:00:00\", \"2015-12-05T00:00:00\", \"2015-12-06T00:00:00\", \"2015-12-07T00:00:00\", \"2015-12-08T00:00:00\", \"2015-12-09T00:00:00\", \"2015-12-10T00:00:00\", \"2015-12-11T00:00:00\", \"2015-12-12T00:00:00\", \"2015-12-13T00:00:00\", \"2015-12-14T00:00:00\", \"2015-12-15T00:00:00\", \"2015-12-16T00:00:00\", \"2015-12-17T00:00:00\", \"2015-12-18T00:00:00\", \"2015-12-19T00:00:00\", \"2015-12-20T00:00:00\", \"2015-12-21T00:00:00\", \"2015-12-22T00:00:00\", \"2015-12-23T00:00:00\", \"2015-12-24T00:00:00\", \"2015-12-25T00:00:00\", \"2015-12-26T00:00:00\", \"2015-12-27T00:00:00\", \"2015-12-28T00:00:00\", \"2015-12-29T00:00:00\", \"2015-12-30T00:00:00\", \"2015-12-31T00:00:00\", \"2016-01-01T00:00:00\", \"2016-01-02T00:00:00\", \"2016-01-03T00:00:00\", \"2016-01-04T00:00:00\", \"2016-01-05T00:00:00\", \"2016-01-06T00:00:00\", \"2016-01-07T00:00:00\", \"2016-01-08T00:00:00\", \"2016-01-09T00:00:00\", \"2016-01-10T00:00:00\", \"2016-01-11T00:00:00\", \"2016-01-12T00:00:00\", \"2016-01-13T00:00:00\", \"2016-01-14T00:00:00\", \"2016-01-15T00:00:00\", \"2016-01-16T00:00:00\", \"2016-01-17T00:00:00\", \"2016-01-18T00:00:00\", \"2016-01-19T00:00:00\", \"2016-01-20T00:00:00\", \"2016-01-21T00:00:00\", \"2016-01-22T00:00:00\", \"2016-01-23T00:00:00\", \"2016-01-24T00:00:00\", \"2016-01-25T00:00:00\", \"2016-01-26T00:00:00\", \"2016-01-27T00:00:00\", \"2016-01-28T00:00:00\", \"2016-01-29T00:00:00\", \"2016-01-30T00:00:00\", \"2016-01-31T00:00:00\", \"2016-02-01T00:00:00\", \"2016-02-02T00:00:00\", \"2016-02-03T00:00:00\", \"2016-02-04T00:00:00\", \"2016-02-05T00:00:00\", \"2016-02-06T00:00:00\", \"2016-02-07T00:00:00\", \"2016-02-08T00:00:00\", \"2016-02-09T00:00:00\", \"2016-02-10T00:00:00\", \"2016-02-11T00:00:00\", \"2016-02-12T00:00:00\", \"2016-02-13T00:00:00\", \"2016-02-14T00:00:00\", \"2016-02-15T00:00:00\", \"2016-02-16T00:00:00\", \"2016-02-17T00:00:00\", \"2016-02-18T00:00:00\", \"2016-02-19T00:00:00\", \"2016-02-20T00:00:00\", \"2016-02-21T00:00:00\", \"2016-02-22T00:00:00\", \"2016-02-23T00:00:00\", \"2016-02-24T00:00:00\", \"2016-02-25T00:00:00\", \"2016-02-26T00:00:00\", \"2016-02-27T00:00:00\", \"2016-02-28T00:00:00\", \"2016-02-29T00:00:00\", \"2016-03-01T00:00:00\", \"2016-03-02T00:00:00\", \"2016-03-03T00:00:00\", \"2016-03-04T00:00:00\", \"2016-03-05T00:00:00\", \"2016-03-06T00:00:00\", \"2016-03-07T00:00:00\", \"2016-03-08T00:00:00\", \"2016-03-09T00:00:00\", \"2016-03-10T00:00:00\", \"2016-03-11T00:00:00\", \"2016-03-12T00:00:00\", \"2016-03-13T00:00:00\", \"2016-03-14T00:00:00\", \"2016-03-15T00:00:00\", \"2016-03-16T00:00:00\", \"2016-03-17T00:00:00\", \"2016-03-18T00:00:00\", \"2016-03-19T00:00:00\", \"2016-03-20T00:00:00\", \"2016-03-21T00:00:00\", \"2016-03-22T00:00:00\", \"2016-03-23T00:00:00\", \"2016-03-24T00:00:00\", \"2016-03-25T00:00:00\", \"2016-03-26T00:00:00\", \"2016-03-27T00:00:00\", \"2016-03-28T00:00:00\", \"2016-03-29T00:00:00\", \"2016-03-30T00:00:00\", \"2016-03-31T00:00:00\", \"2016-04-01T00:00:00\", \"2016-04-02T00:00:00\", \"2016-04-03T00:00:00\", \"2016-04-04T00:00:00\", \"2016-04-05T00:00:00\", \"2016-04-06T00:00:00\", \"2016-04-07T00:00:00\", \"2016-04-08T00:00:00\", \"2016-04-09T00:00:00\", \"2016-04-10T00:00:00\", \"2016-04-11T00:00:00\", \"2016-04-12T00:00:00\", \"2016-04-13T00:00:00\", \"2016-04-14T00:00:00\", \"2016-04-15T00:00:00\", \"2016-04-16T00:00:00\", \"2016-04-17T00:00:00\", \"2016-04-18T00:00:00\", \"2016-04-19T00:00:00\", \"2016-04-20T00:00:00\", \"2016-04-21T00:00:00\", \"2016-04-22T00:00:00\", \"2016-04-23T00:00:00\", \"2016-04-24T00:00:00\", \"2016-04-25T00:00:00\", \"2016-04-26T00:00:00\", \"2016-04-27T00:00:00\", \"2016-04-28T00:00:00\", \"2016-04-29T00:00:00\", \"2016-04-30T00:00:00\", \"2016-05-01T00:00:00\", \"2016-05-02T00:00:00\", \"2016-05-03T00:00:00\", \"2016-05-04T00:00:00\", \"2016-05-05T00:00:00\", \"2016-05-06T00:00:00\", \"2016-05-07T00:00:00\", \"2016-05-08T00:00:00\", \"2016-05-09T00:00:00\", \"2016-05-10T00:00:00\", \"2016-05-11T00:00:00\", \"2016-05-12T00:00:00\", \"2016-05-13T00:00:00\", \"2016-05-14T00:00:00\", \"2016-05-15T00:00:00\", \"2016-05-16T00:00:00\", \"2016-05-17T00:00:00\", \"2016-05-18T00:00:00\", \"2016-05-19T00:00:00\", \"2016-05-20T00:00:00\", \"2016-05-21T00:00:00\", \"2016-05-22T00:00:00\", \"2016-05-23T00:00:00\", \"2016-05-24T00:00:00\", \"2016-05-25T00:00:00\", \"2016-05-26T00:00:00\", \"2016-05-27T00:00:00\", \"2016-05-28T00:00:00\", \"2016-05-29T00:00:00\", \"2016-05-30T00:00:00\", \"2016-05-31T00:00:00\", \"2016-06-01T00:00:00\", \"2016-06-02T00:00:00\", \"2016-06-03T00:00:00\", \"2016-06-04T00:00:00\", \"2016-06-05T00:00:00\", \"2016-06-06T00:00:00\", \"2016-06-07T00:00:00\", \"2016-06-08T00:00:00\", \"2016-06-09T00:00:00\", \"2016-06-10T00:00:00\", \"2016-06-11T00:00:00\", \"2016-06-12T00:00:00\", \"2016-06-13T00:00:00\", \"2016-06-14T00:00:00\", \"2016-06-15T00:00:00\", \"2016-06-16T00:00:00\", \"2016-06-17T00:00:00\", \"2016-06-18T00:00:00\", \"2016-06-19T00:00:00\", \"2016-06-20T00:00:00\", \"2016-06-21T00:00:00\", \"2016-06-22T00:00:00\", \"2016-06-23T00:00:00\", \"2016-06-24T00:00:00\", \"2016-06-25T00:00:00\", \"2016-06-26T00:00:00\", \"2016-06-27T00:00:00\", \"2016-06-28T00:00:00\", \"2016-06-29T00:00:00\", \"2016-06-30T00:00:00\", \"2016-07-01T00:00:00\", \"2016-07-02T00:00:00\", \"2016-07-03T00:00:00\", \"2016-07-04T00:00:00\", \"2016-07-05T00:00:00\", \"2016-07-06T00:00:00\", \"2016-07-07T00:00:00\", \"2016-07-08T00:00:00\", \"2016-07-09T00:00:00\", \"2016-07-10T00:00:00\", \"2016-07-11T00:00:00\", \"2016-07-12T00:00:00\", \"2016-07-13T00:00:00\", \"2016-07-14T00:00:00\", \"2016-07-15T00:00:00\", \"2016-07-16T00:00:00\", \"2016-07-17T00:00:00\", \"2016-07-18T00:00:00\", \"2016-07-19T00:00:00\", \"2016-07-20T00:00:00\", \"2016-07-21T00:00:00\", \"2016-07-22T00:00:00\", \"2016-07-23T00:00:00\", \"2016-07-24T00:00:00\", \"2016-07-25T00:00:00\", \"2016-07-26T00:00:00\", \"2016-07-27T00:00:00\", \"2016-07-28T00:00:00\", \"2016-07-29T00:00:00\", \"2016-07-30T00:00:00\", \"2016-07-31T00:00:00\", \"2016-08-01T00:00:00\", \"2016-08-02T00:00:00\", \"2016-08-03T00:00:00\", \"2016-08-04T00:00:00\", \"2016-08-05T00:00:00\", \"2016-08-06T00:00:00\", \"2016-08-07T00:00:00\", \"2016-08-08T00:00:00\", \"2016-08-09T00:00:00\", \"2016-08-10T00:00:00\", \"2016-08-11T00:00:00\", \"2016-08-12T00:00:00\", \"2016-08-13T00:00:00\", \"2016-08-14T00:00:00\", \"2016-08-15T00:00:00\", \"2016-08-16T00:00:00\", \"2016-08-17T00:00:00\", \"2016-08-18T00:00:00\", \"2016-08-19T00:00:00\", \"2016-08-20T00:00:00\", \"2016-08-21T00:00:00\", \"2016-08-22T00:00:00\", \"2016-08-23T00:00:00\", \"2016-08-24T00:00:00\", \"2016-08-25T00:00:00\", \"2016-08-26T00:00:00\", \"2016-08-27T00:00:00\", \"2016-08-28T00:00:00\", \"2016-08-29T00:00:00\", \"2016-08-30T00:00:00\", \"2016-08-31T00:00:00\", \"2016-09-01T00:00:00\", \"2016-09-02T00:00:00\", \"2016-09-03T00:00:00\", \"2016-09-04T00:00:00\", \"2016-09-05T00:00:00\", \"2016-09-06T00:00:00\", \"2016-09-07T00:00:00\", \"2016-09-08T00:00:00\", \"2016-09-09T00:00:00\", \"2016-09-10T00:00:00\", \"2016-09-11T00:00:00\", \"2016-09-12T00:00:00\", \"2016-09-13T00:00:00\", \"2016-09-14T00:00:00\", \"2016-09-15T00:00:00\", \"2016-09-16T00:00:00\", \"2016-09-17T00:00:00\", \"2016-09-18T00:00:00\", \"2016-09-19T00:00:00\", \"2016-09-20T00:00:00\", \"2016-09-21T00:00:00\", \"2016-09-22T00:00:00\", \"2016-09-23T00:00:00\", \"2016-09-24T00:00:00\", \"2016-09-25T00:00:00\", \"2016-09-26T00:00:00\", \"2016-09-27T00:00:00\", \"2016-09-28T00:00:00\", \"2016-09-29T00:00:00\", \"2016-09-30T00:00:00\", \"2016-10-01T00:00:00\", \"2016-10-02T00:00:00\", \"2016-10-03T00:00:00\", \"2016-10-04T00:00:00\", \"2016-10-05T00:00:00\", \"2016-10-06T00:00:00\", \"2016-10-07T00:00:00\", \"2016-10-08T00:00:00\", \"2016-10-09T00:00:00\", \"2016-10-10T00:00:00\", \"2016-10-11T00:00:00\", \"2016-10-12T00:00:00\", \"2016-10-13T00:00:00\", \"2016-10-14T00:00:00\", \"2016-10-15T00:00:00\", \"2016-10-16T00:00:00\", \"2016-10-17T00:00:00\", \"2016-10-18T00:00:00\", \"2016-10-19T00:00:00\", \"2016-10-20T00:00:00\", \"2016-10-21T00:00:00\", \"2016-10-22T00:00:00\", \"2016-10-23T00:00:00\", \"2016-10-24T00:00:00\", \"2016-10-25T00:00:00\", \"2016-10-26T00:00:00\", \"2016-10-27T00:00:00\", \"2016-10-28T00:00:00\", \"2016-10-29T00:00:00\", \"2016-10-30T00:00:00\", \"2016-10-31T00:00:00\", \"2016-11-01T00:00:00\", \"2016-11-02T00:00:00\", \"2016-11-03T00:00:00\", \"2016-11-04T00:00:00\", \"2016-11-05T00:00:00\", \"2016-11-06T00:00:00\", \"2016-11-07T00:00:00\", \"2016-11-08T00:00:00\", \"2016-11-09T00:00:00\", \"2016-11-10T00:00:00\", \"2016-11-11T00:00:00\", \"2016-11-12T00:00:00\", \"2016-11-13T00:00:00\", \"2016-11-14T00:00:00\", \"2016-11-15T00:00:00\", \"2016-11-16T00:00:00\", \"2016-11-17T00:00:00\", \"2016-11-18T00:00:00\", \"2016-11-19T00:00:00\", \"2016-11-20T00:00:00\", \"2016-11-21T00:00:00\", \"2016-11-22T00:00:00\", \"2016-11-23T00:00:00\", \"2016-11-24T00:00:00\", \"2016-11-25T00:00:00\", \"2016-11-26T00:00:00\", \"2016-11-27T00:00:00\", \"2016-11-28T00:00:00\", \"2016-11-29T00:00:00\", \"2016-11-30T00:00:00\", \"2016-12-01T00:00:00\", \"2016-12-02T00:00:00\", \"2016-12-03T00:00:00\", \"2016-12-04T00:00:00\", \"2016-12-05T00:00:00\", \"2016-12-06T00:00:00\", \"2016-12-07T00:00:00\", \"2016-12-08T00:00:00\", \"2016-12-09T00:00:00\", \"2016-12-10T00:00:00\", \"2016-12-11T00:00:00\", \"2016-12-12T00:00:00\", \"2016-12-13T00:00:00\", \"2016-12-14T00:00:00\", \"2016-12-15T00:00:00\", \"2016-12-16T00:00:00\", \"2016-12-17T00:00:00\", \"2016-12-18T00:00:00\", \"2016-12-19T00:00:00\", \"2016-12-20T00:00:00\", \"2016-12-21T00:00:00\", \"2016-12-22T00:00:00\", \"2016-12-23T00:00:00\", \"2016-12-24T00:00:00\", \"2016-12-25T00:00:00\", \"2016-12-26T00:00:00\", \"2016-12-27T00:00:00\", \"2016-12-28T00:00:00\", \"2016-12-29T00:00:00\", \"2016-12-30T00:00:00\", \"2016-12-31T00:00:00\", \"2017-01-01T00:00:00\", \"2017-01-02T00:00:00\", \"2017-01-03T00:00:00\", \"2017-01-04T00:00:00\", \"2017-01-05T00:00:00\", \"2017-01-06T00:00:00\", \"2017-01-07T00:00:00\", \"2017-01-08T00:00:00\", \"2017-01-09T00:00:00\", \"2017-01-10T00:00:00\", \"2017-01-11T00:00:00\", \"2017-01-12T00:00:00\", \"2017-01-13T00:00:00\", \"2017-01-14T00:00:00\", \"2017-01-15T00:00:00\", \"2017-01-16T00:00:00\", \"2017-01-17T00:00:00\", \"2017-01-18T00:00:00\", \"2017-01-19T00:00:00\", \"2017-01-20T00:00:00\", \"2017-01-21T00:00:00\", \"2017-01-22T00:00:00\", \"2017-01-23T00:00:00\", \"2017-01-24T00:00:00\", \"2017-01-25T00:00:00\", \"2017-01-26T00:00:00\", \"2017-01-27T00:00:00\", \"2017-01-28T00:00:00\", \"2017-01-29T00:00:00\", \"2017-01-30T00:00:00\", \"2017-01-31T00:00:00\", \"2017-02-01T00:00:00\", \"2017-02-02T00:00:00\", \"2017-02-03T00:00:00\", \"2017-02-04T00:00:00\", \"2017-02-05T00:00:00\", \"2017-02-06T00:00:00\", \"2017-02-07T00:00:00\", \"2017-02-08T00:00:00\", \"2017-02-09T00:00:00\", \"2017-02-10T00:00:00\", \"2017-02-11T00:00:00\", \"2017-02-12T00:00:00\", \"2017-02-13T00:00:00\", \"2017-02-14T00:00:00\", \"2017-02-15T00:00:00\", \"2017-02-16T00:00:00\", \"2017-02-17T00:00:00\", \"2017-02-18T00:00:00\", \"2017-02-19T00:00:00\", \"2017-02-20T00:00:00\", \"2017-02-21T00:00:00\", \"2017-02-22T00:00:00\", \"2017-02-23T00:00:00\", \"2017-02-24T00:00:00\", \"2017-02-25T00:00:00\", \"2017-02-26T00:00:00\", \"2017-02-27T00:00:00\", \"2017-02-28T00:00:00\", \"2017-03-01T00:00:00\", \"2017-03-02T00:00:00\", \"2017-03-03T00:00:00\", \"2017-03-04T00:00:00\", \"2017-03-05T00:00:00\", \"2017-03-06T00:00:00\", \"2017-03-07T00:00:00\", \"2017-03-08T00:00:00\", \"2017-03-09T00:00:00\", \"2017-03-10T00:00:00\", \"2017-03-11T00:00:00\", \"2017-03-12T00:00:00\", \"2017-03-13T00:00:00\", \"2017-03-14T00:00:00\", \"2017-03-15T00:00:00\", \"2017-03-16T00:00:00\", \"2017-03-17T00:00:00\", \"2017-03-18T00:00:00\", \"2017-03-19T00:00:00\", \"2017-03-20T00:00:00\", \"2017-03-21T00:00:00\", \"2017-03-22T00:00:00\", \"2017-03-23T00:00:00\", \"2017-03-24T00:00:00\", \"2017-03-25T00:00:00\", \"2017-03-26T00:00:00\", \"2017-03-27T00:00:00\", \"2017-03-28T00:00:00\", \"2017-03-29T00:00:00\", \"2017-03-30T00:00:00\", \"2017-03-31T00:00:00\", \"2017-04-01T00:00:00\", \"2017-04-02T00:00:00\", \"2017-04-03T00:00:00\", \"2017-04-04T00:00:00\", \"2017-04-05T00:00:00\", \"2017-04-06T00:00:00\", \"2017-04-07T00:00:00\", \"2017-04-08T00:00:00\", \"2017-04-09T00:00:00\", \"2017-04-10T00:00:00\", \"2017-04-11T00:00:00\", \"2017-04-12T00:00:00\", \"2017-04-13T00:00:00\", \"2017-04-14T00:00:00\", \"2017-04-15T00:00:00\", \"2017-04-16T00:00:00\", \"2017-04-17T00:00:00\", \"2017-04-18T00:00:00\", \"2017-04-19T00:00:00\", \"2017-04-20T00:00:00\", \"2017-04-21T00:00:00\", \"2017-04-22T00:00:00\", \"2017-04-23T00:00:00\", \"2017-04-24T00:00:00\", \"2017-04-25T00:00:00\", \"2017-04-26T00:00:00\", \"2017-04-27T00:00:00\", \"2017-04-28T00:00:00\", \"2017-04-29T00:00:00\", \"2017-04-30T00:00:00\", \"2017-05-01T00:00:00\", \"2017-05-02T00:00:00\", \"2017-05-03T00:00:00\", \"2017-05-04T00:00:00\", \"2017-05-05T00:00:00\", \"2017-05-06T00:00:00\", \"2017-05-07T00:00:00\", \"2017-05-08T00:00:00\", \"2017-05-09T00:00:00\", \"2017-05-10T00:00:00\", \"2017-05-11T00:00:00\", \"2017-05-12T00:00:00\", \"2017-05-13T00:00:00\", \"2017-05-14T00:00:00\", \"2017-05-15T00:00:00\", \"2017-05-16T00:00:00\", \"2017-05-17T00:00:00\", \"2017-05-18T00:00:00\", \"2017-05-19T00:00:00\", \"2017-05-20T00:00:00\", \"2017-05-21T00:00:00\", \"2017-05-22T00:00:00\", \"2017-05-23T00:00:00\", \"2017-05-24T00:00:00\", \"2017-05-25T00:00:00\", \"2017-05-26T00:00:00\", \"2017-05-27T00:00:00\", \"2017-05-28T00:00:00\", \"2017-05-29T00:00:00\", \"2017-05-30T00:00:00\", \"2017-05-31T00:00:00\", \"2017-06-01T00:00:00\", \"2017-06-02T00:00:00\", \"2017-06-03T00:00:00\", \"2017-06-04T00:00:00\", \"2017-06-05T00:00:00\", \"2017-06-06T00:00:00\", \"2017-06-07T00:00:00\", \"2017-06-08T00:00:00\", \"2017-06-09T00:00:00\", \"2017-06-10T00:00:00\", \"2017-06-11T00:00:00\", \"2017-06-12T00:00:00\", \"2017-06-13T00:00:00\", \"2017-06-14T00:00:00\", \"2017-06-15T00:00:00\", \"2017-06-16T00:00:00\", \"2017-06-17T00:00:00\", \"2017-06-18T00:00:00\", \"2017-06-19T00:00:00\", \"2017-06-20T00:00:00\", \"2017-06-21T00:00:00\", \"2017-06-22T00:00:00\", \"2017-06-23T00:00:00\", \"2017-06-24T00:00:00\", \"2017-06-25T00:00:00\", \"2017-06-26T00:00:00\", \"2017-06-27T00:00:00\", \"2017-06-28T00:00:00\", \"2017-06-29T00:00:00\", \"2017-06-30T00:00:00\", \"2017-07-01T00:00:00\", \"2017-07-02T00:00:00\", \"2017-07-03T00:00:00\", \"2017-07-04T00:00:00\", \"2017-07-05T00:00:00\", \"2017-07-06T00:00:00\", \"2017-07-07T00:00:00\", \"2017-07-08T00:00:00\", \"2017-07-09T00:00:00\", \"2017-07-10T00:00:00\", \"2017-07-11T00:00:00\", \"2017-07-12T00:00:00\", \"2017-07-13T00:00:00\", \"2017-07-14T00:00:00\", \"2017-07-15T00:00:00\", \"2017-07-16T00:00:00\", \"2017-07-17T00:00:00\", \"2017-07-18T00:00:00\", \"2017-07-19T00:00:00\", \"2017-07-20T00:00:00\", \"2017-07-21T00:00:00\", \"2017-07-22T00:00:00\", \"2017-07-23T00:00:00\", \"2017-07-24T00:00:00\", \"2017-07-25T00:00:00\", \"2017-07-26T00:00:00\", \"2017-07-27T00:00:00\", \"2017-07-28T00:00:00\", \"2017-07-29T00:00:00\", \"2017-07-30T00:00:00\", \"2017-07-31T00:00:00\", \"2017-08-01T00:00:00\", \"2017-08-02T00:00:00\", \"2017-08-03T00:00:00\", \"2017-08-04T00:00:00\", \"2017-08-05T00:00:00\", \"2017-08-06T00:00:00\", \"2017-08-07T00:00:00\", \"2017-08-08T00:00:00\", \"2017-08-09T00:00:00\", \"2017-08-10T00:00:00\", \"2017-08-11T00:00:00\", \"2017-08-12T00:00:00\", \"2017-08-13T00:00:00\", \"2017-08-14T00:00:00\", \"2017-08-15T00:00:00\", \"2017-08-16T00:00:00\", \"2017-08-17T00:00:00\", \"2017-08-18T00:00:00\", \"2017-08-19T00:00:00\", \"2017-08-20T00:00:00\", \"2017-08-21T00:00:00\", \"2017-08-22T00:00:00\", \"2017-08-23T00:00:00\", \"2017-08-24T00:00:00\", \"2017-08-25T00:00:00\", \"2017-08-26T00:00:00\", \"2017-08-27T00:00:00\", \"2017-08-28T00:00:00\", \"2017-08-29T00:00:00\", \"2017-08-30T00:00:00\", \"2017-08-31T00:00:00\", \"2017-09-01T00:00:00\", \"2017-09-02T00:00:00\", \"2017-09-03T00:00:00\", \"2017-09-04T00:00:00\", \"2017-09-05T00:00:00\", \"2017-09-06T00:00:00\", \"2017-09-07T00:00:00\", \"2017-09-08T00:00:00\", \"2017-09-09T00:00:00\", \"2017-09-10T00:00:00\", \"2017-09-11T00:00:00\", \"2017-09-12T00:00:00\", \"2017-09-13T00:00:00\", \"2017-09-14T00:00:00\", \"2017-09-15T00:00:00\", \"2017-09-16T00:00:00\", \"2017-09-17T00:00:00\", \"2017-09-18T00:00:00\", \"2017-09-19T00:00:00\", \"2017-09-20T00:00:00\", \"2017-09-21T00:00:00\", \"2017-09-22T00:00:00\", \"2017-09-23T00:00:00\", \"2017-09-24T00:00:00\", \"2017-09-25T00:00:00\", \"2017-09-26T00:00:00\", \"2017-09-27T00:00:00\", \"2017-09-28T00:00:00\", \"2017-09-29T00:00:00\", \"2017-09-30T00:00:00\", \"2017-10-01T00:00:00\", \"2017-10-02T00:00:00\", \"2017-10-03T00:00:00\", \"2017-10-04T00:00:00\", \"2017-10-05T00:00:00\", \"2017-10-06T00:00:00\", \"2017-10-07T00:00:00\", \"2017-10-08T00:00:00\", \"2017-10-09T00:00:00\", \"2017-10-10T00:00:00\", \"2017-10-11T00:00:00\", \"2017-10-12T00:00:00\", \"2017-10-13T00:00:00\", \"2017-10-14T00:00:00\", \"2017-10-15T00:00:00\", \"2017-10-16T00:00:00\", \"2017-10-17T00:00:00\", \"2017-10-18T00:00:00\", \"2017-10-19T00:00:00\", \"2017-10-20T00:00:00\", \"2017-10-21T00:00:00\", \"2017-10-22T00:00:00\", \"2017-10-23T00:00:00\", \"2017-10-24T00:00:00\", \"2017-10-25T00:00:00\", \"2017-10-26T00:00:00\", \"2017-10-27T00:00:00\", \"2017-10-28T00:00:00\", \"2017-10-29T00:00:00\", \"2017-10-30T00:00:00\", \"2017-10-31T00:00:00\", \"2017-11-01T00:00:00\", \"2017-11-02T00:00:00\", \"2017-11-03T00:00:00\", \"2017-11-04T00:00:00\", \"2017-11-05T00:00:00\", \"2017-11-06T00:00:00\", \"2017-11-07T00:00:00\", \"2017-11-08T00:00:00\", \"2017-11-09T00:00:00\", \"2017-11-10T00:00:00\", \"2017-11-11T00:00:00\", \"2017-11-12T00:00:00\", \"2017-11-13T00:00:00\", \"2017-11-14T00:00:00\", \"2017-11-15T00:00:00\", \"2017-11-16T00:00:00\", \"2017-11-17T00:00:00\", \"2017-11-18T00:00:00\", \"2017-11-19T00:00:00\", \"2017-11-20T00:00:00\", \"2017-11-21T00:00:00\", \"2017-11-22T00:00:00\", \"2017-11-23T00:00:00\", \"2017-11-24T00:00:00\", \"2017-11-25T00:00:00\", \"2017-11-26T00:00:00\", \"2017-11-27T00:00:00\", \"2017-11-28T00:00:00\", \"2017-11-29T00:00:00\", \"2017-11-30T00:00:00\", \"2017-12-01T00:00:00\", \"2017-12-02T00:00:00\", \"2017-12-03T00:00:00\", \"2017-12-04T00:00:00\", \"2017-12-05T00:00:00\", \"2017-12-06T00:00:00\", \"2017-12-07T00:00:00\", \"2017-12-08T00:00:00\", \"2017-12-09T00:00:00\", \"2017-12-10T00:00:00\", \"2017-12-11T00:00:00\", \"2017-12-12T00:00:00\", \"2017-12-13T00:00:00\", \"2017-12-14T00:00:00\", \"2017-12-15T00:00:00\", \"2017-12-16T00:00:00\", \"2017-12-17T00:00:00\", \"2017-12-18T00:00:00\", \"2017-12-19T00:00:00\", \"2017-12-20T00:00:00\", \"2017-12-21T00:00:00\", \"2017-12-22T00:00:00\", \"2017-12-23T00:00:00\", \"2017-12-24T00:00:00\", \"2017-12-25T00:00:00\", \"2017-12-26T00:00:00\", \"2017-12-27T00:00:00\", \"2017-12-28T00:00:00\", \"2017-12-29T00:00:00\", \"2017-12-30T00:00:00\", \"2017-12-31T00:00:00\", \"2018-01-01T00:00:00\", \"2018-01-02T00:00:00\", \"2018-01-03T00:00:00\", \"2018-01-04T00:00:00\", \"2018-01-05T00:00:00\", \"2018-01-06T00:00:00\", \"2018-01-07T00:00:00\", \"2018-01-08T00:00:00\", \"2018-01-09T00:00:00\", \"2018-01-10T00:00:00\", \"2018-01-11T00:00:00\", \"2018-01-12T00:00:00\", \"2018-01-13T00:00:00\", \"2018-01-14T00:00:00\", \"2018-01-15T00:00:00\", \"2018-01-16T00:00:00\", \"2018-01-17T00:00:00\", \"2018-01-18T00:00:00\", \"2018-01-19T00:00:00\", \"2018-01-20T00:00:00\", \"2018-01-21T00:00:00\", \"2018-01-22T00:00:00\", \"2018-01-23T00:00:00\", \"2018-01-24T00:00:00\", \"2018-01-25T00:00:00\", \"2018-01-26T00:00:00\", \"2018-01-27T00:00:00\", \"2018-01-28T00:00:00\", \"2018-01-29T00:00:00\", \"2018-01-30T00:05:11.070000\", \"2018-01-31T00:00:00\", \"2018-02-01T00:00:00\", \"2018-02-02T00:00:00\", \"2018-02-03T00:00:00\", \"2018-02-04T00:00:00\", \"2018-02-05T00:00:00\", \"2018-02-06T00:00:00\", \"2018-02-07T00:00:00\", \"2018-02-08T00:05:23.681000\", \"2018-02-09T00:00:00\", \"2018-02-10T00:00:00\", \"2018-02-11T00:00:00\", \"2018-02-12T00:00:00\", \"2018-02-13T00:00:00\", \"2018-02-14T00:00:00\", \"2018-02-15T00:00:00\", \"2018-02-16T00:00:00\", \"2018-02-17T00:00:00\", \"2018-02-18T00:00:00\", \"2018-02-19T00:00:00\", \"2018-02-20T00:00:00\", \"2018-02-21T00:00:00\", \"2018-02-22T00:00:00\", \"2018-02-23T00:00:00\", \"2018-02-24T00:00:00\", \"2018-02-25T00:00:00\", \"2018-02-26T00:00:00\", \"2018-02-27T00:00:00\", \"2018-02-28T00:00:00\", \"2018-03-01T00:00:00\", \"2018-03-02T00:00:00\", \"2018-03-03T00:00:00\", \"2018-03-04T00:00:00\", \"2018-03-05T00:00:00\", \"2018-03-06T00:00:00\", \"2018-03-07T00:00:00\", \"2018-03-08T00:00:00\", \"2018-03-09T00:00:00\", \"2018-03-10T00:00:00\", \"2018-03-11T00:00:00\", \"2018-03-12T00:00:00\", \"2018-03-13T00:00:00\", \"2018-03-14T00:00:00\", \"2018-03-15T00:00:00\", \"2018-03-16T00:00:00\", \"2018-03-17T00:00:00\", \"2018-03-18T00:00:00\", \"2018-03-19T00:00:00\", \"2018-03-20T00:00:00\", \"2018-03-21T00:00:00\", \"2018-03-22T00:00:00\", \"2018-03-23T00:00:00\", \"2018-03-24T00:00:00\", \"2018-03-25T00:00:00\", \"2018-03-26T00:00:00\", \"2018-03-27T00:00:00\", \"2018-03-28T00:00:00\", \"2018-03-29T00:00:00\", \"2018-03-30T00:00:00\", \"2018-03-31T00:00:00\", \"2018-04-01T00:00:00\", \"2018-04-02T00:00:00\", \"2018-04-03T00:00:00\", \"2018-04-04T00:00:00\", \"2018-04-05T00:00:00\", \"2018-04-06T00:00:00\", \"2018-04-07T00:00:00\", \"2018-04-08T00:00:00\", \"2018-04-09T00:00:00\", \"2018-04-10T00:00:00\", \"2018-04-11T00:00:00\", \"2018-04-12T00:00:00\", \"2018-04-13T00:00:00\", \"2018-04-14T00:00:00\", \"2018-04-15T00:00:00\", \"2018-04-16T00:00:00\", \"2018-04-17T00:00:00\", \"2018-04-18T00:00:00\", \"2018-04-19T00:00:00\", \"2018-04-20T00:00:00\", \"2018-04-21T00:00:00\", \"2018-04-22T00:00:00\", \"2018-04-23T00:00:00\", \"2018-04-24T00:00:00\", \"2018-04-25T00:00:00\", \"2018-04-26T00:00:00\", \"2018-04-27T00:00:00\", \"2018-04-28T00:00:00\", \"2018-04-29T00:00:00\", \"2018-04-30T00:00:00\", \"2018-05-01T00:00:00\", \"2018-05-02T00:00:00\", \"2018-05-03T00:00:00\", \"2018-05-04T00:00:00\", \"2018-05-05T00:00:00\", \"2018-05-06T00:00:00\", \"2018-05-07T00:00:00\", \"2018-05-08T00:00:00\", \"2018-05-09T00:00:00\", \"2018-05-10T00:00:00\", \"2018-05-11T00:00:00\", \"2018-05-12T00:00:00\", \"2018-05-13T00:00:00\", \"2018-05-14T00:00:00\", \"2018-05-15T00:00:00\", \"2018-05-16T00:00:00\", \"2018-05-17T00:00:00\", \"2018-05-18T00:00:00\", \"2018-05-19T00:00:00\", \"2018-05-20T00:00:00\", \"2018-05-21T00:00:00\", \"2018-05-22T00:00:00\", \"2018-05-23T00:00:00\", \"2018-05-24T00:00:00\", \"2018-05-25T00:00:00\", \"2018-05-26T00:00:00\", \"2018-05-27T00:00:00\", \"2018-05-28T00:00:00\", \"2018-05-29T00:00:00\", \"2018-05-30T00:00:00\", \"2018-05-31T00:00:00\", \"2018-06-01T00:00:00\", \"2018-06-02T00:00:00\", \"2018-06-03T00:00:00\", \"2018-06-04T00:00:00\", \"2018-06-05T00:00:00\", \"2018-06-06T00:00:00\", \"2018-06-07T00:00:00\", \"2018-06-08T00:00:00\", \"2018-06-09T00:00:00\", \"2018-06-10T00:00:00\", \"2018-06-11T00:00:00\", \"2018-06-12T00:00:00\", \"2018-06-13T00:00:00\", \"2018-06-14T00:00:00\", \"2018-06-15T00:00:00\", \"2018-06-16T00:00:00\", \"2018-06-17T00:00:00\", \"2018-06-18T00:00:00\", \"2018-06-19T00:00:00\", \"2018-06-20T00:00:00\", \"2018-06-21T00:00:00\", \"2018-06-22T00:00:00\", \"2018-06-23T00:00:00\", \"2018-06-24T00:00:00\", \"2018-06-25T00:00:00\", \"2018-06-26T00:00:00\", \"2018-06-27T00:00:00\", \"2018-06-28T00:00:00\", \"2018-06-29T00:00:00\", \"2018-06-30T00:00:00\", \"2018-07-01T00:00:00\", \"2018-07-02T00:00:00\", \"2018-07-03T00:00:00\", \"2018-07-04T00:00:00\", \"2018-07-05T00:00:00\", \"2018-07-06T00:00:00\", \"2018-07-07T00:00:00\", \"2018-07-08T00:00:00\", \"2018-07-09T00:00:00\", \"2018-07-10T00:00:00\", \"2018-07-11T00:00:00\", \"2018-07-12T00:00:00\", \"2018-07-13T00:00:00\", \"2018-07-14T00:00:00\", \"2018-07-15T00:00:00\", \"2018-07-16T00:00:00\", \"2018-07-17T00:00:00\", \"2018-07-18T00:00:00\", \"2018-07-19T00:00:00\", \"2018-07-20T00:00:00\", \"2018-07-21T00:00:00\", \"2018-07-22T00:00:00\", \"2018-07-23T00:00:00\", \"2018-07-24T00:00:00\", \"2018-07-25T00:00:00\", \"2018-07-26T00:00:00\", \"2018-07-27T00:00:00\", \"2018-07-28T00:00:00\", \"2018-07-29T00:00:00\", \"2018-07-30T00:00:00\", \"2018-07-31T00:00:00\", \"2018-08-01T00:00:00\", \"2018-08-02T00:00:00\", \"2018-08-03T00:00:00\", \"2018-08-04T00:00:00\", \"2018-08-05T00:00:00\", \"2018-08-06T00:00:00\", \"2018-08-07T00:00:00\", \"2018-08-08T00:00:00\", \"2018-08-09T00:00:00\", \"2018-08-10T00:00:00\", \"2018-08-11T00:00:00\", \"2018-08-12T00:00:00\", \"2018-08-13T00:00:00\", \"2018-08-14T00:00:00\", \"2018-08-15T00:00:00\", \"2018-08-16T00:00:00\", \"2018-08-17T00:00:00\", \"2018-08-18T00:00:00\", \"2018-08-19T00:00:00\", \"2018-08-20T00:00:00\", \"2018-08-21T00:00:00\", \"2018-08-22T00:00:00\", \"2018-08-23T00:00:00\", \"2018-08-24T00:00:00\", \"2018-08-25T00:00:00\", \"2018-08-26T00:00:00\", \"2018-08-27T00:00:00\", \"2018-08-28T00:00:00\", \"2018-08-29T00:00:00\", \"2018-08-30T00:00:00\", \"2018-08-31T00:00:00\", \"2018-09-01T00:00:00\", \"2018-09-02T00:00:00\", \"2018-09-03T00:00:00\", \"2018-09-04T00:00:00\", \"2018-09-05T00:00:00\", \"2018-09-06T00:00:00\", \"2018-09-07T00:00:00\", \"2018-09-08T00:00:00\", \"2018-09-09T00:00:00\", \"2018-09-10T00:00:00\", \"2018-09-11T00:00:00\", \"2018-09-12T00:00:00\", \"2018-09-13T00:00:00\", \"2018-09-14T00:00:00\", \"2018-09-15T00:00:00\", \"2018-09-16T00:00:00\", \"2018-09-17T00:00:00\", \"2018-09-18T00:00:00\", \"2018-09-19T00:00:00\", \"2018-09-20T00:00:00\", \"2018-09-21T00:00:00\", \"2018-09-22T00:00:00\", \"2018-09-23T00:00:00\", \"2018-09-24T00:00:00\", \"2018-09-25T00:00:00\", \"2018-09-26T00:00:00\", \"2018-09-27T00:00:00\", \"2018-09-28T00:00:00\", \"2018-09-29T00:00:00\", \"2018-09-30T00:00:00\", \"2018-10-01T00:00:00\", \"2018-10-02T00:00:00\", \"2018-10-03T00:00:00\", \"2018-10-04T00:00:00\", \"2018-10-05T00:00:00\", \"2018-10-06T00:00:00\", \"2018-10-07T00:00:00\", \"2018-10-08T00:00:00\", \"2018-10-09T00:00:00\", \"2018-10-10T00:00:00\", \"2018-10-11T00:00:00\", \"2018-10-12T00:00:00\", \"2018-10-13T00:00:00\", \"2018-10-14T00:00:00\", \"2018-10-15T00:00:00\", \"2018-10-16T00:00:00\", \"2018-10-17T00:00:00\", \"2018-10-18T00:00:00\", \"2018-10-19T00:00:00\", \"2018-10-20T00:00:00\", \"2018-10-21T00:00:00\", \"2018-10-22T00:00:00\", \"2018-10-23T00:00:00\", \"2018-10-24T00:00:00\", \"2018-10-25T00:00:00\", \"2018-10-26T00:00:00\", \"2018-10-27T00:00:00\", \"2018-10-28T00:00:00\", \"2018-10-29T00:00:00\", \"2018-10-30T00:00:00\", \"2018-10-31T00:00:00\", \"2018-11-01T00:00:00\", \"2018-11-02T00:00:00\", \"2018-11-03T00:00:00\", \"2018-11-04T00:00:00\", \"2018-11-05T00:00:00\", \"2018-11-06T00:00:00\", \"2018-11-07T00:00:00\", \"2018-11-08T00:00:00\", \"2018-11-09T00:00:00\", \"2018-11-10T00:00:00\", \"2018-11-11T00:00:00\", \"2018-11-12T00:00:00\", \"2018-11-13T00:00:00\", \"2018-11-14T00:00:00\", \"2018-11-15T00:00:00\", \"2018-11-16T00:00:00\", \"2018-11-17T00:00:00\", \"2018-11-18T00:00:00\", \"2018-11-19T00:00:00\", \"2018-11-20T00:00:00\", \"2018-11-21T00:00:00\", \"2018-11-22T00:00:00\", \"2018-11-23T00:00:00\", \"2018-11-24T00:00:00\", \"2018-11-25T00:00:00\", \"2018-11-26T00:00:00\", \"2018-11-27T00:00:00\", \"2018-11-28T00:00:00\", \"2018-11-29T00:00:00\", \"2018-11-30T00:00:00\", \"2018-12-01T00:00:00\", \"2018-12-02T00:00:00\", \"2018-12-03T00:00:00\", \"2018-12-04T00:00:00\", \"2018-12-05T00:00:00\", \"2018-12-06T00:00:00\", \"2018-12-07T00:00:00\", \"2018-12-08T00:00:00\", \"2018-12-09T00:00:00\", \"2018-12-10T00:00:00\", \"2018-12-11T00:00:00\", \"2018-12-12T00:00:00\", \"2018-12-13T00:00:00\", \"2018-12-14T00:00:00\", \"2018-12-15T00:00:00\", \"2018-12-16T00:00:00\", \"2018-12-17T00:00:00\", \"2018-12-18T00:00:00\", \"2018-12-19T00:00:00\", \"2018-12-20T00:00:00\", \"2018-12-21T00:00:00\", \"2018-12-22T00:00:00\", \"2018-12-23T00:00:00\", \"2018-12-24T00:00:00\", \"2018-12-25T00:00:00\", \"2018-12-26T00:00:00\", \"2018-12-27T00:00:00\", \"2018-12-28T00:00:00\", \"2018-12-29T00:00:00\", \"2018-12-30T00:00:00\", \"2018-12-31T00:00:00\", \"2019-01-01T00:00:00\", \"2019-01-02T00:00:00\", \"2019-01-03T00:00:00\", \"2019-01-04T00:00:00\", \"2019-01-05T00:00:00\", \"2019-01-06T00:00:00\", \"2019-01-07T00:00:00\", \"2019-01-08T00:00:00\", \"2019-01-09T00:00:00\", \"2019-01-10T00:00:00\", \"2019-01-11T00:00:00\", \"2019-01-12T00:00:00\", \"2019-01-13T00:00:00\", \"2019-01-14T00:00:00\", \"2019-01-15T00:00:00\", \"2019-01-16T00:00:00\", \"2019-01-17T00:00:00\", \"2019-01-18T00:00:00\", \"2019-01-19T00:00:00\", \"2019-01-20T00:00:00\", \"2019-01-21T00:00:00\", \"2019-01-22T00:00:00\", \"2019-01-23T00:00:00\", \"2019-01-24T00:00:00\", \"2019-01-25T00:00:00\", \"2019-01-26T00:00:00\", \"2019-01-27T00:00:00\", \"2019-01-28T00:00:00\", \"2019-01-29T00:00:00\", \"2019-01-30T00:00:00\", \"2019-01-31T00:00:00\", \"2019-02-01T00:00:00\", \"2019-02-02T00:00:00\", \"2019-02-03T00:00:00\", \"2019-02-04T00:00:00\", \"2019-02-05T00:00:00\", \"2019-02-06T00:00:00\", \"2019-02-07T00:00:00\", \"2019-02-08T00:00:00\", \"2019-02-09T00:00:00\", \"2019-02-10T00:00:00\", \"2019-02-11T00:00:00\", \"2019-02-12T00:00:00\", \"2019-02-13T00:00:00\", \"2019-02-14T00:00:00\", \"2019-02-15T00:00:00\", \"2019-02-16T00:00:00\", \"2019-02-17T00:00:00\", \"2019-02-18T00:00:00\", \"2019-02-19T00:00:00\", \"2019-02-20T00:00:00\", \"2019-02-21T00:00:00\", \"2019-02-22T00:00:00\", \"2019-02-23T00:00:00\", \"2019-02-24T00:00:00\", \"2019-02-25T00:00:00\", \"2019-02-26T00:00:00\", \"2019-02-27T00:00:00\", \"2019-02-28T00:00:00\", \"2019-03-01T00:00:00\", \"2019-03-02T00:00:00\", \"2019-03-03T00:00:00\", \"2019-03-04T00:00:00\", \"2019-03-05T00:00:00\", \"2019-03-06T00:00:00\", \"2019-03-07T00:00:00\", \"2019-03-08T00:00:00\", \"2019-03-09T00:00:00\", \"2019-03-10T00:00:00\", \"2019-03-11T00:00:00\", \"2019-03-12T00:00:00\", \"2019-03-13T00:00:00\", \"2019-03-14T00:00:00\", \"2019-03-15T00:00:00\", \"2019-03-16T00:00:00\", \"2019-03-17T00:00:00\", \"2019-03-18T00:00:00\", \"2019-03-19T00:00:00\", \"2019-03-20T00:00:00\", \"2019-03-21T00:00:00\", \"2019-03-22T00:00:00\", \"2019-03-23T00:00:00\", \"2019-03-24T00:00:00\", \"2019-03-25T00:00:00\", \"2019-03-26T00:00:00\", \"2019-03-27T00:00:00\", \"2019-03-28T00:00:00\", \"2019-03-29T00:00:00\", \"2019-03-30T00:00:00\", \"2019-03-31T00:00:00\", \"2019-04-01T00:00:00\", \"2019-04-02T00:00:00\", \"2019-04-03T00:00:00\", \"2019-04-04T00:00:00\", \"2019-04-05T00:00:00\", \"2019-04-06T00:00:00\", \"2019-04-07T00:00:00\", \"2019-04-08T00:00:00\", \"2019-04-09T00:00:00\", \"2019-04-10T00:00:00\", \"2019-04-11T00:00:00\", \"2019-04-12T00:00:00\", \"2019-04-13T00:00:00\", \"2019-04-14T00:00:00\", \"2019-04-15T00:00:00\", \"2019-04-16T00:00:00\", \"2019-04-17T00:00:00\", \"2019-04-18T00:00:00\", \"2019-04-19T00:00:00\", \"2019-04-20T00:00:00\", \"2019-04-21T00:00:00\", \"2019-04-22T00:00:00\", \"2019-04-23T00:00:00\", \"2019-04-24T00:00:00\", \"2019-04-25T00:00:00\", \"2019-04-26T00:00:00\", \"2019-04-27T00:00:00\", \"2019-04-28T00:00:00\", \"2019-04-29T00:00:00\", \"2019-04-30T00:00:00\", \"2019-05-01T00:00:00\", \"2019-05-02T00:00:00\", \"2019-05-03T00:00:00\", \"2019-05-04T00:00:00\", \"2019-05-05T00:00:00\", \"2019-05-06T00:00:00\", \"2019-05-07T00:00:00\", \"2019-05-08T00:00:00\", \"2019-05-09T00:00:00\", \"2019-05-10T00:00:00\", \"2019-05-11T00:00:00\", \"2019-05-12T00:00:00\", \"2019-05-13T00:00:00\", \"2019-05-14T00:00:00\", \"2019-05-15T00:00:00\", \"2019-05-16T00:00:00\", \"2019-05-17T00:00:00\", \"2019-05-18T00:00:00\", \"2019-05-19T00:00:00\", \"2019-05-20T00:00:00\", \"2019-05-21T00:00:00\", \"2019-05-22T00:00:00\", \"2019-05-23T00:00:00\", \"2019-05-24T00:00:00\", \"2019-05-25T00:00:00\", \"2019-05-26T00:00:00\", \"2019-05-27T00:00:00\", \"2019-05-28T00:00:00\", \"2019-05-29T00:00:00\", \"2019-05-30T00:00:00\", \"2019-05-31T00:00:00\", \"2019-06-01T00:00:00\", \"2019-06-02T00:00:00\", \"2019-06-03T00:00:00\", \"2019-06-04T00:00:00\", \"2019-06-05T00:00:00\", \"2019-06-06T00:00:00\", \"2019-06-07T00:00:00\", \"2019-06-08T00:00:00\", \"2019-06-09T00:00:00\", \"2019-06-10T00:00:00\", \"2019-06-11T00:00:00\", \"2019-06-12T00:00:00\", \"2019-06-13T00:00:00\", \"2019-06-14T00:00:00\", \"2019-06-15T00:00:00\", \"2019-06-16T00:00:00\", \"2019-06-17T00:00:00\", \"2019-06-18T00:00:00\", \"2019-06-19T00:00:00\", \"2019-06-20T00:00:00\", \"2019-06-21T00:00:00\", \"2019-06-22T00:00:00\", \"2019-06-23T00:00:00\", \"2019-06-24T00:00:00\", \"2019-06-25T00:00:00\", \"2019-06-26T00:00:00\", \"2019-06-27T00:00:00\", \"2019-06-28T00:00:00\", \"2019-06-29T00:00:00\", \"2019-06-30T00:00:00\", \"2019-07-01T00:00:00\", \"2019-07-02T00:00:00\", \"2019-07-03T00:00:00\", \"2019-07-04T00:00:00\", \"2019-07-05T00:00:00\", \"2019-07-06T00:00:00\", \"2019-07-07T00:00:00\", \"2019-07-08T00:00:00\", \"2019-07-09T00:00:00\", \"2019-07-10T00:00:00\", \"2019-07-11T00:00:00\", \"2019-07-12T00:00:00\", \"2019-07-13T00:00:00\", \"2019-07-14T00:00:00\", \"2019-07-15T00:00:00\", \"2019-07-16T00:00:00\", \"2019-07-17T00:00:00\", \"2019-07-18T00:00:00\", \"2019-07-19T00:00:00\", \"2019-07-20T00:00:00\", \"2019-07-21T00:00:00\", \"2019-07-22T00:00:00\", \"2019-07-23T00:00:00\", \"2019-07-24T00:00:00\", \"2019-07-25T00:00:00\", \"2019-07-26T00:00:00\", \"2019-07-27T00:00:00\", \"2019-07-28T00:00:00\", \"2019-07-29T00:00:00\", \"2019-07-30T00:00:00\", \"2019-07-31T00:00:00\", \"2019-08-01T00:00:00\", \"2019-08-02T00:00:00\", \"2019-08-03T00:00:00\", \"2019-08-04T00:00:00\", \"2019-08-05T00:00:00\", \"2019-08-06T00:00:00\", \"2019-08-07T00:00:00\", \"2019-08-08T00:00:00\", \"2019-08-09T00:00:00\", \"2019-08-10T00:00:00\", \"2019-08-11T00:00:00\", \"2019-08-12T00:00:00\", \"2019-08-13T00:00:00\", \"2019-08-14T00:00:00\", \"2019-08-15T00:00:00\", \"2019-08-16T00:00:00\", \"2019-08-17T00:00:00\", \"2019-08-18T00:00:00\", \"2019-08-19T00:00:00\", \"2019-08-20T00:00:00\", \"2019-08-21T00:00:00\", \"2019-08-22T00:00:00\", \"2019-08-23T00:00:00\", \"2019-08-24T00:00:00\", \"2019-08-25T00:00:00\", \"2019-08-26T00:00:00\", \"2019-08-27T00:00:00\", \"2019-08-28T00:00:00\", \"2019-08-29T00:00:00\", \"2019-08-30T00:00:00\", \"2019-08-31T00:00:00\", \"2019-09-01T00:00:00\", \"2019-09-02T00:00:00\", \"2019-09-03T00:00:00\", \"2019-09-04T00:00:00\", \"2019-09-05T00:00:00\", \"2019-09-06T00:00:00\", \"2019-09-07T00:00:00\", \"2019-09-08T00:00:00\", \"2019-09-09T00:00:00\", \"2019-09-10T00:00:00\", \"2019-09-11T00:00:00\", \"2019-09-12T00:00:00\", \"2019-09-13T00:00:00\", \"2019-09-14T00:00:00\", \"2019-09-15T00:00:00\", \"2019-09-16T00:00:00\", \"2019-09-17T00:00:00\", \"2019-09-18T00:00:00\", \"2019-09-19T00:00:00\", \"2019-09-20T00:00:00\", \"2019-09-21T00:00:00\", \"2019-09-22T00:00:00\", \"2019-09-23T00:00:00\", \"2019-09-24T00:00:00\", \"2019-09-25T00:00:00\", \"2019-09-26T00:00:00\", \"2019-09-27T00:00:00\", \"2019-09-28T00:00:00\", \"2019-09-29T00:00:00\", \"2019-09-30T00:00:00\", \"2019-10-01T00:00:00\", \"2019-10-02T00:00:00\", \"2019-10-03T00:00:00\", \"2019-10-04T00:00:00\", \"2019-10-05T00:00:00\", \"2019-10-06T00:00:00\", \"2019-10-07T00:00:00\", \"2019-10-08T00:00:00\", \"2019-10-09T00:00:00\", \"2019-10-10T00:00:00\", \"2019-10-11T00:00:00\", \"2019-10-12T00:00:00\", \"2019-10-13T00:00:00\", \"2019-10-14T00:00:00\", \"2019-10-15T00:00:00\", \"2019-10-16T00:00:00\", \"2019-10-17T00:00:00\", \"2019-10-18T00:00:00\", \"2019-10-19T00:00:00\", \"2019-10-20T00:00:00\", \"2019-10-21T00:00:00\", \"2019-10-22T00:00:00\", \"2019-10-23T00:00:00\", \"2019-10-24T00:00:00\", \"2019-10-25T00:00:00\", \"2019-10-26T00:00:00\", \"2019-10-27T00:00:00\", \"2019-10-28T00:00:00\", \"2019-10-29T00:00:00\", \"2019-10-30T00:00:00\", \"2019-10-31T00:00:00\", \"2019-11-01T00:00:00\", \"2019-11-02T00:00:00\", \"2019-11-03T00:00:00\", \"2019-11-04T00:00:00\", \"2019-11-05T00:00:00\", \"2019-11-06T00:00:00\", \"2019-11-07T00:00:00\", \"2019-11-08T00:00:00\", \"2019-11-09T00:00:00\", \"2019-11-10T00:00:00\", \"2019-11-11T00:00:00\", \"2019-11-12T00:00:00\", \"2019-11-13T00:00:00\", \"2019-11-14T00:00:00\", \"2019-11-15T00:00:00\", \"2019-11-16T00:00:00\", \"2019-11-17T00:00:00\", \"2019-11-18T00:00:00\", \"2019-11-19T00:00:00\", \"2019-11-20T00:00:00\", \"2019-11-21T00:00:00\", \"2019-11-22T00:00:00\", \"2019-11-23T00:00:00\", \"2019-11-24T00:00:00\", \"2019-11-25T00:00:00\", \"2019-11-26T00:00:00\", \"2019-11-27T00:00:00\", \"2019-11-28T00:00:00\", \"2019-11-29T00:00:00\", \"2019-11-30T00:00:00\", \"2019-12-01T00:00:00\", \"2019-12-02T00:00:00\", \"2019-12-03T00:00:00\", \"2019-12-04T00:00:00\", \"2019-12-05T00:00:00\", \"2019-12-06T00:00:00\", \"2019-12-07T00:00:00\", \"2019-12-08T00:00:00\", \"2019-12-09T00:00:00\", \"2019-12-10T00:00:00\", \"2019-12-11T00:00:00\", \"2019-12-12T00:00:00\", \"2019-12-13T00:00:00\", \"2019-12-14T00:00:00\", \"2019-12-15T00:00:00\", \"2019-12-16T00:00:00\", \"2019-12-17T00:00:00\", \"2019-12-18T00:00:00\", \"2019-12-19T00:00:00\", \"2019-12-20T00:00:00\", \"2019-12-21T00:00:00\", \"2019-12-22T00:00:00\", \"2019-12-23T00:00:00\", \"2019-12-24T00:00:00\", \"2019-12-25T00:00:00\", \"2019-12-26T00:00:00\", \"2019-12-27T00:00:00\", \"2019-12-28T00:00:00\", \"2019-12-29T00:00:00\", \"2019-12-30T00:00:00\", \"2019-12-31T00:00:00\", \"2020-01-01T00:00:00\", \"2020-01-02T00:00:00\", \"2020-01-03T00:00:00\", \"2020-01-04T00:00:00\", \"2020-01-05T00:00:00\", \"2020-01-06T00:00:00\", \"2020-01-07T00:00:00\", \"2020-01-08T00:00:00\", \"2020-01-09T00:00:00\", \"2020-01-10T00:00:00\", \"2020-01-11T00:00:00\", \"2020-01-12T00:00:00\", \"2020-01-13T00:00:00\", \"2020-01-14T00:00:00\", \"2020-01-15T00:00:00\", \"2020-01-16T00:00:00\", \"2020-01-17T00:00:00\", \"2020-01-18T00:00:00\", \"2020-01-19T00:00:00\", \"2020-01-20T00:00:00\", \"2020-01-21T00:00:00\", \"2020-01-22T00:00:00\", \"2020-01-23T00:00:00\", \"2020-01-24T00:00:00\", \"2020-01-25T00:00:00\", \"2020-01-26T00:00:00\", \"2020-01-27T00:00:00\", \"2020-01-28T00:00:00\", \"2020-01-29T00:00:00\", \"2020-01-30T00:00:00\", \"2020-01-31T00:00:00\", \"2020-02-01T00:00:00\", \"2020-02-02T00:00:00\", \"2020-02-03T00:00:00\", \"2020-02-04T00:00:00\", \"2020-02-05T00:00:00\", \"2020-02-06T00:00:00\", \"2020-02-07T00:00:00\", \"2020-02-08T00:00:00\", \"2020-02-09T00:00:00\", \"2020-02-10T00:00:00\", \"2020-02-11T00:00:00\", \"2020-02-12T00:00:00\", \"2020-02-13T00:00:00\", \"2020-02-14T00:00:00\", \"2020-02-15T00:00:00\", \"2020-02-16T00:00:00\", \"2020-02-17T00:00:00\", \"2020-02-18T00:00:00\", \"2020-02-19T00:00:00\", \"2020-02-20T00:00:00\", \"2020-02-21T00:00:00\", \"2020-02-22T00:00:00\", \"2020-02-23T00:00:00\", \"2020-02-24T00:00:00\", \"2020-02-25T00:00:00\", \"2020-02-26T00:00:00\", \"2020-02-27T00:00:00\", \"2020-02-28T00:00:00\", \"2020-02-29T00:00:00\", \"2020-03-01T00:00:00\", \"2020-03-02T00:00:00\", \"2020-03-03T00:00:00\", \"2020-03-04T00:00:00\", \"2020-03-05T00:00:00\", \"2020-03-06T00:00:00\", \"2020-03-07T00:00:00\", \"2020-03-08T00:00:00\", \"2020-03-09T00:00:00\", \"2020-03-10T00:00:00\", \"2020-03-11T00:00:00\", \"2020-03-12T00:00:00\", \"2020-03-13T00:00:00\", \"2020-03-14T00:00:00\", \"2020-03-15T00:00:00\", \"2020-03-16T00:00:00\", \"2020-03-17T00:00:00\", \"2020-03-18T00:00:00\", \"2020-03-19T00:00:00\", \"2020-03-20T00:00:00\", \"2020-03-21T00:00:00\", \"2020-03-22T00:00:00\", \"2020-03-23T00:00:00\", \"2020-03-24T00:00:00\", \"2020-03-25T00:00:00\", \"2020-03-26T00:00:00\", \"2020-03-27T00:00:00\", \"2020-03-28T00:00:00\", \"2020-03-29T00:00:00\", \"2020-03-30T00:00:00\", \"2020-03-31T00:00:00\", \"2020-04-01T00:00:00\", \"2020-04-02T00:00:00\", \"2020-04-03T00:00:00\", \"2020-04-04T00:00:00\", \"2020-04-05T00:00:00\", \"2020-04-06T00:00:00\", \"2020-04-07T00:00:00\", \"2020-04-08T00:00:00\", \"2020-04-09T00:00:00\", \"2020-04-10T00:00:00\", \"2020-04-11T00:00:00\", \"2020-04-12T00:00:00\", \"2020-04-13T00:00:00\", \"2020-04-14T00:00:00\", \"2020-04-15T00:00:00\", \"2020-04-16T00:00:00\", \"2020-04-17T00:00:00\", \"2020-04-18T00:00:00\", \"2020-04-19T00:00:00\", \"2020-04-20T00:00:00\", \"2020-04-21T00:00:00\", \"2020-04-22T00:00:00\", \"2020-04-23T00:00:00\", \"2020-04-24T00:00:00\", \"2020-04-25T00:00:00\", \"2020-04-26T00:00:00\", \"2020-04-27T00:00:00\", \"2020-04-28T00:00:00\", \"2020-04-29T00:00:00\", \"2020-04-30T00:00:00\", \"2020-05-01T00:00:00\", \"2020-05-02T00:00:00\", \"2020-05-03T00:00:00\", \"2020-05-04T00:00:00\", \"2020-05-05T00:00:00\", \"2020-05-06T00:00:00\", \"2020-05-07T00:00:00\", \"2020-05-08T00:00:00\", \"2020-05-09T00:00:00\", \"2020-05-10T00:00:00\", \"2020-05-11T00:00:00\", \"2020-05-12T00:00:00\", \"2020-05-13T00:00:00\", \"2020-05-14T00:00:00\", \"2020-05-15T00:00:00\", \"2020-05-16T00:00:00\", \"2020-05-17T00:00:00\", \"2020-05-18T00:00:00\", \"2020-05-19T00:00:00\", \"2020-05-20T00:00:00\", \"2020-05-21T00:00:00\", \"2020-05-22T00:00:00\", \"2020-05-23T00:00:00\", \"2020-05-24T00:00:00\", \"2020-05-25T00:00:00\", \"2020-05-26T00:00:00\", \"2020-05-27T00:00:00\", \"2020-05-28T00:00:00\", \"2020-05-29T00:00:00\", \"2020-05-30T00:00:00\", \"2020-05-31T00:00:00\", \"2020-06-01T00:00:00\", \"2020-06-02T00:00:00\", \"2020-06-03T00:00:00\", \"2020-06-04T00:00:00\", \"2020-06-05T00:00:00\", \"2020-06-06T00:00:00\", \"2020-06-07T00:00:00\", \"2020-06-08T00:00:00\", \"2020-06-09T00:00:00\", \"2020-06-10T00:00:00\", \"2020-06-11T00:00:00\", \"2020-06-12T00:00:00\", \"2020-06-13T00:00:00\", \"2020-06-14T00:00:00\", \"2020-06-15T00:00:00\", \"2020-06-16T00:00:00\", \"2020-06-17T00:00:00\", \"2020-06-18T00:00:00\", \"2020-06-19T00:00:00\", \"2020-06-20T00:00:00\", \"2020-06-21T00:00:00\", \"2020-06-22T00:00:00\", \"2020-06-23T00:00:00\", \"2020-06-24T00:00:00\", \"2020-06-25T00:00:00\", \"2020-06-26T00:00:00\", \"2020-06-27T00:00:00\", \"2020-06-28T00:00:00\", \"2020-06-29T00:00:00\", \"2020-06-30T00:00:00\", \"2020-07-01T00:00:00\", \"2020-07-02T00:00:00\", \"2020-07-03T00:00:00\", \"2020-07-04T00:00:00\", \"2020-07-05T00:00:00\", \"2020-07-06T00:00:00\", \"2020-07-07T00:00:00\", \"2020-07-08T00:00:00\", \"2020-07-09T00:00:00\", \"2020-07-10T00:00:00\", \"2020-07-11T00:00:00\", \"2020-07-12T00:00:00\", \"2020-07-13T00:00:00\", \"2020-07-14T00:00:00\", \"2020-07-15T00:00:00\", \"2020-07-16T00:00:00\", \"2020-07-17T00:00:00\", \"2020-07-18T00:00:00\", \"2020-07-19T00:00:00\", \"2020-07-20T00:00:00\", \"2020-07-21T00:00:00\", \"2020-07-22T00:00:00\", \"2020-07-23T00:00:00\", \"2020-07-24T00:00:00\", \"2020-07-25T00:00:00\", \"2020-07-26T00:00:00\", \"2020-07-27T00:00:00\", \"2020-07-28T00:00:00\", \"2020-07-29T00:00:00\", \"2020-07-30T00:00:00\", \"2020-07-31T00:00:00\", \"2020-08-01T00:00:00\", \"2020-08-02T00:00:00\", \"2020-08-03T00:00:00\", \"2020-08-04T00:00:00\", \"2020-08-05T00:00:00\", \"2020-08-06T00:00:00\", \"2020-08-07T00:00:00\", \"2020-08-08T00:00:00\", \"2020-08-09T00:00:00\", \"2020-08-10T00:00:00\", \"2020-08-11T00:00:00\", \"2020-08-12T00:00:00\", \"2020-08-13T00:00:00\", \"2020-08-14T00:00:00\", \"2020-08-15T00:00:00\", \"2020-08-16T00:00:00\", \"2020-08-17T00:00:00\", \"2020-08-18T00:00:00\", \"2020-08-19T00:00:00\", \"2020-08-20T00:00:00\", \"2020-08-21T00:00:00\", \"2020-08-22T00:00:00\", \"2020-08-23T00:00:00\", \"2020-08-24T00:00:00\", \"2020-08-25T00:00:00\", \"2020-08-26T00:00:00\", \"2020-08-27T00:00:00\", \"2020-08-28T00:00:00\", \"2020-08-29T00:00:00\", \"2020-08-30T00:00:00\", \"2020-08-31T00:00:00\", \"2020-09-01T00:00:00\", \"2020-09-02T00:00:00\", \"2020-09-03T00:00:00\", \"2020-09-04T00:00:00\", \"2020-09-05T00:00:00\", \"2020-09-06T00:00:00\", \"2020-09-07T00:00:00\", \"2020-09-08T00:00:00\", \"2020-09-09T00:00:00\", \"2020-09-10T00:00:00\", \"2020-09-11T00:00:00\", \"2020-09-12T00:00:00\", \"2020-09-13T00:00:00\", \"2020-09-14T00:00:00\", \"2020-09-15T00:00:00\", \"2020-09-16T00:00:00\", \"2020-09-17T00:00:00\", \"2020-09-18T00:00:00\", \"2020-09-19T00:00:00\", \"2020-09-20T00:00:00\", \"2020-09-21T00:00:00\", \"2020-09-22T00:00:00\", \"2020-09-23T00:00:00\", \"2020-09-24T00:00:00\", \"2020-09-25T00:00:00\", \"2020-09-26T00:00:00\", \"2020-09-27T00:00:00\", \"2020-09-28T00:00:00\", \"2020-09-29T00:00:00\", \"2020-09-30T00:00:00\", \"2020-10-01T00:00:00\", \"2020-10-02T00:00:00\", \"2020-10-03T00:00:00\", \"2020-10-04T00:00:00\", \"2020-10-05T00:00:00\", \"2020-10-06T00:00:00\", \"2020-10-07T00:00:00\", \"2020-10-08T00:00:00\", \"2020-10-09T00:00:00\", \"2020-10-10T00:00:00\", \"2020-10-11T00:00:00\", \"2020-10-12T00:00:00\", \"2020-10-13T00:00:00\", \"2020-10-14T00:00:00\", \"2020-10-15T00:00:00\", \"2020-10-16T00:00:00\", \"2020-10-17T00:00:00\", \"2020-10-18T00:00:00\", \"2020-10-19T00:00:00\", \"2020-10-20T00:00:00\", \"2020-10-21T00:00:00\", \"2020-10-22T00:00:00\", \"2020-10-23T00:00:00\", \"2020-10-24T00:00:00\", \"2020-10-25T00:00:00\", \"2020-10-26T00:00:00\", \"2020-10-27T00:00:00\", \"2020-10-28T00:00:00\", \"2020-10-29T00:00:00\", \"2020-10-30T00:00:00\", \"2020-10-31T00:00:00\", \"2020-11-01T00:00:00\", \"2020-11-02T00:00:00\", \"2020-11-03T00:00:00\", \"2020-11-04T00:00:00\", \"2020-11-05T00:00:00\", \"2020-11-06T00:00:00\", \"2020-11-07T00:00:00\", \"2020-11-08T00:00:00\", \"2020-11-09T00:00:00\", \"2020-11-10T00:00:00\", \"2020-11-11T00:00:00\", \"2020-11-12T00:00:00\", \"2020-11-13T00:00:00\", \"2020-11-14T00:00:00\", \"2020-11-15T00:00:00\", \"2020-11-16T00:00:00\", \"2020-11-17T00:00:00\", \"2020-11-18T00:00:00\", \"2020-11-19T00:00:00\", \"2020-11-20T00:00:00\", \"2020-11-21T00:00:00\", \"2020-11-22T00:00:00\", \"2020-11-23T00:00:00\", \"2020-11-24T00:00:00\", \"2020-11-25T00:00:00\", \"2020-11-26T00:00:00\", \"2020-11-27T00:00:00\", \"2020-11-28T00:00:00\", \"2020-11-29T00:00:00\", \"2020-11-30T00:00:00\", \"2020-12-01T00:00:00\", \"2020-12-02T00:00:00\", \"2020-12-03T00:00:00\", \"2020-12-04T00:00:00\", \"2020-12-05T00:00:00\", \"2020-12-06T00:00:00\", \"2020-12-07T00:00:00\", \"2020-12-08T00:00:00\", \"2020-12-09T00:00:00\", \"2020-12-10T00:00:00\", \"2020-12-11T00:00:00\", \"2020-12-12T00:00:00\", \"2020-12-13T00:00:00\", \"2020-12-14T00:00:00\", \"2020-12-15T00:00:00\", \"2020-12-16T00:00:00\", \"2020-12-17T00:00:00\", \"2020-12-18T00:00:00\", \"2020-12-19T00:00:00\", \"2020-12-20T00:00:00\", \"2020-12-21T00:00:00\", \"2020-12-22T00:00:00\", \"2020-12-23T00:00:00\", \"2020-12-24T00:00:00\", \"2020-12-25T00:00:00\", \"2020-12-26T00:00:00\", \"2020-12-27T00:00:00\", \"2020-12-28T00:00:00\", \"2020-12-29T00:00:00\", \"2020-12-30T00:00:00\", \"2020-12-31T00:00:00\", \"2021-01-01T00:00:00\", \"2021-01-02T00:00:00\", \"2021-01-03T00:00:00\", \"2021-01-04T00:00:00\", \"2021-01-05T00:00:00\", \"2021-01-06T00:00:00\", \"2021-01-07T00:00:00\", \"2021-01-08T00:00:00\", \"2021-01-09T00:00:00\", \"2021-01-10T00:00:00\", \"2021-01-11T00:00:00\", \"2021-01-12T00:00:00\", \"2021-01-13T00:00:00\", \"2021-01-14T00:00:00\", \"2021-01-15T00:00:00\", \"2021-01-16T00:00:00\", \"2021-01-17T00:00:00\", \"2021-01-18T00:00:00\", \"2021-01-19T00:00:00\", \"2021-01-20T00:00:00\", \"2021-01-21T00:00:00\", \"2021-01-22T00:00:00\", \"2021-01-23T00:00:00\", \"2021-01-24T00:00:00\", \"2021-01-25T00:00:00\", \"2021-01-26T00:00:00\", \"2021-01-27T00:00:00\", \"2021-01-28T00:00:00\", \"2021-01-29T00:00:00\", \"2021-01-30T00:00:00\", \"2021-01-31T00:00:00\", \"2021-02-01T00:00:00\", \"2021-02-02T00:00:00\", \"2021-02-03T00:00:00\", \"2021-02-04T00:00:00\", \"2021-02-05T00:00:00\", \"2021-02-06T00:00:00\", \"2021-02-07T00:00:00\", \"2021-02-08T00:00:00\", \"2021-02-09T00:00:00\", \"2021-02-10T00:00:00\", \"2021-02-11T00:00:00\", \"2021-02-12T00:00:00\", \"2021-02-13T00:00:00\", \"2021-02-14T00:00:00\", \"2021-02-15T00:00:00\", \"2021-02-16T00:00:00\", \"2021-02-17T00:00:00\", \"2021-02-18T00:00:00\", \"2021-02-19T00:00:00\", \"2021-02-20T00:00:00\", \"2021-02-21T00:00:00\", \"2021-02-22T00:00:00\", \"2021-02-23T00:00:00\", \"2021-02-24T00:00:00\", \"2021-02-25T00:00:00\", \"2021-02-26T00:00:00\", \"2021-02-27T00:00:00\", \"2021-02-28T00:00:00\", \"2021-03-01T00:00:00\", \"2021-03-02T00:00:00\", \"2021-03-03T00:00:00\", \"2021-03-04T00:00:00\", \"2021-03-05T00:00:00\", \"2021-03-06T00:00:00\", \"2021-03-07T00:00:00\", \"2021-03-08T00:00:00\", \"2021-03-09T00:00:00\", \"2021-03-10T00:00:00\", \"2021-03-11T00:00:00\", \"2021-03-12T00:00:00\", \"2021-03-13T00:00:00\", \"2021-03-14T00:00:00\", \"2021-03-15T00:00:00\", \"2021-03-16T00:00:00\", \"2021-03-17T00:00:00\", \"2021-03-18T00:00:00\", \"2021-03-19T00:00:00\", \"2021-03-20T00:00:00\", \"2021-03-21T00:00:00\", \"2021-03-22T00:00:00\", \"2021-03-23T00:00:00\", \"2021-03-24T00:00:00\", \"2021-03-25T00:00:00\", \"2021-03-26T00:00:00\", \"2021-03-27T00:00:00\", \"2021-03-28T00:00:00\", \"2021-03-29T00:00:00\", \"2021-03-30T00:00:00\", \"2021-03-31T00:00:00\", \"2021-04-01T00:00:00\", \"2021-04-02T00:00:00\", \"2021-04-03T00:00:00\", \"2021-04-04T00:00:00\", \"2021-04-05T00:00:00\", \"2021-04-06T00:00:00\", \"2021-04-07T00:00:00\", \"2021-04-08T00:00:00\", \"2021-04-09T00:00:00\", \"2021-04-10T00:00:00\", \"2021-04-11T00:00:00\", \"2021-04-12T00:00:00\", \"2021-04-13T00:00:00\", \"2021-04-14T00:00:00\", \"2021-04-15T00:00:00\", \"2021-04-16T00:00:00\"], \"xaxis\": \"x\", \"y\": [2.83162, 1.33075, 0.6875857090838133, 1.067378879429946, 1.256613175101658, 1.825395446319752, 1.825974891355639, 1.670949668937766, 1.476607254205028, 1.20387143115441, 1.281393051659975, 1.252738651679077, 1.484195074171873, 1.40631477379752, 1.380721536476638, 1.355182100454404, 1.24657168269902, 1.160828327907264, 1.119639156482987, 1.133690694008804, 1.188895698722608, 1.174343905252208, 1.322350879918967, 1.353368417391325, 1.350786688734447, 1.278810765308764, 1.262770719520856, 1.269520099878085, 1.334976229386974, 1.29888313413515, 1.256223439965584, 1.236033260936938, 1.206529945086729, 1.167234841402144, 0.9765090926915041, 1.038203585306107, 0.9386521502557871, 0.87402296242848, 0.9418231857274298, 0.9032199195724051, 0.8830787289063511, 0.8460709193872474, 0.8821037996855977, 0.9363277614869444, 0.9010928790890973, 0.8971422650551497, 0.8940475222994914, 0.8160373080893036, 0.7405192998515878, 0.7778014991497727, 0.7213584231130563, 0.5830570046974366, 0.657832489515796, 0.7347630535971914, 0.6858121897138929, 0.6762217338750541, 0.6874757575411915, 0.6675468579375702, 0.6282550742429386, 0.64565776230867, 0.6100126973575233, 0.6234833021554507, 0.650768764684828, 0.6297949417268295, 0.6370439806918999, 0.628787281832734, 0.6026272723327593, 0.517689435598842, 0.5614990042588522, 0.5331480200007419, 0.5490283089973744, 0.5184445473595721, 0.4870672984193326, 0.4329785990312485, 0.4397689744048958, 0.5654615066780281, 0.540737766800056, 0.5685737685118122, 0.6319388092249569, 0.7439579097275092, 0.8544552504832845, 1.010409721259424, 1.163748635576317, 1.041849054896385, 0.9070916284167455, 1.058541941291151, 0.9550458603200441, 1.002344802929553, 0.9018086605486009, 0.906601136813436, 0.9094421987209234, 0.922482091197951, 1.030499514179018, 0.9958029845225516, 0.9348342219016499, 0.7887611772679245, 0.90074206650109, 0.9040815579448993, 0.8842289054037304, 0.9108255481961639, 0.9338407839578461, 0.9952733578828389, 0.9944285799213992, 0.9514712892422663, 0.9268031189591781, 0.9735724342696529, 0.96473853235469, 0.9452203362307195, 0.8993611354663962, 0.8677070917677269, 0.8948747707881739, 0.8707128002545287, 0.9173987754375574, 0.8717449537893333, 0.8736009320890139, 0.8750039976447704, 0.8227337811375524, 0.8247651888810106, 0.8387909512811372, 0.8645837297560469, 0.8349924869606098, 0.8007502839259887, 0.8188527088752511, 0.7918293483107267, 0.8474422420390545, 0.9167389424445134, 0.9712583097472548, 0.9583031735578238, 0.9954898346339888, 1.0170637001075, 0.9889124423815733, 0.9402283251940493, 0.9211717831099321, 0.9096329169325174, 0.9032316429089903, 0.8968062870238118, 0.8789593130596947, 0.8675654552724993, 0.861363016488459, 0.8707183439745884, 0.8530178649009634, 0.8588870868776094, 0.8421696130307879, 0.8694878107781919, 0.9003543017405369, 0.9365399677803522, 0.9463133430749894, 0.9381261621726148, 0.9721969755035614, 0.9592978352147374, 0.9531022411427653, 0.9684340117908705, 0.9589767803876823, 0.9955747811931686, 1.02478096778813, 1.01996585607406, 1.068726621062779, 1.167362900827917, 1.12958834642001, 1.157377553252501, 1.21073546288485, 1.215691295024754, 1.321855711753408, 1.39830112692888, 1.3769900190471, 1.565411904541257, 1.544691862235827, 1.471341822504971, 1.692156284936261, 2.131691495370684, 2.48139608647395, 2.086782726986503, 2.384501158704437, 2.519719734523484, 2.486203232055895, 2.437601273512591, 2.298766557449123, 2.221883059355513, 2.403111855327034, 2.515949933456795, 2.557178944302694, 2.532878565491474, 2.517776369343559, 2.950776113177157, 3.165335693696386, 3.720453286688504, 4.427431437703359, 6.005000308112697, 5.475649283683189, 5.373284921940013, 5.169512436402438, 5.319058286377442, 4.368970122064963, 3.744022470740231, 4.397939042003922, 4.493895382965731, 4.301875677560981, 4.653970273276003, 5.608714257576696, 5.612091439849516, 6.134381259039694, 5.93625743323269, 5.897351626440898, 6.357091762158404, 6.440650848847282, 6.312028458049726, 7.560157049617909, 8.398318163034869, 9.504937042998197, 10.03776475108964, 10.93519773927983, 10.96466178163567, 9.397469868813554, 9.800690787314164, 11.97157975649351, 11.2064229700308, 11.20893669288255, 13.37620667356022, 14.89359978457807, 12.28982460670519, 12.966897673599, 12.52943314528079, 10.956232214701, 10.79765033887468, 10.43953586817164, 10.21749097388716, 11.85112269425594, 11.31742767517068, 12.40319150724304, 11.12762218636002, 10.64069143211582, 10.96552244468764, 10.37751681820161, 11.67625154039094, 11.73817083046575, 11.88228675953419, 11.35463054290018, 11.63607180334684, 11.5639776320382, 11.51238012010477, 11.18688123888369, 10.41948468988903, 10.66622342007389, 10.0295684039377, 9.758944911021473, 9.899719595415823, 8.814617175830122, 8.66829211893249, 7.51681223420342, 8.015604593105122, 8.43365602127963, 8.20613745870167, 8.555981966976974, 9.323170276346234, 8.960482405053712, 8.696773038727313, 8.484150722584234, 8.11104074507033, 7.855106665179344, 8.377192623957283, 7.995361207240304, 7.812751656077315, 7.424663266229029, 7.724694549946334, 7.250216005225782, 7.47581760975781, 8.892970091837213, 8.832454372832895, 10.10782116866719, 9.285335810954495, 9.414136136064808, 9.827130178456441, 9.277042146778028, 9.381202893584621, 9.52920206226682, 9.353276545574158, 9.350283703928604, 9.981302920467385, 10.091492287586432, 10.585661577212786, 10.176098567981153, 9.960446892869543, 11.1336459827202, 12.157137161266911, 13.35361430554958, 14.71832475600216, 13.69368343400459, 13.99924843857703, 14.248986066415835, 13.23503660198636, 12.66434299000911, 12.50426452924122, 12.498353409631168, 11.19174476153149, 11.76324560569715, 12.38905213533701, 12.67843106889236, 14.00927375901662, 13.857937834861247, 13.77433887468257, 13.8427358773047, 13.697394260187224, 13.970529067786634, 13.942005553967727, 14.549216948648322, 14.43177555298705, 14.44062374394472, 13.943733928604544, 13.960460970231287, 15.697007269686255, 17.55275028575095, 18.770374371361417, 18.421853687438038, 20.509400413759888, 15.397397817568129, 11.197136666677007, 12.23058702890821, 11.814834520499266, 12.984597875196858, 12.737756210638716, 13.676478995775716, 13.94189690132606, 14.276287720956573, 13.845029961871877, 13.932543491059052, 12.295660556232374, 12.800496100256193, 13.33562669996461, 12.329645963731734, 12.01798250397972, 11.825161030775883, 11.421738727166776, 10.540860504216047, 10.51055993812399, 10.098931265626275, 11.39547874677082, 10.99572234732321, 10.957294339543301, 10.515451706239658, 10.606193607117202, 10.489054686552203, 11.242970957141127, 11.32509705331988, 11.701716015155743, 11.314787410063753, 11.022556335862294, 11.582501423627564, 12.152788273478947, 12.605917129706976, 14.319877369541702, 14.389725342721574, 12.803851809790078, 13.816630680711038, 11.771641757280554, 12.96633340222508, 12.883149607897323, 12.840037637363167, 12.547081780784822, 11.868408414551208, 10.968397852276404, 8.352592747838974, 10.22174781589873, 11.032160216870203, 10.940014108153814, 10.898636348546457, 10.920308055489057, 11.245805121088916, 12.191218707659688, 12.141222798878122, 11.988140188861896, 11.973720126245913, 11.577472667681942, 11.25990352208696, 11.230807046622242, 10.25082244872534, 10.73534634440297, 10.724216809737694, 10.718344718920152, 11.262754476834717, 11.154044310153234, 11.061377388887204, 11.012543081655863, 11.013811994175523, 11.339127441192723, 11.256812662022648, 11.14950758737516, 10.91304107690759, 10.906290588906247, 11.210877311518441, 11.49662475092663, 12.002877477501157, 12.09104280233147, 11.797585220569804, 11.662579543984544, 11.751897477880805, 11.684755437748173, 11.550025415616256, 11.33639873415642, 11.63011682103449, 12.117830861883727, 11.59605624659764, 11.84714198083278, 11.881729455789054, 11.912008011075965, 11.901478405174705, 12.522369283417852, 12.68454280449742, 12.369052139120052, 13.160168063025644, 14.308046581659253, 13.705179799911743, 13.233802742993412, 13.318993324210759, 12.859605765847848, 13.045598643367276, 12.818746399021148, 13.074726797493888, 13.313989439262565, 13.09665700624727, 13.194818155480155, 13.269827224677638, 13.197909934562759, 13.470600090767412, 13.261962214071206, 13.056650848974803, 12.826128461125474, 12.655679278508105, 12.175874962913426, 12.029519227976937, 11.837832089591664, 11.750267273762638, 11.854687660404304, 11.96064220847878, 11.916089474549377, 11.944605165006873, 11.930313388885365, 11.974984398539725, 12.509511262679014, 11.973806158360992, 12.016522079125743, 12.090575972840435, 12.045038278304451, 11.933800410433603, 11.890535450541087, 11.272711525960538, 11.497257370206905, 11.456673402613983, 11.523584376027783, 10.336819684434698, 11.186557158904845, 10.88070260049341, 10.792187379279612, 10.783585401157607, 10.811630097854405, 11.129995658864795, 11.066058259923683, 10.920762843886132, 10.874200829423744, 10.890105501340495, 10.664918162834825, 10.519281388267027, 10.29308735231344, 9.664325241310054, 10.110719459728225, 9.991652804266907, 10.200083856801202, 10.025367620097992, 9.96397798540216, 9.453697368045109, 9.66730580728121, 9.530496491166998, 9.575907932522316, 9.81249150160966, 9.753493133033384, 9.180997416192705, 9.335116893823114, 9.288306186526965, 8.907402683417718, 8.70845246717361, 8.158494315710797, 8.650154047457612, 8.439785438702646, 7.637917965068979, 7.892622837022096, 7.469132189830329, 6.815609222087059, 7.631916157246792, 8.13507798254848, 8.302596338463099, 8.504900484563588, 8.098585501342257, 8.214985823104497, 8.472511708508414, 8.35100726243699, 8.207853104398847, 7.770357969755126, 7.796626831717168, 7.820282701062171, 7.856185612715422, 7.5922361645492975, 7.623783721340898, 7.856099400557245, 7.575643744053494, 7.201805732308588, 7.2227628476531995, 7.2132341590915585, 7.268475378158216, 7.171806594177698, 7.613307736356936, 8.172329056763505, 8.15378652716307, 8.010852235417396, 8.064789989459687, 8.361286160728705, 9.626792384988086, 10.972252853086058, 10.115254241883068, 10.154658304812745, 9.824278869463066, 10.267836701334787, 10.285955970375603, 10.523650713762722, 9.661693873756436, 9.66715894243992, 9.650805118856487, 9.695262751794939, 9.785923385543578, 9.5212839167112, 10.258458296131915, 10.125537740945934, 10.385306173596472, 10.549960559535752, 10.872633993948424, 10.745356049118469, 10.751024402450716, 10.399087248402381, 10.471671231503688, 10.555255877288236, 10.509979092454431, 10.554962953815345, 10.430442595335876, 10.570411298387052, 10.677298023363218, 10.700989418222473, 10.81046108694813, 10.937685579154774, 11.33331586102519, 11.242238837962214, 11.294016130984236, 11.433167440255266, 11.335153011135779, 10.914963949831499, 11.275640644361795, 11.399125371500645, 11.354164564644952, 11.281947015245585, 12.972145045966517, 12.934716009243267, 12.835968798993127, 12.7034838481457, 12.816285332013342, 12.775445603327524, 12.750223774537398, 12.73614094049859, 12.600296405431427, 13.15516545737877, 13.071871231178674, 13.546938608109645, 14.547676188997867, 15.358690360839047, 15.702781231900772, 17.168029711638418, 18.993581792674195, 19.58574948053123, 18.63867345258356, 19.247364659986754, 19.670705614004156, 18.82733332066123, 16.7497435780077, 17.632128818481693, 19.26359042821057, 21.396413225585537, 23.09884795827443, 28.4460651994335, 28.53666459127697, 34.19736420741617, 39.86185607085268, 44.06729598863206, 32.26798526618718, 44.08879749579081, 41.86369288259116, 42.47845801399063, 41.262612537182946, 43.274929979555615, 50.894791438930966, 50.678966487888445, 50.049454214237386, 49.017113803037155, 50.259542864330534, 52.84379426461343, 52.313175209019796, 49.9646672803426, 50.42578760723248, 48.37846727683558, 43.57923995912754, 41.79779504583054, 45.590295052351756, 42.978525212227865, 42.40137665621101, 44.501284387189116, 44.1907610730727, 43.90534128958704, 43.85889483882994, 46.197883489516954, 49.7503375730287, 47.56205172159332, 49.122793411699824, 48.70871927867354, 48.34641781155764, 50.759170818800456, 48.1594963219902, 50.065253649182445, 48.80173571247641, 49.0798706465032, 50.60871348408776, 51.09741863901202, 50.97375547481341, 54.87817856677162, 63.95735376256868, 73.0109629151518, 70.45153824766224, 79.8025539393512, 76.84617780144701, 77.34604386935915, 80.9294915785314, 94.11226519917764, 91.16038713753753, 96.42767965195394, 89.73967947914684, 87.94812005196805, 87.50244390780135, 88.41058886851773, 88.45664874349296, 88.18109149325619, 89.13893167771396, 90.05504056395782, 90.50413159922428, 87.09148558444505, 88.21316751381906, 96.62584622982801, 122.16278299258484, 123.02820305804211, 148.65732047983943, 153.99006380727735, 171.08002832171815, 190.42581317146121, 176.81781507886726, 162.94448638549966, 159.05524764233746, 172.3406699356334, 196.0785933386944, 230.79837139121355, 231.37212671271118, 221.82807122254022, 224.31670548594502, 225.39759443485244, 247.4275410848339, 248.93012523209245, 266.13970806704395, 256.21892337063565, 260.3415097477362, 280.333547997722, 337.7921754587072, 341.0796489185503, 398.4307850845948, 389.9448221775502, 347.78135772227546, 346.36906994261665, 358.2845168676378, 372.3570110185702, 359.4387121135216, 362.0442891370599, 358.0532310647092, 327.8909356942679, 326.9598139741636, 331.9138051489657, 310.05462840596994, 288.04702626534885, 258.91946273454556, 280.8130146788337, 317.2936774724324, 300.18215256198584, 284.69108328848546, 262.47807335859795, 286.1336070099866, 278.5971953381099, 269.7366305781692, 265.9369454655199, 267.4697236476019, 241.4766205298395, 246.21497097327446, 238.75431849081662, 210.52819727984127, 194.33493649003975, 222.13885617231483, 206.41325042813503, 197.96945236247697, 171.77744094493255, 156.46899162898947, 188.3527773486568, 228.50328003667275, 199.59051553264698, 223.4613483872583, 217.08647395834424, 231.14352894295098, 226.7185992848529, 224.91340709342114, 206.81050478775018, 200.3285558009793, 203.18932178158303, 192.58568390577597, 205.51111919711502, 197.19896347978235, 203.28719634179097, 227.08056705038587, 219.05792926762416, 224.86795657659746, 221.67495953018923, 253.15566612330053, 263.2220861638244, 268.49662903477497, 295.14709831672786, 297.0696048197405, 296.7767240757822, 306.826433219032, 308.625531335255, 297.15980274719976, 296.3972895244633, 288.4507671723357, 300.0393294082391, 300.5703437604035, 296.114635373622, 296.6220895183796, 295.17157732771335, 322.2012201364436, 312.1744705574116, 316.7889202107443, 321.7852984049241, 329.0252809929819, 329.86578262442157, 343.34133712814116, 344.2011314209417, 366.809589912788, 378.90633073469184, 382.9344507545728, 386.3430570009356, 346.3987754868897, 349.92924044114534, 299.7173318855491, 318.9728041158723, 333.20632999273016, 329.4156625176296, 304.47510826802426, 299.6944444705654, 292.7796567856866, 296.4753988432914, 290.58653195906925, 277.33365793127047, 214.3117136334975, 246.9218572871298, 244.80561175288247, 249.66654597502836, 287.96109568877347, 280.4456323420793, 279.4176492108516, 257.465074465559, 263.46977368373445, 283.22215899335055, 280.68104473460187, 288.0857009417575, 283.9294530726591, 302.1518453516756, 294.3138380117381, 288.11459689868053, 297.2689355700251, 299.6748890236153, 295.8400297394862, 292.2107206992577, 293.0357027858311, 293.71934612048636, 307.7089805559562, 309.5982491240284, 307.05813687389934, 295.901045084102, 299.9170113647283, 303.2474665353709, 302.0199976805083, 337.9526134340301, 335.33824482981413, 335.3913549863649, 331.967214731027, 317.898212514702, 314.456554240651, 308.4746839282341, 302.35649692557024, 300.69384596228315, 295.4882479105146, 289.4140251237576, 298.75573430773346, 298.4839668215046, 295.7078546189935, 297.9291296930045, 296.4649529071602, 303.74113040048763, 306.2494615338919, 303.54211702851427, 292.33053872865435, 287.0696687458828, 305.8432726789198, 299.9549103522952, 297.5173231052644, 301.370794552855, 295.23511338265723, 308.9339866357258, 322.32952048358885, 301.3549333527746, 316.2583419604271, 314.1661277072687, 315.34395637188766, 338.937627406501, 334.286932546348, 330.021315646911, 333.351255037181, 348.74721545667, 353.43572964676, 365.786815977961, 361.055822571048, 379.409057274538, 412.557611501513, 475.002014978137, 467.446390045639, 468.998099373249, 484.362624150733, 474.182894748523, 428.345443336342, 454.160981519821, 469.863479570669, 469.857050536754, 461.880481908051, 472.252735495896, 467.016662982671, 448.328222164605, 451.825581860168, 467.881662612901, 482.035518858509, 446.691058078548, 509.000876237775, 661.841332287634, 709.883193572531, 704.621843737326, 693.09706413276, 702.244612799479, 728.700471211578, 798.115404033608, 829.989201766042, 813.403602277568, 812.885159103535, 669.276492289395, 715.719068265809, 686.208308919806, 733.902545910265, 774.110198124999, 764.967062014162, 736.840047017461, 755.343641318154, 736.909191519636, 774.696255457107, 776.080330355968, 876.890258814416, 963.0557506903511, 978.416104183522, 1004.8949722625625, 1052.02336010703, 1137.6549188901813, 1184.92393027798, 1361.4396682787146, 1345.5876017375906, 1181.6514100305303, 1315.6187580839762, 1448.1800861342022, 1410.0002145085193, 1329.6713965043375, 1068.6004106894156, 1022.3652131699663, 1036.072312788025, 1046.8985973958734, 1172.9172062239459, 1053.6332024800395, 1000.3871327788332, 991.665320638703, 1056.8792325682198, 1059.3154960264808, 1048.7989058434846, 1095.7825142892807, 1237.3241758467964, 1169.6342569193446, 1161.9086430994253, 1058.0960529662955, 1106.1381723552724, 1021.2693786534147, 914.6388425021536, 941.8032295185238, 834.8891703333355, 684.3133397266745, 785.7389155049871, 751.8878893661607, 807.8227505154956, 871.3268829432668, 854.3498784217315, 817.2905243571003, 862.7487725902944, 833.7791837295838, 915.0765430188819, 928.2935214045194, 934.6767104527537, 964.2765079107337, 915.0920469360246, 928.2902425457683, 902.9690554385094, 809.1296597083212, 812.4468626177468, 864.6697536212578, 828.7233989886703, 842.6280247519165, 863.6502752378826, 869.2632438249697, 846.3652117960792, 855.6787797305122, 850.4429895810156, 844.2552535175925, 843.7565763098702, 840.1509954642488, 808.4491332246333, 752.5931712474129, 699.1898984866136, 710.8916532666208, 684.934340074043, 713.1953300017516, 695.3142030222126, 684.6415843660401, 608.3931488499501, 612.4435397197692, 607.879487479319, 560.1094330840288, 538.6905900543026, 555.0775482373977, 554.2098259834895, 561.1465342247278, 537.7059724380829, 538.109029163154, 519.4855998398031, 519.3780445915389, 487.5396120553992, 449.05225249207564, 443.9491009578748, 385.32709566886405, 395.32626329061816, 395.79638095782116, 379.1235134110076, 384.8259822881638, 415.7162339703384, 380.28195959120734, 384.46448544618835, 369.9138976693199, 383.44636088273523, 396.98175550697044, 398.77335502107474, 412.6893456266917, 427.3849460078481, 488.60548934434905, 488.99218126708564, 495.11291363236046, 525.5274445398754, 507.11031309582995, 498.46700764950907, 517.3740431959737, 566.3920838512778, 590.27192246768, 600.2596767733208, 617.2024078855728, 636.3671638965957, 705.0276448443027, 613.7267252906634, 657.0577934851548, 641.9936056225328, 672.5969368274542, 680.1204953886593, 662.732735837356, 665.2257861413076, 676.5525639388837, 781.4257804747286, 777.9076470179848, 807.0673291637275, 785.89274351052, 748.8131413938073, 744.3248257193555, 743.6398157399032, 717.4128743633592, 675.2917525022057, 683.1702676131072, 726.8719105255797, 727.8026816427881, 703.1556814584169, 702.4531187046043, 665.6275313370153, 686.2132687257347, 685.8467539789947, 703.8146666492306, 688.9132212295281, 641.1003511423173, 581.2411880572671, 597.848771866914, 582.2793862832264, 580.4834597869499, 565.9260648024518, 511.61588041076885, 561.7406614509548, 555.3491509790109, 571.7271134994469, 573.8335504842785, 583.1316392150303, 609.2946747342367, 586.5759760467295, 600.6782790386933, 598.2160984640701, 595.1261406729993, 590.4981451663734, 581.1212496803587, 522.9980386707371, 529.1308297528115, 495.0763558611063, 474.85911303649493, 516.6441703707438, 485.4328365159148, 493.0678580653148, 491.40027597923427, 512.4288524669856, 532.0039133610575, 529.7630465685196, 520.6671645141439, 463.94082865220423, 472.9772647615346, 455.71843063066746, 458.9258012406738, 430.60178441047594, 437.8765374730084, 420.86212416397933, 432.50722049091496, 449.43004507185094, 447.6805505735615, 472.31165843777023, 459.6987235407423, 463.22220830490755, 466.87948010075564, 467.5901144927255, 481.523823511904, 483.8040307751051, 469.7022293732207, 431.76445446277353, 443.0254304264658, 427.79224436391297, 431.266939712935, 431.78456841825795, 446.60952086822346, 478.20850696097756, 497.1775460849197, 475.9901579076109, 464.78994267592014, 447.2032909319223, 458.0790283587359, 455.5332019326154, 447.92137912561867, 477.2092716797165, 468.73749232171497, 460.8693339260698, 467.9579265520383, 465.8991552657435, 466.41922911559277, 458.080921209812, 432.3501179219696, 417.27540676628155, 410.9251331069581, 417.35539322792266, 406.8839911959127, 409.16493540460897, 404.81719789129863, 377.75090114785144, 353.6461229266765, 363.6851798621928, 332.49243311549486, 317.3144774285816, 317.9561130787788, 284.9586646577589, 277.7460166184284, 281.1411931356025, 286.3202214369417, 314.79325272659554, 293.17699177790365, 299.4351225630472, 271.06155217805997, 280.3747171450871, 269.2483994291051, 275.80838507029057, 281.7346420014112, 277.96671056981506, 273.50341418810274, 286.9611037603499, 296.29612763685776, 288.5053605724647, 285.1028726269231, 282.22317870221497, 295.6461617616964, 294.5856884801363, 288.85282563770716, 285.4857566471215, 232.59576871683151, 229.37495804862965, 215.43223745188737, 196.8653868522827, 195.87733831990175, 196.3615326706261, 184.08223182704117, 182.94557625329006, 211.82672748652598, 211.3835617204549, 223.05308230390335, 220.1415794346937, 196.5766097002653, 210.15069647518163, 209.1425267776257, 224.38097767293752, 247.41001789452824, 241.8437317592413, 244.7847954629194, 228.34091150907454, 219.50434375691938, 214.9793802543281, 229.22195926025518, 222.229239761749, 231.73587329828854, 232.78138524562493, 231.1436846227436, 225.79485382934473, 220.47446029228064, 222.19584779064576, 228.03607024893918, 225.06880731767052, 225.65834864130284, 229.52461502629828, 227.9689077917784, 225.66201617746165, 192.0010841477226, 197.06801594741614, 201.05349968429928, 196.3186984116144, 212.2030694387269, 212.4442865474299, 211.08269302502703, 204.31304892929978, 203.97626253061992, 206.88209866230514, 206.30982679591034, 205.03775490876436, 204.08394558056767, 203.52219877380867, 202.35302275695466, 203.38496856526396, 203.18739632422128, 204.7223407022085, 195.7514045211852, 197.44844958499, 198.6390488336609, 199.1226070207313, 202.28275716666218, 200.13622776255878, 206.8144295995958, 209.10887661978714, 219.16088708430863, 219.0157747507676, 213.40763439234544, 210.79061959752252, 212.9658278769949, 212.4733247441558, 211.65690924875202, 208.58229647385883, 184.02255937246562, 182.448242594831, 176.02240566453227, 175.6674163561008, 177.72868960741215, 150.39116276572497, 131.476679735108, 137.1730431934016, 126.06638760845392, 124.15029635415753, 114.28793125942474, 117.52527750634898, 109.43098854688948, 110.43494358866081, 122.44642499081692, 117.70538590366436, 113.4028831522645, 118.10075903673732, 115.94428273243844, 108.67684762425776, 109.85191500097886, 102.51104175852288, 91.10115845588969, 92.96795017189604, 90.67825609691094, 93.53012682199429, 89.85371730794834, 87.85041070425926, 89.37790161622951, 85.95872706359158, 83.78596235654511, 83.8335821320138, 84.46584639727314, 94.07306838255042, 100.05002539321067, 99.49155365807758, 114.42918370038834, 107.85318110517642, 115.04582181530175, 129.20650341412852, 138.95781833191495, 127.63707252348217, 129.51137399263007, 114.1013635506553, 134.01993952035144, 138.75426661197633, 137.6316929791457, 131.45872465603802, 138.14480220535194, 152.86045271321305, 146.7305994341217, 153.0565669307744, 153.65187149457, 154.69930839905126, 149.89869762072908, 148.14786553107623, 148.7388798515161, 126.62475249770274, 124.6267970725248, 123.75936261029351, 114.76604584662175, 127.40527329081972, 119.81437324652917, 122.24553850486993, 121.92726666997898, 119.1707391686563, 122.92817578942176, 117.6078729013454, 115.82686433322588, 117.81718880676009, 116.41601969858114, 116.24543567436463, 115.14990605895021, 115.33716687142687, 112.51348924314217, 105.35239189764611, 104.59784628074063, 108.27309466982854, 106.33599581366398, 107.00955827242754, 108.77817692653159, 107.19999697185268, 107.61824539435413, 107.31703853339418, 104.62362623241391, 104.26536439234141, 119.33360463375858, 119.48955517293045, 124.88963479029995, 120.97026174727318, 122.54208894762355, 122.09412965721424, 120.59217399552682, 121.57227847601175, 122.93860835926709, 133.88146961685993, 145.32602670603126, 143.65523417640586, 148.8684346762975, 145.2958232437471, 148.04165031619752, 157.67559560191677, 134.31602869596247, 137.8218665264574, 135.99783785109707, 134.84981713392082, 135.4906837644075, 134.95470877409352, 132.40742658761687, 130.5403477406027, 125.6240824924571, 136.5502476885833, 137.32665152792868, 136.78614228385894, 133.5416931933968, 137.1960003042231, 135.62080210154824, 132.38753404384025, 133.28742563523164, 131.6683444532404, 132.14623792639355, 136.4478648131974, 141.08804416286097, 138.55063028189403, 137.65794893090973, 138.5225166550466, 139.0759731796369, 135.05601072736965, 136.0995360201361, 137.19806866408575, 136.05748300079634, 133.8175199792062, 134.02990438257248, 139.63660664431762, 137.81198852309657, 143.14644309796884, 142.28965262894044, 141.586389044902, 141.51455520152766, 164.05054289558294, 160.43283831978377, 157.41222580794496, 165.1385234713877, 165.32515186458005, 174.09052297795662, 180.01192355336678, 175.2941224274854, 177.3253178087243, 165.03710682659573, 164.57194837218958, 163.97160033492332, 167.61800117879454, 160.53249078494966, 166.4845378681717, 166.3272646030099, 173.41362781077277, 173.2282621688014, 173.16628767058037, 169.98788930945395, 171.0434707895899, 170.91296418483168, 165.66966005027155, 153.9304406219976, 157.3757012457437, 158.28919434200932, 156.5951891487867, 154.08028243009934, 160.74469184721738, 159.48931440238658, 160.95718796104512, 166.63211526803485, 162.83631690744346, 162.37013497277283, 172.8283284518378, 170.09589748059332, 170.11063311538186, 170.57549417946805, 172.68209089135948, 196.6901677286205, 187.2720183708742, 196.0761130134244, 218.28460968764938, 248.74500426984366, 264.90012138907406, 243.57049917993308, 235.32720134101993, 260.59698403060327, 251.9614994995826, 256.0830401834705, 244.54946301361036, 244.6460957973966, 248.54526290535333, 250.82036469745617, 266.12218207843597, 273.40508817754096, 271.227867157993, 268.7857564563058, 255.37736314606394, 268.12603920482644, 264.72732428744166, 269.9388294795906, 251.75257532903564, 240.23943365820054, 246.82656909017393, 249.9679117723965, 250.63689323005363, 244.62980571926562, 232.04158416760484, 247.25227622797598, 245.08937853941526, 260.5666340627198, 255.1204266417473, 263.92853843827874, 268.1121928964469, 269.0716935274996, 273.12368845247914, 264.78793107969506, 269.1527997781388, 272.334690986303, 294.47562296593696, 310.65499867231955, 307.9472102635873, 311.06822902414945, 318.635944657736, 337.3409578098138, 295.8416528876357, 309.949031472406, 321.43279903776084, 292.83887601724456, 295.2558980709613, 290.9596721071729, 304.1705424011823, 285.2194708797813, 287.98591058443674, 289.57713834106636, 305.33625290070216, 312.4663688290414, 307.7796837520068, 290.009967157574, 268.6352130477999, 275.80920843487644, 270.314761247692, 227.12207268042678, 230.18019411198864, 199.94052185387875, 210.83853712737297, 226.3035342868679, 221.11374095039795, 228.96480408491627, 226.15340772656594, 217.65256165832335, 213.5021516080946, 217.19777774847861, 219.48779097276912, 219.58243262777626, 206.531772895918, 211.229753661743, 210.82351650905207, 209.64626074112806, 218.61308553620958, 216.630420657716, 217.79546207706508, 221.41611875255478, 221.98815294300547, 232.82368350463972, 227.02071107575, 226.4011931773696, 221.99588620712112, 210.15361895773407, 206.50462546838185, 216.4855805517722, 211.11314126304725, 209.26573714761406, 185.65530058955875, 188.15278116773473, 185.15324355177958, 185.76004109383433, 194.35736761658467, 202.95975075968417, 196.27274728566928, 187.01618910896025, 191.52119596772542, 194.2093873568753, 190.55575089343063, 186.32236897942659, 188.37725745413954, 186.97068487781738, 173.02703573027782, 168.79916502828434, 168.6708883739598, 172.07296929356409, 170.72754514461607, 177.71647895327314, 178.82647784328285, 174.77627554812665, 174.1938100520476, 169.42286694793444, 177.85258889110943, 181.4839320522675, 181.01465623196765, 180.1493915298145, 178.08294980618456, 181.010836085851, 181.2119450035023, 188.30568158376607, 189.25504633546134, 197.60691638393752, 209.21116304181604, 210.24907372866744, 221.74292599489385, 217.95344382394939, 215.34523960456264, 211.61753840452246, 201.00337752581868, 168.67357964603033, 170.28886769224317, 166.21680322909975, 173.90494900595044, 174.07970541243265, 169.6894747522977, 179.75716197925505, 180.63244082835516, 180.57893058773016, 176.85852555342686, 175.86315365350248, 176.2772565733896, 170.44710628243018, 180.14424760253544, 180.78979326727546, 193.33993781390976, 191.04108656991255, 180.55244905183102, 179.94653567610214, 181.2872472944888, 186.61606753146776, 180.74563079187547, 175.05406935469742, 177.4769186344818, 172.88626058117322, 171.85241043187662, 175.21210857661558, 174.35449608806442, 171.4265472158501, 161.5840435929357, 160.67839136074096, 181.45319156222183, 179.53527008259897, 183.58089983827585, 181.86179987269554, 190.50596091786502, 183.13375148673262, 182.75570124695298, 183.064191451962, 183.21568174708486, 181.8244399622803, 185.76433086001398, 189.16575518025138, 191.3004004540056, 186.81653195658674, 183.6736227613274, 184.95814543107952, 189.04498222352015, 184.839873654298, 186.8659398462863, 187.84288849379362, 184.78830689468228, 180.16871140792335, 182.63065416042576, 183.9879638750186, 178.3855993731378, 175.8204845763924, 174.80445727797053, 161.15147727923085, 149.92569206419535, 151.96608493452732, 140.24681084120735, 146.34618694453036, 147.57506848968612, 152.615068348219, 150.91034572010813, 154.25530586508248, 151.73585404476006, 151.02315688624967, 148.86726798663648, 147.12795176955626, 145.40170953026762, 147.79749210977155, 148.60569815279229, 147.1457864691915, 150.2924488050236, 147.42926132729735, 145.56867918491014, 143.12297867633916, 145.02592545573296, 144.6187808332106, 141.84486515951662, 142.21086918955265, 132.72274321129302, 121.770107290006, 132.74136111736684, 128.0791538700726, 128.2701941791178, 126.93287325611249, 132.17746965077103, 128.16997170630987, 127.72559890360142, 125.01870585042732, 125.61458431453704, 126.32718018933488, 128.0669874384903, 134.3236471998861, 131.4621363838881, 129.18638529253852, 130.4846850311141, 127.04525801179804, 133.70264861844188, 134.1368826978575, 135.00571364233375, 143.80639795566535, 143.019432264986, 140.27393527388705, 137.86055928182662, 144.6047743464792, 142.18233327497873, 145.42287633530452, 143.58796905036286, 165.99143854583525, 166.2530969048888, 163.80590111423027, 171.15621787671842, 174.23837318258896, 166.6271059505621, 166.93852805776982, 169.27993585839258, 167.8265296405669, 162.51937110634034, 162.40947975163584, 160.6736108617405, 167.6474095857562, 169.7364357354222, 175.19000305345378, 173.70688823620796, 184.72621843141044, 179.22910385240368, 183.33693755210257, 188.55064179431113, 189.86176346298166, 188.84220736948276, 203.8593183747095, 212.73341421352782, 223.27631974791998, 223.30077697426225, 228.29226083217347, 224.14699652028605, 236.78534852972567, 264.03276824299627, 267.6704445042514, 284.2318914741183, 263.8999463915962, 262.1562443168135, 267.9356656159883, 281.9457403055278, 259.1838037480287, 257.9883953048601, 265.1644591338591, 260.99654013152536, 274.6312157785517, 265.2421912203732, 248.31738139395102, 224.81050829744677, 225.42971511683754, 227.70528448376498, 218.34835692985286, 218.93979697447656, 231.67944604592213, 223.96011601810258, 224.13487737180202, 228.0809351016884, 244.23846951978683, 237.38079020191347, 198.81964228768578, 200.84687148188746, 200.74903854851766, 194.21794124025206, 110.5978978308351, 132.57285770180832, 123.030844108903, 124.60342553062202, 110.99159845334059, 117.21704138518466, 117.7004246469663, 136.81187578973578, 131.96469397290025, 131.94321845316688, 122.5205987665882, 135.58865798037067, 138.77657127268222, 136.23392142176775, 138.76693759902926, 130.2865618875773, 131.42405214081145, 125.31887451568916, 132.36373895414985, 133.2364468438201, 136.21638557312852, 141.4537053523866, 141.26154326644877, 144.200802681986, 142.8508834648482, 169.85504979336824, 164.5160197107307, 172.80356826747519, 170.09510352387568, 157.74015800780134, 158.32787794181905, 158.8638257195104, 156.70135879140688, 158.26715118298955, 153.2228636800284, 171.7759907508837, 170.445890477055, 187.14354411560592, 180.05859654051866, 170.70405868653958, 170.45154288047368, 182.2767576620704, 184.59370248021838, 187.34336861419638, 194.11423682570447, 197.22990444623989, 196.46262535084685, 197.15473156634306, 215.54817266567386, 205.55600541063674, 211.96829534904975, 213.94301121407548, 210.02470947464775, 206.8325342346069, 205.22517973985205, 200.25479450009442, 212.29247620086525, 211.68904835113835, 210.4318181376063, 188.13722615896586, 185.67471809740294, 189.30578181851274, 199.36937254304945, 203.21124699378416, 194.27309778153102, 200.58339090310048, 206.76889403683904, 214.35764164526782, 213.68672021176667, 209.9207882888633, 198.9175157507187, 206.22772963994552, 206.4112069583191, 200.69072858230618, 203.81011834234977, 200.96361540675866, 207.84589389085414, 219.59156405880168, 220.49116734603788, 242.70977026782677, 232.33100303896677, 248.04456658448655, 237.26532012867918, 244.1253366100756, 243.70782131595863, 240.24696898765103, 242.02164036721499, 244.22674439497985, 246.21278326044262, 243.8495266518988, 247.5419715295243, 232.00078536182022, 237.59341087744238, 238.29362910089247, 232.11252047744935, 231.0170115525279, 235.28847948297147, 233.8636184621818, 231.68485732135008, 228.9592128032193, 228.8691487972198, 227.79190590968685, 243.36470999245498, 243.07948223903702, 234.5649846444734, 232.64870349961575, 229.6365260272679, 221.0260852973422, 225.12294616525017, 228.20576377381224, 225.59281496891896, 230.66194359094902, 226.57442434030435, 225.1764054804081, 229.09471646218861, 227.8993750381917, 241.52685187431663, 238.96448054067793, 246.85900786802029, 241.97512857897888, 240.95495378293265, 239.10202554671358, 241.7715226007061, 239.63878681174097, 240.25147066847245, 238.66359720631723, 233.837074562722, 232.78147743826054, 235.6811447764246, 238.89523167867932, 236.06009844538684, 245.23373502634252, 263.7624639660021, 274.7236202591814, 279.42705624758224, 305.0381394111965, 310.51799095173624, 320.47619130968184, 316.4067660520556, 317.5390729161191, 334.7419220365616, 346.00350607288686, 387.94242117124685, 370.7323024312388, 386.24744771780877, 389.3830083498991, 400.18436250317995, 394.5417454611831, 379.1351558498163, 391.47843864211467, 389.62293111291143, 395.20991365718925, 379.17476395275435, 387.50053082397886, 427.49026536796873, 438.7625874702974, 432.6546652389318, 433.43186093211244, 430.03250508972275, 422.10665286599425, 406.5744691821068, 416.46977582279794, 386.8238914189483, 395.88501828908585, 390.7891350477376, 408.2691456317229, 383.66214311829924, 385.75249987492117, 381.8376513210842, 395.1382132386204, 399.374543834064, 428.2956791635218, 435.6930232991007, 475.6846642626859, 439.35376021531494, 383.6915311779978, 387.9040290939166, 334.46859301354317, 352.99300214607035, 351.8778602923998, 337.84505193506857, 351.2322670832359, 367.63892881000675, 373.9149059897517, 387.72351629002264, 365.695506306262, 376.394561113407, 364.6900450860686, 365.13055081164816, 388.7974562319938, 383.17286599152135, 385.4721234936851, 370.9678951624775, 341.27713087183076, 343.9175471009491, 321.0774351739628, 348.8210199785493, 351.3315670221176, 354.2615819143104, 357.0664364067552, 354.4295835375506, 359.4260895383702, 359.59898475085777, 353.1978481381707, 345.9125682279143, 345.99246319342933, 352.4588065039611, 353.6044273109067, 340.6160218128092, 341.4437964782809, 350.0556765681245, 365.33944481939363, 370.4718109734285, 374.4970150925736, 387.25555835657167, 381.16877389892255, 379.21025376092774, 377.15868107868175, 365.9906423831468, 368.6504703636898, 378.0493653237596, 379.6394773321801, 368.2270142350454, 391.16674217757225, 413.2018903361906, 408.88948864371923, 411.95921775305027, 406.157094148215, 393.38290839224464, 403.529837833562, 388.87733988207765, 386.4460129872924, 382.9007710380906, 385.8445887975079, 394.9363420491719, 383.8498034220404, 387.616373722075, 401.7330968324722, 415.9277704309719, 454.6515430984697, 435.4183540833094, 455.3583669721691, 445.0512933420698, 449.8161845012962, 463.18087172032307, 462.2056195794902, 475.9690936576015, 462.7183970607933, 449.2068016397434, 461.3711967052673, 482.1983847235396, 479.43766136247405, 471.31795839441156, 508.79221458524455, 548.842116249849, 560.5088874583059, 608.2733109189421, 602.6662623938871, 568.2751530404493, 518.4670452162002, 517.5530264056014, 537.3926120944484, 574.7511196548439, 612.2637856122055, 589.5818443540976, 598.760610095824, 616.506661565682, 571.1904316349736, 595.9194139680376, 601.9689349244918, 592.3865066820175, 554.329674302381, 573.8953091099941, 560.4542654076048, 545.9828352633687, 568.3587534073821, 590.3244403029342, 585.5418949360015, 589.0668316450424, 635.9618893796135, 644.0652701929779, 654.4204162965752, 659.3188076372094, 639.5154368778184, 610.4270278980672, 634.9797234431858, 587.9588954992439, 612.8796570505974, 626.4567387784558, 636.7423171944997, 689.6598573269875, 732.9570292975275, 735.5908981625738, 752.8559324490188, 738.6169381520413, 730.1473402196374, 777.6960653039432, 967.0005967288458, 1025.6547675669035, 1103.3582516225742, 1208.5750928728885, 1229.4713150147782, 1223.7296883535275, 1282.979575527323, 1267.7310031512136, 1092.9143378806064, 1045.406815230412, 1132.0155910164729, 1216.9147884634556, 1171.8600177046465, 1234.6318700828049, 1229.379698072007, 1255.976691513213, 1383.4840902277115, 1385.8529958752583, 1122.912432537305, 1236.6834427536564, 1231.176379704471, 1392.5397634449737, 1323.4295031020106, 1355.233724240999, 1253.141671558609, 1328.773619066556, 1380.2842591352105, 1372.427228964234, 1317.0474362291777, 1368.6644548123775, 1514.2251957516528, 1661.000824367477, 1587.8008991859367, 1724.8569083393102, 1683.941297865053, 1608.6405479857196, 1750.997553719215, 1769.053533934599, 1739.164209004836, 1782.5088691218523, 1841.1977507032907, 1810.8425457323726, 1804.9841464366498, 1775.758351701864, 1782.5753090505934, 1845.5739221567521, 1938.5694368074617, 1969.9797177628186, 1929.367692879665, 1941.4267676797988, 1788.6152102806425, 1563.9246059011416, 1628.391533792655, 1468.8601037286776, 1450.988746804119, 1480.1295768477528, 1416.661552837565, 1570.3996896340539, 1497.0891042633873, 1579.4271687603093, 1546.4996211167372, 1539.0484290947375, 1661.9279698998157, 1727.463096224567, 1837.5330305439452, 1869.3311016255, 1802.3110916881178, 1826.0574768119818, 1770.9361793697751, 1927.7207203999014, 1866.0715447008808, 1791.047851830107, 1808.5512173614395, 1828.7548332342565, 1780.1596459528505, 1817.1329628084297, 1817.8601431294944, 1790.3780747526928, 1686.8911971580417, 1673.8591835627929, 1581.631055931366, 1587.2979641585232, 1700.3668693581185, 1713.8378756834459, 1689.0367982059097, 1817.626388088868, 1840.294951985396, 1915.8325358462234, 1970.4711995232753, 2134.101788297294, 2016.6672472930366, 2077.755212422407, 2097.7963827792596, 2115.0554517461082, 1989.1480619041722, 2081.3540625398964, 2069.6677960855295, 2142.7960653929085, 2150.2651427927744, 2142.476275865736, 2304.3435163110134, 2429.6615277515734, 2514.1684155812304], \"yaxis\": \"y\"}],\n",
              "                        {\"legend\": {\"tracegroupgap\": 0}, \"template\": {\"data\": {\"bar\": [{\"error_x\": {\"color\": \"#2a3f5f\"}, \"error_y\": {\"color\": \"#2a3f5f\"}, \"marker\": {\"line\": {\"color\": \"#E5ECF6\", \"width\": 0.5}}, \"type\": \"bar\"}], \"barpolar\": [{\"marker\": {\"line\": {\"color\": \"#E5ECF6\", \"width\": 0.5}}, \"type\": \"barpolar\"}], \"carpet\": [{\"aaxis\": {\"endlinecolor\": \"#2a3f5f\", \"gridcolor\": \"white\", \"linecolor\": \"white\", \"minorgridcolor\": \"white\", \"startlinecolor\": \"#2a3f5f\"}, \"baxis\": {\"endlinecolor\": \"#2a3f5f\", \"gridcolor\": \"white\", \"linecolor\": \"white\", \"minorgridcolor\": \"white\", \"startlinecolor\": \"#2a3f5f\"}, \"type\": \"carpet\"}], \"choropleth\": [{\"colorbar\": {\"outlinewidth\": 0, \"ticks\": \"\"}, \"type\": \"choropleth\"}], \"contour\": [{\"colorbar\": {\"outlinewidth\": 0, \"ticks\": \"\"}, \"colorscale\": [[0.0, \"#0d0887\"], [0.1111111111111111, \"#46039f\"], [0.2222222222222222, \"#7201a8\"], [0.3333333333333333, \"#9c179e\"], [0.4444444444444444, \"#bd3786\"], [0.5555555555555556, \"#d8576b\"], [0.6666666666666666, \"#ed7953\"], [0.7777777777777778, \"#fb9f3a\"], [0.8888888888888888, \"#fdca26\"], [1.0, \"#f0f921\"]], \"type\": \"contour\"}], \"contourcarpet\": [{\"colorbar\": {\"outlinewidth\": 0, \"ticks\": \"\"}, \"type\": \"contourcarpet\"}], \"heatmap\": [{\"colorbar\": {\"outlinewidth\": 0, \"ticks\": \"\"}, \"colorscale\": [[0.0, \"#0d0887\"], [0.1111111111111111, \"#46039f\"], [0.2222222222222222, \"#7201a8\"], [0.3333333333333333, \"#9c179e\"], [0.4444444444444444, \"#bd3786\"], [0.5555555555555556, \"#d8576b\"], [0.6666666666666666, \"#ed7953\"], [0.7777777777777778, \"#fb9f3a\"], [0.8888888888888888, \"#fdca26\"], [1.0, \"#f0f921\"]], \"type\": \"heatmap\"}], \"heatmapgl\": [{\"colorbar\": {\"outlinewidth\": 0, \"ticks\": \"\"}, \"colorscale\": [[0.0, \"#0d0887\"], [0.1111111111111111, \"#46039f\"], [0.2222222222222222, \"#7201a8\"], [0.3333333333333333, \"#9c179e\"], [0.4444444444444444, \"#bd3786\"], [0.5555555555555556, \"#d8576b\"], [0.6666666666666666, \"#ed7953\"], [0.7777777777777778, \"#fb9f3a\"], [0.8888888888888888, \"#fdca26\"], [1.0, \"#f0f921\"]], \"type\": \"heatmapgl\"}], \"histogram\": [{\"marker\": {\"colorbar\": {\"outlinewidth\": 0, \"ticks\": \"\"}}, \"type\": \"histogram\"}], \"histogram2d\": [{\"colorbar\": {\"outlinewidth\": 0, \"ticks\": \"\"}, \"colorscale\": [[0.0, \"#0d0887\"], [0.1111111111111111, \"#46039f\"], [0.2222222222222222, \"#7201a8\"], [0.3333333333333333, \"#9c179e\"], [0.4444444444444444, \"#bd3786\"], [0.5555555555555556, \"#d8576b\"], [0.6666666666666666, \"#ed7953\"], [0.7777777777777778, \"#fb9f3a\"], [0.8888888888888888, \"#fdca26\"], [1.0, \"#f0f921\"]], \"type\": \"histogram2d\"}], \"histogram2dcontour\": [{\"colorbar\": {\"outlinewidth\": 0, \"ticks\": \"\"}, \"colorscale\": [[0.0, \"#0d0887\"], [0.1111111111111111, \"#46039f\"], [0.2222222222222222, \"#7201a8\"], [0.3333333333333333, \"#9c179e\"], [0.4444444444444444, \"#bd3786\"], [0.5555555555555556, \"#d8576b\"], [0.6666666666666666, \"#ed7953\"], [0.7777777777777778, \"#fb9f3a\"], [0.8888888888888888, \"#fdca26\"], [1.0, \"#f0f921\"]], \"type\": \"histogram2dcontour\"}], \"mesh3d\": [{\"colorbar\": {\"outlinewidth\": 0, \"ticks\": \"\"}, \"type\": \"mesh3d\"}], \"parcoords\": [{\"line\": {\"colorbar\": {\"outlinewidth\": 0, \"ticks\": \"\"}}, \"type\": \"parcoords\"}], \"pie\": [{\"automargin\": true, \"type\": \"pie\"}], \"scatter\": [{\"marker\": {\"colorbar\": {\"outlinewidth\": 0, \"ticks\": \"\"}}, \"type\": \"scatter\"}], \"scatter3d\": [{\"line\": {\"colorbar\": {\"outlinewidth\": 0, \"ticks\": \"\"}}, \"marker\": {\"colorbar\": {\"outlinewidth\": 0, \"ticks\": \"\"}}, \"type\": \"scatter3d\"}], \"scattercarpet\": [{\"marker\": {\"colorbar\": {\"outlinewidth\": 0, \"ticks\": \"\"}}, \"type\": \"scattercarpet\"}], \"scattergeo\": [{\"marker\": {\"colorbar\": {\"outlinewidth\": 0, \"ticks\": \"\"}}, \"type\": \"scattergeo\"}], \"scattergl\": [{\"marker\": {\"colorbar\": {\"outlinewidth\": 0, \"ticks\": \"\"}}, \"type\": \"scattergl\"}], \"scattermapbox\": [{\"marker\": {\"colorbar\": {\"outlinewidth\": 0, \"ticks\": \"\"}}, \"type\": \"scattermapbox\"}], \"scatterpolar\": [{\"marker\": {\"colorbar\": {\"outlinewidth\": 0, \"ticks\": \"\"}}, \"type\": \"scatterpolar\"}], \"scatterpolargl\": [{\"marker\": {\"colorbar\": {\"outlinewidth\": 0, \"ticks\": \"\"}}, \"type\": \"scatterpolargl\"}], \"scatterternary\": [{\"marker\": {\"colorbar\": {\"outlinewidth\": 0, \"ticks\": \"\"}}, \"type\": \"scatterternary\"}], \"surface\": [{\"colorbar\": {\"outlinewidth\": 0, \"ticks\": \"\"}, \"colorscale\": [[0.0, \"#0d0887\"], [0.1111111111111111, \"#46039f\"], [0.2222222222222222, \"#7201a8\"], [0.3333333333333333, \"#9c179e\"], [0.4444444444444444, \"#bd3786\"], [0.5555555555555556, \"#d8576b\"], [0.6666666666666666, \"#ed7953\"], [0.7777777777777778, \"#fb9f3a\"], [0.8888888888888888, \"#fdca26\"], [1.0, \"#f0f921\"]], \"type\": \"surface\"}], \"table\": [{\"cells\": {\"fill\": {\"color\": \"#EBF0F8\"}, \"line\": {\"color\": \"white\"}}, \"header\": {\"fill\": {\"color\": \"#C8D4E3\"}, \"line\": {\"color\": \"white\"}}, \"type\": \"table\"}]}, \"layout\": {\"annotationdefaults\": {\"arrowcolor\": \"#2a3f5f\", \"arrowhead\": 0, \"arrowwidth\": 1}, \"coloraxis\": {\"colorbar\": {\"outlinewidth\": 0, \"ticks\": \"\"}}, \"colorscale\": {\"diverging\": [[0, \"#8e0152\"], [0.1, \"#c51b7d\"], [0.2, \"#de77ae\"], [0.3, \"#f1b6da\"], [0.4, \"#fde0ef\"], [0.5, \"#f7f7f7\"], [0.6, \"#e6f5d0\"], [0.7, \"#b8e186\"], [0.8, \"#7fbc41\"], [0.9, \"#4d9221\"], [1, \"#276419\"]], \"sequential\": [[0.0, \"#0d0887\"], [0.1111111111111111, \"#46039f\"], [0.2222222222222222, \"#7201a8\"], [0.3333333333333333, \"#9c179e\"], [0.4444444444444444, \"#bd3786\"], [0.5555555555555556, \"#d8576b\"], [0.6666666666666666, \"#ed7953\"], [0.7777777777777778, \"#fb9f3a\"], [0.8888888888888888, \"#fdca26\"], [1.0, \"#f0f921\"]], \"sequentialminus\": [[0.0, \"#0d0887\"], [0.1111111111111111, \"#46039f\"], [0.2222222222222222, \"#7201a8\"], [0.3333333333333333, \"#9c179e\"], [0.4444444444444444, \"#bd3786\"], [0.5555555555555556, \"#d8576b\"], [0.6666666666666666, \"#ed7953\"], [0.7777777777777778, \"#fb9f3a\"], [0.8888888888888888, \"#fdca26\"], [1.0, \"#f0f921\"]]}, \"colorway\": [\"#636efa\", \"#EF553B\", \"#00cc96\", \"#ab63fa\", \"#FFA15A\", \"#19d3f3\", \"#FF6692\", \"#B6E880\", \"#FF97FF\", \"#FECB52\"], \"font\": {\"color\": \"#2a3f5f\"}, \"geo\": {\"bgcolor\": \"white\", \"lakecolor\": \"white\", \"landcolor\": \"#E5ECF6\", \"showlakes\": true, \"showland\": true, \"subunitcolor\": \"white\"}, \"hoverlabel\": {\"align\": \"left\"}, \"hovermode\": \"closest\", \"mapbox\": {\"style\": \"light\"}, \"paper_bgcolor\": \"white\", \"plot_bgcolor\": \"#E5ECF6\", \"polar\": {\"angularaxis\": {\"gridcolor\": \"white\", \"linecolor\": \"white\", \"ticks\": \"\"}, \"bgcolor\": \"#E5ECF6\", \"radialaxis\": {\"gridcolor\": \"white\", \"linecolor\": \"white\", \"ticks\": \"\"}}, \"scene\": {\"xaxis\": {\"backgroundcolor\": \"#E5ECF6\", \"gridcolor\": \"white\", \"gridwidth\": 2, \"linecolor\": \"white\", \"showbackground\": true, \"ticks\": \"\", \"zerolinecolor\": \"white\"}, \"yaxis\": {\"backgroundcolor\": \"#E5ECF6\", \"gridcolor\": \"white\", \"gridwidth\": 2, \"linecolor\": \"white\", \"showbackground\": true, \"ticks\": \"\", \"zerolinecolor\": \"white\"}, \"zaxis\": {\"backgroundcolor\": \"#E5ECF6\", \"gridcolor\": \"white\", \"gridwidth\": 2, \"linecolor\": \"white\", \"showbackground\": true, \"ticks\": \"\", \"zerolinecolor\": \"white\"}}, \"shapedefaults\": {\"line\": {\"color\": \"#2a3f5f\"}}, \"ternary\": {\"aaxis\": {\"gridcolor\": \"white\", \"linecolor\": \"white\", \"ticks\": \"\"}, \"baxis\": {\"gridcolor\": \"white\", \"linecolor\": \"white\", \"ticks\": \"\"}, \"bgcolor\": \"#E5ECF6\", \"caxis\": {\"gridcolor\": \"white\", \"linecolor\": \"white\", \"ticks\": \"\"}}, \"title\": {\"x\": 0.05}, \"xaxis\": {\"automargin\": true, \"gridcolor\": \"white\", \"linecolor\": \"white\", \"ticks\": \"\", \"title\": {\"standoff\": 15}, \"zerolinecolor\": \"white\", \"zerolinewidth\": 2}, \"yaxis\": {\"automargin\": true, \"gridcolor\": \"white\", \"linecolor\": \"white\", \"ticks\": \"\", \"title\": {\"standoff\": 15}, \"zerolinecolor\": \"white\", \"zerolinewidth\": 2}}}, \"title\": {\"text\": \"ethereum\"}, \"xaxis\": {\"anchor\": \"y\", \"domain\": [0.0, 1.0], \"title\": {\"text\": \"date\"}}, \"yaxis\": {\"anchor\": \"x\", \"domain\": [0.0, 1.0], \"title\": {\"text\": \"price\"}}},\n",
              "                        {\"responsive\": true}\n",
              "                    ).then(function(){\n",
              "                            \n",
              "var gd = document.getElementById('9f0f9ac0-79eb-428e-ba79-2a3f3ec004a1');\n",
              "var x = new MutationObserver(function (mutations, observer) {{\n",
              "        var display = window.getComputedStyle(gd).display;\n",
              "        if (!display || display === 'none') {{\n",
              "            console.log([gd, 'removed!']);\n",
              "            Plotly.purge(gd);\n",
              "            observer.disconnect();\n",
              "        }}\n",
              "}});\n",
              "\n",
              "// Listen for the removal of the full notebook cells\n",
              "var notebookContainer = gd.closest('#notebook-container');\n",
              "if (notebookContainer) {{\n",
              "    x.observe(notebookContainer, {childList: true});\n",
              "}}\n",
              "\n",
              "// Listen for the clearing of the current output cell\n",
              "var outputEl = gd.closest('.output');\n",
              "if (outputEl) {{\n",
              "    x.observe(outputEl, {childList: true});\n",
              "}}\n",
              "\n",
              "                        })\n",
              "                };\n",
              "                \n",
              "            </script>\n",
              "        </div>\n",
              "</body>\n",
              "</html>"
            ]
          },
          "metadata": {
            "tags": []
          }
        }
      ]
    },
    {
      "cell_type": "code",
      "metadata": {
        "id": "G-5yxgTKDiL_"
      },
      "source": [
        ""
      ],
      "execution_count": null,
      "outputs": []
    }
  ]
}