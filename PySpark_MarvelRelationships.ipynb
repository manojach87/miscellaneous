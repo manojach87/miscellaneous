{
  "nbformat": 4,
  "nbformat_minor": 0,
  "metadata": {
    "colab": {
      "name": "PySpark - MarvelRelationships.ipynb",
      "provenance": [],
      "authorship_tag": "ABX9TyMCwwro2wJVPmvzkIRXJtNd",
      "include_colab_link": true
    },
    "kernelspec": {
      "name": "python3",
      "display_name": "Python 3"
    },
    "language_info": {
      "name": "python"
    }
  },
  "cells": [
    {
      "cell_type": "markdown",
      "metadata": {
        "id": "view-in-github",
        "colab_type": "text"
      },
      "source": [
        "<a href=\"https://colab.research.google.com/github/manojach87/miscellaneous/blob/master/PySpark_MarvelRelationships.ipynb\" target=\"_parent\"><img src=\"https://colab.research.google.com/assets/colab-badge.svg\" alt=\"Open In Colab\"/></a>"
      ]
    },
    {
      "cell_type": "code",
      "metadata": {
        "colab": {
          "base_uri": "https://localhost:8080/"
        },
        "id": "qjxvW41bnNJO",
        "outputId": "d720108a-4c98-476e-a9a8-605c2d0564cd"
      },
      "source": [
        "!pip install pyspark"
      ],
      "execution_count": 1,
      "outputs": [
        {
          "output_type": "stream",
          "text": [
            "Collecting pyspark\n",
            "\u001b[?25l  Downloading https://files.pythonhosted.org/packages/45/b0/9d6860891ab14a39d4bddf80ba26ce51c2f9dc4805e5c6978ac0472c120a/pyspark-3.1.1.tar.gz (212.3MB)\n",
            "\u001b[K     |████████████████████████████████| 212.3MB 82kB/s \n",
            "\u001b[?25hCollecting py4j==0.10.9\n",
            "\u001b[?25l  Downloading https://files.pythonhosted.org/packages/9e/b6/6a4fb90cd235dc8e265a6a2067f2a2c99f0d91787f06aca4bcf7c23f3f80/py4j-0.10.9-py2.py3-none-any.whl (198kB)\n",
            "\u001b[K     |████████████████████████████████| 204kB 36.3MB/s \n",
            "\u001b[?25hBuilding wheels for collected packages: pyspark\n",
            "  Building wheel for pyspark (setup.py) ... \u001b[?25l\u001b[?25hdone\n",
            "  Created wheel for pyspark: filename=pyspark-3.1.1-py2.py3-none-any.whl size=212767604 sha256=e0fd3258fcd637c402d5f57b22d56a1758950b91144f6a5436aaef5f9d03f475\n",
            "  Stored in directory: /root/.cache/pip/wheels/0b/90/c0/01de724414ef122bd05f056541fb6a0ecf47c7ca655f8b3c0f\n",
            "Successfully built pyspark\n",
            "Installing collected packages: py4j, pyspark\n",
            "Successfully installed py4j-0.10.9 pyspark-3.1.1\n"
          ],
          "name": "stdout"
        }
      ]
    },
    {
      "cell_type": "code",
      "metadata": {
        "colab": {
          "base_uri": "https://localhost:8080/"
        },
        "id": "mEqXJSJDnR_0",
        "outputId": "f8a0e070-c8f7-4bf0-c75e-6c19fd04b198"
      },
      "source": [
        "!wget http://bioinfo.uib.es/~joemiro/marvel/vert1.txt"
      ],
      "execution_count": 2,
      "outputs": [
        {
          "output_type": "stream",
          "text": [
            "--2021-04-02 03:25:59--  http://bioinfo.uib.es/~joemiro/marvel/vert1.txt\n",
            "Resolving bioinfo.uib.es (bioinfo.uib.es)... 130.206.30.39\n",
            "Connecting to bioinfo.uib.es (bioinfo.uib.es)|130.206.30.39|:80... connected.\n",
            "HTTP request sent, awaiting response... 200 OK\n",
            "Length: 182824 (179K) [text/plain]\n",
            "Saving to: ‘vert1.txt’\n",
            "\n",
            "vert1.txt           100%[===================>] 178.54K  --.-KB/s    in 0.1s    \n",
            "\n",
            "2021-04-02 03:25:59 (1.40 MB/s) - ‘vert1.txt’ saved [182824/182824]\n",
            "\n"
          ],
          "name": "stdout"
        }
      ]
    },
    {
      "cell_type": "code",
      "metadata": {
        "colab": {
          "base_uri": "https://localhost:8080/"
        },
        "id": "WAJSxIkvnSDZ",
        "outputId": "4f39752e-7af0-4cce-80a8-259cdc014474"
      },
      "source": [
        "!wget http://bioinfo.uib.es/~joemiro/marvel/vert2.txt"
      ],
      "execution_count": 3,
      "outputs": [
        {
          "output_type": "stream",
          "text": [
            "--2021-04-02 03:25:59--  http://bioinfo.uib.es/~joemiro/marvel/vert2.txt\n",
            "Resolving bioinfo.uib.es (bioinfo.uib.es)... 130.206.30.39\n",
            "Connecting to bioinfo.uib.es (bioinfo.uib.es)|130.206.30.39|:80... connected.\n",
            "HTTP request sent, awaiting response... 200 OK\n",
            "Length: 276188 (270K) [text/plain]\n",
            "Saving to: ‘vert2.txt’\n",
            "\n",
            "vert2.txt           100%[===================>] 269.71K  1.76MB/s    in 0.2s    \n",
            "\n",
            "2021-04-02 03:26:00 (1.76 MB/s) - ‘vert2.txt’ saved [276188/276188]\n",
            "\n"
          ],
          "name": "stdout"
        }
      ]
    },
    {
      "cell_type": "code",
      "metadata": {
        "colab": {
          "base_uri": "https://localhost:8080/"
        },
        "id": "oOwVzy_SmzSs",
        "outputId": "7602c05e-f1bf-4212-d205-dc124a37b167"
      },
      "source": [
        "!wget http://bioinfo.uib.es/~joemiro/marvel/porgat.txt"
      ],
      "execution_count": 4,
      "outputs": [
        {
          "output_type": "stream",
          "text": [
            "--2021-04-02 03:26:00--  http://bioinfo.uib.es/~joemiro/marvel/porgat.txt\n",
            "Resolving bioinfo.uib.es (bioinfo.uib.es)... 130.206.30.39\n",
            "Connecting to bioinfo.uib.es (bioinfo.uib.es)|130.206.30.39|:80... connected.\n",
            "HTTP request sent, awaiting response... 200 OK\n",
            "Length: 924997 (903K) [text/plain]\n",
            "Saving to: ‘porgat.txt’\n",
            "\n",
            "porgat.txt          100%[===================>] 903.32K  3.34MB/s    in 0.3s    \n",
            "\n",
            "2021-04-02 03:26:00 (3.34 MB/s) - ‘porgat.txt’ saved [924997/924997]\n",
            "\n"
          ],
          "name": "stdout"
        }
      ]
    },
    {
      "cell_type": "code",
      "metadata": {
        "id": "HR-lFF_wnals"
      },
      "source": [
        "import pyspark as py"
      ],
      "execution_count": 5,
      "outputs": []
    },
    {
      "cell_type": "code",
      "metadata": {
        "id": "OsDUThAjnlYW"
      },
      "source": [
        "sc=py.SparkContext()"
      ],
      "execution_count": 6,
      "outputs": []
    },
    {
      "cell_type": "code",
      "metadata": {
        "id": "ItB9T5T-noLE"
      },
      "source": [
        "charactersPath=\"vert1.txt\"\n",
        "booksPath=\"vert2.txt\"\n",
        "edgesPath=\"porgat.txt\"\n",
        "\n",
        "characters=sc.textFile(charactersPath)\n",
        "books=sc.textFile(booksPath)\n",
        "edges=sc.textFile(edgesPath)"
      ],
      "execution_count": 7,
      "outputs": []
    },
    {
      "cell_type": "code",
      "metadata": {
        "colab": {
          "base_uri": "https://localhost:8080/"
        },
        "id": "O_fnjJmcoQDe",
        "outputId": "2e0ad83d-1ccd-48fc-f16a-c8095fafb739"
      },
      "source": [
        "books.take(10)"
      ],
      "execution_count": 8,
      "outputs": [
        {
          "output_type": "execute_result",
          "data": {
            "text/plain": [
              "['Vertex 6487: AA2 35',\n",
              " 'Vertex 6488: M/PRM 35',\n",
              " 'Vertex 6489: M/PRM 36',\n",
              " 'Vertex 6490: M/PRM 37',\n",
              " 'Vertex 6491: WI? 9',\n",
              " 'Vertex 6492: AVF 4',\n",
              " 'Vertex 6493: AVF 5',\n",
              " 'Vertex 6494: H2 251',\n",
              " 'Vertex 6495: H2 252',\n",
              " 'Vertex 6496: COC 1']"
            ]
          },
          "metadata": {
            "tags": []
          },
          "execution_count": 8
        }
      ]
    },
    {
      "cell_type": "code",
      "metadata": {
        "colab": {
          "base_uri": "https://localhost:8080/"
        },
        "id": "wNkwmmXwoTp5",
        "outputId": "d8862b2a-706c-40ef-98f6-bac187499f7a"
      },
      "source": [
        "characters.take(10)"
      ],
      "execution_count": 9,
      "outputs": [
        {
          "output_type": "execute_result",
          "data": {
            "text/plain": [
              "['Vertex 1: 24-HOUR MAN/EMMANUEL',\n",
              " 'Vertex 2: 3-D MAN/CHARLES CHANDLER & HAROLD CHANDLER',\n",
              " 'Vertex 3: 4-D MAN/MERCURIO',\n",
              " 'Vertex 4: 8-BALL/',\n",
              " 'Vertex 5: A',\n",
              " \"Vertex 6: A'YIN\",\n",
              " 'Vertex 7: ABBOTT, JACK',\n",
              " 'Vertex 8: ABCISSA',\n",
              " 'Vertex 9: ABEL',\n",
              " 'Vertex 10: ABOMINATION/EMIL BLONSKY']"
            ]
          },
          "metadata": {
            "tags": []
          },
          "execution_count": 9
        }
      ]
    },
    {
      "cell_type": "code",
      "metadata": {
        "colab": {
          "base_uri": "https://localhost:8080/"
        },
        "id": "rI5Gcg0ToV90",
        "outputId": "c2089530-09f6-4388-e759-80a2773d7273"
      },
      "source": [
        "edges.take(10)"
      ],
      "execution_count": 10,
      "outputs": [
        {
          "output_type": "execute_result",
          "data": {
            "text/plain": [
              "['*Vertices 19428 6486',\n",
              " '1 \"24-HOUR MAN/EMMANUEL\"',\n",
              " '2 \"3-D MAN/CHARLES CHAN\"',\n",
              " '3 \"4-D MAN/MERCURIO\"',\n",
              " '4 \"8-BALL/\"',\n",
              " '5 \"A\"',\n",
              " '6 \"A\\'YIN\"',\n",
              " '7 \"ABBOTT, JACK\"',\n",
              " '8 \"ABCISSA\"',\n",
              " '9 \"ABEL\"']"
            ]
          },
          "metadata": {
            "tags": []
          },
          "execution_count": 10
        }
      ]
    },
    {
      "cell_type": "code",
      "metadata": {
        "colab": {
          "base_uri": "https://localhost:8080/"
        },
        "id": "VEWEcUmCoZZS",
        "outputId": "70a9b332-eeaa-4dc5-b55f-55df50b0ad29"
      },
      "source": [
        "def edgeFilterRow(row):\n",
        "  if( \"*\" in row or '\"' in row):\n",
        "    return False\n",
        "  else:\n",
        "    return True\n",
        "\n",
        "edgesFiltered = edges.filter(edgeFilterRow)\n",
        "edgesFiltered.take(10)"
      ],
      "execution_count": 12,
      "outputs": [
        {
          "output_type": "execute_result",
          "data": {
            "text/plain": [
              "['1 6487',\n",
              " '2 6488 6489 6490 6491 6492 6493 6494 6495 6496',\n",
              " '3 6497 6498 6499 6500 6501 6502 6503 6504 6505',\n",
              " '4 6506 6507 6508',\n",
              " '5 6509 6510 6511',\n",
              " '6 6512 6513 6514 6515',\n",
              " '7 6516',\n",
              " '8 6517 6518',\n",
              " '9 6519 6520',\n",
              " '10 6521 6522 6523 6524 6525 6526 6527 6528 6529 6530 6531 6532 6533 6534 6535']"
            ]
          },
          "metadata": {
            "tags": []
          },
          "execution_count": 12
        }
      ]
    },
    {
      "cell_type": "code",
      "metadata": {
        "colab": {
          "base_uri": "https://localhost:8080/"
        },
        "id": "C1gANHoWpc01",
        "outputId": "01796bfb-94ac-4131-ed27-7c806e4080c6"
      },
      "source": [
        "characterBookMap=edgesFiltered.map(lambda x:x.split(\" \"))\\\n",
        "  .map(lambda x:(x[0],x[1:]))\n",
        "characterBookMap.take(10)"
      ],
      "execution_count": 17,
      "outputs": [
        {
          "output_type": "execute_result",
          "data": {
            "text/plain": [
              "[('1', ['6487']),\n",
              " ('2',\n",
              "  ['6488', '6489', '6490', '6491', '6492', '6493', '6494', '6495', '6496']),\n",
              " ('3',\n",
              "  ['6497', '6498', '6499', '6500', '6501', '6502', '6503', '6504', '6505']),\n",
              " ('4', ['6506', '6507', '6508']),\n",
              " ('5', ['6509', '6510', '6511']),\n",
              " ('6', ['6512', '6513', '6514', '6515']),\n",
              " ('7', ['6516']),\n",
              " ('8', ['6517', '6518']),\n",
              " ('9', ['6519', '6520']),\n",
              " ('10',\n",
              "  ['6521',\n",
              "   '6522',\n",
              "   '6523',\n",
              "   '6524',\n",
              "   '6525',\n",
              "   '6526',\n",
              "   '6527',\n",
              "   '6528',\n",
              "   '6529',\n",
              "   '6530',\n",
              "   '6531',\n",
              "   '6532',\n",
              "   '6533',\n",
              "   '6534',\n",
              "   '6535'])]"
            ]
          },
          "metadata": {
            "tags": []
          },
          "execution_count": 17
        }
      ]
    },
    {
      "cell_type": "code",
      "metadata": {
        "colab": {
          "base_uri": "https://localhost:8080/"
        },
        "id": "-VDMuAYcqDzf",
        "outputId": "df4f1b32-c73e-4167-8152-616b4bf3314a"
      },
      "source": [
        "characters.take(10)"
      ],
      "execution_count": 18,
      "outputs": [
        {
          "output_type": "execute_result",
          "data": {
            "text/plain": [
              "['Vertex 1: 24-HOUR MAN/EMMANUEL',\n",
              " 'Vertex 2: 3-D MAN/CHARLES CHANDLER & HAROLD CHANDLER',\n",
              " 'Vertex 3: 4-D MAN/MERCURIO',\n",
              " 'Vertex 4: 8-BALL/',\n",
              " 'Vertex 5: A',\n",
              " \"Vertex 6: A'YIN\",\n",
              " 'Vertex 7: ABBOTT, JACK',\n",
              " 'Vertex 8: ABCISSA',\n",
              " 'Vertex 9: ABEL',\n",
              " 'Vertex 10: ABOMINATION/EMIL BLONSKY']"
            ]
          },
          "metadata": {
            "tags": []
          },
          "execution_count": 18
        }
      ]
    },
    {
      "cell_type": "code",
      "metadata": {
        "colab": {
          "base_uri": "https://localhost:8080/"
        },
        "id": "9twAb5ANqYFm",
        "outputId": "2a52933b-4486-4e46-a69a-f5084f9302e5"
      },
      "source": [
        "def charParse(row):\n",
        "  row=row.split(\":\")\n",
        "  id=row[0][7:] #\"Vertex 7777\" gets converted to \"7777\"\n",
        "  nm=row[1].strip() # trims the output\n",
        "  return((id,nm))\n",
        "\n",
        "charParse('Vertex 10: ABOMINATION/EMIL BLONSKY      ')"
      ],
      "execution_count": 24,
      "outputs": [
        {
          "output_type": "execute_result",
          "data": {
            "text/plain": [
              "('10', 'ABOMINATION/EMIL BLONSKY')"
            ]
          },
          "metadata": {
            "tags": []
          },
          "execution_count": 24
        }
      ]
    },
    {
      "cell_type": "code",
      "metadata": {
        "colab": {
          "base_uri": "https://localhost:8080/"
        },
        "id": "xl7Kj7CHrJ24",
        "outputId": "8d717b6c-fb0a-4e6e-dc6c-d4412482bd70"
      },
      "source": [
        "characterLookup=characters.map(charParse).collectAsMap()\n",
        "characterLookup"
      ],
      "execution_count": 29,
      "outputs": [
        {
          "output_type": "execute_result",
          "data": {
            "text/plain": [
              "{'1': '24-HOUR MAN/EMMANUEL',\n",
              " '2': '3-D MAN/CHARLES CHANDLER & HAROLD CHANDLER',\n",
              " '3': '4-D MAN/MERCURIO',\n",
              " '4': '8-BALL/',\n",
              " '5': 'A',\n",
              " '6': \"A'YIN\",\n",
              " '7': 'ABBOTT, JACK',\n",
              " '8': 'ABCISSA',\n",
              " '9': 'ABEL',\n",
              " '10': 'ABOMINATION/EMIL BLONSKY',\n",
              " '11': 'ABOMINATION | MUTANT X-VERSE',\n",
              " '12': 'ABOMINATRIX',\n",
              " '13': 'ABRAXAS',\n",
              " '14': 'ADAM 3,031',\n",
              " '15': 'ABSALOM',\n",
              " '16': 'ABSORBING MAN/CARL CRUSHER CREEL',\n",
              " '17': 'ABSORBING MAN | MUTANT X-VERSE',\n",
              " '18': 'ACBA',\n",
              " '19': 'ACHEBE, REVEREND DOCTOR MICHAEL IBN AL-HAJJ',\n",
              " '20': 'ACHILLES',\n",
              " '21': 'ACHILLES II/HELMUT',\n",
              " '22': 'ACROBAT/CARL ZANTE',\n",
              " '23': 'ADAM X',\n",
              " '24': 'ADAMS, CINDY',\n",
              " '25': 'ADAMS, CONGRESSMAN HENRY',\n",
              " '26': 'ADAMS, GEORGE',\n",
              " '27': 'ADAMS, MARTHA',\n",
              " '28': 'ADAMS, NICOLE NIKKI',\n",
              " '29': 'ADAMSON, JASON',\n",
              " '30': 'ADAMSON, REBECCA',\n",
              " '31': 'ADMIRAL PROTOCOL/',\n",
              " '32': 'ADORA',\n",
              " '33': 'ADORA CLONE',\n",
              " '34': 'ADRIA',\n",
              " '35': 'ADVA',\n",
              " '36': 'ADVENT/KYLE GROBE',\n",
              " '37': 'ADVERSARY',\n",
              " '38': 'AEGIS/TREY ROLLINS',\n",
              " '39': 'AENTAROS',\n",
              " '40': 'AFTERLIFE',\n",
              " '41': 'AGAMEMNON',\n",
              " '42': 'AGAMEMNON II/ANDREI ROSTOV',\n",
              " '43': 'AGAMEMNON III/',\n",
              " '44': 'AGAMOTTO',\n",
              " '45': 'AGARN, CAPT.',\n",
              " '46': 'AGED GENGHIS',\n",
              " '47': 'AGEE, DR. AUBREY',\n",
              " '48': 'AGEE, REBECCA',\n",
              " '49': 'AGENT AXIS/',\n",
              " '50': 'AGENT 18/JACK TRUMAN',\n",
              " '51': 'AGENT-X/',\n",
              " '52': 'AGGAMON',\n",
              " '53': 'AGINAR',\n",
              " '54': 'AGON',\n",
              " '55': 'AGONY/',\n",
              " '56': 'AGUIRRE, ISOBEL',\n",
              " '57': 'AHAB/RORY CAMPBELL',\n",
              " '58': 'AHQLAU',\n",
              " '59': 'AHURA',\n",
              " '60': 'AI-CHIA',\n",
              " '61': 'AINET',\n",
              " '62': 'AIR WALKER/ARLO SAMUELSON',\n",
              " '63': 'AIR-WALKER/GABRIEL LAN',\n",
              " '64': 'AIRBORNE/',\n",
              " '65': 'AIREO/AEOLUS [INHUMAN]',\n",
              " '66': 'AJAK/TECUMOTZIN [ETERNAL]',\n",
              " '67': 'AJAX',\n",
              " '68': 'AJAX II',\n",
              " '69': \"AJES'HA\",\n",
              " '70': 'AKAFE',\n",
              " '71': 'AKULIA',\n",
              " '72': 'AKUTAGAWA, OSAMU',\n",
              " '73': 'AL-KHALAD',\n",
              " '74': 'ALANYA',\n",
              " '75': 'ALBERIK',\n",
              " '76': 'ALBERT',\n",
              " '77': 'ALBINO/DR. AUGUSTA SEGER',\n",
              " '78': 'ALBUQUERQUE, JEREMIAH',\n",
              " '79': 'ALCHEMY/THOMAS JONES',\n",
              " '80': 'ALDEN, PROF. MEREDITH MCCALL',\n",
              " '81': 'ALEGRIA, RICHIE',\n",
              " '82': 'ALEXANDER, CALEB',\n",
              " '83': 'ALEXANDER, CARRIE',\n",
              " '84': 'ALFY',\n",
              " '85': 'ALIOTH',\n",
              " '86': 'ALIST',\n",
              " '87': 'ALISTRO',\n",
              " '88': 'ALLEN, TERRY',\n",
              " '89': 'ALOUETTE, GENARD',\n",
              " '90': 'ALPHA',\n",
              " '91': 'ALRAUNE, MARLENE',\n",
              " '92': 'ALVAREZ, CARLY',\n",
              " '93': 'ALVAREZ, PAUL',\n",
              " '94': 'ALVAREZ, FELIX',\n",
              " '95': 'AMAZO-MAXI-WOMAN/',\n",
              " '96': 'AMAZON',\n",
              " '97': 'AMENHOTEP',\n",
              " '98': 'AMERICAN EAGLE II/JAMES DORE',\n",
              " '99': 'AMERICAN EAGLE III/JASON STRONGBOW',\n",
              " '100': 'AMERICAN SAMURAI/',\n",
              " '101': 'AMERICOP/',\n",
              " '102': 'AMIKO',\n",
              " '103': 'AMINEDI',\n",
              " '104': 'AMPERE/',\n",
              " '105': 'AMPHARON',\n",
              " '106': 'AMPHIBIAN/KINGLEY RICE',\n",
              " '107': 'AMPHIBIUS',\n",
              " '108': 'ANACONDA/BLANCHE SITZNSKI',\n",
              " '109': 'ANAIS',\n",
              " '110': 'ANAK',\n",
              " '111': 'ANALYZER',\n",
              " '112': 'ANAMI, HIROSHI',\n",
              " '113': 'ANANASTASIA/ANNA',\n",
              " '114': 'ANARCHIST/TIKE ALICAR',\n",
              " '115': 'ANCESTOR/',\n",
              " '116': 'ANCIENT ONE',\n",
              " '117': 'ANCIENT ONE/BARON MORDO | MUTANT X-VERSE',\n",
              " '118': 'ANDERS, JOSHUA RICHIE',\n",
              " '119': 'ANDERSON, BAXTER',\n",
              " '120': 'ANDERSON, CHARLES',\n",
              " '121': 'ANDERSON, CHET',\n",
              " '122': 'ANDERSON, CHIEF MAGISTRATE TAM',\n",
              " '123': 'ANDERSON, GINA',\n",
              " '124': 'ANDERSON, MARJORIE',\n",
              " '125': 'ANDERSON, NICKY',\n",
              " '126': 'ANDERSSEN, TANYA',\n",
              " '127': 'ANDREWS, DARYL TROOP',\n",
              " '128': 'ANDROMEDA/ANDROMEDA ATTUMASEN [ATLANTEAN]',\n",
              " '129': 'ANDROS',\n",
              " '130': 'ANDWELLA',\n",
              " '131': 'ANELLE',\n",
              " '132': 'ANGAR THE SCREAMER/DAVID ANGAR',\n",
              " '133': 'ANGEL/WARREN KENNETH WORTHINGTON III',\n",
              " '134': 'ANGEL 2013',\n",
              " '135': 'ANGEL II/THOMAS HALLOWAY',\n",
              " '136': 'ANGEL III/HALLOWAY',\n",
              " '137': 'ANGEL IV',\n",
              " '138': 'ANGEL DOPPELGANGER',\n",
              " '139': 'ANGELOPOULOS, ANGEL III',\n",
              " '140': 'ANGKOR',\n",
              " '141': 'ANGLER',\n",
              " '142': 'ANGSTROM, EARL',\n",
              " '143': 'ANIELLE',\n",
              " '144': 'ANIMATOR/DR. FREDRICK ANIMUS',\n",
              " '145': 'ANIMATOR II/',\n",
              " '146': 'ANIMUS',\n",
              " '147': 'ANNALEE',\n",
              " '148': 'ANNIHILUS',\n",
              " '149': 'ANOMALY',\n",
              " '150': 'ANOMALY III',\n",
              " '151': 'ANON, LORD',\n",
              " '152': 'ANSWER',\n",
              " '153': 'ANSWER II/DAVID FERRARI',\n",
              " '154': 'ANT-MAN/DR. HENRY J. PYM',\n",
              " '155': 'ANT-MAN II/SCOTT HARRIS LANG',\n",
              " '156': 'ANTEUS',\n",
              " '157': 'ANTHROMORPHO',\n",
              " '158': 'ANTI-PHOENIX',\n",
              " '159': 'ANTI-VISION',\n",
              " '160': 'ANTIBODY',\n",
              " '161': 'ANTIQUARY/',\n",
              " '162': 'ANTOINETTE, MARIE',\n",
              " '163': 'ANTORO',\n",
              " '164': 'ANTRO',\n",
              " '165': 'ANUBAR, ANWAR',\n",
              " '166': 'ANUBIA',\n",
              " '167': 'ANVIL/JOHNNY ANVIL',\n",
              " '168': 'APE/',\n",
              " '169': 'APE MAN/GORDON MONK KEEFER',\n",
              " '170': 'APE MAN II/ROY MCVEY',\n",
              " '171': 'APE-X/XINA',\n",
              " '172': 'APOCALYPSE/EN SABAH NUR',\n",
              " '173': 'APOCALYPSE | MUTANT X-VERSE',\n",
              " '174': 'APOCRYPHUS',\n",
              " '175': 'APOLLO [GREEK GOD]',\n",
              " '176': 'APOSTATE',\n",
              " '177': 'APPALLA',\n",
              " '178': 'APPLEBAUM, PHANTASY',\n",
              " '179': 'AQUARIAN/WUNDARR',\n",
              " '180': 'AQUARIUS/DARREN BENTLEY',\n",
              " '181': 'AQUARIUS II/',\n",
              " '182': 'AQUARIUS III/',\n",
              " '183': 'ARABIAN KNIGHT/ABDUL QAMAR',\n",
              " '184': 'ARACHNE',\n",
              " '185': 'ARAGORN',\n",
              " '186': \"ARAKI [SHI'AR]\",\n",
              " '187': 'ARAKI II',\n",
              " '188': 'ARBOGAST, BAMBI',\n",
              " '189': 'ARCADE/',\n",
              " '190': 'ARCADIUS',\n",
              " '191': 'ARCANNA/ARCANNA JONES',\n",
              " '192': 'ARCHAEOPTERYX/TONAJA [INHUMAN]',\n",
              " '193': 'ARCHER/JUDE BLACK',\n",
              " '194': 'ARCHER, ULYSSES SAMSON U.S.',\n",
              " '195': 'ARCLIGHT/PHILLIPA SONTAG',\n",
              " '196': 'ARCTURUS',\n",
              " '197': 'ARES [GREEK GOD]',\n",
              " '198': 'AREX',\n",
              " '199': 'ARGOS',\n",
              " '200': 'ARGOSY, HERVE',\n",
              " '201': 'ARIA',\n",
              " '202': 'ARIANE',\n",
              " '203': 'ARIDES',\n",
              " '204': 'ARIEL II',\n",
              " '205': 'ARIES/MARCUS LASSITER',\n",
              " '206': 'ARIES II/GROVER RAYMOND',\n",
              " '207': 'ARIES III/',\n",
              " '208': 'ARISHEM [CELESTIAL]',\n",
              " '209': 'ARIZE',\n",
              " '210': 'ARKANIAN, GLIB',\n",
              " '211': 'ARKO',\n",
              " '212': 'ARKON',\n",
              " '213': 'ARLINGTON, DR. MARCUS',\n",
              " '214': 'ARLISSE',\n",
              " '215': 'ARMADA',\n",
              " '216': 'ARMADA II/',\n",
              " '217': 'ARMADILLO/ANTONIO RODRIGUEZ',\n",
              " '218': 'ARMAGEDDON',\n",
              " '219': 'ARMAGEDDON MAN',\n",
              " '220': 'ARMAND',\n",
              " '221': 'ARMAROS',\n",
              " '222': 'ARMAZIEL',\n",
              " '223': 'ARMBRUSTER, COLONEL JOHN D. JACK',\n",
              " '224': 'ARMS MERCHANT/ANDREAS KAPELOS',\n",
              " '225': 'ARMSTRONG, ?',\n",
              " '226': 'ARMSTRONG, MYRA',\n",
              " '227': 'ARNSTROM',\n",
              " '228': 'ARON [WATCHER]',\n",
              " '229': 'ARRANGER/',\n",
              " '230': 'ARSENAL',\n",
              " '231': 'ARSENAL II',\n",
              " '232': 'ARSENIC',\n",
              " '233': 'ARTEMIS',\n",
              " '234': 'ARVAK',\n",
              " '235': 'ARYAN',\n",
              " '236': 'ASANO',\n",
              " '237': 'ASBERY, SHAMARI',\n",
              " '238': 'ASBESTOS LADY',\n",
              " '239': 'ASH, BRANDY',\n",
              " '240': 'ASHEMA [CELESTIAL]',\n",
              " '241': 'ASHER, CARL',\n",
              " '242': 'ASHER, DONNA',\n",
              " '243': 'ASHER, MICHAEL',\n",
              " '244': 'ASHUR',\n",
              " '245': 'ASKANI',\n",
              " '246': 'ASMODEUS',\n",
              " '247': 'ASP II/CLEO',\n",
              " '248': 'ASSAULT/',\n",
              " '249': 'ASTARTE',\n",
              " '250': 'ASTER, LUCIAN',\n",
              " '251': 'ASTRA',\n",
              " '252': 'ASTRA II',\n",
              " '253': 'ASTROLOGER/',\n",
              " '254': 'ASTRONOMER',\n",
              " '255': 'ASTROVIK, ARNOLD',\n",
              " '256': 'ASTROVIK, NORMA',\n",
              " '257': 'ASYLUM/',\n",
              " '258': 'ASYLUM II/HENRIQUE MANUEL GALLANTE',\n",
              " '259': 'ATALANTA',\n",
              " '260': 'ATHENA [GREEK GOD]',\n",
              " '261': 'ATKINSON, MAJ. EDMOND',\n",
              " '262': 'ATLAS',\n",
              " '263': 'ATLAS III',\n",
              " '264': 'ATOM SMASHER/',\n",
              " '265': 'ATOM SMASHER II/',\n",
              " '266': 'ATOM-SMASHER/',\n",
              " '267': 'ATOR, GENERAL',\n",
              " '268': 'ATTRACTIVE LAD/AUNDRAY',\n",
              " '269': 'ATTUMA',\n",
              " '270': 'AUGUST PERSONAGE IN JADE/YU-TI',\n",
              " '271': 'AUNTIE FREEZE/',\n",
              " '272': 'AURA/ANN HERD',\n",
              " '273': 'AURIC/',\n",
              " '274': 'AURORA/JEANNE-MARIE BAUBIER',\n",
              " '275': 'AURORA DOPPELGANGER',\n",
              " '276': 'AURORA | MUTANT X-VERSE',\n",
              " '277': 'AUSTIN, GEN.',\n",
              " '278': 'AUSTIN, SUSAN',\n",
              " '279': 'AUSTIN, TERRY',\n",
              " '280': 'AUTHIER, POLICE CHIEF',\n",
              " '281': 'AUTHIER, TRACY TRACE',\n",
              " '282': 'AUTHORITY/',\n",
              " '283': 'AUTOLYCUS',\n",
              " '284': 'AVALANCHE/DOMINIC PETROS',\n",
              " '285': 'AVANDALIA',\n",
              " '286': 'AVATAR',\n",
              " '287': 'AVATAR II/PRINCESS ALAISA RUANTHA',\n",
              " '288': 'AVIA',\n",
              " '289': 'AVIOS',\n",
              " '290': 'AVIUS',\n",
              " '291': 'AVRIL, SALLY',\n",
              " '292': 'AVRIL, YVETTE',\n",
              " '293': 'AWESOME ANDROID',\n",
              " '294': 'AXE/',\n",
              " '295': 'AXIS/',\n",
              " '296': 'AYALA, AWILDA',\n",
              " '297': 'AYALA, FILIPPO',\n",
              " '298': 'AYALA, MRS.',\n",
              " '299': 'AYALA, NESTOR',\n",
              " '300': 'AYESHA',\n",
              " '301': 'AZAZEL',\n",
              " '302': 'AZAZEL II',\n",
              " '303': 'AZIR',\n",
              " '304': 'AZOPARDI',\n",
              " '305': 'AZOR',\n",
              " '306': 'AZRAEL',\n",
              " '307': 'AZURE',\n",
              " '308': \"B'ARR\",\n",
              " '309': \"B'GON\",\n",
              " '310': \"B'KOSA, GEN. JONATHAN\",\n",
              " '311': 'BAAL',\n",
              " '312': 'BAAL II',\n",
              " '313': 'BACILLUS',\n",
              " '314': 'BADALAMENTE, JESUS',\n",
              " '315': 'BADALINO, LT. MICHAEL',\n",
              " '316': 'BAILEY, GAILYN',\n",
              " '317': 'BAILEY, JOEY',\n",
              " '318': 'BAILEY, SARA GREY',\n",
              " '319': 'BAIRD, DR.',\n",
              " '320': 'BAKER',\n",
              " '321': 'BAKER, ANNE-MARIE',\n",
              " '322': 'BALABAN/',\n",
              " '323': 'BALDER [ASGARDIAN]',\n",
              " '324': 'BALDWIN, JUSTIN',\n",
              " '325': 'BALDWIN, MADELYNE MADDIE NAYLOR',\n",
              " '326': 'BALE, EMERSON',\n",
              " '327': 'BALLANTINE, DEVON',\n",
              " '328': 'BALLANTINE, KAYLA',\n",
              " '329': 'BALLANTINE, MR.',\n",
              " '330': 'BALLANTINE, MRS.',\n",
              " '331': 'BALOR',\n",
              " '332': 'BAMBI',\n",
              " '333': 'BANCROFT, MARTINE',\n",
              " '334': 'BANDIT/',\n",
              " '335': 'BANK, IRVING',\n",
              " '336': 'BANKS, SHARON',\n",
              " '337': 'BANNER, BETTY ROSS TALBOT',\n",
              " '338': 'BANNERJEE, DR.',\n",
              " '339': 'BANNON, LANCE',\n",
              " '340': 'BANSHEE/SEAN CASSIDY',\n",
              " '341': 'BANSHEE 2013',\n",
              " '342': 'BANSHEE II',\n",
              " '343': 'BANTAM/',\n",
              " '344': 'BANTOCK, LT. OLIVER',\n",
              " '345': 'BAPTISTE, TANTE MATTIE',\n",
              " '346': 'BARAK',\n",
              " '347': 'BARBAROSSA, MARIO',\n",
              " '348': 'BARBAROSSA, VINNIE',\n",
              " '349': 'BARBARUS',\n",
              " '350': 'BARIUM',\n",
              " '351': 'BARKER',\n",
              " '352': 'BARKER, MATTHEW T.',\n",
              " '353': 'BARNACLE/',\n",
              " '354': 'BARNETT, MIKE',\n",
              " '355': 'BARON BLOOD/JOHN FALSWORTH',\n",
              " '356': 'BARON BLOOD II/VICTOR STRANGE',\n",
              " '357': 'BARON BRIMSTONE/',\n",
              " '358': 'BARON MACABRE/',\n",
              " '359': 'BARON MORDO/KARL MORDO',\n",
              " '360': 'BARON SAMEDI',\n",
              " '361': 'BARON STRUCKER/WOLFGANG VON STRUCKER',\n",
              " '362': 'BARON ZEBEK',\n",
              " '363': 'BARONESS ZEMO/HEIKE',\n",
              " '364': 'BARRACUDA/',\n",
              " '365': 'BARRAGE',\n",
              " '366': 'BARRANCO, MARIA ESMERALDA',\n",
              " '367': 'BARRENOS, OMAR',\n",
              " '368': 'BARRIER/',\n",
              " '369': 'BARRINGTON',\n",
              " '370': 'BARRON, RICK',\n",
              " '371': 'BARROWS, WALTER',\n",
              " '372': 'BARTLETT, STU',\n",
              " '373': 'BARTON, SEN.',\n",
              " '374': 'BARTOS',\n",
              " '375': 'BASALLO/LAVA MEN KING',\n",
              " '376': 'BASALTAR',\n",
              " '377': 'BASILISK/BASIL ELKS',\n",
              " '378': 'BASILISK II',\n",
              " '379': 'BASILISK III/',\n",
              " '380': 'BATAL/',\n",
              " '381': 'BATROC/GEORGES BATROC',\n",
              " '382': 'BATTERING RAM',\n",
              " '383': 'BATTERY/',\n",
              " '384': 'BATTLE, MONTGOMERY',\n",
              " '385': 'BATTLEAXE/',\n",
              " '386': 'BATTLEAXE II/JEROME HAMILTON (II)',\n",
              " '387': 'BATTLESTAR/LEMAR HOSKINS',\n",
              " '388': 'BATWING/',\n",
              " '389': 'BAV-TEK',\n",
              " '390': 'BAXTER',\n",
              " '391': 'BAXTER, ABIGAIL',\n",
              " '392': 'BAXTER, NOAH',\n",
              " '393': 'BAYLOR, FRANK',\n",
              " '394': 'BAYMAX',\n",
              " '395': 'BAZIN, ALLEGRA',\n",
              " '396': 'BAZIN, ANDREW',\n",
              " '397': 'BAZIN, BRODERICK RICK',\n",
              " '398': 'BAZIN, PHILLIPPE',\n",
              " '399': 'BEACH, GINGER',\n",
              " '400': 'BEACH, SPIDER',\n",
              " '401': 'BEALE, ERIC',\n",
              " '402': 'BEAR/',\n",
              " '403': 'BEAST/HENRY &HANK& P. MCCOY',\n",
              " '404': 'BEAST 2013',\n",
              " '405': 'BEAST DOPPELGANGER',\n",
              " '406': 'BEAST DOPPELGANGER II',\n",
              " '407': 'BEAST DOPPELGANGER III',\n",
              " '408': 'BEAUMONT, SPENCER',\n",
              " '409': 'BEAUTIFUL DREAMER',\n",
              " '410': 'BEAUTIFUL DREAMER II',\n",
              " '411': 'BEAUTY',\n",
              " '412': 'BECKFORD, NOEL',\n",
              " '413': 'BECKLEY, BENNY',\n",
              " '414': 'BECKMAN, CHARLES',\n",
              " '415': 'BECKMAN, JOSEPH',\n",
              " '416': 'BECKMAN, LISA',\n",
              " '417': 'BECKMAN, SARAH',\n",
              " '418': 'BEDFORD, BRAD HULK',\n",
              " '419': 'BEDLAM/JESSE AARONSON',\n",
              " '420': 'BEDLAM II/OLISA KABAKI',\n",
              " '421': 'BEEF/',\n",
              " '422': 'BEEFER',\n",
              " '423': 'BEERE, JASON',\n",
              " '424': 'BEETLE/ABNER RONALD JENKINS',\n",
              " '425': 'BEETLE II/LEILA DAVIS',\n",
              " '426': 'BEETLE ROBOT',\n",
              " '427': 'BEHEMOTH',\n",
              " '428': 'BEL-DANN, GEN.',\n",
              " '429': 'BELASCO',\n",
              " '430': 'BELDAME',\n",
              " '431': 'BELGRADE, DR. HORATIO',\n",
              " '432': 'BELIAL',\n",
              " '433': 'BELL, HERBERT',\n",
              " '434': 'BELLADONNA',\n",
              " '435': 'BELLAM',\n",
              " '436': 'BELLE',\n",
              " '437': 'BENAZA',\n",
              " '438': 'BENCHLEY',\n",
              " '439': 'BENDIX, DR. ALBERT',\n",
              " '440': 'BENEDICT',\n",
              " '441': 'BENEDICT, ANDREW',\n",
              " '442': 'BENGAL/',\n",
              " '443': 'BENJAMIN, BYRON',\n",
              " '444': 'BENNETT, DANNY',\n",
              " '445': 'BENNETT, MITCH',\n",
              " '446': 'BENNING, VERONICA',\n",
              " '447': 'BENNY, JAKE',\n",
              " '448': 'BENTLEY, MILES',\n",
              " '449': 'BENTLEY, VICTORIA',\n",
              " '450': 'BENTON, TERRY',\n",
              " '451': 'BENWAY, DR.',\n",
              " '452': 'BERDITCHEV, ITZHAK',\n",
              " '453': 'BEREET',\n",
              " '454': 'BERENGHETTI, MICHAEL',\n",
              " '455': 'BERENGHETTI, SUSAN',\n",
              " '456': 'BERGER, PROF.',\n",
              " '457': 'BERGIER, REBECCA',\n",
              " '458': 'BERGLUND, GEN.',\n",
              " '459': 'BERKELEY, TRAVIS',\n",
              " '460': 'BERMAN, ADAM',\n",
              " '461': 'BERNARD THE POET',\n",
              " '462': 'BERNHARD, CLARICE',\n",
              " '463': 'BERNIE',\n",
              " '464': 'BERNSTEIN, DR. NOAH',\n",
              " '465': 'BERNSTEIN, EMMA WEBSTER',\n",
              " '466': 'BERSERKER',\n",
              " '467': 'BERSERKER II',\n",
              " '468': 'BERSERKER III',\n",
              " '469': 'BERTRAM',\n",
              " '470': 'BERYL',\n",
              " '471': 'BERYLLIUM',\n",
              " '472': 'BETA RAY BILL',\n",
              " '473': 'BETA RAY BILL | MUTANT X-VERSE',\n",
              " '474': 'BETELHEIM, NORMA',\n",
              " '475': 'BETTY-6',\n",
              " '476': 'BEVATRON/',\n",
              " '477': 'BEYNON, DR. BRADLEY',\n",
              " '478': 'BEYONDER',\n",
              " '479': 'BEYONDER | MUTANT X-VERSE',\n",
              " '480': 'BI-BEAST',\n",
              " '481': 'BI-BEAST II',\n",
              " '482': 'BIANDU',\n",
              " '483': 'BIG BEN/',\n",
              " '484': 'BIG BERTHA/ASHLEY CRAWFORD',\n",
              " '485': 'BIG CASINO/',\n",
              " '486': 'BIG MAN/FREDERICK FOSWELL',\n",
              " '487': 'BIG ONE/KENJIRO SASAKI',\n",
              " '488': 'BIGGERS, MELVIN',\n",
              " '489': 'BILE/',\n",
              " '490': 'BILLUPS, AGENT',\n",
              " '491': 'BINARY/CAROL DANVERS',\n",
              " '492': 'BINARY | MUTANT X-VERSE/CAROL DANVERS',\n",
              " '493': 'BIOHAZARD',\n",
              " '494': 'BIOHAZARD II/FLETCHER TRAYNOR',\n",
              " '495': 'BIRD MAN/HENRY HAWK',\n",
              " '496': 'BIRD MAN III/',\n",
              " '497': 'BIRD, TUESDAY',\n",
              " '498': 'BIRDBRAIN',\n",
              " '499': 'BIRDY',\n",
              " '500': 'BISHOP /',\n",
              " '501': 'BISON/BILLY KITSON',\n",
              " '502': 'BITMAP/',\n",
              " '503': 'BIZEN',\n",
              " '504': 'BLACK AVENGER/JERRY CARSTAIRS',\n",
              " '505': 'BLACK BOLT/BLACKANTOR BOLTAGON [INHUMAN]',\n",
              " '506': 'BLACK BOLT | MUTANT X-VERSE',\n",
              " '507': 'BLACK BRIGADE',\n",
              " '508': 'BLACK CAT/FELICIA HARDY',\n",
              " '509': 'BLACK CRANE/',\n",
              " '510': 'BLACK CROW/JESSE BLACK CROW',\n",
              " '511': 'BLACK DEATH/DR. IVAN KIVELKI',\n",
              " '512': 'BLACK FOX/ROBERT W. PAINE',\n",
              " '513': 'BLACK FOX II/',\n",
              " '514': 'BLACK GOLIATH/DR. WILLIAM BILL BARRETT FOSTER',\n",
              " '515': 'BLACK HOLE/MORTON KIBBEE',\n",
              " '516': 'BLACK KING/SEBASTIAN SHAW',\n",
              " '517': 'BLACK KING/SEBASTIAN SHAW | MUTANT X-VERSE',\n",
              " '518': 'BLACK KNIGHT/SIR PERCY OF SCANDIA',\n",
              " '519': 'BLACK KNIGHT II/SIR RASTON',\n",
              " '520': 'BLACK KNIGHT III/EOBAR GARRINGTON',\n",
              " '521': 'BLACK KNIGHT IV/PROFESSOR NATHAN GARRETT',\n",
              " '522': 'BLACK KNIGHT V/DANE WHITMAN',\n",
              " '523': 'BLACK KNIGHT IV DOPPELGANGER',\n",
              " '524': 'BLACK KNIGHT V DOPPELGANGER II',\n",
              " '525': 'BLACK KNIGHT V STATUE',\n",
              " '526': 'BLACK KNIGHT VI/PROFESSOR NATHAN GARRETT II',\n",
              " '527': 'BLACK LAMA',\n",
              " '528': 'BLACK MAMBA/TANYA SEALY',\n",
              " '529': 'BLACK MARIAH',\n",
              " '530': 'BLACK MARVEL/DAN LYONS',\n",
              " '531': 'BLACK MORAY',\n",
              " '532': 'BLACK MOUNTAIN/KUROYAMA',\n",
              " '533': \"BLACK PANTHER/T'CHALLA\",\n",
              " '534': 'BLACK PANTHER | MUTANT X-VERSE',\n",
              " '535': 'BLACK RAAZER/',\n",
              " '536': 'BLACK RACER/',\n",
              " '537': 'BLACK RAZER',\n",
              " '538': 'BLACK SPECTRE/CARSON KNOWLES',\n",
              " '539': 'BLACK TALON/DESMOND DREW',\n",
              " '540': 'BLACK TALON II/SAMUEL DAVID BARONE',\n",
              " '541': 'BLACK TALON III',\n",
              " '542': 'BLACK TARANTULA/LAMUERTO',\n",
              " '543': 'BLACK TARANTULA II/CARLOS LAMUERTO',\n",
              " '544': 'BLACK TOM CASSIDY',\n",
              " '545': 'BLACK WIDOW/NATASHA ROMANOVA',\n",
              " '546': 'BLACK WIDOW II/YELENA BELOVA',\n",
              " '547': 'BLACK WIDOW DOPPELGANGER',\n",
              " '548': 'BLACK WIDOW | MUTANT X-VERSE',\n",
              " '549': 'BLACK, CAL',\n",
              " '550': 'BLACK, CYRUS',\n",
              " '551': 'BLACK, RACHEL',\n",
              " '552': 'BLACKBALL',\n",
              " '553': 'BLACKBIRD/',\n",
              " '554': 'BLACKBODY',\n",
              " '555': 'BLACKHEART',\n",
              " '556': 'BLACKJACK/',\n",
              " '557': 'BLACKOUT/MARCUS DANIELS',\n",
              " '558': 'BLACKOUT II/',\n",
              " '559': 'BLACKSHEAR, JONAS',\n",
              " '560': 'BLACKWELL',\n",
              " '561': 'BLACKWING/JOSEPH MANFREDI',\n",
              " '562': 'BLACKWING II/',\n",
              " '563': 'BLACKWOOD, JENNY',\n",
              " '564': 'BLACKWULF',\n",
              " '565': 'BLADE',\n",
              " '566': 'BLAIR, CALEY',\n",
              " '567': 'BLAIRE, CARTER',\n",
              " '568': 'BLAKE, BECKY',\n",
              " '569': 'BLAKE, DR. DONALD',\n",
              " '570': 'BLAKE, DR. DONALD (CONSTRUCT)',\n",
              " '571': 'BLAKE, EMILY',\n",
              " '572': 'BLAKE, KENT',\n",
              " '573': 'BLANDING, ANDREW',\n",
              " '574': 'BLANDING, HALEY',\n",
              " '575': 'BLANDING, MRS.',\n",
              " '576': 'BLAQUESMITH',\n",
              " '577': 'BLARE/',\n",
              " '578': 'BLASTAAR',\n",
              " '579': 'BLASTING CAP/',\n",
              " '580': 'BLAZE, CRAIG',\n",
              " '581': 'BLAZE, EMMA',\n",
              " '582': 'BLAZE, ROXANNE SIMPSON',\n",
              " '583': 'BLAZING SKULL/MARK TODD',\n",
              " '584': 'BLESSING, MORGANA',\n",
              " '585': 'BLIND AL/ALTHEA',\n",
              " '586': 'BLINDSIDE II/BOBBI CHASE',\n",
              " '587': 'BLINK/FERGUSON, CLARICE',\n",
              " '588': 'BLISS',\n",
              " '589': 'BLISS, BONNIE',\n",
              " '590': 'BLISS, MISS',\n",
              " '591': 'BLITZIANA',\n",
              " '592': 'BLITZKRIEG/',\n",
              " '593': 'BLIZZARD/PROF. GREGOR SHAPANKA',\n",
              " '594': 'BLIZZARD II/DONALD GILL',\n",
              " '595': 'BLOB/FRED J. DUKES',\n",
              " '596': 'BLOCKADE/DEXTER PARISH',\n",
              " '597': 'BLOCKBUSTER/',\n",
              " '598': 'BLOCKBUSTER II',\n",
              " '599': 'BLOCKBUSTER III/MICHAEL BAER',\n",
              " '600': 'BLOK',\n",
              " '601': 'BLOKE/MICKEY TORK',\n",
              " '602': 'BLOOD BROTHERS',\n",
              " '603': 'BLOOD SPIDER/',\n",
              " '604': 'BLOOD WRAITH/SEAN DOLAN',\n",
              " '605': 'BLOOD-TIDE',\n",
              " '606': 'BLOODAXE/JACKIE LUKUS',\n",
              " '607': 'BLOODHOUND/',\n",
              " '608': 'BLOODLUST',\n",
              " '609': 'BLOODSHED/WYNDELL DICHINSON',\n",
              " '610': 'BLOODSCREAM',\n",
              " '611': 'BLOODSTONE/ULYSSES BLOODSTONE',\n",
              " '612': 'BLOODSTORM | MUTANT X-VERSE/ORORO MUNROE',\n",
              " '613': 'BLOODSTRIKE/ERIC CONROY',\n",
              " '614': 'BLOODVESSEL, BUSTA',\n",
              " '615': \"BLOODWING [SHI'AR]\",\n",
              " '616': 'BLOODWRAITH/SEAN DOLAN',\n",
              " '617': 'BLOODY BESS',\n",
              " '618': 'BLOODY MARY',\n",
              " '619': 'BLOTT, BRIGADIER INKY',\n",
              " '620': 'BLOWTORCH/',\n",
              " '621': 'BLUDGEON/',\n",
              " '622': 'BLUDGEON/',\n",
              " '623': 'BLUE BULLET/PROF. JOHN GOLDSTEIN',\n",
              " '624': 'BLUE DIAMOND/PROFESSOR ELTON T. MORROW',\n",
              " '625': 'BLUE SHIELD/JOSEPH JOEY CARTELLI',\n",
              " '626': 'BLUE STREAK/',\n",
              " '627': 'BLUNT',\n",
              " '628': 'BLUR',\n",
              " '629': 'BLURRY',\n",
              " '630': 'BOAK',\n",
              " '631': 'BOBCAT/',\n",
              " '632': 'BODYBAG',\n",
              " '633': 'BOERKE, MAYOR',\n",
              " '634': 'BOGATYR/MIKULA GOLUBEV',\n",
              " '635': 'BOGGS, MORDECAI P.',\n",
              " '636': 'BOLERO/',\n",
              " '637': 'BOLT/LAWRENCE EVANS',\n",
              " '638': 'BOLT II/CHRIS BRADLEY/BRIAN JOHNSON',\n",
              " '639': 'BOLT, COUNCILMAN ANDREW',\n",
              " '640': 'BOMBADIER/',\n",
              " '641': 'BOMBLAST/',\n",
              " '642': 'BOMBSHELL/',\n",
              " '643': 'BOND',\n",
              " '644': 'BONEBREAKER/',\n",
              " '645': 'BONES/ELIZABETH BLISS',\n",
              " '646': 'BONITA',\n",
              " '647': 'BOOBYTRAP/',\n",
              " '648': 'BOOKWORM/NELSON GRUBER',\n",
              " '649': 'BOOMER/TABITHA SMITH',\n",
              " '650': 'BOOMERANG/FRED MYERS',\n",
              " '651': 'BOOMSLANG/',\n",
              " '652': 'BOONE',\n",
              " '653': 'BORA',\n",
              " '654': 'BORAKU',\n",
              " '655': 'BORROB',\n",
              " '656': 'BORROUGHS, CHARLES CHARLIE',\n",
              " '657': 'BOSCO, ELAINE',\n",
              " '658': 'BOSHLOVOR',\n",
              " '659': 'BOUDREAUX, BELLA DONNA',\n",
              " '660': 'BOUDREAUX, BELLA DONNA | MUTANT X-VERSE',\n",
              " '661': 'BOUDREAUX, MARIUS',\n",
              " '662': 'BOULDER/',\n",
              " '663': 'BOUNCER',\n",
              " '664': 'BOUNTY',\n",
              " '665': 'BOUNTY II',\n",
              " '666': 'BOVA',\n",
              " '667': 'BOWDEN, DENNIS',\n",
              " '668': 'BOWEN, FATHER MICHAEL',\n",
              " '669': 'BOWMAN, MAJ.',\n",
              " '670': 'BOX/ROGER BOCHS',\n",
              " '671': 'BOX II/JERRY JAXXON',\n",
              " '672': 'BOX IV/MADISON JEFFRIES',\n",
              " '673': 'BOYD, TWO-FISTED TOMMY',\n",
              " '674': 'BRADDOCK, ELIZABETH',\n",
              " '675': 'BRADDOCK, JAMES',\n",
              " '676': 'BRADDOCK, JAMES JR. JAMIE',\n",
              " '677': 'BRADDOCK, JOHN',\n",
              " '678': 'BRADLEY, CARRIE',\n",
              " '679': 'BRADLEY, HANK',\n",
              " '680': 'BRADLEY, JESSICA',\n",
              " '681': 'BRAHAMS',\n",
              " '682': 'BRAHMANES',\n",
              " '683': 'BRAIN CELL/',\n",
              " '684': 'BRAIN DRAIN/WERNER SCHMIDT',\n",
              " '685': 'BRAINCHILD',\n",
              " '686': 'BRAINSTORM/',\n",
              " '687': 'BRAINY',\n",
              " '688': 'BRAITHWAITE, JUDGE ROBERT',\n",
              " '689': 'BRAMER',\n",
              " '690': 'BRANDEIS, CAMMY',\n",
              " '691': 'BRANDEIS, LIZ PARRISH',\n",
              " '692': 'BRANDEIS, PROF. HENRY',\n",
              " '693': 'BRANDT, ELLEN',\n",
              " '694': 'BRANNEX',\n",
              " '695': 'BRANNEX, ALLESSANDRO',\n",
              " '696': 'BRANSON',\n",
              " '697': 'BRASS/SEAN WATANABE',\n",
              " '698': 'BRASS BISHOP/',\n",
              " '699': 'BRAWLER',\n",
              " '700': 'BRAWN, HUNTER',\n",
              " '701': 'BRAWN, TRISTAN',\n",
              " '702': 'BREAKER/RAAK',\n",
              " '703': 'BREEGAN',\n",
              " '704': 'BRES',\n",
              " '705': 'BREWER, AMY',\n",
              " '706': 'BREWER, DR. MELINDA',\n",
              " '707': 'BRICKFORD, CLAY',\n",
              " '708': 'BRICKMAN, GLORIA',\n",
              " '709': 'BRICKMAN, SEN. MILES RALPH',\n",
              " '710': 'BRIDGE, GEORGE WASHINGTON G.W.',\n",
              " '711': 'BRIGGS, AGENT',\n",
              " '712': 'BRIGGS, AGENT STEPHANIE',\n",
              " '713': 'BRIGHTSWORD/CARTER DYAM',\n",
              " '714': 'BRIGHTWIND',\n",
              " '715': 'BRINKE, NIOMI',\n",
              " '716': 'BRIQUETTE/',\n",
              " '717': 'BROADSIDE',\n",
              " '718': 'BROGIN, BULL',\n",
              " '719': 'BROKEN MAN',\n",
              " '720': 'BROKER',\n",
              " '721': 'BROMINE',\n",
              " '722': 'BROMWELL, DR.',\n",
              " '723': 'BRONA',\n",
              " '724': 'BROOKS, ANNA',\n",
              " '725': 'BROOP',\n",
              " '726': 'BROTHER CAESAR',\n",
              " '727': 'BROTHER ROYAL',\n",
              " '728': 'BROTHER STEPHEN',\n",
              " '729': 'BROTHER TODE',\n",
              " '730': 'BROTHER VIRGIL',\n",
              " '731': 'BROTHER VOODOO/DANIEL DRUMM/JERICHO DRUMM',\n",
              " '732': 'BROTHER VOODOO | MUTANT X-VERSE',\n",
              " '733': 'BROTHER WONDERFUL/DR. ABNER DOOLITTLE',\n",
              " '734': 'BROTHERS GRIMM',\n",
              " '735': 'BROTHERS GRIMM II/BARTON & PERCY GRIMM',\n",
              " '736': 'BROWN, ABE',\n",
              " '737': 'BROWN, FRANK',\n",
              " '738': 'BROWN, LAURA',\n",
              " '739': 'BROWN, MINDY MCPHERSON',\n",
              " '740': 'BROWSER',\n",
              " '741': 'BRUKNER, DR. FRANK',\n",
              " '742': 'BRUKNER, ILANEY',\n",
              " '743': 'BRUNNHILDE/MCM-XLI (1941)',\n",
              " '744': 'BRUNO',\n",
              " '745': 'BRUTACUS',\n",
              " '746': 'BRUTE/REED RICHARDS COUNTER-EARTH',\n",
              " '747': 'BRUTE II/',\n",
              " '748': 'BRUTE | MUTANT X-VERSE/HENRY MCCOY',\n",
              " '749': 'BRUTO THE STRONGMAN/',\n",
              " '750': 'BRUTUS',\n",
              " '751': 'BRUTUS II',\n",
              " '752': 'BRUTUS KLOR',\n",
              " '753': 'BRYCE, ARCHER',\n",
              " '754': 'BUCHANAN, SAM',\n",
              " '755': 'BUCHETTO, SALVATORE SIDE POCKETS',\n",
              " '756': 'BUCHOVITZ, STANLEY &STONEWALL&',\n",
              " '757': 'BUCKNER, GRANT',\n",
              " '758': 'BUCKMAN, EDWARD',\n",
              " '759': 'BUCKY/BUCKY BARNES',\n",
              " '760': 'BUCKY II/FRED DAVIS',\n",
              " '761': 'BUCKY VI/',\n",
              " '762': 'BUCKY VII/RIKKI BARNES',\n",
              " '763': 'BUEL',\n",
              " '764': 'BUG',\n",
              " '765': 'BUKOWSKI, BUCK',\n",
              " '766': 'BULL',\n",
              " '767': 'BULLDOZER/HENRY CAMP',\n",
              " '768': 'BULLET',\n",
              " '769': 'BULLET BIKER',\n",
              " '770': 'BULLSEYE',\n",
              " '771': 'BULLSEYE II/BENJAMIN POINDEXTER',\n",
              " '772': 'BULLSEYE | MUTANT X-VERSE/BENJAMIN POINDEXTER',\n",
              " '773': 'BULWARK/',\n",
              " '774': 'BUMPKIN',\n",
              " '775': 'BUMPO, MR.',\n",
              " '776': 'BUNYAN, PAUL',\n",
              " '777': 'BURGOS, CARL',\n",
              " '778': 'BURKE',\n",
              " '779': 'BURKE, GWYNETH',\n",
              " '780': 'BURKE, JACK',\n",
              " '781': 'BURKE, JOB',\n",
              " '782': 'BURKE, RICKY',\n",
              " '783': 'BURKE, THERESA TRACY',\n",
              " '784': 'BURLEY, MIKE',\n",
              " '785': 'BURLINGAME, CALVIN',\n",
              " '786': 'BURNING PUDDLE',\n",
              " '787': 'BURR, CLAYTON',\n",
              " '788': 'BURRTHROP, T. BARTON',\n",
              " '789': 'BURST/',\n",
              " '790': 'BUSH, GEORGE',\n",
              " '791': 'BUSHKIN, BARNEY',\n",
              " '792': 'BUSHMAN, RAOUL',\n",
              " '793': 'BUSHMASTER/JOHN MCIVER',\n",
              " '794': 'BUSHMASTER II/QUINCY MCIVER',\n",
              " '795': 'BUSHWACKER/CARL',\n",
              " '796': 'BUSIEK, KURT',\n",
              " '797': 'BUTCH',\n",
              " '798': 'BUTTERFLY',\n",
              " '799': 'BUTTONS',\n",
              " '800': 'BUX',\n",
              " '801': 'BUZZ',\n",
              " '802': 'BUZZARD',\n",
              " '803': 'BYRD, NATHANIEL ALEXANDER BLACKBYRD',\n",
              " '804': 'BYRD, SEN. HARRINGTON',\n",
              " '805': 'BYREL',\n",
              " '806': 'BYRNE, JOHN',\n",
              " '807': 'BYRNES, GAYLE WATSON',\n",
              " '808': 'BYRNES, TIM',\n",
              " '809': 'BYRRAH [ATLANTEAN]',\n",
              " '810': 'BYRRAH | HEROES REBORN-VERSE',\n",
              " '811': 'C.F.',\n",
              " '812': 'CABE, BETHANY',\n",
              " '813': 'CABER',\n",
              " '814': 'CACHE',\n",
              " '815': 'CACHES, FABIAN',\n",
              " '816': 'CACHES, PROF. MARINA',\n",
              " '817': 'CACTUS',\n",
              " '818': 'CADAVER',\n",
              " '819': 'CADMIUM',\n",
              " '820': 'CADUCEUS',\n",
              " '821': 'CAESAR',\n",
              " '822': 'CAESAR, JONATHAN',\n",
              " '823': 'CAESAR, JULIUS',\n",
              " '824': 'CAGE, LUKE/CARL LUCAS',\n",
              " '825': 'CAGLIOSTRO, ALESSANDRO/GUISEPPE BALSAMO',\n",
              " '826': 'CAIRN, DET.',\n",
              " '827': 'CALCULUS/JAHAHAREL PATEL',\n",
              " '828': 'CALDERONE, HANNAH',\n",
              " '829': 'CALDRONE, JAVIER',\n",
              " '830': 'CALEDONIA/ALISANDE STEWART',\n",
              " '831': 'CALIBAN/',\n",
              " '832': 'CALIFORNIUM',\n",
              " '833': 'CALKIN, SUSAN',\n",
              " '834': 'CALLAGHAN, JAMES',\n",
              " '835': 'CALLAHAN, DANNY',\n",
              " '836': 'CALLAHAN, MIKE',\n",
              " '837': 'CALLISTO',\n",
              " '838': 'CALLISTO | MUTANT X-VERSE',\n",
              " '839': 'CALUMET',\n",
              " '840': 'CALYPSO',\n",
              " '841': 'CAMBRIDGE, MOXIE',\n",
              " '842': 'CAMPBELL, DR. RORY',\n",
              " '843': 'CAMPBELL, MEREDITH',\n",
              " '844': 'CAMPBELL, VALERIE',\n",
              " '845': 'CANCELLATOR',\n",
              " '846': 'CANCER/JACK KLEVENO',\n",
              " '847': 'CANCER II/',\n",
              " '848': 'CANDLEMAS/',\n",
              " '849': 'CANDLER, OWEN',\n",
              " '850': 'CANDRA',\n",
              " '851': 'CANDY',\n",
              " '852': 'CANE/',\n",
              " '853': 'CANNONBALL/JACK PULVER',\n",
              " '854': 'CANNONBALL II/SAM GUTHRIE',\n",
              " '855': 'CANNONBALL/SAM GUTHRIE | MUTANT X-VERSE',\n",
              " '856': 'CANTOR, VERA',\n",
              " '857': 'CAPRICORN/WILLARD WEIR',\n",
              " '858': 'CAPRICORN II/',\n",
              " '859': 'CAPTAIN AMERICA',\n",
              " '860': 'CAPTAIN AMERICA IV/STEVE ROGERS II',\n",
              " '861': 'CAPTAIN AMERICA V/ROSCOE',\n",
              " '862': 'CAPTAIN AMERICA DOPPELGANGER',\n",
              " '863': 'CAPTAIN AMERICA DOPPELGANGER II',\n",
              " '864': 'CAPTAIN AMERICA DOPPELGANGER III',\n",
              " '865': 'CAPTAIN AMERICA | MUTANT X-VERSE',\n",
              " '866': 'CAPTAIN BARRACUDA',\n",
              " '867': 'CAPTAIN BRITAIN/BRIAN BRADDOCK',\n",
              " '868': 'CAPTAIN BRITAIN 2013',\n",
              " '869': 'CAPTAIN FATE',\n",
              " '870': 'CAPTAIN GLORY',\n",
              " '871': 'CAPTAIN HAWK',\n",
              " '872': 'CAPTAIN HIP/FRED MACRAE',\n",
              " '873': 'CAPTAIN MANHATTAN',\n",
              " '874': 'CAPTAIN MARVEL/CAPTAIN MAR-VELL [KREE]',\n",
              " '875': 'CAPTAIN MARVEL II/MONICA RAMBEAU',\n",
              " '876': 'CAPTAIN MARVEL III/GENIS-VELL',\n",
              " '877': 'CAPTAIN POWER/DR. CHRISTINA CARR',\n",
              " '878': 'CAPTAIN RECTITUDE',\n",
              " '879': 'CAPTAIN TERROR/DAN KANE',\n",
              " '880': 'CAPTAIN U.K./LINDA MCQUILLAN',\n",
              " '881': 'CAPTAIN ULTRA/GRIFFIN GOGOL',\n",
              " '882': 'CAPTAIN UNIVERSE/STEVE COFFIN',\n",
              " '883': 'CAPTAIN WINGS/',\n",
              " '884': 'CAPUTO, DR. JULIA',\n",
              " '885': 'CARBON',\n",
              " '886': 'CARBONE, JULIUS',\n",
              " '887': 'CARBONE, ROSALIE',\n",
              " '888': 'CARBONE, SALVATORE',\n",
              " '889': 'CARDENAS, PACO',\n",
              " '890': 'CARDIAC/DR. ELI WIRTHAM',\n",
              " '891': 'CARDINAL/CLEMDENON',\n",
              " '892': 'CARDINALE, CARLOS',\n",
              " '893': 'CAREGIVER/RUBANNA LAGENRIS QUORIMO',\n",
              " '894': 'CARETAKER',\n",
              " '895': 'CARGIL/JOANNA CARGIL',\n",
              " '896': 'CARGO',\n",
              " '897': 'CARINA/CARINA WALTERS KORVAC',\n",
              " '898': 'CARLISLE, JENNA',\n",
              " '899': 'CARLISLE, MELISSA BOWEN',\n",
              " '900': 'CARLISLE, PHILLIP',\n",
              " '901': 'CARLTON, JAKE',\n",
              " '902': 'CARLTON, LUCY',\n",
              " '903': 'CARLY',\n",
              " '904': 'CARMODY, MARY',\n",
              " '905': 'CARMODY, MRS.',\n",
              " '906': 'CARNAGE/CLETUS KASADY',\n",
              " '907': 'CARNIVORE/COUNT ANDREAS ZORBA',\n",
              " '908': 'CARPATHIAN, ANDREW',\n",
              " '909': 'CARPENTER, LARRY',\n",
              " '910': 'CARPENTER, RACHEL',\n",
              " '911': 'CARR, DAN',\n",
              " '912': 'CARRADINE, JESSICA JESSE',\n",
              " '913': 'CARRERA, MIA',\n",
              " '914': 'CARRION',\n",
              " '915': 'CARRION II/MALCOLM MACBRIDE',\n",
              " '916': 'CARRION III/DR. WILLIAM ALLEN',\n",
              " '917': 'CARSON, LT. PAUL',\n",
              " '918': 'CARTER, BRAD',\n",
              " '919': 'CARTER, JIMMY',\n",
              " '920': 'CARTER, PEGGY',\n",
              " '921': 'CARTER, SHARON',\n",
              " '922': 'CARTER, SHARON II',\n",
              " '923': 'CARTER, TAD',\n",
              " '924': 'CARTHUS',\n",
              " '925': 'CARVER',\n",
              " '926': 'CASE, COL. PRESTON',\n",
              " '927': 'CASEY',\n",
              " '928': 'CASIOLENA, QUEEN',\n",
              " '929': 'CASPER',\n",
              " '930': 'CASS, LARRY MAD DOG',\n",
              " '931': 'CASSADA, CARLOS',\n",
              " '932': 'CASSADA, MICHAEL',\n",
              " '933': 'CASSADA, ROBERTO',\n",
              " '934': 'CASSADA, ROSA',\n",
              " '935': 'CASSANDRA',\n",
              " '936': 'CASSIOPEIA',\n",
              " '937': 'CAT II',\n",
              " '938': 'CAT III/SHEN KUEI',\n",
              " '939': 'CAT IV',\n",
              " '940': 'CAT BURGLAR',\n",
              " '941': 'CAT KING',\n",
              " '942': 'CAT MAN/HORGAN',\n",
              " '943': 'CAT MAN III/',\n",
              " '944': 'CATAPHRAX',\n",
              " '945': 'CATHERWOOD',\n",
              " '946': 'CATHODE/',\n",
              " '947': 'CATSEYE/SHARON SMITH',\n",
              " '948': 'CATWALK/KIMBERLY DEE',\n",
              " '949': 'CAULDER, SAFRON',\n",
              " '950': 'CEAUSECU, IONEL',\n",
              " '951': 'CELESTE',\n",
              " '952': 'CELLANOS, MARCELLA',\n",
              " '953': 'CENTARIUS',\n",
              " '954': 'CENTURIUS',\n",
              " '955': 'CENTURY',\n",
              " '956': 'CENTURY, TURNER D.',\n",
              " '957': 'CERA, KAY',\n",
              " '958': 'CERANDA',\n",
              " '959': 'CERBERUS',\n",
              " '960': 'CERBERUS II',\n",
              " '961': 'CEREBRITE ALPHA',\n",
              " '962': 'CEREBRITE BETA',\n",
              " '963': 'CEREBRO',\n",
              " '964': 'CEREBRO | MUTANT-X VERSE',\n",
              " '965': 'CEREBRO MARK XIII | MUTANT X-VERSE',\n",
              " '966': 'CERISE',\n",
              " '967': \"CERISE II [SHI'AR]\",\n",
              " '968': 'CESIUM',\n",
              " '969': 'CETHLANN',\n",
              " '970': \"CH'OD\",\n",
              " '971': \"CH'THON\",\n",
              " '972': \"CH'VAYRE\",\n",
              " '973': 'CHADWICK, CHEER',\n",
              " '974': 'CHADWICK, DR. HESPERUS',\n",
              " '975': 'CHAIN',\n",
              " '976': 'CHAINSAW/',\n",
              " '977': 'CHAKA KHAN',\n",
              " '978': 'CHAKA KHAN II',\n",
              " '979': 'CHAKARA, KANU',\n",
              " '980': 'CHAKARA, MADAN',\n",
              " '981': 'CHAKRA',\n",
              " '982': 'CHAKRA II',\n",
              " '983': 'CHALIZ, HAZRAM',\n",
              " '984': 'CHALIZ, SHANAZ RAYNA',\n",
              " '985': 'CHALIZ, TABRIAZ',\n",
              " '986': 'CHALKER, PROF. VIC',\n",
              " '987': 'CHALMER, JUDGE',\n",
              " '988': 'CHALMERS, CYNTHIA',\n",
              " '989': 'CHALMERS, JUDGE ROBERT C. HARRISON',\n",
              " '990': 'CHALMERS, MR.',\n",
              " '991': 'CHAMBER/JONOTHON STARSMORE',\n",
              " '992': 'CHAMBERS, MR.',\n",
              " '993': 'CHAMBLISS',\n",
              " '994': 'CHAMELEON/DMITRI SMERDYAKOV',\n",
              " '995': 'CHAMPION/TRYCO SLATTERUS [ELDER]',\n",
              " '996': 'CHAMPION, IMUS',\n",
              " '997': 'CHAN, SARAH',\n",
              " '998': 'CHANCE',\n",
              " '999': 'CHANCE II/NICHOLAS POWELL',\n",
              " '1000': 'CHANDLER, PEGGY',\n",
              " ...}"
            ]
          },
          "metadata": {
            "tags": []
          },
          "execution_count": 29
        }
      ]
    },
    {
      "cell_type": "code",
      "metadata": {
        "colab": {
          "base_uri": "https://localhost:8080/"
        },
        "id": "iuqxyeS5r0VK",
        "outputId": "72179bb3-1e18-4faf-d375-8c026db1343c"
      },
      "source": [
        "characterBookMap.mapValues(lambda x:len(x)).take(10)"
      ],
      "execution_count": 31,
      "outputs": [
        {
          "output_type": "execute_result",
          "data": {
            "text/plain": [
              "[('1', 1),\n",
              " ('2', 9),\n",
              " ('3', 9),\n",
              " ('4', 3),\n",
              " ('5', 3),\n",
              " ('6', 4),\n",
              " ('7', 1),\n",
              " ('8', 2),\n",
              " ('9', 2),\n",
              " ('10', 15)]"
            ]
          },
          "metadata": {
            "tags": []
          },
          "execution_count": 31
        }
      ]
    },
    {
      "cell_type": "code",
      "metadata": {
        "colab": {
          "base_uri": "https://localhost:8080/"
        },
        "id": "J9Vw-l1fsMYk",
        "outputId": "3f9aa397-2d46-42e4-cdc2-b9e1fba8699a"
      },
      "source": [
        "characterBookMap.map(lambda x:(characterLookup[x[0]],x[0])).take(10)"
      ],
      "execution_count": 33,
      "outputs": [
        {
          "output_type": "execute_result",
          "data": {
            "text/plain": [
              "[('24-HOUR MAN/EMMANUEL', '1'),\n",
              " ('3-D MAN/CHARLES CHANDLER & HAROLD CHANDLER', '2'),\n",
              " ('4-D MAN/MERCURIO', '3'),\n",
              " ('8-BALL/', '4'),\n",
              " ('A', '5'),\n",
              " (\"A'YIN\", '6'),\n",
              " ('ABBOTT, JACK', '7'),\n",
              " ('ABCISSA', '8'),\n",
              " ('ABEL', '9'),\n",
              " ('ABOMINATION/EMIL BLONSKY', '10')]"
            ]
          },
          "metadata": {
            "tags": []
          },
          "execution_count": 33
        }
      ]
    },
    {
      "cell_type": "code",
      "metadata": {
        "colab": {
          "base_uri": "https://localhost:8080/"
        },
        "id": "dPmQwRuQtPzx",
        "outputId": "3f911f0b-9877-4dab-bd31-664e50752cd8"
      },
      "source": [
        "charaterStrength=characterBookMap.mapValues(lambda x:len(x))\\\n",
        "  .map(lambda x:(characterLookup[x[0]],x[1]))\\\n",
        "  .reduceByKey(lambda x,y:x+y)\\\n",
        "  .sortBy(lambda x:-x[1])\n",
        "charaterStrength.take(10)"
      ],
      "execution_count": 40,
      "outputs": [
        {
          "output_type": "execute_result",
          "data": {
            "text/plain": [
              "[('SPIDER-MAN/PETER PARKER', 1625),\n",
              " ('CAPTAIN AMERICA', 1367),\n",
              " ('IRON MAN/TONY STARK', 1168),\n",
              " ('THING/BENJAMIN J. GRIMM', 990),\n",
              " ('THOR/DR. DONALD BLAKE/SIGURD JARLSON II/JAKE OLSON/LOREN OLSON', 965),\n",
              " ('HUMAN TORCH/JOHNNY STORM', 908),\n",
              " ('MR. FANTASTIC/REED RICHARDS', 875),\n",
              " ('HULK/DR. ROBERT BRUCE BANNER', 841),\n",
              " ('WOLVERINE/LOGAN', 820),\n",
              " ('INVISIBLE WOMAN/SUE STORM RICHARDS', 782)]"
            ]
          },
          "metadata": {
            "tags": []
          },
          "execution_count": 40
        }
      ]
    },
    {
      "cell_type": "code",
      "metadata": {
        "colab": {
          "base_uri": "https://localhost:8080/"
        },
        "id": "tPfLatcBtflc",
        "outputId": "870d0dac-4956-4cd8-f82a-8cd275aa4051"
      },
      "source": [
        "bookCharacterMap =  characterBookMap.flatMapValues(lambda x : x)\\\n",
        "                                    .map(lambda x:(x[1],x[0]))\\\n",
        "                                    .reduceByKey(lambda x,y: x +\",\"+y)\\\n",
        "                                    .mapValues(lambda x:x.split(\",\"))\n",
        "bookCharacterMap.take(2)"
      ],
      "execution_count": 47,
      "outputs": [
        {
          "output_type": "execute_result",
          "data": {
            "text/plain": [
              "[('6490', ['2']),\n",
              " ('6493',\n",
              "  ['2',\n",
              "   '154',\n",
              "   '859',\n",
              "   '2186',\n",
              "   '2399',\n",
              "   '2555',\n",
              "   '3035',\n",
              "   '3491',\n",
              "   '4228',\n",
              "   '6022',\n",
              "   '6148'])]"
            ]
          },
          "metadata": {
            "tags": []
          },
          "execution_count": 47
        }
      ]
    },
    {
      "cell_type": "code",
      "metadata": {
        "colab": {
          "base_uri": "https://localhost:8080/"
        },
        "id": "yCgTXbuswUMY",
        "outputId": "a160f8b8-d9cd-40d2-e587-4cbeb0dc92c1"
      },
      "source": [
        "import itertools\n",
        "\n",
        "cooccurenceMap=bookCharacterMap.flatMap(lambda x:list(itertools.combinations(x[1],2)))\n",
        "cooccurenceMap.take(10)"
      ],
      "execution_count": 50,
      "outputs": [
        {
          "output_type": "execute_result",
          "data": {
            "text/plain": [
              "[('2', '154'),\n",
              " ('2', '859'),\n",
              " ('2', '2186'),\n",
              " ('2', '2399'),\n",
              " ('2', '2555'),\n",
              " ('2', '3035'),\n",
              " ('2', '3491'),\n",
              " ('2', '4228'),\n",
              " ('2', '6022'),\n",
              " ('2', '6148')]"
            ]
          },
          "metadata": {
            "tags": []
          },
          "execution_count": 50
        }
      ]
    },
    {
      "cell_type": "code",
      "metadata": {
        "colab": {
          "base_uri": "https://localhost:8080/"
        },
        "id": "YYP39JiHxvzO",
        "outputId": "3d86d43a-f037-49d8-db1c-a21010a85c77"
      },
      "source": [
        "cooccurenceStrength=cooccurenceMap.map(lambda x:(x,1))\\\n",
        "                                .reduceByKey(lambda x,y: x+y)\\\n",
        "                                .sortBy(lambda x:-x[1])\n",
        "cooccurenceStrength.take(10)"
      ],
      "execution_count": 56,
      "outputs": [
        {
          "output_type": "execute_result",
          "data": {
            "text/plain": [
              "[(('2557', '5716'), 744),\n",
              " (('2557', '3805'), 713),\n",
              " (('3805', '5716'), 708),\n",
              " (('2650', '3805'), 701),\n",
              " (('2557', '2650'), 694),\n",
              " (('2650', '5716'), 668),\n",
              " (('5306', '6166'), 616),\n",
              " (('2959', '5306'), 526),\n",
              " (('859', '2664'), 446),\n",
              " (('4898', '6066'), 422)]"
            ]
          },
          "metadata": {
            "tags": []
          },
          "execution_count": 56
        }
      ]
    },
    {
      "cell_type": "code",
      "metadata": {
        "colab": {
          "base_uri": "https://localhost:8080/"
        },
        "id": "x2HjNn02ywEl",
        "outputId": "0e711382-2fe2-4ffc-a1fc-7f9f49ba6af6"
      },
      "source": [
        "cooccurenceEdges = occurenceStrength.map(lambda x:(x[0][0],x[0][1],x[1]))\n",
        "cooccurenceEdges.take(10)"
      ],
      "execution_count": 57,
      "outputs": [
        {
          "output_type": "execute_result",
          "data": {
            "text/plain": [
              "[('2557', '5716', 744),\n",
              " ('2557', '3805', 713),\n",
              " ('3805', '5716', 708),\n",
              " ('2650', '3805', 701),\n",
              " ('2557', '2650', 694),\n",
              " ('2650', '5716', 668),\n",
              " ('5306', '6166', 616),\n",
              " ('2959', '5306', 526),\n",
              " ('859', '2664', 446),\n",
              " ('4898', '6066', 422)]"
            ]
          },
          "metadata": {
            "tags": []
          },
          "execution_count": 57
        }
      ]
    }
  ]
}