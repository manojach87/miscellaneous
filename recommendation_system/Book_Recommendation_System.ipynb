{
  "nbformat": 4,
  "nbformat_minor": 0,
  "metadata": {
    "kernelspec": {
      "name": "python3",
      "display_name": "Python 3",
      "language": "python"
    },
    "language_info": {
      "name": "python",
      "version": "3.7.6",
      "mimetype": "text/x-python",
      "codemirror_mode": {
        "name": "ipython",
        "version": 3
      },
      "pygments_lexer": "ipython3",
      "nbconvert_exporter": "python",
      "file_extension": ".py"
    },
    "colab": {
      "name": "recommendation-system.ipynb",
      "provenance": [],
      "include_colab_link": true
    }
  },
  "cells": [
    {
      "cell_type": "markdown",
      "metadata": {
        "id": "view-in-github",
        "colab_type": "text"
      },
      "source": [
        "<a href=\"https://colab.research.google.com/github/manojach87/miscellaneous/blob/master/recommendation_system/Book_Recommendation_System.ipynb\" target=\"_parent\"><img src=\"https://colab.research.google.com/assets/colab-badge.svg\" alt=\"Open In Colab\"/></a>"
      ]
    },
    {
      "cell_type": "code",
      "metadata": {
        "_uuid": "8f2839f25d086af736a60e9eeb907d3b93b6e0e5",
        "_cell_guid": "b1076dfc-b9ad-4769-8c92-a6c4dae69d19",
        "trusted": true,
        "id": "fg5DuFhZWFlv"
      },
      "source": [
        "import numpy as np\n",
        "import pandas as pd\n",
        "import matplotlib.pyplot as plt\n",
        "import os\n",
        "import warnings\n",
        "\n",
        "warnings.filterwarnings('ignore')\n",
        "%matplotlib inline\n",
        "\n",
        "import tensorflow.keras as tf"
      ],
      "execution_count": 5,
      "outputs": []
    },
    {
      "cell_type": "code",
      "metadata": {
        "_uuid": "d629ff2d2480ee46fbb7e2d37f6b5fab8052498a",
        "_cell_guid": "79c7e3d0-c299-4dcb-8224-4455121ee9b0",
        "trusted": true,
        "id": "rN4i31-DWFl4",
        "outputId": "8c32e6ac-796f-454f-ad23-6bead385cc70",
        "colab": {
          "base_uri": "https://localhost:8080/",
          "height": 51
        }
      },
      "source": [
        "! mkdir goodbooks-10k\n",
        "! mv archive.zip goodbooks-10k\n",
        "# https://www.kaggle.com/zygmunt/goodbooks-10k"
      ],
      "execution_count": 2,
      "outputs": [
        {
          "output_type": "stream",
          "text": [
            "unzip:  cannot find or open archive.zip, archive.zip.zip or archive.zip.ZIP.\n",
            "/\n"
          ],
          "name": "stdout"
        }
      ]
    },
    {
      "cell_type": "code",
      "metadata": {
        "id": "S6y7euYRXNZP",
        "outputId": "ef1bea2d-e770-45a7-f89c-a5b7c4c130a7",
        "colab": {
          "base_uri": "https://localhost:8080/",
          "height": 136
        }
      },
      "source": [
        "! cd goodbooks-10k; unzip archive.zip"
      ],
      "execution_count": 4,
      "outputs": [
        {
          "output_type": "stream",
          "text": [
            "Archive:  archive.zip\n",
            "  inflating: book_tags.csv           \n",
            "  inflating: books.csv               \n",
            "  inflating: ratings.csv             \n",
            "  inflating: sample_book.xml         \n",
            "  inflating: tags.csv                \n",
            "  inflating: to_read.csv             \n"
          ],
          "name": "stdout"
        }
      ]
    },
    {
      "cell_type": "code",
      "metadata": {
        "trusted": true,
        "id": "-VohJGPnWFmE",
        "outputId": "26005e4f-a975-4392-daf9-ef06aaa6a026",
        "colab": {
          "base_uri": "https://localhost:8080/",
          "height": 204
        }
      },
      "source": [
        "ratings_df = pd.read_csv(\"goodbooks-10k/ratings.csv\") \n",
        "books_df = pd.read_csv(\"goodbooks-10k/books.csv\")\n",
        "ratings_df.head()"
      ],
      "execution_count": 6,
      "outputs": [
        {
          "output_type": "execute_result",
          "data": {
            "text/html": [
              "<div>\n",
              "<style scoped>\n",
              "    .dataframe tbody tr th:only-of-type {\n",
              "        vertical-align: middle;\n",
              "    }\n",
              "\n",
              "    .dataframe tbody tr th {\n",
              "        vertical-align: top;\n",
              "    }\n",
              "\n",
              "    .dataframe thead th {\n",
              "        text-align: right;\n",
              "    }\n",
              "</style>\n",
              "<table border=\"1\" class=\"dataframe\">\n",
              "  <thead>\n",
              "    <tr style=\"text-align: right;\">\n",
              "      <th></th>\n",
              "      <th>book_id</th>\n",
              "      <th>user_id</th>\n",
              "      <th>rating</th>\n",
              "    </tr>\n",
              "  </thead>\n",
              "  <tbody>\n",
              "    <tr>\n",
              "      <th>0</th>\n",
              "      <td>1</td>\n",
              "      <td>314</td>\n",
              "      <td>5</td>\n",
              "    </tr>\n",
              "    <tr>\n",
              "      <th>1</th>\n",
              "      <td>1</td>\n",
              "      <td>439</td>\n",
              "      <td>3</td>\n",
              "    </tr>\n",
              "    <tr>\n",
              "      <th>2</th>\n",
              "      <td>1</td>\n",
              "      <td>588</td>\n",
              "      <td>5</td>\n",
              "    </tr>\n",
              "    <tr>\n",
              "      <th>3</th>\n",
              "      <td>1</td>\n",
              "      <td>1169</td>\n",
              "      <td>4</td>\n",
              "    </tr>\n",
              "    <tr>\n",
              "      <th>4</th>\n",
              "      <td>1</td>\n",
              "      <td>1185</td>\n",
              "      <td>4</td>\n",
              "    </tr>\n",
              "  </tbody>\n",
              "</table>\n",
              "</div>"
            ],
            "text/plain": [
              "   book_id  user_id  rating\n",
              "0        1      314       5\n",
              "1        1      439       3\n",
              "2        1      588       5\n",
              "3        1     1169       4\n",
              "4        1     1185       4"
            ]
          },
          "metadata": {
            "tags": []
          },
          "execution_count": 6
        }
      ]
    },
    {
      "cell_type": "code",
      "metadata": {
        "trusted": true,
        "id": "ONHtXxKbWFmN",
        "outputId": "292c5503-a125-4bbf-d52a-adff6954c8d8",
        "colab": {
          "base_uri": "https://localhost:8080/",
          "height": 136
        }
      },
      "source": [
        "print(ratings_df.shape)\n",
        "print(ratings_df.user_id.nunique())\n",
        "print(ratings_df.book_id.nunique())\n",
        "ratings_df.isna().sum()"
      ],
      "execution_count": 7,
      "outputs": [
        {
          "output_type": "stream",
          "text": [
            "(981756, 3)\n",
            "53424\n",
            "10000\n"
          ],
          "name": "stdout"
        },
        {
          "output_type": "execute_result",
          "data": {
            "text/plain": [
              "book_id    0\n",
              "user_id    0\n",
              "rating     0\n",
              "dtype: int64"
            ]
          },
          "metadata": {
            "tags": []
          },
          "execution_count": 7
        }
      ]
    },
    {
      "cell_type": "code",
      "metadata": {
        "trusted": true,
        "id": "Ytt_zv3BWFmX",
        "outputId": "e43ab1cd-41b1-44ed-e343-102421eb5b00",
        "colab": {
          "base_uri": "https://localhost:8080/",
          "height": 51
        }
      },
      "source": [
        "from sklearn.model_selection import train_test_split\n",
        "Xtrain, Xtest = train_test_split(ratings_df, test_size=0.2, random_state=1)\n",
        "print(f\"Shape of train data: {Xtrain.shape}\")\n",
        "print(f\"Shape of test data: {Xtest.shape}\")"
      ],
      "execution_count": 8,
      "outputs": [
        {
          "output_type": "stream",
          "text": [
            "Shape of train data: (785404, 3)\n",
            "Shape of test data: (196352, 3)\n"
          ],
          "name": "stdout"
        }
      ]
    },
    {
      "cell_type": "code",
      "metadata": {
        "trusted": true,
        "id": "oNwdH1udWFme"
      },
      "source": [
        "#Get the number of unique entities in books and users columns\n",
        "nbook_id = ratings_df.book_id.nunique()\n",
        "nuser_id = ratings_df.user_id.nunique()"
      ],
      "execution_count": 9,
      "outputs": []
    },
    {
      "cell_type": "code",
      "metadata": {
        "trusted": true,
        "id": "4rw0kfAWWFmn"
      },
      "source": [
        "#Book input network\n",
        "input_books = tf.layers.Input(shape=[1])\n",
        "embed_books = tf.layers.Embedding(nbook_id + 1,15)(input_books)\n",
        "books_out = tf.layers.Flatten()(embed_books)\n",
        "\n",
        "#user input network\n",
        "input_users = tf.layers.Input(shape=[1])\n",
        "embed_users = tf.layers.Embedding(nuser_id + 1,15)(input_users)\n",
        "users_out = tf.layers.Flatten()(embed_users)\n",
        "\n",
        "conc_layer = tf.layers.Concatenate()([books_out, users_out])\n",
        "x = tf.layers.Dense(128, activation='relu')(conc_layer)\n",
        "x_out = x = tf.layers.Dense(1, activation='relu')(x)\n",
        "model = tf.Model([input_books, input_users], x_out)"
      ],
      "execution_count": 10,
      "outputs": []
    },
    {
      "cell_type": "code",
      "metadata": {
        "trusted": true,
        "id": "HgHWKQH7WFmv",
        "outputId": "e4c3f083-1f0c-4124-d364-c5b49b55dd8c",
        "colab": {
          "base_uri": "https://localhost:8080/",
          "height": 476
        }
      },
      "source": [
        "opt = tf.optimizers.Adam(learning_rate=0.001)\n",
        "model.compile(optimizer=opt, loss='mean_squared_error')\n",
        "model.summary()"
      ],
      "execution_count": 11,
      "outputs": [
        {
          "output_type": "stream",
          "text": [
            "Model: \"functional_1\"\n",
            "__________________________________________________________________________________________________\n",
            "Layer (type)                    Output Shape         Param #     Connected to                     \n",
            "==================================================================================================\n",
            "input_1 (InputLayer)            [(None, 1)]          0                                            \n",
            "__________________________________________________________________________________________________\n",
            "input_2 (InputLayer)            [(None, 1)]          0                                            \n",
            "__________________________________________________________________________________________________\n",
            "embedding (Embedding)           (None, 1, 15)        150015      input_1[0][0]                    \n",
            "__________________________________________________________________________________________________\n",
            "embedding_1 (Embedding)         (None, 1, 15)        801375      input_2[0][0]                    \n",
            "__________________________________________________________________________________________________\n",
            "flatten (Flatten)               (None, 15)           0           embedding[0][0]                  \n",
            "__________________________________________________________________________________________________\n",
            "flatten_1 (Flatten)             (None, 15)           0           embedding_1[0][0]                \n",
            "__________________________________________________________________________________________________\n",
            "concatenate (Concatenate)       (None, 30)           0           flatten[0][0]                    \n",
            "                                                                 flatten_1[0][0]                  \n",
            "__________________________________________________________________________________________________\n",
            "dense (Dense)                   (None, 128)          3968        concatenate[0][0]                \n",
            "__________________________________________________________________________________________________\n",
            "dense_1 (Dense)                 (None, 1)            129         dense[0][0]                      \n",
            "==================================================================================================\n",
            "Total params: 955,487\n",
            "Trainable params: 955,487\n",
            "Non-trainable params: 0\n",
            "__________________________________________________________________________________________________\n"
          ],
          "name": "stdout"
        }
      ]
    },
    {
      "cell_type": "code",
      "metadata": {
        "trusted": true,
        "id": "GqUaFGYTWFm4",
        "outputId": "3aea433f-68d9-4823-8cf1-33484c6631e3",
        "colab": {
          "base_uri": "https://localhost:8080/",
          "height": 51
        }
      },
      "source": [
        "hist = model.fit([Xtrain.book_id, Xtrain.user_id], Xtrain.rating, \n",
        "                 batch_size=64, \n",
        "                 epochs=5, \n",
        "                 verbose=1,\n",
        "                 validation_data=([Xtest.book_id, Xtest.user_id], Xtest.rating))"
      ],
      "execution_count": null,
      "outputs": [
        {
          "output_type": "stream",
          "text": [
            "Epoch 1/5\n",
            " 9680/12272 [======================>.......] - ETA: 24s - loss: 0.8956"
          ],
          "name": "stdout"
        }
      ]
    },
    {
      "cell_type": "code",
      "metadata": {
        "trusted": true,
        "id": "enPevkzwWFnA"
      },
      "source": [
        "train_loss = hist.history['loss']\n",
        "val_loss = hist.history['val_loss']\n",
        "plt.plot(train_loss, color='r', label='Train Loss')\n",
        "plt.plot(val_loss, color='b', label='Validation Loss')\n",
        "plt.title(\"Train and Validation Loss Curve\")\n",
        "plt.legend()\n",
        "plt.show()"
      ],
      "execution_count": null,
      "outputs": []
    },
    {
      "cell_type": "code",
      "metadata": {
        "trusted": true,
        "id": "mvC9turvWFnG"
      },
      "source": [
        "#save the model\n",
        "model.save('model')"
      ],
      "execution_count": null,
      "outputs": []
    },
    {
      "cell_type": "code",
      "metadata": {
        "trusted": true,
        "id": "kFTfASlpWFnW"
      },
      "source": [
        "# Extract embeddings\n",
        "book_em = model.get_layer('embedding')\n",
        "book_em_weights = book_em.get_weights()[0]\n",
        "book_em_weights.shape"
      ],
      "execution_count": null,
      "outputs": []
    },
    {
      "cell_type": "code",
      "metadata": {
        "trusted": true,
        "id": "YGgNzvMtWFng"
      },
      "source": [
        "books_df_copy = books_df.copy()\n",
        "books_df_copy = books_df_copy.set_index(\"book_id\")"
      ],
      "execution_count": null,
      "outputs": []
    },
    {
      "cell_type": "code",
      "metadata": {
        "trusted": true,
        "id": "pKnK9aagWFnl"
      },
      "source": [
        "b_id =list(ratings_df.book_id.unique())\n",
        "b_id.remove(10000)\n",
        "dict_map = {}\n",
        "for i in b_id:\n",
        "    dict_map[i] = books_df_copy.iloc[i]['title']\n",
        "    \n",
        "out_v = open('vecs.tsv', 'w')\n",
        "out_m = open('meta.tsv', 'w')\n",
        "for i in b_id:\n",
        "    book = dict_map[i]\n",
        "    embeddings = book_em_weights[i]\n",
        "    out_m.write(book + \"\\n\")\n",
        "    out_v.write('\\t'.join([str(x) for x in embeddings]) + \"\\n\")\n",
        "    \n",
        "out_v.close()\n",
        "out_m.close()"
      ],
      "execution_count": null,
      "outputs": []
    },
    {
      "cell_type": "code",
      "metadata": {
        "trusted": true,
        "id": "PGWu3d6HWFnv"
      },
      "source": [
        "#Making recommendations for user 100\n",
        "book_arr = np.array(b_id) #get all book IDs\n",
        "user = np.array([100 for i in range(len(b_id))])\n",
        "pred = model.predict([book_arr, user])\n",
        "pred"
      ],
      "execution_count": null,
      "outputs": []
    },
    {
      "cell_type": "code",
      "metadata": {
        "trusted": true,
        "id": "dLEx16OAWFn0"
      },
      "source": [
        "pred = pred.reshape(-1) #reshape to single dimension\n",
        "pred_ids = (-pred).argsort()[0:5]\n",
        "pred_ids"
      ],
      "execution_count": null,
      "outputs": []
    },
    {
      "cell_type": "code",
      "metadata": {
        "trusted": true,
        "id": "F-oJiN5pWFn4"
      },
      "source": [
        "books_df.iloc[pred_ids]"
      ],
      "execution_count": null,
      "outputs": []
    },
    {
      "cell_type": "code",
      "metadata": {
        "trusted": true,
        "id": "EWjelGNTWFn8"
      },
      "source": [
        "web_book_data = books_df[[\"book_id\", \"title\", \"image_url\", \"authors\"]]\n",
        "web_book_data = web_book_data.sort_values('book_id')\n",
        "web_book_data.head()"
      ],
      "execution_count": null,
      "outputs": []
    },
    {
      "cell_type": "code",
      "metadata": {
        "trusted": true,
        "id": "0flFo961WFoB"
      },
      "source": [
        "web_book_data.to_json(r'web_book_data.json', orient='records')"
      ],
      "execution_count": null,
      "outputs": []
    },
    {
      "cell_type": "code",
      "metadata": {
        "id": "84u6SxHeXxYi"
      },
      "source": [
        ""
      ],
      "execution_count": null,
      "outputs": []
    }
  ]
}